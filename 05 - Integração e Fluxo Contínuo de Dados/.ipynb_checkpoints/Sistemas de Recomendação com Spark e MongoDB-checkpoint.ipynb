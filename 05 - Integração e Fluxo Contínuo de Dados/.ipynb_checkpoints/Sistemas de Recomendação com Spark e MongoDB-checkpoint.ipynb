{
 "cells": [
  {
   "cell_type": "markdown",
   "metadata": {},
   "source": [
    "# Pós-Graduação - Ciência de Dados & Big Data"
   ]
  },
  {
   "cell_type": "markdown",
   "metadata": {},
   "source": [
    "## Pontifícia Universidade Católica de Minas Gerais (PUC-MG)"
   ]
  },
  {
   "cell_type": "markdown",
   "metadata": {},
   "source": [
    "### Aluno: Victor Hugo Negrisoli"
   ]
  },
  {
   "cell_type": "markdown",
   "metadata": {},
   "source": [
    "### Sistemas de Recomendação com Spark e MongoDB"
   ]
  },
  {
   "cell_type": "code",
   "execution_count": 14,
   "metadata": {},
   "outputs": [],
   "source": [
    "from __future__ import print_function\n",
    "import sys\n",
    "from pyspark.sql import SparkSession\n",
    "from pyspark.ml.evaluation import RegressionEvaluator\n",
    "from pyspark.ml.recommendation import ALS\n",
    "from pyspark.sql import Row\n",
    "import pymongo\n",
    "from pymongo import MongoClient\n",
    "import json\n",
    "from bson.objectid import ObjectId"
   ]
  },
  {
   "cell_type": "code",
   "execution_count": 15,
   "metadata": {},
   "outputs": [],
   "source": [
    "host = 'localhost'\n",
    "port = 27017\n",
    "client = pymongo.MongoClient(host, port)\n",
    "db = client.pos"
   ]
  },
  {
   "cell_type": "code",
   "execution_count": 16,
   "metadata": {},
   "outputs": [],
   "source": [
    "def converter_long_para_int_python3():\n",
    "    if sys.version >= '3':\n",
    "        long = int"
   ]
  },
  {
   "cell_type": "code",
   "execution_count": 23,
   "metadata": {},
   "outputs": [],
   "source": [
    "def remover_collection_se_existir():\n",
    "    for i in db.suggestions.find():\n",
    "        db.suggestions.drop()\n",
    "        print('Collection removida!')\n",
    "        break"
   ]
  },
  {
   "cell_type": "code",
   "execution_count": 24,
   "metadata": {},
   "outputs": [],
   "source": [
    "def definir_configuracoes_iniciais():\n",
    "    converter_long_para_int_python3()\n",
    "    remover_collection_se_existir()"
   ]
  },
  {
   "cell_type": "code",
   "execution_count": 25,
   "metadata": {},
   "outputs": [],
   "source": [
    "definir_configuracoes_iniciais()"
   ]
  },
  {
   "cell_type": "code",
   "execution_count": 26,
   "metadata": {},
   "outputs": [],
   "source": [
    "def criar_sessao_spark():\n",
    "    return SparkSession\\\n",
    "        .builder\\\n",
    "        .appName(\"Pratica ALS\")\\\n",
    "        .getOrCreate()"
   ]
  },
  {
   "cell_type": "code",
   "execution_count": 27,
   "metadata": {},
   "outputs": [],
   "source": [
    "spark = criar_sessao_spark()"
   ]
  },
  {
   "cell_type": "code",
   "execution_count": 37,
   "metadata": {},
   "outputs": [],
   "source": [
    "caminho_arquivo = \"dados/sample_movielens_ratings.txt\"\n",
    "linhas = spark.read.text(caminho_arquivo).rdd\n",
    "particoes = linhas.map(lambda linha: linha.value.split(\"::\"))\n",
    "\n",
    "avaliacoesRDD = particoes.map(lambda particao: Row(\n",
    "    userId = int(particao[0]),\n",
    "    movieId = int(particao[1]),\n",
    "    ratingId = int(particao[2]),\n",
    "    timestampId = long(particao[3])\n",
    "))\n"
   ]
  },
  {
   "cell_type": "code",
   "execution_count": 40,
   "metadata": {},
   "outputs": [
    {
     "data": {
      "text/plain": [
       "[Row(userId=0, movieId=2, ratingId=3, timestampId=1424380312),\n",
       " Row(userId=0, movieId=3, ratingId=1, timestampId=1424380312),\n",
       " Row(userId=0, movieId=5, ratingId=2, timestampId=1424380312),\n",
       " Row(userId=0, movieId=9, ratingId=4, timestampId=1424380312),\n",
       " Row(userId=0, movieId=11, ratingId=1, timestampId=1424380312),\n",
       " Row(userId=0, movieId=12, ratingId=2, timestampId=1424380312),\n",
       " Row(userId=0, movieId=15, ratingId=1, timestampId=1424380312),\n",
       " Row(userId=0, movieId=17, ratingId=1, timestampId=1424380312),\n",
       " Row(userId=0, movieId=19, ratingId=1, timestampId=1424380312),\n",
       " Row(userId=0, movieId=21, ratingId=1, timestampId=1424380312)]"
      ]
     },
     "execution_count": 40,
     "metadata": {},
     "output_type": "execute_result"
    }
   ],
   "source": [
    "avaliacoes = spark.createDataFrame(avaliacoesRDD)\n",
    "avaliacoes.head(10)"
   ]
  },
  {
   "cell_type": "code",
   "execution_count": 42,
   "metadata": {},
   "outputs": [
    {
     "name": "stdout",
     "output_type": "stream",
     "text": [
      "+------+-------+--------+-----------+\n",
      "|userId|movieId|ratingId|timestampId|\n",
      "+------+-------+--------+-----------+\n",
      "|     0|      2|       3| 1424380312|\n",
      "|     0|      3|       1| 1424380312|\n",
      "|     0|      5|       2| 1424380312|\n",
      "|     0|      9|       4| 1424380312|\n",
      "|     0|     11|       1| 1424380312|\n",
      "|     0|     12|       2| 1424380312|\n",
      "|     0|     15|       1| 1424380312|\n",
      "|     0|     17|       1| 1424380312|\n",
      "|     0|     19|       1| 1424380312|\n",
      "|     0|     21|       1| 1424380312|\n",
      "+------+-------+--------+-----------+\n",
      "only showing top 10 rows\n",
      "\n"
     ]
    }
   ],
   "source": [
    "avaliacoes.show(10)"
   ]
  },
  {
   "cell_type": "code",
   "execution_count": 45,
   "metadata": {},
   "outputs": [],
   "source": [
    "dataset_treino_oitenta_por_cento = 0.8\n",
    "dataset_teste_vinte_por_cento = 0.2\n",
    "\n",
    "lista_treino_teste = [dataset_treino_oitenta_por_cento, dataset_teste_vinte_por_cento]\n",
    "\n",
    "(treino, teste) = avaliacoes.randomSplit(lista_treino_teste)"
   ]
  },
  {
   "cell_type": "code",
   "execution_count": 46,
   "metadata": {},
   "outputs": [
    {
     "name": "stdout",
     "output_type": "stream",
     "text": [
      "+------+-------+--------+-----------+\n",
      "|userId|movieId|ratingId|timestampId|\n",
      "+------+-------+--------+-----------+\n",
      "|     0|      3|       1| 1424380312|\n",
      "|     0|      9|       4| 1424380312|\n",
      "|     0|     11|       1| 1424380312|\n",
      "|     0|     15|       1| 1424380312|\n",
      "|     0|     17|       1| 1424380312|\n",
      "|     0|     19|       1| 1424380312|\n",
      "|     0|     21|       1| 1424380312|\n",
      "|     0|     23|       1| 1424380312|\n",
      "|     0|     27|       1| 1424380312|\n",
      "|     0|     28|       1| 1424380312|\n",
      "+------+-------+--------+-----------+\n",
      "only showing top 10 rows\n",
      "\n"
     ]
    }
   ],
   "source": [
    "treino.show(10)"
   ]
  },
  {
   "cell_type": "code",
   "execution_count": 47,
   "metadata": {},
   "outputs": [
    {
     "name": "stdout",
     "output_type": "stream",
     "text": [
      "+------+-------+--------+-----------+\n",
      "|userId|movieId|ratingId|timestampId|\n",
      "+------+-------+--------+-----------+\n",
      "|     0|      2|       3| 1424380312|\n",
      "|     0|      5|       2| 1424380312|\n",
      "|     0|     12|       2| 1424380312|\n",
      "|     0|     26|       3| 1424380312|\n",
      "|     0|     29|       1| 1424380312|\n",
      "|     0|     31|       1| 1424380312|\n",
      "|     0|     37|       1| 1424380312|\n",
      "|     0|     50|       1| 1424380312|\n",
      "|     0|     51|       1| 1424380312|\n",
      "|     0|     59|       2| 1424380312|\n",
      "+------+-------+--------+-----------+\n",
      "only showing top 10 rows\n",
      "\n"
     ]
    }
   ],
   "source": [
    "teste.show(10)"
   ]
  }
 ],
 "metadata": {
  "kernelspec": {
   "display_name": "Python 3",
   "language": "python",
   "name": "python3"
  },
  "language_info": {
   "codemirror_mode": {
    "name": "ipython",
    "version": 3
   },
   "file_extension": ".py",
   "mimetype": "text/x-python",
   "name": "python",
   "nbconvert_exporter": "python",
   "pygments_lexer": "ipython3",
   "version": "3.7.4"
  }
 },
 "nbformat": 4,
 "nbformat_minor": 2
}
