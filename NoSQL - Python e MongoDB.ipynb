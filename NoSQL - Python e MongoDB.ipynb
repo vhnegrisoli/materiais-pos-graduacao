{
 "cells": [
  {
   "cell_type": "markdown",
   "metadata": {},
   "source": [
    "### Pós-Graduação: Especialização em Data Science & Big Data"
   ]
  },
  {
   "cell_type": "markdown",
   "metadata": {},
   "source": [
    "### Pontifícia Universidade Católica de Minas Gerais (PUC-MG)"
   ]
  },
  {
   "cell_type": "markdown",
   "metadata": {},
   "source": [
    "#### Victor Hugo Negrisoli - Bancos de Dados Relacionais e Não Relacionais"
   ]
  },
  {
   "cell_type": "markdown",
   "metadata": {},
   "source": [
    "##### Integração de banco de dados em documento MongoDB com Python utilizando a biblioteca PyMongo"
   ]
  },
  {
   "cell_type": "code",
   "execution_count": 63,
   "metadata": {},
   "outputs": [],
   "source": [
    "import pymongo\n",
    "import datetime\n",
    "import json\n",
    "from bson.objectid import ObjectId"
   ]
  },
  {
   "cell_type": "code",
   "execution_count": 7,
   "metadata": {},
   "outputs": [],
   "source": [
    "host = 'localhost'\n",
    "port = 27017\n",
    "client = pymongo.MongoClient(host, port)\n",
    "db = client.pos"
   ]
  },
  {
   "cell_type": "code",
   "execution_count": 22,
   "metadata": {},
   "outputs": [
    {
     "name": "stdout",
     "output_type": "stream",
     "text": [
      "{'_id': ObjectId('5e8668b10f0bcdb52e58def8'), 'nome': 'MasterofPuppets', 'dataLancamento': datetime.datetime(1986, 3, 3, 3, 0), 'duracao': 3286.0, 'produtor': 'Zack Snyder', 'artista_id': '1'}\n",
      "{'_id': ObjectId('5e8668be0f0bcdb52e58def9'), 'nome': '...And Justice for All', 'dataLancamento': datetime.datetime(1988, 8, 25, 3, 0), 'duracao': 3929.0, 'artista_id': '1'}\n",
      "{'_id': ObjectId('5e8668c40f0bcdb52e58defa'), 'nome': 'AmongtheLiving', 'produtor': 'Eddie Kramer', 'artista_id': '4'}\n",
      "{'_id': ObjectId('5e8669880f0bcdb52e58defb'), 'nome': 'Nevermind', 'artista': 'Nirvana', 'estudioGravacao': ['SoundCityStudios', 'SmartStudios(Madison)'], 'dataLancamento': datetime.datetime(1992, 1, 11, 3, 0), 'artista_id': '6'}\n",
      "{'_id': ObjectId('5e86698e0f0bcdb52e58defc'), 'nome': 'ReigninBlood', 'dataLancamento': datetime.datetime(1986, 10, 7, 3, 0), 'artista': 'Larry Carroll', 'duracao': 1738.0, 'artista_id': '3'}\n",
      "{'_id': ObjectId('5e8669930f0bcdb52e58defd'), 'nome': 'Seventh Son of a Seventh Son', 'artista': 'Iron Maiden', 'produtor': 'Martin Birch', 'estudioGravacao': 'MusiclandStudios', 'dataLancamento': datetime.datetime(1988, 4, 11, 3, 0)}\n"
     ]
    }
   ],
   "source": [
    "albuns = db.albuns.find()\n",
    "\n",
    "for album in albuns:\n",
    "    print(album)"
   ]
  },
  {
   "cell_type": "code",
   "execution_count": 24,
   "metadata": {},
   "outputs": [
    {
     "name": "stdout",
     "output_type": "stream",
     "text": [
      "MasterofPuppets\n",
      "...And Justice for All\n",
      "AmongtheLiving\n",
      "Nevermind\n",
      "ReigninBlood\n",
      "Seventh Son of a Seventh Son\n",
      "<pymongo.cursor.Cursor object at 0x0000016893427908>\n"
     ]
    }
   ],
   "source": [
    "for album in db.albuns.find():\n",
    "    print(album[\"nome\"])\n",
    "\n",
    "query_criteria = db.albuns.find({\"nome\": \"MasterofPuppets\"})\n",
    "print(query_criteria)"
   ]
  },
  {
   "cell_type": "code",
   "execution_count": 28,
   "metadata": {},
   "outputs": [
    {
     "data": {
      "text/plain": [
       "<pymongo.results.InsertOneResult at 0x16894419788>"
      ]
     },
     "execution_count": 28,
     "metadata": {},
     "output_type": "execute_result"
    }
   ],
   "source": [
    "db.albuns.insert_one ({\n",
    "    'nome': 'AC DC',\n",
    "    'dataLancamento': datetime.datetime(2005, 1, 1, 1, 1),\n",
    "    'artista_id': '1'\n",
    "})"
   ]
  },
  {
   "cell_type": "code",
   "execution_count": 34,
   "metadata": {},
   "outputs": [
    {
     "name": "stdout",
     "output_type": "stream",
     "text": [
      "<pymongo.cursor.Cursor object at 0x0000016894B640C8>\n"
     ]
    }
   ],
   "source": [
    "print(db.albuns.find({'nome': 'AC DC'}))"
   ]
  },
  {
   "cell_type": "code",
   "execution_count": 45,
   "metadata": {},
   "outputs": [],
   "source": [
    "json_string = '''\n",
    "                {\n",
    "                    \"nome\" : \"Somewhere Far Beyond\",\n",
    "                    \"dataLancamento\" : \"1992-05-30\", \n",
    "                    \"duracao\" : \"3328\",\n",
    "                    \"artista\" : {\n",
    "                    \"nome\" : \"BlindGuardian\"\n",
    "                }}\n",
    "              '''"
   ]
  },
  {
   "cell_type": "code",
   "execution_count": 46,
   "metadata": {},
   "outputs": [],
   "source": [
    "json_obj = json.loads(json_string)"
   ]
  },
  {
   "cell_type": "code",
   "execution_count": 47,
   "metadata": {},
   "outputs": [
    {
     "name": "stdout",
     "output_type": "stream",
     "text": [
      "{'nome': 'Somewhere Far Beyond', 'dataLancamento': '1992-05-30', 'duracao': '3328', 'artista': {'nome': 'BlindGuardian'}}\n"
     ]
    }
   ],
   "source": [
    "print(json_obj)"
   ]
  },
  {
   "cell_type": "code",
   "execution_count": 48,
   "metadata": {},
   "outputs": [
    {
     "data": {
      "text/plain": [
       "<pymongo.results.InsertOneResult at 0x16894b7e9c8>"
      ]
     },
     "execution_count": 48,
     "metadata": {},
     "output_type": "execute_result"
    }
   ],
   "source": [
    "db.albuns.insert_one(json_obj)"
   ]
  },
  {
   "cell_type": "code",
   "execution_count": 54,
   "metadata": {},
   "outputs": [
    {
     "name": "stdout",
     "output_type": "stream",
     "text": [
      "{'_id': ObjectId('5e8668b10f0bcdb52e58def8'), 'nome': 'MasterofPuppets', 'dataLancamento': datetime.datetime(1986, 3, 3, 3, 0), 'duracao': 3286.0, 'produtor': 'Zack Snyder', 'artista_id': '1'}\n",
      "\n",
      "\n",
      "{'_id': ObjectId('5e8668be0f0bcdb52e58def9'), 'nome': '...And Justice for All', 'dataLancamento': datetime.datetime(1988, 8, 25, 3, 0), 'duracao': 3929.0, 'artista_id': '1'}\n",
      "\n",
      "\n",
      "{'_id': ObjectId('5e8668c40f0bcdb52e58defa'), 'nome': 'AmongtheLiving', 'produtor': 'Eddie Kramer', 'artista_id': '4'}\n",
      "\n",
      "\n",
      "{'_id': ObjectId('5e8669880f0bcdb52e58defb'), 'nome': 'Nevermind', 'artista': 'Nirvana', 'estudioGravacao': ['SoundCityStudios', 'SmartStudios(Madison)'], 'dataLancamento': datetime.datetime(1992, 1, 11, 3, 0), 'artista_id': '6'}\n",
      "\n",
      "\n",
      "{'_id': ObjectId('5e86698e0f0bcdb52e58defc'), 'nome': 'ReigninBlood', 'dataLancamento': datetime.datetime(1986, 10, 7, 3, 0), 'artista': 'Larry Carroll', 'duracao': 1738.0, 'artista_id': '3'}\n",
      "\n",
      "\n",
      "{'_id': ObjectId('5e8669930f0bcdb52e58defd'), 'nome': 'Seventh Son of a Seventh Son', 'artista': 'Iron Maiden', 'produtor': 'Martin Birch', 'estudioGravacao': 'MusiclandStudios', 'dataLancamento': datetime.datetime(1988, 4, 11, 3, 0)}\n",
      "\n",
      "\n",
      "{'_id': ObjectId('5e867252c1f628949c75975a'), 'nome': 'AC DC', 'dataLancamento': datetime.datetime(2005, 1, 1, 1, 1), 'artista_id': '1'}\n",
      "\n",
      "\n",
      "{'_id': ObjectId('5e86725cc1f628949c75975b'), 'nome': 'AC DC', 'dataLancamento': datetime.datetime(2005, 1, 1, 1, 1), 'artista_id': '1'}\n",
      "\n",
      "\n",
      "{'_id': ObjectId('5e86735fc1f628949c75975c'), 'nome': 'Somewhere Far Beyond', 'dataLancamento': '1992-05-30', 'duracao': '3328', 'artista': {'nome': 'BlindGuardian'}}\n",
      "\n",
      "\n"
     ]
    }
   ],
   "source": [
    "for album in db.albuns.find():\n",
    "    print(album)\n",
    "    print('\\n')"
   ]
  },
  {
   "cell_type": "code",
   "execution_count": 55,
   "metadata": {},
   "outputs": [
    {
     "data": {
      "text/plain": [
       "<pymongo.results.DeleteResult at 0x16894b20ec8>"
      ]
     },
     "execution_count": 55,
     "metadata": {},
     "output_type": "execute_result"
    }
   ],
   "source": [
    "db.albuns.delete_one({'_id': '5e86725cc1f628949c75975b'})"
   ]
  },
  {
   "cell_type": "code",
   "execution_count": 58,
   "metadata": {},
   "outputs": [
    {
     "name": "stdout",
     "output_type": "stream",
     "text": [
      "None\n"
     ]
    }
   ],
   "source": [
    "print(db.albuns.find_one({'_id': '5e86725cc1f628949c75975b'}))"
   ]
  },
  {
   "cell_type": "code",
   "execution_count": 75,
   "metadata": {},
   "outputs": [
    {
     "name": "stdout",
     "output_type": "stream",
     "text": [
      "{'_id': ObjectId('5e867252c1f628949c75975a'), 'nome': 'AC DC', 'dataLancamento': datetime.datetime(2005, 1, 1, 1, 1), 'artista_id': '1'}\n"
     ]
    }
   ],
   "source": [
    "album = db.albuns.find_one({'nome': 'AC DC'})\n",
    "print(album)"
   ]
  },
  {
   "cell_type": "code",
   "execution_count": 73,
   "metadata": {},
   "outputs": [
    {
     "name": "stdout",
     "output_type": "stream",
     "text": [
      "{'_id': ObjectId('5e86725cc1f628949c75975b'), 'nome': 'AC DC', 'dataLancamento': datetime.datetime(2005, 1, 1, 1, 1), 'artista_id': '1'}\n"
     ]
    }
   ],
   "source": [
    "album_by_id = db.albuns.find_one({'_id': ObjectId('5e86725cc1f628949c75975b')})\n",
    "print(album_by_id)"
   ]
  },
  {
   "cell_type": "code",
   "execution_count": 76,
   "metadata": {},
   "outputs": [
    {
     "name": "stdout",
     "output_type": "stream",
     "text": [
      "BlindGuardian\n"
     ]
    }
   ],
   "source": [
    "album_by_id_2 = db.albuns.find_one({'_id': ObjectId('5e86735fc1f628949c75975c')})\n",
    "print(album_by_id_2['artista']['nome'])"
   ]
  }
 ],
 "metadata": {
  "kernelspec": {
   "display_name": "Python 3",
   "language": "python",
   "name": "python3"
  },
  "language_info": {
   "codemirror_mode": {
    "name": "ipython",
    "version": 3
   },
   "file_extension": ".py",
   "mimetype": "text/x-python",
   "name": "python",
   "nbconvert_exporter": "python",
   "pygments_lexer": "ipython3",
   "version": "3.7.4"
  }
 },
 "nbformat": 4,
 "nbformat_minor": 2
}
