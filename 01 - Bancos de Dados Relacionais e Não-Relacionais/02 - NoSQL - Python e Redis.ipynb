{
 "cells": [
  {
   "cell_type": "markdown",
   "metadata": {},
   "source": [
    "### Pós-Graduação: Especialização em Data Science & Big Data"
   ]
  },
  {
   "cell_type": "markdown",
   "metadata": {},
   "source": [
    "### Pontifícia Universidade Católica de Minas Gerais (PUC-MG)"
   ]
  },
  {
   "cell_type": "markdown",
   "metadata": {},
   "source": [
    "#### Victor Hugo Negrisoli - Bancos de Dados Relacionais e Não Relacionais"
   ]
  },
  {
   "cell_type": "markdown",
   "metadata": {},
   "source": [
    "##### Integração de banco de dados Chave-Valor Redis com Python"
   ]
  },
  {
   "cell_type": "code",
   "execution_count": 50,
   "metadata": {},
   "outputs": [],
   "source": [
    "import redis"
   ]
  },
  {
   "cell_type": "code",
   "execution_count": 51,
   "metadata": {},
   "outputs": [],
   "source": [
    "host = 'localhost'\n",
    "port = 6379\n",
    "db = redis.StrictRedis(host = host,\n",
    "                         port = port,\n",
    "                         charset = 'utf-8',\n",
    "                         decode_responses = True,\n",
    "                         db = 0)"
   ]
  },
  {
   "cell_type": "markdown",
   "metadata": {},
   "source": [
    "###### Inserindo e lendo chaves e valores ao Redis"
   ]
  },
  {
   "cell_type": "code",
   "execution_count": 95,
   "metadata": {},
   "outputs": [
    {
     "data": {
      "text/plain": [
       "True"
      ]
     },
     "execution_count": 95,
     "metadata": {},
     "output_type": "execute_result"
    }
   ],
   "source": [
    "# O comando flushall irá remover todas as chaves de todos os bancos de dados no Redis\n",
    "\n",
    "db.flushall()\n",
    "db.set('Key 1', 'Value 1')"
   ]
  },
  {
   "cell_type": "code",
   "execution_count": 96,
   "metadata": {},
   "outputs": [
    {
     "data": {
      "text/plain": [
       "'Value 1'"
      ]
     },
     "execution_count": 96,
     "metadata": {},
     "output_type": "execute_result"
    }
   ],
   "source": [
    "db.get('Key 1')"
   ]
  },
  {
   "cell_type": "code",
   "execution_count": 97,
   "metadata": {},
   "outputs": [
    {
     "name": "stdout",
     "output_type": "stream",
     "text": [
      "Key: Key 0, Value: Value 50\n",
      "Key: Key 1, Value: Value 49\n",
      "Key: Key 2, Value: Value 48\n",
      "Key: Key 3, Value: Value 47\n",
      "Key: Key 4, Value: Value 46\n",
      "Key: Key 5, Value: Value 45\n",
      "Key: Key 6, Value: Value 44\n",
      "Key: Key 7, Value: Value 43\n",
      "Key: Key 8, Value: Value 42\n",
      "Key: Key 9, Value: Value 41\n",
      "Key: Key 10, Value: Value 40\n",
      "Key: Key 11, Value: Value 39\n",
      "Key: Key 12, Value: Value 38\n",
      "Key: Key 13, Value: Value 37\n",
      "Key: Key 14, Value: Value 36\n",
      "Key: Key 15, Value: Value 35\n",
      "Key: Key 16, Value: Value 34\n",
      "Key: Key 17, Value: Value 33\n",
      "Key: Key 18, Value: Value 32\n",
      "Key: Key 19, Value: Value 31\n",
      "Key: Key 20, Value: Value 30\n",
      "Key: Key 21, Value: Value 29\n",
      "Key: Key 22, Value: Value 28\n",
      "Key: Key 23, Value: Value 27\n",
      "Key: Key 24, Value: Value 26\n",
      "Key: Key 25, Value: Value 25\n",
      "Key: Key 26, Value: Value 24\n",
      "Key: Key 27, Value: Value 23\n",
      "Key: Key 28, Value: Value 22\n",
      "Key: Key 29, Value: Value 21\n",
      "Key: Key 30, Value: Value 20\n",
      "Key: Key 31, Value: Value 19\n",
      "Key: Key 32, Value: Value 18\n",
      "Key: Key 33, Value: Value 17\n",
      "Key: Key 34, Value: Value 16\n",
      "Key: Key 35, Value: Value 15\n",
      "Key: Key 36, Value: Value 14\n",
      "Key: Key 37, Value: Value 13\n",
      "Key: Key 38, Value: Value 12\n",
      "Key: Key 39, Value: Value 11\n",
      "Key: Key 40, Value: Value 10\n",
      "Key: Key 41, Value: Value 9\n",
      "Key: Key 42, Value: Value 8\n",
      "Key: Key 43, Value: Value 7\n",
      "Key: Key 44, Value: Value 6\n",
      "Key: Key 45, Value: Value 5\n",
      "Key: Key 46, Value: Value 4\n",
      "Key: Key 47, Value: Value 3\n",
      "Key: Key 48, Value: Value 2\n",
      "Key: Key 49, Value: Value 1\n"
     ]
    }
   ],
   "source": [
    "# Inserindo uma lista de chave e valores utilizando List Comprehension\n",
    "\n",
    "keys = ['Key ' + str(i) for i in range(0, 50)]\n",
    "values = ['Value ' + str(i) for i in range(50, 0, -1)]\n",
    "\n",
    "if (len(keys) == len(values)):\n",
    "    for i in range(len(keys)):\n",
    "        print('Key: {}, Value: {}'.format(str(keys[i]), str(values[i])))\n",
    "        db.set(keys[i], values[i])"
   ]
  },
  {
   "cell_type": "code",
   "execution_count": 98,
   "metadata": {},
   "outputs": [],
   "source": [
    "# Listando todas as chaves que foram salvas no Redis\n",
    "\n",
    "chaves = db.keys()"
   ]
  },
  {
   "cell_type": "code",
   "execution_count": 99,
   "metadata": {},
   "outputs": [
    {
     "name": "stdout",
     "output_type": "stream",
     "text": [
      "Key 2: Value 48\n",
      "Key 3: Value 47\n",
      "Key 4: Value 46\n",
      "Key 5: Value 45\n",
      "Key 6: Value 44\n",
      "Key 7: Value 43\n",
      "Key 8: Value 42\n",
      "Key 9: Value 41\n",
      "Key 10: Value 40\n",
      "Key 11: Value 39\n",
      "Key 30: Value 20\n",
      "Key 12: Value 38\n",
      "Key 31: Value 19\n",
      "Key 13: Value 37\n",
      "Key 32: Value 18\n",
      "Key 14: Value 36\n",
      "Key 33: Value 17\n",
      "Key 15: Value 35\n",
      "Key 34: Value 16\n",
      "Key 16: Value 34\n",
      "Key 35: Value 15\n",
      "Key 17: Value 33\n",
      "Key 36: Value 14\n",
      "Key 18: Value 32\n",
      "Key 37: Value 13\n",
      "Key 19: Value 31\n",
      "Key 38: Value 12\n",
      "Key 39: Value 11\n",
      "Key 20: Value 30\n",
      "Key 21: Value 29\n",
      "Key 40: Value 10\n",
      "Key 22: Value 28\n",
      "Key 41: Value 9\n",
      "Key 23: Value 27\n",
      "Key 42: Value 8\n",
      "Key 24: Value 26\n",
      "Key 43: Value 7\n",
      "Key 25: Value 25\n",
      "Key 44: Value 6\n",
      "Key 26: Value 24\n",
      "Key 45: Value 5\n",
      "Key 27: Value 23\n",
      "Key 46: Value 4\n",
      "Key 28: Value 22\n",
      "Key 47: Value 3\n",
      "Key 29: Value 21\n",
      "Key 48: Value 2\n",
      "Key 49: Value 1\n",
      "Key 0: Value 50\n",
      "Key 1: Value 49\n"
     ]
    }
   ],
   "source": [
    "# Listando todos os valores\n",
    "\n",
    "for chave in chaves:\n",
    "    print(chave + ': ' + db.get(chave))"
   ]
  },
  {
   "cell_type": "code",
   "execution_count": 100,
   "metadata": {},
   "outputs": [
    {
     "data": {
      "text/plain": [
       "True"
      ]
     },
     "execution_count": 100,
     "metadata": {},
     "output_type": "execute_result"
    }
   ],
   "source": [
    "# Inserindo uma lista como valor\n",
    "\n",
    "value1 = [x for x in range(0, 10)]\n",
    "value2 = [x for x in range(10, 100)]\n",
    "value3 = [x for x in range(100, 500)]\n",
    "value4 = [x for x in range(500, 1500)]\n",
    "\n",
    "db.set('List 1', str(value1))\n",
    "db.set('List 2', str(value2))\n",
    "db.set('List 3', str(value3))\n",
    "db.set('List 4', str(value4))"
   ]
  },
  {
   "cell_type": "code",
   "execution_count": 101,
   "metadata": {},
   "outputs": [
    {
     "data": {
      "text/plain": [
       "'[0, 1, 2, 3, 4, 5, 6, 7, 8, 9]'"
      ]
     },
     "execution_count": 101,
     "metadata": {},
     "output_type": "execute_result"
    }
   ],
   "source": [
    "db.get('List 1')"
   ]
  },
  {
   "cell_type": "markdown",
   "metadata": {},
   "source": [
    "##### Atualizando e removendo chaves e valores"
   ]
  },
  {
   "cell_type": "code",
   "execution_count": 102,
   "metadata": {},
   "outputs": [
    {
     "name": "stdout",
     "output_type": "stream",
     "text": [
      "Anterior: [0, 1, 2, 3, 4, 5, 6, 7, 8, 9]\n",
      "Atualizado: [1, 5, 6, 7, 8, 9]\n"
     ]
    }
   ],
   "source": [
    "valor_anterior = db.get('List 1')\n",
    "print('Anterior: ' + valor_anterior)\n",
    "\n",
    "db.set('List 1' , '[1, 5, 6, 7, 8, 9]')\n",
    "\n",
    "valor_atualizado = db.get('List 1')\n",
    "print('Atualizado: ' + valor_atualizado)"
   ]
  },
  {
   "cell_type": "code",
   "execution_count": 103,
   "metadata": {},
   "outputs": [
    {
     "data": {
      "text/plain": [
       "1"
      ]
     },
     "execution_count": 103,
     "metadata": {},
     "output_type": "execute_result"
    }
   ],
   "source": [
    "# Removendo uma chave\n",
    "\n",
    "db.delete('List 1')"
   ]
  },
  {
   "cell_type": "code",
   "execution_count": 104,
   "metadata": {},
   "outputs": [
    {
     "name": "stdout",
     "output_type": "stream",
     "text": [
      "None\n"
     ]
    }
   ],
   "source": [
    "print(db.get('List 1'))"
   ]
  },
  {
   "cell_type": "code",
   "execution_count": 105,
   "metadata": {},
   "outputs": [
    {
     "data": {
      "text/plain": [
       "True"
      ]
     },
     "execution_count": 105,
     "metadata": {},
     "output_type": "execute_result"
    }
   ],
   "source": [
    "db.flushdb()"
   ]
  },
  {
   "cell_type": "code",
   "execution_count": 106,
   "metadata": {},
   "outputs": [
    {
     "data": {
      "text/plain": [
       "[]"
      ]
     },
     "execution_count": 106,
     "metadata": {},
     "output_type": "execute_result"
    }
   ],
   "source": [
    "db.keys()"
   ]
  }
 ],
 "metadata": {
  "kernelspec": {
   "display_name": "Python 3",
   "language": "python",
   "name": "python3"
  },
  "language_info": {
   "codemirror_mode": {
    "name": "ipython",
    "version": 3
   },
   "file_extension": ".py",
   "mimetype": "text/x-python",
   "name": "python",
   "nbconvert_exporter": "python",
   "pygments_lexer": "ipython3",
   "version": "3.7.4"
  }
 },
 "nbformat": 4,
 "nbformat_minor": 2
}
