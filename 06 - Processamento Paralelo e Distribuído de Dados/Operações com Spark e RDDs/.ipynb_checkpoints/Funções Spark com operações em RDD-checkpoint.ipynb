{
 "cells": [
  {
   "cell_type": "markdown",
   "metadata": {},
   "source": [
    "# Pós-Graduação - Ciência de Dados & Big Data"
   ]
  },
  {
   "cell_type": "markdown",
   "metadata": {},
   "source": [
    "## Pontifícia Universidade Católica de Minas Gerais (PUC-MG)"
   ]
  },
  {
   "cell_type": "markdown",
   "metadata": {},
   "source": [
    "### Aluno: Victor Hugo Negrisoli"
   ]
  },
  {
   "cell_type": "markdown",
   "metadata": {},
   "source": [
    "### Utilizando funções Spark: operações com RDD"
   ]
  },
  {
   "cell_type": "code",
   "execution_count": 30,
   "metadata": {},
   "outputs": [],
   "source": [
    "from pyspark.sql import SparkSession\n",
    "import json"
   ]
  },
  {
   "cell_type": "markdown",
   "metadata": {},
   "source": [
    "Neste Notebook serão utilizadas funções do Spark trabalhando com RDDs, são elas:\n",
    "\n",
    "* Map\n",
    "* Reduce\n",
    "* Filter\n",
    "* Collect\n",
    "* Count\n",
    "* CountByValue\n",
    "* Parallelize\n",
    "* Aggregate\n",
    "* Union\n",
    "* TakeSample\n",
    "* FlatMap"
   ]
  },
  {
   "cell_type": "markdown",
   "metadata": {},
   "source": [
    "### Importando dados a partir de um dicionário"
   ]
  },
  {
   "cell_type": "code",
   "execution_count": 2,
   "metadata": {},
   "outputs": [],
   "source": [
    "pessoas = []\n",
    "pessoas.append({\n",
    "  'id': 1,\n",
    "  'nome': 'Bob',\n",
    "  'idade': 45,\n",
    "  'gen': 'M'\n",
    "})\n",
    "pessoas.append({\n",
    "  'id': 2,\n",
    "  'nome': 'Gloria',\n",
    "  'idade': 43,\n",
    "  'gen': 'F'\n",
    "})\n",
    "pessoas.append({\n",
    "  'id': 4,\n",
    "  'nome': 'Albert',\n",
    "  'idade': 28,\n",
    "  'gen': 'M'\n",
    "})\n",
    "pessoas.append({\n",
    "  'id': 5,\n",
    "  'nome': 'Laura',\n",
    "  'idade': 33,\n",
    "  'gen': 'F'\n",
    "})\n",
    "pessoas.append({\n",
    "  'id': 8,\n",
    "  'nome': 'Simone',\n",
    "  'idade': 18,\n",
    "  'gen': 'T'\n",
    "})\n",
    "pessoas.append({\n",
    "  'id': 12,\n",
    "  'nome': 'Marta',\n",
    "  'idade': 45,\n",
    "  'gen': 'F'\n",
    "})\n",
    "pessoas.append({\n",
    "  'id': 45,\n",
    "  'nome': 'Jairo',\n",
    "  'idade': 82,\n",
    "  'gen': 'M'\n",
    "})\n",
    "pessoas.append({\n",
    "  'id': 13,\n",
    "  'nome': 'Teste',\n",
    "  'idade': 38,\n",
    "  'gen': 'T'\n",
    "})"
   ]
  },
  {
   "cell_type": "code",
   "execution_count": 3,
   "metadata": {},
   "outputs": [],
   "source": [
    "spark = SparkSession\\\n",
    "            .builder\\\n",
    "            .appName(\"Pratica - Funções Spark\")\\\n",
    "            .getOrCreate()"
   ]
  },
  {
   "cell_type": "code",
   "execution_count": 4,
   "metadata": {},
   "outputs": [],
   "source": [
    "sc = spark.sparkContext"
   ]
  },
  {
   "cell_type": "code",
   "execution_count": 5,
   "metadata": {},
   "outputs": [],
   "source": [
    "pessoasRDD = sc.parallelize(pessoas)"
   ]
  },
  {
   "cell_type": "code",
   "execution_count": 6,
   "metadata": {},
   "outputs": [
    {
     "data": {
      "text/plain": [
       "[{'id': 1, 'nome': 'Bob', 'idade': 45, 'gen': 'M'},\n",
       " {'id': 2, 'nome': 'Gloria', 'idade': 43, 'gen': 'F'},\n",
       " {'id': 4, 'nome': 'Albert', 'idade': 28, 'gen': 'M'},\n",
       " {'id': 5, 'nome': 'Laura', 'idade': 33, 'gen': 'F'},\n",
       " {'id': 8, 'nome': 'Simone', 'idade': 18, 'gen': 'T'},\n",
       " {'id': 12, 'nome': 'Marta', 'idade': 45, 'gen': 'F'},\n",
       " {'id': 45, 'nome': 'Jairo', 'idade': 82, 'gen': 'M'},\n",
       " {'id': 13, 'nome': 'Teste', 'idade': 38, 'gen': 'T'}]"
      ]
     },
     "execution_count": 6,
     "metadata": {},
     "output_type": "execute_result"
    }
   ],
   "source": [
    "lista_collect = pessoasRDD.collect()\n",
    "lista_collect"
   ]
  },
  {
   "cell_type": "markdown",
   "metadata": {},
   "source": [
    "Filtarndo pessoas acima de 30 anos com a função ``Filter``"
   ]
  },
  {
   "cell_type": "code",
   "execution_count": 7,
   "metadata": {},
   "outputs": [
    {
     "data": {
      "text/plain": [
       "[{'id': 1, 'nome': 'Bob', 'idade': 45, 'gen': 'M'},\n",
       " {'id': 2, 'nome': 'Gloria', 'idade': 43, 'gen': 'F'},\n",
       " {'id': 5, 'nome': 'Laura', 'idade': 33, 'gen': 'F'},\n",
       " {'id': 12, 'nome': 'Marta', 'idade': 45, 'gen': 'F'},\n",
       " {'id': 45, 'nome': 'Jairo', 'idade': 82, 'gen': 'M'},\n",
       " {'id': 13, 'nome': 'Teste', 'idade': 38, 'gen': 'T'}]"
      ]
     },
     "execution_count": 7,
     "metadata": {},
     "output_type": "execute_result"
    }
   ],
   "source": [
    "lista_maiores_30 = pessoasRDD \\\n",
    "                        .filter(lambda x: x['idade'] > 30)\n",
    "lista_maiores_30.collect()"
   ]
  },
  {
   "cell_type": "code",
   "execution_count": 8,
   "metadata": {},
   "outputs": [
    {
     "data": {
      "text/plain": [
       "6"
      ]
     },
     "execution_count": 8,
     "metadata": {},
     "output_type": "execute_result"
    }
   ],
   "source": [
    "total_acima_30 = lista_maiores_30.count()\n",
    "total_acima_30"
   ]
  },
  {
   "cell_type": "markdown",
   "metadata": {},
   "source": [
    "Verificando todos os registros que fazem parte do sexo masculino"
   ]
  },
  {
   "cell_type": "code",
   "execution_count": 9,
   "metadata": {},
   "outputs": [
    {
     "data": {
      "text/plain": [
       "[{'id': 1, 'nome': 'Bob', 'idade': 45, 'gen': 'M'},\n",
       " {'id': 4, 'nome': 'Albert', 'idade': 28, 'gen': 'M'},\n",
       " {'id': 45, 'nome': 'Jairo', 'idade': 82, 'gen': 'M'}]"
      ]
     },
     "execution_count": 9,
     "metadata": {},
     "output_type": "execute_result"
    }
   ],
   "source": [
    "lista_masculinos = pessoasRDD \\\n",
    "                        .filter(lambda x: x['gen'].upper() == 'M')\n",
    "lista_masculinos.collect()"
   ]
  },
  {
   "cell_type": "code",
   "execution_count": 10,
   "metadata": {},
   "outputs": [
    {
     "data": {
      "text/plain": [
       "3"
      ]
     },
     "execution_count": 10,
     "metadata": {},
     "output_type": "execute_result"
    }
   ],
   "source": [
    "lista_masculinos.count()"
   ]
  },
  {
   "cell_type": "markdown",
   "metadata": {},
   "source": [
    "Visualizando o total de pessoas por gênero diferente de T"
   ]
  },
  {
   "cell_type": "code",
   "execution_count": 16,
   "metadata": {},
   "outputs": [
    {
     "data": {
      "text/plain": [
       "defaultdict(int, {'M': 3, 'F': 3})"
      ]
     },
     "execution_count": 16,
     "metadata": {},
     "output_type": "execute_result"
    }
   ],
   "source": [
    "pessoas_por_genero = pessoasRDD \\\n",
    "                        .filter(lambda gen: gen['gen'] != 'T') \\\n",
    "                        .map(lambda gen: gen['gen'])\n",
    "\n",
    "pessoas_por_genero.countByValue()"
   ]
  },
  {
   "cell_type": "markdown",
   "metadata": {},
   "source": [
    "Visualizando a média de idade das pessoas com a função `Aggregate`"
   ]
  },
  {
   "cell_type": "code",
   "execution_count": 14,
   "metadata": {},
   "outputs": [
    {
     "data": {
      "text/plain": [
       "41.5"
      ]
     },
     "execution_count": 14,
     "metadata": {},
     "output_type": "execute_result"
    }
   ],
   "source": [
    "sequencia_op = (lambda x, y: (x[0] + y['idade'], x[1] + 1))\n",
    "combinacao_op = (lambda x, y: (x[0] + y[0], x[1] + y[1]))\n",
    "\n",
    "[soma, quantidade] = pessoasRDD \\\n",
    "                        .aggregate((0, 0), sequencia_op, combinacao_op)\n",
    "media = soma / quantidade\n",
    "media"
   ]
  },
  {
   "cell_type": "markdown",
   "metadata": {},
   "source": [
    "Realizando uma união entre as pessoas acima de 30 com as pessoas do sexo Masculino com a função `Union`"
   ]
  },
  {
   "cell_type": "code",
   "execution_count": 29,
   "metadata": {},
   "outputs": [
    {
     "data": {
      "text/plain": [
       "[{'id': 1, 'nome': 'Bob', 'idade': 45, 'gen': 'M'},\n",
       " {'id': 4, 'nome': 'Albert', 'idade': 28, 'gen': 'M'},\n",
       " {'id': 45, 'nome': 'Jairo', 'idade': 82, 'gen': 'M'},\n",
       " {'id': 1, 'nome': 'Bob', 'idade': 45, 'gen': 'M'},\n",
       " {'id': 2, 'nome': 'Gloria', 'idade': 43, 'gen': 'F'},\n",
       " {'id': 5, 'nome': 'Laura', 'idade': 33, 'gen': 'F'},\n",
       " {'id': 12, 'nome': 'Marta', 'idade': 45, 'gen': 'F'},\n",
       " {'id': 45, 'nome': 'Jairo', 'idade': 82, 'gen': 'M'},\n",
       " {'id': 13, 'nome': 'Teste', 'idade': 38, 'gen': 'T'}]"
      ]
     },
     "execution_count": 29,
     "metadata": {},
     "output_type": "execute_result"
    }
   ],
   "source": [
    "lista_masculinos_e_maiores_30 = lista_masculinos \\\n",
    "                                    .union(lista_maiores_30)\n",
    "lista_masculinos_e_maiores_30.collect()"
   ]
  },
  {
   "cell_type": "markdown",
   "metadata": {},
   "source": [
    "Recuperando valores aleatórios de uma amostragem de 3 valores"
   ]
  },
  {
   "cell_type": "code",
   "execution_count": 31,
   "metadata": {},
   "outputs": [
    {
     "data": {
      "text/plain": [
       "[{'id': 12, 'nome': 'Marta', 'idade': 45, 'gen': 'F'},\n",
       " {'id': 45, 'nome': 'Jairo', 'idade': 82, 'gen': 'M'},\n",
       " {'id': 13, 'nome': 'Teste', 'idade': 38, 'gen': 'T'}]"
      ]
     },
     "execution_count": 31,
     "metadata": {},
     "output_type": "execute_result"
    }
   ],
   "source": [
    "tres_aleatorios = lista_masculinos_e_maiores_30 \\\n",
    "                                                .takeSample(True, 3)\n",
    "tres_aleatorios.collect()"
   ]
  },
  {
   "cell_type": "markdown",
   "metadata": {},
   "source": [
    "### Importando dados de um arquivo JSON"
   ]
  },
  {
   "cell_type": "code",
   "execution_count": 34,
   "metadata": {},
   "outputs": [
    {
     "data": {
      "text/plain": [
       "['[{\"id\": 1, \"val\": 45, \"dat\":\"12/01/2006\"}, {\"id\": 2, \"val\": 53, \"dat\":\"04/06/2009\"}, {\"id\": 4, \"val\": 345, \"dat\":\"18/01/2012\"}, {\"id\": 5, \"val\": 435, \"dat\":\"12/01/2016\"}, {\"id\": 8, \"val\": 2003, \"dat\":\"08/09/2015\"}, {\"id\": 12, \"val\": 100, \"dat\":\"12/11/2000\"}, {\"id\": 45, \"val\": 200, \"dat\":\"12/01/2006\"},{\"id\": 13, \"val\": 99999, \"dat\":\"12/01/2006\"},{\"id\": 1, \"val\": 405, \"dat\":\"12/03/2006\"}, {\"id\": 2, \"val\": 503, \"dat\":\"04/09/2009\"}, {\"id\": 4, \"val\": 35, \"dat\":\"01/10/2012\"}, {\"id\": 5, \"val\": 45, \"dat\":\"12/12/2016\"}, {\"id\": 8, \"val\": 23, \"dat\":\"01/01/2015\"}, {\"id\": 12, \"val\": 10, \"dat\":\"02/01/2002\"}, {\"id\": 45, \"val\": 20, \"dat\":\"12/12/2006\"},{\"id\": 13, \"val\": 99999, \"dat\":\"12/01/2007\"}]']"
      ]
     },
     "execution_count": 34,
     "metadata": {},
     "output_type": "execute_result"
    }
   ],
   "source": [
    "pessoas_json = sc.textFile('pessoasval.json')\n",
    "pessoas_json.collect()"
   ]
  },
  {
   "cell_type": "markdown",
   "metadata": {},
   "source": [
    "Criando a lista de pessoas do RDD com a função `flatMap`"
   ]
  },
  {
   "cell_type": "code",
   "execution_count": 36,
   "metadata": {},
   "outputs": [
    {
     "data": {
      "text/plain": [
       "[{'id': 1, 'val': 45, 'dat': '12/01/2006'},\n",
       " {'id': 2, 'val': 53, 'dat': '04/06/2009'},\n",
       " {'id': 4, 'val': 345, 'dat': '18/01/2012'},\n",
       " {'id': 5, 'val': 435, 'dat': '12/01/2016'},\n",
       " {'id': 8, 'val': 2003, 'dat': '08/09/2015'},\n",
       " {'id': 12, 'val': 100, 'dat': '12/11/2000'},\n",
       " {'id': 45, 'val': 200, 'dat': '12/01/2006'},\n",
       " {'id': 13, 'val': 99999, 'dat': '12/01/2006'},\n",
       " {'id': 1, 'val': 405, 'dat': '12/03/2006'},\n",
       " {'id': 2, 'val': 503, 'dat': '04/09/2009'},\n",
       " {'id': 4, 'val': 35, 'dat': '01/10/2012'},\n",
       " {'id': 5, 'val': 45, 'dat': '12/12/2016'},\n",
       " {'id': 8, 'val': 23, 'dat': '01/01/2015'},\n",
       " {'id': 12, 'val': 10, 'dat': '02/01/2002'},\n",
       " {'id': 45, 'val': 20, 'dat': '12/12/2006'},\n",
       " {'id': 13, 'val': 99999, 'dat': '12/01/2007'}]"
      ]
     },
     "execution_count": 36,
     "metadata": {},
     "output_type": "execute_result"
    }
   ],
   "source": [
    "pessoasRDD = pessoas_json \\\n",
    "                        .flatMap(lambda x: json.loads(x))\n",
    "pessoasRDD.collect()"
   ]
  },
  {
   "cell_type": "markdown",
   "metadata": {},
   "source": [
    "Verificando a quantidade de IDs de cada pessoa existente no RDD"
   ]
  },
  {
   "cell_type": "code",
   "execution_count": 37,
   "metadata": {},
   "outputs": [
    {
     "data": {
      "text/plain": [
       "defaultdict(int, {1: 2, 2: 2, 4: 2, 5: 2, 8: 2, 12: 2, 45: 2, 13: 2})"
      ]
     },
     "execution_count": 37,
     "metadata": {},
     "output_type": "execute_result"
    }
   ],
   "source": [
    "pessoas_ids = pessoasRDD \\\n",
    "                        .map(lambda x: x['id'])\n",
    "pessoas_ids.countByValue()"
   ]
  }
 ],
 "metadata": {
  "kernelspec": {
   "display_name": "Python 3",
   "language": "python",
   "name": "python3"
  },
  "language_info": {
   "codemirror_mode": {
    "name": "ipython",
    "version": 3
   },
   "file_extension": ".py",
   "mimetype": "text/x-python",
   "name": "python",
   "nbconvert_exporter": "python",
   "pygments_lexer": "ipython3",
   "version": "3.7.4"
  }
 },
 "nbformat": 4,
 "nbformat_minor": 2
}
