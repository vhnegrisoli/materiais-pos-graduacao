{
 "cells": [
  {
   "cell_type": "markdown",
   "metadata": {},
   "source": [
    "# Pós-Graduação - Ciência de Dados & Big Data"
   ]
  },
  {
   "cell_type": "markdown",
   "metadata": {},
   "source": [
    "## Pontifícia Universidade Católica de Minas Gerais (PUC-MG)"
   ]
  },
  {
   "cell_type": "markdown",
   "metadata": {},
   "source": [
    "### Aluno: Victor Hugo Negrisoli"
   ]
  },
  {
   "cell_type": "markdown",
   "metadata": {},
   "source": [
    "### Utilizando funções Spark: operações com RDD"
   ]
  },
  {
   "cell_type": "code",
   "execution_count": 3,
   "metadata": {},
   "outputs": [],
   "source": [
    "from pyspark.sql import SparkSession"
   ]
  },
  {
   "cell_type": "markdown",
   "metadata": {},
   "source": [
    "Neste Notebook serão utilizadas funções do Spark trabalhando com RDDs, são elas:\n",
    "\n",
    "* Map\n",
    "* Reduce\n",
    "* Filter\n",
    "* Collect\n",
    "* Count\n",
    "* CountByValue\n",
    "* Intersection\n",
    "* Parallelize\n",
    "* Aggregate\n",
    "* Union\n",
    "* TakeSample\n",
    "* FlatMap"
   ]
  },
  {
   "cell_type": "code",
   "execution_count": 12,
   "metadata": {},
   "outputs": [],
   "source": [
    "pessoas = []\n",
    "pessoas.append({\n",
    "  'id': 1,\n",
    "  'nome': 'Bob',\n",
    "  'idade': 45,\n",
    "  'gen': 'M'\n",
    "})\n",
    "pessoas.append({\n",
    "  'id': 2,\n",
    "  'nome': 'Gloria',\n",
    "  'idade': 43,\n",
    "  'gen': 'F'\n",
    "})\n",
    "pessoas.append({\n",
    "  'id': 4,\n",
    "  'nome': 'Albert',\n",
    "  'idade': 28,\n",
    "  'gen': 'M'\n",
    "})\n",
    "pessoas.append({\n",
    "  'id': 5,\n",
    "  'nome': 'Laura',\n",
    "  'idade': 33,\n",
    "  'gen': 'F'\n",
    "})\n",
    "pessoas.append({\n",
    "  'id': 8,\n",
    "  'nome': 'Simone',\n",
    "  'idade': 18,\n",
    "  'gen': 'T'\n",
    "})\n",
    "pessoas.append({\n",
    "  'id': 12,\n",
    "  'nome': 'Marta',\n",
    "  'idade': 45,\n",
    "  'gen': 'F'\n",
    "})\n",
    "pessoas.append({\n",
    "  'id': 45,\n",
    "  'nome': 'Jairo',\n",
    "  'idade': 82,\n",
    "  'gen': 'M'\n",
    "})\n",
    "pessoas.append({\n",
    "  'id': 13,\n",
    "  'nome': 'Teste',\n",
    "  'idade': 38,\n",
    "  'gen': 'T'\n",
    "})"
   ]
  },
  {
   "cell_type": "code",
   "execution_count": 5,
   "metadata": {},
   "outputs": [],
   "source": [
    "spark = SparkSession\\\n",
    "            .builder\\\n",
    "            .appName(\"Pratica - Funções Spark\")\\\n",
    "            .getOrCreate()"
   ]
  },
  {
   "cell_type": "code",
   "execution_count": 6,
   "metadata": {},
   "outputs": [],
   "source": [
    "sc = spark.sparkContext"
   ]
  },
  {
   "cell_type": "code",
   "execution_count": 9,
   "metadata": {},
   "outputs": [],
   "source": [
    "pessoasRDD = sc.parallelize(pessoas)"
   ]
  },
  {
   "cell_type": "code",
   "execution_count": 11,
   "metadata": {},
   "outputs": [
    {
     "data": {
      "text/plain": [
       "[{'id': 1, 'nome': 'Bob', 'idade': 45, 'gen': 'M'},\n",
       " {'id': 2, 'nome': 'Gloria', 'idade': 43, 'gen': 'F'},\n",
       " {'id': 4, 'nome': 'Albert', 'idade': 28, 'gen': 'M'},\n",
       " {'id': 5, 'nome': 'Laura', 'idade': 33, 'gen': 'F'},\n",
       " {'id': 8, 'nome': 'Simone', 'idade': 18, 'gen': 'T'},\n",
       " {'id': 12, 'nome': 'Marta', 'idade': 45, 'gen': 'F'},\n",
       " {'id': 45, 'nome': 'Jairo', 'idade': 82, 'gen': 'M'},\n",
       " {'id': 13, 'nome': 'Teste', 'idade': 38, 'gen': 'T'}]"
      ]
     },
     "execution_count": 11,
     "metadata": {},
     "output_type": "execute_result"
    }
   ],
   "source": [
    "pessoasRDD.collect()"
   ]
  },
  {
   "cell_type": "code",
   "execution_count": null,
   "metadata": {},
   "outputs": [],
   "source": []
  }
 ],
 "metadata": {
  "kernelspec": {
   "display_name": "Python 3",
   "language": "python",
   "name": "python3"
  },
  "language_info": {
   "codemirror_mode": {
    "name": "ipython",
    "version": 3
   },
   "file_extension": ".py",
   "mimetype": "text/x-python",
   "name": "python",
   "nbconvert_exporter": "python",
   "pygments_lexer": "ipython3",
   "version": "3.7.4"
  }
 },
 "nbformat": 4,
 "nbformat_minor": 2
}
