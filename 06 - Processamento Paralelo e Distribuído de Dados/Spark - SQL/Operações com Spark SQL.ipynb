{
 "cells": [
  {
   "cell_type": "markdown",
   "metadata": {},
   "source": [
    "# Pós-Graduação - Ciência de Dados & Big Data"
   ]
  },
  {
   "cell_type": "markdown",
   "metadata": {},
   "source": [
    "## Pontifícia Universidade Católica de Minas Gerais (PUC-MG)"
   ]
  },
  {
   "cell_type": "markdown",
   "metadata": {},
   "source": [
    "### Aluno: Victor Hugo Negrisoli"
   ]
  },
  {
   "cell_type": "markdown",
   "metadata": {},
   "source": [
    "### Utilizando funções do Spark SQL - leitura de dados, criação de tabelas e manipulação de dados com SQL"
   ]
  },
  {
   "cell_type": "code",
   "execution_count": 74,
   "metadata": {},
   "outputs": [],
   "source": [
    "from pyspark.sql import SparkSession\n",
    "from pyspark.sql import HiveContext\n",
    "from pyspark.sql import SQLContext\n",
    "from pyspark.sql import Row\n",
    "import json\n",
    "from datetime import datetime"
   ]
  },
  {
   "cell_type": "code",
   "execution_count": 3,
   "metadata": {},
   "outputs": [],
   "source": [
    "spark = SparkSession \\\n",
    "                .builder \\\n",
    "                .appName('Prática - Spark SQL') \\\n",
    "                .getOrCreate()"
   ]
  },
  {
   "cell_type": "markdown",
   "metadata": {},
   "source": [
    "Criando o contexto do Hive"
   ]
  },
  {
   "cell_type": "code",
   "execution_count": 4,
   "metadata": {},
   "outputs": [],
   "source": [
    "sc = spark.sparkContext"
   ]
  },
  {
   "cell_type": "code",
   "execution_count": 23,
   "metadata": {},
   "outputs": [],
   "source": [
    "hiveCtx = HiveContext(sc)"
   ]
  },
  {
   "cell_type": "markdown",
   "metadata": {},
   "source": [
    "#### Lendo um arquivo JSON e criando uma tabela temporária a partir dele"
   ]
  },
  {
   "cell_type": "code",
   "execution_count": 24,
   "metadata": {},
   "outputs": [],
   "source": [
    "dados = hiveCtx.read.json('pessoasval.json')"
   ]
  },
  {
   "cell_type": "code",
   "execution_count": 25,
   "metadata": {},
   "outputs": [],
   "source": [
    "dados.registerTempTable('pessoas')"
   ]
  },
  {
   "cell_type": "markdown",
   "metadata": {},
   "source": [
    "#### Realizando consultas na tabela usando linguagem SQL"
   ]
  },
  {
   "cell_type": "code",
   "execution_count": 93,
   "metadata": {},
   "outputs": [
    {
     "data": {
      "text/plain": [
       "[Row(dat='01/01/2015', id=8, val=23),\n",
       " Row(dat='01/10/2012', id=4, val=35),\n",
       " Row(dat='02/01/2002', id=12, val=10),\n",
       " Row(dat='04/06/2009', id=2, val=53),\n",
       " Row(dat='04/09/2009', id=2, val=503),\n",
       " Row(dat='08/09/2015', id=8, val=2003),\n",
       " Row(dat='12/01/2006', id=1, val=45),\n",
       " Row(dat='12/01/2006', id=13, val=99999),\n",
       " Row(dat='12/01/2006', id=45, val=200),\n",
       " Row(dat='12/01/2007', id=13, val=99999)]"
      ]
     },
     "execution_count": 93,
     "metadata": {},
     "output_type": "execute_result"
    }
   ],
   "source": [
    "pessoas = hiveCtx.sql(\"\"\"SELECT * FROM pessoas ORDER BY 1 LIMIT 10\"\"\")\n",
    "pessoas.collect()"
   ]
  },
  {
   "cell_type": "code",
   "execution_count": 94,
   "metadata": {},
   "outputs": [
    {
     "data": {
      "text/plain": [
       "[Row(dat='18/01/2012', id=4, val=345),\n",
       " Row(dat='12/01/2016', id=5, val=435),\n",
       " Row(dat='12/11/2000', id=12, val=100),\n",
       " Row(dat='12/01/2006', id=45, val=200),\n",
       " Row(dat='12/03/2006', id=1, val=405),\n",
       " Row(dat='04/09/2009', id=2, val=503)]"
      ]
     },
     "execution_count": 94,
     "metadata": {},
     "output_type": "execute_result"
    }
   ],
   "source": [
    "pessoas_val_100_700 = hiveCtx.sql( \\\n",
    "                        \"\"\" \\\n",
    "                            SELECT * FROM pessoas \\\n",
    "                            WHERE val >= 100 AND val <= 700 \n",
    "                        \"\"\"\n",
    ")\n",
    "\n",
    "pessoas_val_100_700.collect()"
   ]
  },
  {
   "cell_type": "code",
   "execution_count": 95,
   "metadata": {},
   "outputs": [
    {
     "data": {
      "text/plain": [
       "[Row(dat='12/11/2000', id=12, val=100),\n",
       " Row(dat='12/01/2006', id=45, val=200),\n",
       " Row(dat='02/01/2002', id=12, val=10),\n",
       " Row(dat='12/12/2006', id=45, val=20)]"
      ]
     },
     "execution_count": 95,
     "metadata": {},
     "output_type": "execute_result"
    }
   ],
   "source": [
    "pessoas_id_maior_10_val_menor_500 = hiveCtx.sql( \\\n",
    "                        \"\"\" \\\n",
    "                            SELECT * FROM pessoas \\\n",
    "                            WHERE ID > 10 AND VAL < 500  \n",
    "                        \"\"\"\n",
    ")\n",
    "\n",
    "pessoas_id_maior_10_val_menor_500.collect()"
   ]
  },
  {
   "cell_type": "code",
   "execution_count": 96,
   "metadata": {},
   "outputs": [
    {
     "data": {
      "text/plain": [
       "[Row(DAT='12/11/2000', VAL=100),\n",
       " Row(DAT='12/01/2006', VAL=200),\n",
       " Row(DAT='02/01/2002', VAL=10),\n",
       " Row(DAT='12/12/2006', VAL=20)]"
      ]
     },
     "execution_count": 96,
     "metadata": {},
     "output_type": "execute_result"
    }
   ],
   "source": [
    "apenas_dat_valor = hiveCtx.sql( \\\n",
    "                        \"\"\" \\\n",
    "                            SELECT DAT, VAL FROM pessoas \\\n",
    "                            WHERE ID > 10 AND VAL < 500  \n",
    "                        \"\"\"\n",
    ")\n",
    "\n",
    "apenas_dat_valor.collect()"
   ]
  }
 ],
 "metadata": {
  "kernelspec": {
   "display_name": "Python 3",
   "language": "python",
   "name": "python3"
  },
  "language_info": {
   "codemirror_mode": {
    "name": "ipython",
    "version": 3
   },
   "file_extension": ".py",
   "mimetype": "text/x-python",
   "name": "python",
   "nbconvert_exporter": "python",
   "pygments_lexer": "ipython3",
   "version": "3.7.4"
  }
 },
 "nbformat": 4,
 "nbformat_minor": 2
}
