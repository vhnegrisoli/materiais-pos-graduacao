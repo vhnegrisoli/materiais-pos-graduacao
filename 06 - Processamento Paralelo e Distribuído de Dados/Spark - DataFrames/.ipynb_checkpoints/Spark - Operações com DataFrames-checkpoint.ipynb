{
 "cells": [
  {
   "cell_type": "markdown",
   "metadata": {},
   "source": [
    "# Pós-Graduação - Ciência de Dados & Big Data"
   ]
  },
  {
   "cell_type": "markdown",
   "metadata": {},
   "source": [
    "## Pontifícia Universidade Católica de Minas Gerais (PUC-MG)"
   ]
  },
  {
   "cell_type": "markdown",
   "metadata": {},
   "source": [
    "### Aluno: Victor Hugo Negrisoli"
   ]
  },
  {
   "cell_type": "markdown",
   "metadata": {},
   "source": [
    "### Utilizando DataFrames com Spark\n"
   ]
  },
  {
   "cell_type": "code",
   "execution_count": 1,
   "metadata": {},
   "outputs": [],
   "source": [
    "from pyspark.sql import SparkSession\n",
    "import json"
   ]
  },
  {
   "cell_type": "markdown",
   "metadata": {},
   "source": [
    "#### Lendo os dados iniciais via dicionário e via JSON"
   ]
  },
  {
   "cell_type": "code",
   "execution_count": 2,
   "metadata": {},
   "outputs": [],
   "source": [
    "pessoas = []\n",
    "pessoas.append({\n",
    "  'id': 1,\n",
    "  'nome': 'Bob',\n",
    "  'idade': 45,\n",
    "  'gen': 'M'\n",
    "})\n",
    "pessoas.append({\n",
    "  'id': 2,\n",
    "  'nome': 'Gloria',\n",
    "  'idade': 43,\n",
    "  'gen': 'F'\n",
    "})\n",
    "pessoas.append({\n",
    "  'id': 4,\n",
    "  'nome': 'Albert',\n",
    "  'idade': 28,\n",
    "  'gen': 'M'\n",
    "})\n",
    "pessoas.append({\n",
    "  'id': 5,\n",
    "  'nome': 'Laura',\n",
    "  'idade': 33,\n",
    "  'gen': 'F'\n",
    "})\n",
    "pessoas.append({\n",
    "  'id': 8,\n",
    "  'nome': 'Simone',\n",
    "  'idade': 18,\n",
    "  'gen': 'T'\n",
    "})\n",
    "pessoas.append({\n",
    "  'id': 12,\n",
    "  'nome': 'Marta',\n",
    "  'idade': 45,\n",
    "  'gen': 'F'\n",
    "})\n",
    "pessoas.append({\n",
    "  'id': 45,\n",
    "  'nome': 'Jairo',\n",
    "  'idade': 82,\n",
    "  'gen': 'M'\n",
    "})\n",
    "pessoas.append({\n",
    "  'id': 13,\n",
    "  'nome': 'Teste',\n",
    "  'idade': 38,\n",
    "  'gen': 'T'\n",
    "})"
   ]
  },
  {
   "cell_type": "code",
   "execution_count": 3,
   "metadata": {},
   "outputs": [],
   "source": [
    "spark = SparkSession\\\n",
    "            .builder\\\n",
    "            .appName(\"Pratica - Funções Spark\")\\\n",
    "            .getOrCreate()\n",
    "\n",
    "sc = spark.sparkContext"
   ]
  },
  {
   "cell_type": "code",
   "execution_count": 7,
   "metadata": {},
   "outputs": [
    {
     "data": {
      "text/plain": [
       "[{'id': 1, 'nome': 'Bob', 'idade': 45, 'gen': 'M'},\n",
       " {'id': 2, 'nome': 'Gloria', 'idade': 43, 'gen': 'F'},\n",
       " {'id': 4, 'nome': 'Albert', 'idade': 28, 'gen': 'M'},\n",
       " {'id': 5, 'nome': 'Laura', 'idade': 33, 'gen': 'F'},\n",
       " {'id': 8, 'nome': 'Simone', 'idade': 18, 'gen': 'T'},\n",
       " {'id': 12, 'nome': 'Marta', 'idade': 45, 'gen': 'F'},\n",
       " {'id': 45, 'nome': 'Jairo', 'idade': 82, 'gen': 'M'},\n",
       " {'id': 13, 'nome': 'Teste', 'idade': 38, 'gen': 'T'}]"
      ]
     },
     "execution_count": 7,
     "metadata": {},
     "output_type": "execute_result"
    }
   ],
   "source": [
    "pessoasRDD = sc.parallelize(pessoas)\n",
    "pessoasRDD.collect()"
   ]
  },
  {
   "cell_type": "code",
   "execution_count": 6,
   "metadata": {},
   "outputs": [
    {
     "data": {
      "text/plain": [
       "[{'id': 1, 'val': 45, 'dat': '12/01/2006'},\n",
       " {'id': 2, 'val': 53, 'dat': '04/06/2009'},\n",
       " {'id': 4, 'val': 345, 'dat': '18/01/2012'},\n",
       " {'id': 5, 'val': 435, 'dat': '12/01/2016'},\n",
       " {'id': 8, 'val': 2003, 'dat': '08/09/2015'},\n",
       " {'id': 12, 'val': 100, 'dat': '12/11/2000'},\n",
       " {'id': 45, 'val': 200, 'dat': '12/01/2006'},\n",
       " {'id': 13, 'val': 99999, 'dat': '12/01/2006'},\n",
       " {'id': 1, 'val': 405, 'dat': '12/03/2006'},\n",
       " {'id': 2, 'val': 503, 'dat': '04/09/2009'},\n",
       " {'id': 4, 'val': 35, 'dat': '01/10/2012'},\n",
       " {'id': 5, 'val': 45, 'dat': '12/12/2016'},\n",
       " {'id': 8, 'val': 23, 'dat': '01/01/2015'},\n",
       " {'id': 12, 'val': 10, 'dat': '02/01/2002'},\n",
       " {'id': 45, 'val': 20, 'dat': '12/12/2006'},\n",
       " {'id': 13, 'val': 99999, 'dat': '12/01/2007'}]"
      ]
     },
     "execution_count": 6,
     "metadata": {},
     "output_type": "execute_result"
    }
   ],
   "source": [
    "pessoasJson = sc.textFile('pessoasval.json')\n",
    "pessoasJsonRDD = pessoasJson.flatMap(lambda x: json.loads(x))\n",
    "pessoasJsonRDD.collect()"
   ]
  },
  {
   "cell_type": "markdown",
   "metadata": {},
   "source": [
    "#### Criando os DataFrames com base nos RDDs definidos"
   ]
  },
  {
   "cell_type": "code",
   "execution_count": 10,
   "metadata": {},
   "outputs": [],
   "source": [
    "pessoasDf = pessoasRDD.toDF()\n",
    "pessoasJsonDf = pessoasJsonRDD.toDF()"
   ]
  },
  {
   "cell_type": "code",
   "execution_count": 13,
   "metadata": {},
   "outputs": [
    {
     "data": {
      "text/plain": [
       "[Row(gen='M', id=1, idade=45, nome='Bob'),\n",
       " Row(gen='F', id=2, idade=43, nome='Gloria'),\n",
       " Row(gen='M', id=4, idade=28, nome='Albert'),\n",
       " Row(gen='F', id=5, idade=33, nome='Laura'),\n",
       " Row(gen='T', id=8, idade=18, nome='Simone')]"
      ]
     },
     "execution_count": 13,
     "metadata": {},
     "output_type": "execute_result"
    }
   ],
   "source": [
    "pessoasDf.head(5)"
   ]
  },
  {
   "cell_type": "code",
   "execution_count": 14,
   "metadata": {},
   "outputs": [
    {
     "data": {
      "text/plain": [
       "[Row(dat='12/01/2006', id=1, val=45),\n",
       " Row(dat='04/06/2009', id=2, val=53),\n",
       " Row(dat='18/01/2012', id=4, val=345),\n",
       " Row(dat='12/01/2016', id=5, val=435),\n",
       " Row(dat='08/09/2015', id=8, val=2003)]"
      ]
     },
     "execution_count": 14,
     "metadata": {},
     "output_type": "execute_result"
    }
   ],
   "source": [
    "pessoasJsonDf.head(5)"
   ]
  },
  {
   "cell_type": "markdown",
   "metadata": {},
   "source": [
    "Validando a estrutura dos DataFrames, ou seja, qual seu schema"
   ]
  },
  {
   "cell_type": "code",
   "execution_count": 15,
   "metadata": {},
   "outputs": [
    {
     "name": "stdout",
     "output_type": "stream",
     "text": [
      "root\n",
      " |-- gen: string (nullable = true)\n",
      " |-- id: long (nullable = true)\n",
      " |-- idade: long (nullable = true)\n",
      " |-- nome: string (nullable = true)\n",
      "\n"
     ]
    }
   ],
   "source": [
    "pessoasDf.printSchema()"
   ]
  },
  {
   "cell_type": "code",
   "execution_count": 16,
   "metadata": {},
   "outputs": [
    {
     "name": "stdout",
     "output_type": "stream",
     "text": [
      "root\n",
      " |-- dat: string (nullable = true)\n",
      " |-- id: long (nullable = true)\n",
      " |-- val: long (nullable = true)\n",
      "\n"
     ]
    }
   ],
   "source": [
    "pessoasJsonDf.printSchema()"
   ]
  },
  {
   "cell_type": "markdown",
   "metadata": {},
   "source": [
    "#### Realizando operações estatísticas nos DataFrames"
   ]
  },
  {
   "cell_type": "code",
   "execution_count": 20,
   "metadata": {},
   "outputs": [
    {
     "name": "stdout",
     "output_type": "stream",
     "text": [
      "Total de itens em Pessoas: 8\n",
      "Total de itens em Pessoas JSON: 16\n"
     ]
    }
   ],
   "source": [
    "totalPessoas = pessoasDf.count()\n",
    "totalPessoasJson = pessoasJsonDf.count()\n",
    "\n",
    "print('Total de itens em Pessoas: {}\\nTotal de itens em Pessoas JSON: {}'.format(totalPessoas, totalPessoasJson))"
   ]
  },
  {
   "cell_type": "markdown",
   "metadata": {},
   "source": [
    "Selecionando valores específicos"
   ]
  },
  {
   "cell_type": "code",
   "execution_count": 23,
   "metadata": {},
   "outputs": [
    {
     "data": {
      "text/plain": [
       "[Row(nome='Teste', idade=38),\n",
       " Row(nome='Laura', idade=33),\n",
       " Row(nome='Marta', idade=45),\n",
       " Row(nome='Jairo', idade=82),\n",
       " Row(nome='Gloria', idade=43),\n",
       " Row(nome='Simone', idade=18),\n",
       " Row(nome='Albert', idade=28),\n",
       " Row(nome='Bob', idade=45)]"
      ]
     },
     "execution_count": 23,
     "metadata": {},
     "output_type": "execute_result"
    }
   ],
   "source": [
    "pessoasDf \\\n",
    "        .select('nome', 'idade') \\\n",
    "        .distinct() \\\n",
    "        .collect()"
   ]
  },
  {
   "cell_type": "markdown",
   "metadata": {},
   "source": [
    "Estatística descritiva sobre uma consulta"
   ]
  },
  {
   "cell_type": "code",
   "execution_count": 24,
   "metadata": {},
   "outputs": [
    {
     "name": "stdout",
     "output_type": "stream",
     "text": [
      "+-------+------+------------------+\n",
      "|summary|  nome|             idade|\n",
      "+-------+------+------------------+\n",
      "|  count|     8|                 8|\n",
      "|   mean|  null|              41.5|\n",
      "| stddev|  null|18.845234335047607|\n",
      "|    min|Albert|                18|\n",
      "|    max| Teste|                82|\n",
      "+-------+------+------------------+\n",
      "\n"
     ]
    }
   ],
   "source": [
    "pessoasDf \\\n",
    "        .select('nome', 'idade') \\\n",
    "        .describe() \\\n",
    "        .show()"
   ]
  },
  {
   "cell_type": "code",
   "execution_count": 32,
   "metadata": {},
   "outputs": [
    {
     "data": {
      "text/plain": [
       "[Row(id=5),\n",
       " Row(id=1),\n",
       " Row(id=12),\n",
       " Row(id=8),\n",
       " Row(id=2),\n",
       " Row(id=4),\n",
       " Row(id=13),\n",
       " Row(id=45)]"
      ]
     },
     "execution_count": 32,
     "metadata": {},
     "output_type": "execute_result"
    }
   ],
   "source": [
    "pessoasJsonDf \\\n",
    "            .select('id') \\\n",
    "            .distinct() \\\n",
    "            .collect()"
   ]
  },
  {
   "cell_type": "code",
   "execution_count": 33,
   "metadata": {},
   "outputs": [
    {
     "name": "stdout",
     "output_type": "stream",
     "text": [
      "+---------+---+---+---+\n",
      "|idade_gen|  F|  M|  T|\n",
      "+---------+---+---+---+\n",
      "|       28|  0|  1|  0|\n",
      "|       38|  0|  0|  1|\n",
      "|       33|  1|  0|  0|\n",
      "|       45|  1|  1|  0|\n",
      "|       18|  0|  0|  1|\n",
      "|       43|  1|  0|  0|\n",
      "|       82|  0|  1|  0|\n",
      "+---------+---+---+---+\n",
      "\n"
     ]
    }
   ],
   "source": [
    "pessoasDf \\\n",
    "        .crosstab('idade', 'gen') \\\n",
    "        .show()"
   ]
  },
  {
   "cell_type": "code",
   "execution_count": 34,
   "metadata": {},
   "outputs": [
    {
     "name": "stdout",
     "output_type": "stream",
     "text": [
      "+----------+---+---+---+---+----+---+---+---+---+---+---+---+---+-----+\n",
      "|   dat_val| 10|100| 20|200|2003| 23|345| 35|405|435| 45|503| 53|99999|\n",
      "+----------+---+---+---+---+----+---+---+---+---+---+---+---+---+-----+\n",
      "|18/01/2012|  0|  0|  0|  0|   0|  0|  1|  0|  0|  0|  0|  0|  0|    0|\n",
      "|01/10/2012|  0|  0|  0|  0|   0|  0|  0|  1|  0|  0|  0|  0|  0|    0|\n",
      "|12/01/2007|  0|  0|  0|  0|   0|  0|  0|  0|  0|  0|  0|  0|  0|    1|\n",
      "|04/06/2009|  0|  0|  0|  0|   0|  0|  0|  0|  0|  0|  0|  0|  1|    0|\n",
      "|02/01/2002|  1|  0|  0|  0|   0|  0|  0|  0|  0|  0|  0|  0|  0|    0|\n",
      "|04/09/2009|  0|  0|  0|  0|   0|  0|  0|  0|  0|  0|  0|  1|  0|    0|\n",
      "|08/09/2015|  0|  0|  0|  0|   1|  0|  0|  0|  0|  0|  0|  0|  0|    0|\n",
      "|12/03/2006|  0|  0|  0|  0|   0|  0|  0|  0|  1|  0|  0|  0|  0|    0|\n",
      "|12/12/2006|  0|  0|  1|  0|   0|  0|  0|  0|  0|  0|  0|  0|  0|    0|\n",
      "|12/01/2016|  0|  0|  0|  0|   0|  0|  0|  0|  0|  1|  0|  0|  0|    0|\n",
      "|01/01/2015|  0|  0|  0|  0|   0|  1|  0|  0|  0|  0|  0|  0|  0|    0|\n",
      "|12/12/2016|  0|  0|  0|  0|   0|  0|  0|  0|  0|  0|  1|  0|  0|    0|\n",
      "|12/01/2006|  0|  0|  0|  1|   0|  0|  0|  0|  0|  0|  1|  0|  0|    1|\n",
      "|12/11/2000|  0|  1|  0|  0|   0|  0|  0|  0|  0|  0|  0|  0|  0|    0|\n",
      "+----------+---+---+---+---+----+---+---+---+---+---+---+---+---+-----+\n",
      "\n"
     ]
    }
   ],
   "source": [
    "pessoasJsonDf \\\n",
    "        .crosstab('dat', 'val') \\\n",
    "        .show()"
   ]
  },
  {
   "cell_type": "markdown",
   "metadata": {},
   "source": [
    "Realizando filtros no DataFrame"
   ]
  },
  {
   "cell_type": "code",
   "execution_count": 40,
   "metadata": {},
   "outputs": [
    {
     "name": "stdout",
     "output_type": "stream",
     "text": [
      "+---+---+-----+-----+\n",
      "|gen| id|idade| nome|\n",
      "+---+---+-----+-----+\n",
      "|  M|  1|   45|  Bob|\n",
      "|  M| 45|   82|Jairo|\n",
      "+---+---+-----+-----+\n",
      "\n"
     ]
    }
   ],
   "source": [
    "pessoasDf \\\n",
    "        .filter((pessoasDf.gen == 'M') & (pessoasDf.idade > 30)) \\\n",
    "        .show()"
   ]
  },
  {
   "cell_type": "code",
   "execution_count": 66,
   "metadata": {},
   "outputs": [
    {
     "name": "stdout",
     "output_type": "stream",
     "text": [
      "+----------+---+-----+\n",
      "|       dat| id|  val|\n",
      "+----------+---+-----+\n",
      "|18/01/2012|  4|  345|\n",
      "|12/01/2016|  5|  435|\n",
      "|08/09/2015|  8| 2003|\n",
      "|12/01/2006| 45|  200|\n",
      "|12/01/2006| 13|99999|\n",
      "|12/03/2006|  1|  405|\n",
      "|04/09/2009|  2|  503|\n",
      "|12/01/2007| 13|99999|\n",
      "+----------+---+-----+\n",
      "\n"
     ]
    }
   ],
   "source": [
    "pessoasJsonDf \\\n",
    "        .filter((pessoasJsonDf.val > 100) & (pessoasJsonDf.id < 100)) \\\n",
    "        .show()"
   ]
  },
  {
   "cell_type": "markdown",
   "metadata": {},
   "source": [
    "Utilizando agregações com `agg` e `groupBy`"
   ]
  },
  {
   "cell_type": "code",
   "execution_count": 91,
   "metadata": {},
   "outputs": [
    {
     "name": "stdout",
     "output_type": "stream",
     "text": [
      "+----+--------+\n",
      "| Ano|sum(val)|\n",
      "+----+--------+\n",
      "|2016|     480|\n",
      "|2015|    2026|\n",
      "|2012|     380|\n",
      "|2009|     556|\n",
      "|2007|   99999|\n",
      "|2006|  100669|\n",
      "|2002|      10|\n",
      "|2000|     100|\n",
      "+----+--------+\n",
      "\n"
     ]
    }
   ],
   "source": [
    "# Criando uma coluna de Ano a partir da coluna de data\n",
    "# e agrupando esta coluna pelo somatório da coluna Val\n",
    "# e ordenando por ano em ordem decrescente\n",
    "\n",
    "pessoasValPorAno = pessoasJsonDf \\\n",
    "                    .withColumn('Ano', pessoasJsonDf.dat.substr(7, 11)) \\\n",
    "                    .groupBy('Ano') \\\n",
    "                    .agg({'val': 'sum'}) \\\n",
    "                    .orderBy('Ano', ascending = False)\n",
    "pessoasValPorAno.show()"
   ]
  }
 ],
 "metadata": {
  "kernelspec": {
   "display_name": "Python 3",
   "language": "python",
   "name": "python3"
  },
  "language_info": {
   "codemirror_mode": {
    "name": "ipython",
    "version": 3
   },
   "file_extension": ".py",
   "mimetype": "text/x-python",
   "name": "python",
   "nbconvert_exporter": "python",
   "pygments_lexer": "ipython3",
   "version": "3.7.4"
  }
 },
 "nbformat": 4,
 "nbformat_minor": 2
}
