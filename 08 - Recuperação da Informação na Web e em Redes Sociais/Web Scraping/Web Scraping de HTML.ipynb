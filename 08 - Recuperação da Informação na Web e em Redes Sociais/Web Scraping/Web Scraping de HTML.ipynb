{
 "cells": [
  {
   "cell_type": "markdown",
   "metadata": {},
   "source": [
    "# Pós-Graduação - Ciência de Dados & Big Data"
   ]
  },
  {
   "cell_type": "markdown",
   "metadata": {},
   "source": [
    "## Pontifícia Universidade Católica de Minas Gerais (PUC-MG)"
   ]
  },
  {
   "cell_type": "markdown",
   "metadata": {},
   "source": [
    "### Aluno: Victor Hugo Negrisoli"
   ]
  },
  {
   "cell_type": "markdown",
   "metadata": {},
   "source": [
    "### Web Scraping de HTML"
   ]
  },
  {
   "cell_type": "markdown",
   "metadata": {},
   "source": [
    "#### Extraindo dados relacionados ao filme Justice League: Director's Cut do site Cosmic Book News"
   ]
  },
  {
   "cell_type": "markdown",
   "metadata": {},
   "source": [
    "#### Importando as bibliotecas necessárias"
   ]
  },
  {
   "cell_type": "code",
   "execution_count": 5,
   "metadata": {},
   "outputs": [],
   "source": [
    "from lxml import html\n",
    "import requests"
   ]
  },
  {
   "cell_type": "markdown",
   "metadata": {},
   "source": [
    "#### Definindo a função que retornará notícias relacionadas ao filme desejado e o link para acessar a notícia"
   ]
  },
  {
   "cell_type": "code",
   "execution_count": 105,
   "metadata": {},
   "outputs": [],
   "source": [
    "def buscar_palavras_chave_noticias(noticias):\n",
    "    palavras_chave = ['Zack', 'Snyder', 'Justice League', 'Snyder Cut']\n",
    "    i = 0\n",
    "    for palavra_chave in palavras_chave:\n",
    "        for noticia in noticias['noticias']:\n",
    "            if (palavra_chave in noticia):\n",
    "                url = noticias['url'][i]\n",
    "                return {\n",
    "                    'noticia': noticia,\n",
    "                    'url': url,\n",
    "                    'url_completa': site_url + url\n",
    "                }\n",
    "            i = i + 1\n",
    "    return 'Não há notícias sobre o assunto desejado.'"
   ]
  },
  {
   "cell_type": "markdown",
   "metadata": {},
   "source": [
    "#### Agora, iremos criar as configurações para extrair a página inicial"
   ]
  },
  {
   "cell_type": "code",
   "execution_count": 110,
   "metadata": {},
   "outputs": [],
   "source": [
    "site_url = 'https://cosmicbook.news'\n",
    "pagina = requests.get(site_url)\n",
    "arvore = html.fromstring(pagina.content)"
   ]
  },
  {
   "cell_type": "code",
   "execution_count": 111,
   "metadata": {},
   "outputs": [
    {
     "data": {
      "text/plain": [
       "[<Element div at 0x2eda3473868>,\n",
       " <Element div at 0x2eda30803b8>,\n",
       " <Element div at 0x2eda3377958>]"
      ]
     },
     "execution_count": 111,
     "metadata": {},
     "output_type": "execute_result"
    }
   ],
   "source": [
    "arvore.find_class('featured-front')"
   ]
  },
  {
   "cell_type": "markdown",
   "metadata": {},
   "source": [
    "##### Seguindo a estrutura do HTML do Site, as notícias ficam em div class=\"featured-front\" dentro de uma estrutura h2/a"
   ]
  },
  {
   "cell_type": "code",
   "execution_count": 112,
   "metadata": {},
   "outputs": [
    {
     "data": {
      "text/plain": [
       "{'noticias': ['WandaVision Footage, Spoilers Leak Online',\n",
       "  \"Zack Snyder's Justice League Gets Release Date and Posters\",\n",
       "  'Deadpool 3 Had Wolverine Confirms Ryan Reynolds'],\n",
       " 'url': ['/wandavision-footage-spoilers-leak ',\n",
       "  '/zack-snyder-justice-league-release-date-posters ',\n",
       "  '/deadpool-3-wolverine-ryan-reynolds ']}"
      ]
     },
     "execution_count": 112,
     "metadata": {},
     "output_type": "execute_result"
    }
   ],
   "source": [
    "titulos = arvore.xpath('//div[@class=\"featured-front\"]/h2/a/text()')\n",
    "link_noticias = arvore.xpath('//div[@class=\"featured-front\"]/h2/a/@href')\n",
    "noticias = {\n",
    "    \"noticias\": titulos,\n",
    "    \"url\": link_noticias\n",
    "}\n",
    "\n",
    "noticias"
   ]
  },
  {
   "cell_type": "markdown",
   "metadata": {},
   "source": [
    "#### Chamando a função de busca para verficiar se encontramos os resultados na árvore do HTML"
   ]
  },
  {
   "cell_type": "code",
   "execution_count": 115,
   "metadata": {},
   "outputs": [],
   "source": [
    "resultado = buscar_palavras_chave_noticias(noticias)"
   ]
  },
  {
   "cell_type": "code",
   "execution_count": 116,
   "metadata": {},
   "outputs": [
    {
     "data": {
      "text/plain": [
       "{'noticia': \"Zack Snyder's Justice League Gets Release Date and Posters\",\n",
       " 'url': '/zack-snyder-justice-league-release-date-posters ',\n",
       " 'url_completa': 'https://cosmicbook.news/zack-snyder-justice-league-release-date-posters '}"
      ]
     },
     "execution_count": 116,
     "metadata": {},
     "output_type": "execute_result"
    }
   ],
   "source": [
    "resultado"
   ]
  }
 ],
 "metadata": {
  "kernelspec": {
   "display_name": "Python 3",
   "language": "python",
   "name": "python3"
  },
  "language_info": {
   "codemirror_mode": {
    "name": "ipython",
    "version": 3
   },
   "file_extension": ".py",
   "mimetype": "text/x-python",
   "name": "python",
   "nbconvert_exporter": "python",
   "pygments_lexer": "ipython3",
   "version": "3.7.4"
  }
 },
 "nbformat": 4,
 "nbformat_minor": 2
}
