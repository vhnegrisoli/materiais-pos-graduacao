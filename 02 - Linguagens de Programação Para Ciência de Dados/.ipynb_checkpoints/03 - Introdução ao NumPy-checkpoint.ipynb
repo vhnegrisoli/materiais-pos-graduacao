{
 "cells": [
  {
   "cell_type": "markdown",
   "metadata": {},
   "source": [
    "## Pós-Graduação: Especialização em Data Science & Big Data"
   ]
  },
  {
   "cell_type": "markdown",
   "metadata": {},
   "source": [
    "### Pontifícia Universidade Católica de Minas Gerais (PUC-MG)"
   ]
  },
  {
   "cell_type": "markdown",
   "metadata": {},
   "source": [
    "#### Victor Hugo Negrisoli - Linguagens de Programação Para Ciência de Dados"
   ]
  },
  {
   "cell_type": "markdown",
   "metadata": {},
   "source": [
    "#### Criação de ndarrays ou Arrays N-Dimensionais "
   ]
  },
  {
   "cell_type": "code",
   "execution_count": 1,
   "metadata": {},
   "outputs": [],
   "source": [
    "import numpy as np"
   ]
  },
  {
   "cell_type": "markdown",
   "metadata": {},
   "source": [
    "##### Arrays de 1 dimensão"
   ]
  },
  {
   "cell_type": "code",
   "execution_count": 3,
   "metadata": {},
   "outputs": [
    {
     "name": "stdout",
     "output_type": "stream",
     "text": [
      "[1 2 3 4 5]\n",
      "<class 'numpy.ndarray'>\n"
     ]
    }
   ],
   "source": [
    "# Criando um array simples de 1 dimensão (vetor)\n",
    "\n",
    "arr_1 = np.array([1, 2, 3, 4, 5])\n",
    "print(arr_1)\n",
    "print(type(arr_1))"
   ]
  },
  {
   "cell_type": "code",
   "execution_count": 7,
   "metadata": {},
   "outputs": [
    {
     "name": "stdout",
     "output_type": "stream",
     "text": [
      "int32\n",
      "<U1\n"
     ]
    }
   ],
   "source": [
    "# Verificando o tipo de dados do array\n",
    "\n",
    "print(arr_1.dtype)\n",
    "\n",
    "arr_2 = np.array([\"1\", \"2\", \"3\"])\n",
    "\n",
    "print(arr_2.dtype)"
   ]
  },
  {
   "cell_type": "code",
   "execution_count": 9,
   "metadata": {},
   "outputs": [
    {
     "name": "stdout",
     "output_type": "stream",
     "text": [
      "[1. 2. 3. 4. 5.]\n",
      "float64\n",
      "['1' '2' '3' '4' '5']\n",
      "<U1\n"
     ]
    }
   ],
   "source": [
    "# Definindo um tipo de dado ao criar o array\n",
    "\n",
    "# Passando um array de int e criando um np array como float\n",
    "\n",
    "arr_3 = np.array([1, 2, 3, 4, 5], dtype = float)\n",
    "print(arr_3)\n",
    "print(arr_3.dtype)\n",
    "\n",
    "# Passando um array de int e criando um np array como str\n",
    "\n",
    "arr_4 = np.array([1, 2, 3, 4, 5], dtype = str)\n",
    "print(arr_4)\n",
    "print(arr_4.dtype)"
   ]
  },
  {
   "cell_type": "code",
   "execution_count": 14,
   "metadata": {},
   "outputs": [
    {
     "name": "stdout",
     "output_type": "stream",
     "text": [
      "['1' '2' '3.0' 'False']\n",
      "<U5\n",
      "[1. 2. 3. 0. 1.]\n",
      "float64\n",
      "[False  True]\n",
      "bool\n"
     ]
    }
   ],
   "source": [
    "# Precedência de tipos: str > float > int >  bool\n",
    "\n",
    "arr_multi = np.array(['1', 2, 3.0, False])\n",
    "print(arr_multi)\n",
    "print(arr_multi.dtype)\n",
    "\n",
    "arr_multi_2 = np.array([1, 2, 3.0, False, True])\n",
    "print(arr_multi_2)\n",
    "print(arr_multi_2.dtype)\n",
    "\n",
    "arr_multi_bool = np.array([False, True])\n",
    "print(arr_multi_bool)\n",
    "print(arr_multi_bool.dtype)"
   ]
  },
  {
   "cell_type": "markdown",
   "metadata": {},
   "source": [
    "##### Criando arrays de 2 dimensões (matrizes)"
   ]
  },
  {
   "cell_type": "code",
   "execution_count": 17,
   "metadata": {},
   "outputs": [
    {
     "name": "stdout",
     "output_type": "stream",
     "text": [
      "[[1 2 3]\n",
      " [4 5 6]\n",
      " [7 8 9]]\n",
      "<class 'numpy.ndarray'>\n"
     ]
    }
   ],
   "source": [
    "# Recebe uma lista de listas\n",
    "\n",
    "matriz = np.array([[1, 2, 3], [4, 5, 6], [7, 8, 9]])\n",
    "print(matriz)\n",
    "print(type(matriz))"
   ]
  },
  {
   "cell_type": "code",
   "execution_count": 20,
   "metadata": {},
   "outputs": [
    {
     "name": "stdout",
     "output_type": "stream",
     "text": [
      "[[[1 2 3]\n",
      "  [4 5 6]\n",
      "  [7 8 9]]\n",
      "\n",
      " [[1 2 3]\n",
      "  [4 5 6]\n",
      "  [7 8 9]]\n",
      "\n",
      " [[1 2 3]\n",
      "  [4 5 6]\n",
      "  [7 8 9]]]\n",
      "<class 'numpy.ndarray'>\n"
     ]
    }
   ],
   "source": [
    "# Recebe uma lista que contem uma lista de listas, e assim continuamente\n",
    "\n",
    "array_3d = np.array([[[1, 2, 3], [4, 5, 6], [7, 8, 9]], [[1, 2, 3], [4, 5, 6], [7, 8, 9]], [[1, 2, 3], [4, 5, 6], [7, 8, 9]]])\n",
    "print(array_3d)\n",
    "print(type(array_3d))"
   ]
  },
  {
   "cell_type": "markdown",
   "metadata": {},
   "source": [
    "##### Criar arrays com zeros()"
   ]
  },
  {
   "cell_type": "code",
   "execution_count": 24,
   "metadata": {},
   "outputs": [
    {
     "name": "stdout",
     "output_type": "stream",
     "text": [
      "[0. 0. 0. 0. 0.]\n"
     ]
    }
   ],
   "source": [
    "# A função zeros() criará um np array conforme as especificações fornecidas como parâmetro\n",
    "\n",
    "# Uma dimensão\n",
    "\n",
    "zeros_1d = np.zeros(5)\n",
    "print(zeros_1d)"
   ]
  },
  {
   "cell_type": "code",
   "execution_count": 33,
   "metadata": {},
   "outputs": [
    {
     "name": "stdout",
     "output_type": "stream",
     "text": [
      "[[0. 0. 0. 0. 0.]\n",
      " [0. 0. 0. 0. 0.]\n",
      " [0. 0. 0. 0. 0.]\n",
      " [0. 0. 0. 0. 0.]\n",
      " [0. 0. 0. 0. 0.]]\n"
     ]
    }
   ],
   "source": [
    "# Duas dimensões\n",
    "\n",
    "zeros_2d = np.zeros((5, 5)) # Cria uma matriz 5x5\n",
    "print(zeros_2d)"
   ]
  },
  {
   "cell_type": "code",
   "execution_count": 35,
   "metadata": {},
   "outputs": [
    {
     "name": "stdout",
     "output_type": "stream",
     "text": [
      "[['' '' '' '' '']\n",
      " ['' '' '' '' '']\n",
      " ['' '' '' '' '']\n",
      " ['' '' '' '' '']\n",
      " ['' '' '' '' '']]\n"
     ]
    }
   ],
   "source": [
    "# Duas dimensões especificando o tipo de dados\n",
    "\n",
    "zeros_2d_2 = np.zeros((5, 5), dtype = str) # Cria uma matriz 5x5 de strings\n",
    "print(zeros_2d_2)"
   ]
  },
  {
   "cell_type": "code",
   "execution_count": 37,
   "metadata": {},
   "outputs": [
    {
     "name": "stdout",
     "output_type": "stream",
     "text": [
      "[[[0 0 0 0 0]\n",
      "  [0 0 0 0 0]\n",
      "  [0 0 0 0 0]\n",
      "  [0 0 0 0 0]\n",
      "  [0 0 0 0 0]]\n",
      "\n",
      " [[0 0 0 0 0]\n",
      "  [0 0 0 0 0]\n",
      "  [0 0 0 0 0]\n",
      "  [0 0 0 0 0]\n",
      "  [0 0 0 0 0]]\n",
      "\n",
      " [[0 0 0 0 0]\n",
      "  [0 0 0 0 0]\n",
      "  [0 0 0 0 0]\n",
      "  [0 0 0 0 0]\n",
      "  [0 0 0 0 0]]\n",
      "\n",
      " [[0 0 0 0 0]\n",
      "  [0 0 0 0 0]\n",
      "  [0 0 0 0 0]\n",
      "  [0 0 0 0 0]\n",
      "  [0 0 0 0 0]]\n",
      "\n",
      " [[0 0 0 0 0]\n",
      "  [0 0 0 0 0]\n",
      "  [0 0 0 0 0]\n",
      "  [0 0 0 0 0]\n",
      "  [0 0 0 0 0]]]\n"
     ]
    }
   ],
   "source": [
    "# Três dimensões\n",
    "\n",
    "zeros_3d = np.zeros((5, 5, 5), dtype = int)\n",
    "print(zeros_3d)"
   ]
  },
  {
   "cell_type": "markdown",
   "metadata": {},
   "source": [
    "##### Função ones()"
   ]
  },
  {
   "cell_type": "code",
   "execution_count": 39,
   "metadata": {},
   "outputs": [
    {
     "name": "stdout",
     "output_type": "stream",
     "text": [
      "[1. 1. 1. 1. 1.]\n"
     ]
    }
   ],
   "source": [
    "# Exatamente igual à função zeros, porém, cria com valor 1\n",
    "\n",
    "ones_1d = np.ones(5)\n",
    "print(ones_1d)"
   ]
  },
  {
   "cell_type": "code",
   "execution_count": 41,
   "metadata": {},
   "outputs": [
    {
     "name": "stdout",
     "output_type": "stream",
     "text": [
      "[[1 1 1 1 1]\n",
      " [1 1 1 1 1]\n",
      " [1 1 1 1 1]\n",
      " [1 1 1 1 1]\n",
      " [1 1 1 1 1]]\n"
     ]
    }
   ],
   "source": [
    "# Duas dimensões\n",
    "\n",
    "ones_2d = np.ones((5, 5), dtype = int)\n",
    "print(ones_2d)"
   ]
  },
  {
   "cell_type": "code",
   "execution_count": 42,
   "metadata": {},
   "outputs": [
    {
     "name": "stdout",
     "output_type": "stream",
     "text": [
      "[[[1 1 1 1 1]\n",
      "  [1 1 1 1 1]\n",
      "  [1 1 1 1 1]\n",
      "  [1 1 1 1 1]\n",
      "  [1 1 1 1 1]]\n",
      "\n",
      " [[1 1 1 1 1]\n",
      "  [1 1 1 1 1]\n",
      "  [1 1 1 1 1]\n",
      "  [1 1 1 1 1]\n",
      "  [1 1 1 1 1]]\n",
      "\n",
      " [[1 1 1 1 1]\n",
      "  [1 1 1 1 1]\n",
      "  [1 1 1 1 1]\n",
      "  [1 1 1 1 1]\n",
      "  [1 1 1 1 1]]\n",
      "\n",
      " [[1 1 1 1 1]\n",
      "  [1 1 1 1 1]\n",
      "  [1 1 1 1 1]\n",
      "  [1 1 1 1 1]\n",
      "  [1 1 1 1 1]]\n",
      "\n",
      " [[1 1 1 1 1]\n",
      "  [1 1 1 1 1]\n",
      "  [1 1 1 1 1]\n",
      "  [1 1 1 1 1]\n",
      "  [1 1 1 1 1]]]\n"
     ]
    }
   ],
   "source": [
    "# Três dimensões\n",
    "\n",
    "ones_3d = np.ones((5, 5, 5), dtype = int)\n",
    "print(ones_3d)"
   ]
  },
  {
   "cell_type": "markdown",
   "metadata": {},
   "source": [
    "##### Arrays preenchidos com uma faixa de valores - arange()"
   ]
  },
  {
   "cell_type": "code",
   "execution_count": 46,
   "metadata": {},
   "outputs": [
    {
     "name": "stdout",
     "output_type": "stream",
     "text": [
      "[0 1 2 3 4]\n"
     ]
    }
   ],
   "source": [
    "# Cria um np array com valores de 0 a 4\n",
    "\n",
    "valores_1 = np.arange(5)\n",
    "print(valores_1)"
   ]
  },
  {
   "cell_type": "code",
   "execution_count": 47,
   "metadata": {},
   "outputs": [
    {
     "name": "stdout",
     "output_type": "stream",
     "text": [
      "[ 5  6  7  8  9 10 11 12 13 14 15 16 17 18 19 20 21 22 23 24]\n"
     ]
    }
   ],
   "source": [
    "# Cria um np array com valores de 5 a 24\n",
    "\n",
    "valores_2 = np.arange(5, 25)\n",
    "print(valores_2)"
   ]
  },
  {
   "cell_type": "code",
   "execution_count": 53,
   "metadata": {},
   "outputs": [
    {
     "name": "stdout",
     "output_type": "stream",
     "text": [
      "[ 5  8 11 14 17 20 23 26 29 32 35 38 41 44 47]\n"
     ]
    }
   ],
   "source": [
    "# Cria um np array com valores de 5 a 49 de 3 em 3\n",
    "\n",
    "valores_3 = np.arange(5, 50, 3)\n",
    "print(valores_3)\n"
   ]
  },
  {
   "cell_type": "markdown",
   "metadata": {},
   "source": [
    "##### Criando arrays com espaços iguais usando linspace()"
   ]
  },
  {
   "cell_type": "code",
   "execution_count": 52,
   "metadata": {},
   "outputs": [
    {
     "name": "stdout",
     "output_type": "stream",
     "text": [
      "[ 0. 10.]\n"
     ]
    }
   ],
   "source": [
    "# Valores de 0 a 10 espaçados por 2\n",
    "\n",
    "iguais_1 = np.linspace(0, 10, 2)\n",
    "print(iguais_1)"
   ]
  },
  {
   "cell_type": "code",
   "execution_count": 56,
   "metadata": {},
   "outputs": [
    {
     "name": "stdout",
     "output_type": "stream",
     "text": [
      "[  0   7  14  21  28  35  42  50  57  64  71  78  85  92 100]\n"
     ]
    }
   ],
   "source": [
    "# Valores de 0 a 100 espaçados por 15\n",
    "\n",
    "iguais_2 = np.linspace(0, 100, 15, dtype = int)\n",
    "print(iguais_2)"
   ]
  },
  {
   "cell_type": "code",
   "execution_count": 57,
   "metadata": {},
   "outputs": [
    {
     "name": "stdout",
     "output_type": "stream",
     "text": [
      "[   0   20   40   61   81  102  122  142  163  183  204  224  244  265\n",
      "  285  306  326  346  367  387  408  428  448  469  489  510  530  551\n",
      "  571  591  612  632  653  673  693  714  734  755  775  795  816  836\n",
      "  857  877  897  918  938  959  979 1000]\n"
     ]
    }
   ],
   "source": [
    "# Utilizando o valor padrão para elementos não informados, o padrão é 50\n",
    "\n",
    "iguais_3 = np.linspace(0, 1000, dtype = int)\n",
    "print(iguais_3)"
   ]
  },
  {
   "cell_type": "code",
   "execution_count": 59,
   "metadata": {},
   "outputs": [
    {
     "name": "stdout",
     "output_type": "stream",
     "text": [
      "[   0   20   40   61   81  102  122  142  163  183  204  224  244  265\n",
      "  285  306  326  346  367  387  408  428  448  469  489  510  530  551\n",
      "  571  591  612  632  653  673  693  714  734  755  775  795  816  836\n",
      "  857  877  897  918  938  959  979 1000]\n",
      "[  0  20  40  60  80 100 120 140 160 180 200 220 240 260 280 300 320 340\n",
      " 360 380 400 420 440 460 480 500 520 540 560 580 600 620 640 660 680 700\n",
      " 720 740 760 780 800 820 840 860 880 900 920 940 960 980]\n"
     ]
    }
   ],
   "source": [
    "# Ao utilizar o parâmetro endpoint, irá informar se é pra incluir o último valor\n",
    "\n",
    "iguais_endpoint_true = np.linspace(0, 1000, dtype = int, endpoint = True)\n",
    "print(iguais_endpoint_true)\n",
    "\n",
    "iguais_endpoint_false = np.linspace(0, 1000, dtype = int, endpoint = False)\n",
    "print(iguais_endpoint_false)"
   ]
  },
  {
   "cell_type": "markdown",
   "metadata": {},
   "source": [
    "##### Função full()"
   ]
  },
  {
   "cell_type": "code",
   "execution_count": 60,
   "metadata": {},
   "outputs": [
    {
     "name": "stdout",
     "output_type": "stream",
     "text": [
      "[5 5 5 5 5 5 5 5 5 5]\n"
     ]
    }
   ],
   "source": [
    "# Criando um array preenchendo completamente com um valor informado\n",
    "\n",
    "arr_full_01 = np.full(10, 5)\n",
    "print(arr_full_01)"
   ]
  },
  {
   "cell_type": "code",
   "execution_count": 63,
   "metadata": {},
   "outputs": [
    {
     "name": "stdout",
     "output_type": "stream",
     "text": [
      "[[5 5 5 5 5 5 5 5 5 5]\n",
      " [5 5 5 5 5 5 5 5 5 5]\n",
      " [5 5 5 5 5 5 5 5 5 5]\n",
      " [5 5 5 5 5 5 5 5 5 5]\n",
      " [5 5 5 5 5 5 5 5 5 5]\n",
      " [5 5 5 5 5 5 5 5 5 5]\n",
      " [5 5 5 5 5 5 5 5 5 5]\n",
      " [5 5 5 5 5 5 5 5 5 5]\n",
      " [5 5 5 5 5 5 5 5 5 5]\n",
      " [5 5 5 5 5 5 5 5 5 5]]\n"
     ]
    }
   ],
   "source": [
    "# Array de duas dimensões - Matriz 10x10 contendo apenas números 5\n",
    "\n",
    "arr_full_02 = np.full((10, 10), 5)\n",
    "print(arr_full_02)"
   ]
  },
  {
   "cell_type": "code",
   "execution_count": 67,
   "metadata": {},
   "outputs": [
    {
     "name": "stdout",
     "output_type": "stream",
     "text": [
      "[[[5 5]\n",
      "  [5 5]]\n",
      "\n",
      " [[5 5]\n",
      "  [5 5]]\n",
      "\n",
      " [[5 5]\n",
      "  [5 5]]]\n"
     ]
    }
   ],
   "source": [
    "# Array de três dimensões contendo o número 5\n",
    "\n",
    "arr_full_03 = np.full((3, 2, 2), 5)\n",
    "print(arr_full_03)"
   ]
  },
  {
   "cell_type": "markdown",
   "metadata": {},
   "source": []
  },
  {
   "cell_type": "markdown",
   "metadata": {},
   "source": [
    "##### Matriz identidade com a função eye()"
   ]
  },
  {
   "cell_type": "code",
   "execution_count": 69,
   "metadata": {},
   "outputs": [
    {
     "name": "stdout",
     "output_type": "stream",
     "text": [
      "[[1 0 0 0 0]\n",
      " [0 1 0 0 0]\n",
      " [0 0 1 0 0]\n",
      " [0 0 0 1 0]\n",
      " [0 0 0 0 1]]\n"
     ]
    }
   ],
   "source": [
    "# Cria uma matriz identidade 5x5\n",
    "\n",
    "identidade_01 = np.eye(5, dtype = int)\n",
    "print(identidade_01)"
   ]
  },
  {
   "cell_type": "markdown",
   "metadata": {},
   "source": [
    "##### Criando um array com números aleatórios"
   ]
  },
  {
   "cell_type": "code",
   "execution_count": 74,
   "metadata": {},
   "outputs": [
    {
     "name": "stdout",
     "output_type": "stream",
     "text": [
      "2\n"
     ]
    }
   ],
   "source": [
    "# Criando um único número aleatório entre 0 a 10\n",
    "\n",
    "random_01 = np.random.randint(10)\n",
    "print(random_01)"
   ]
  },
  {
   "cell_type": "code",
   "execution_count": 77,
   "metadata": {},
   "outputs": [
    {
     "name": "stdout",
     "output_type": "stream",
     "text": [
      "[87 88 26 65 84 92 47 68 67 96]\n"
     ]
    }
   ],
   "source": [
    "# Criando um array entre 0 e 100 de 10 elementos\n",
    "\n",
    "random_02 = np.random.randint(0, 100, 10)\n",
    "print(random_02)"
   ]
  },
  {
   "cell_type": "code",
   "execution_count": 78,
   "metadata": {},
   "outputs": [
    {
     "name": "stdout",
     "output_type": "stream",
     "text": [
      "[[62 35 80  3 95 54 56 50 68 69]\n",
      " [53 17 19 37 23 43 76 51  9 96]\n",
      " [16  9  5 29  3 40 66 46 52 68]\n",
      " [31 77 27  8 42 33 71 99  8 33]\n",
      " [96  3 62 84 12 26 11 53 48 53]\n",
      " [83 98 96 25 79  3 97 59 45 78]\n",
      " [ 6 19 76  6 17 41 69 38 54 71]\n",
      " [ 9 24 91 79 92 23  3 87  9 29]\n",
      " [85 46 74 21 56 58 30 74 26 55]\n",
      " [59 42 32 16 93 83 84 93 76 35]]\n"
     ]
    }
   ],
   "source": [
    "# Criando uma matriz 10x10 entre 0 e 100\n",
    "\n",
    "random_02 = np.random.randint(0, 100, (10, 10))\n",
    "print(random_02)"
   ]
  },
  {
   "cell_type": "code",
   "execution_count": 92,
   "metadata": {},
   "outputs": [
    {
     "name": "stdout",
     "output_type": "stream",
     "text": [
      "[[[73 41 93 75 42]\n",
      "  [47 24  9 99 76]\n",
      "  [64 95  3 30 50]\n",
      "  [73  6 20 18  8]\n",
      "  [46 91 16 37 28]]\n",
      "\n",
      " [[38 76 26 43 88]\n",
      "  [11  5 66 49 21]\n",
      "  [31 14 57 21 17]\n",
      "  [41  4 70 82 29]\n",
      "  [88 16 71 52 32]]\n",
      "\n",
      " [[60 71 88 85 81]\n",
      "  [26 20 23 54 39]\n",
      "  [56 63 60  6 86]\n",
      "  [78 10 47 69 21]\n",
      "  [68 64 80  1 50]]]\n"
     ]
    }
   ],
   "source": [
    "# Criando um array de 3 dimensões entre 0 e 100\n",
    "\n",
    "random_03 = np.random.randint(0, 100, (3, 5, 5))\n",
    "print(random_03)"
   ]
  },
  {
   "cell_type": "code",
   "execution_count": 93,
   "metadata": {},
   "outputs": [
    {
     "name": "stdout",
     "output_type": "stream",
     "text": [
      "[0.91813266 0.35833904 0.58954582 0.86876728 0.27980592 0.28053476\n",
      " 0.12617974 0.91506902 0.71157982 0.56627869]\n"
     ]
    }
   ],
   "source": [
    "# Criando 10 elementos aleatórios entre 0 e 1\n",
    "\n",
    "random_04 = np.random.random(10)\n",
    "print(random_04)"
   ]
  },
  {
   "cell_type": "code",
   "execution_count": 94,
   "metadata": {},
   "outputs": [
    {
     "name": "stdout",
     "output_type": "stream",
     "text": [
      "[[0.19970204 0.44808011 0.23481226 0.13274563 0.31942144]\n",
      " [0.00640152 0.39308779 0.56565054 0.22053356 0.18165305]\n",
      " [0.07974561 0.76264681 0.7912432  0.11831737 0.24619329]\n",
      " [0.59559998 0.03188033 0.10171375 0.66336127 0.45824921]]\n"
     ]
    }
   ],
   "source": [
    "# Criando uma matriz 4x5 com elementos aleatórios entre 0 e 1\n",
    "\n",
    "random_05 = np.random.random((4, 5))\n",
    "print(random_05)"
   ]
  },
  {
   "cell_type": "code",
   "execution_count": 95,
   "metadata": {},
   "outputs": [
    {
     "name": "stdout",
     "output_type": "stream",
     "text": [
      "[[[0.11233312 0.53222456 0.86531237 0.48007677 0.31889948]\n",
      "  [0.74176869 0.40482129 0.18665777 0.74257676 0.74026161]\n",
      "  [0.02942232 0.77333167 0.52106265 0.28598054 0.08037849]\n",
      "  [0.01710951 0.94700776 0.10165796 0.88974773 0.53886212]\n",
      "  [0.8524924  0.12838498 0.82111832 0.40585983 0.95134526]]\n",
      "\n",
      " [[0.7602016  0.92059902 0.87439894 0.19223518 0.06842437]\n",
      "  [0.8150589  0.45167473 0.63102329 0.84192703 0.95181582]\n",
      "  [0.52082816 0.62604383 0.44724673 0.97883651 0.89339033]\n",
      "  [0.18333991 0.5606783  0.0869651  0.61036239 0.40372256]\n",
      "  [0.82758322 0.27180273 0.64786952 0.79582831 0.48492365]]\n",
      "\n",
      " [[0.6656461  0.95509289 0.07428055 0.07234971 0.51129368]\n",
      "  [0.89445277 0.96007175 0.48292785 0.41594276 0.75362514]\n",
      "  [0.09030675 0.05135119 0.94724546 0.02198409 0.59291742]\n",
      "  [0.7265828  0.31757962 0.7592707  0.28442169 0.77315521]\n",
      "  [0.75598919 0.9005751  0.3464649  0.8607574  0.63411595]]\n",
      "\n",
      " [[0.82486776 0.87052767 0.03400172 0.4636296  0.45833237]\n",
      "  [0.2451937  0.33191714 0.41499716 0.65125506 0.35044565]\n",
      "  [0.77848806 0.45096558 0.25517083 0.44196663 0.3020918 ]\n",
      "  [0.07634715 0.49783497 0.41586995 0.46487357 0.60056411]\n",
      "  [0.04295896 0.52763071 0.97807729 0.53335362 0.98237541]]]\n"
     ]
    }
   ],
   "source": [
    "# Criando um array de três dimensões com elementos aleatórios entre 0 e 1\n",
    "\n",
    "random_05 = np.random.random((4, 5, 5))\n",
    "print(random_05)"
   ]
  },
  {
   "cell_type": "markdown",
   "metadata": {},
   "source": [
    "##### Verificando propriedades dos arrays"
   ]
  },
  {
   "cell_type": "code",
   "execution_count": 96,
   "metadata": {},
   "outputs": [
    {
     "name": "stdout",
     "output_type": "stream",
     "text": [
      "(3, 5, 5)\n"
     ]
    }
   ],
   "source": [
    "# Verificando a modelagem do array, ou seja, quantidade de linhas, colunas e páginas \n",
    "\n",
    "print(random_02.shape)"
   ]
  },
  {
   "cell_type": "code",
   "execution_count": 97,
   "metadata": {},
   "outputs": [
    {
     "name": "stdout",
     "output_type": "stream",
     "text": [
      "3\n"
     ]
    }
   ],
   "source": [
    "# Verificando o número de dimensões de um array \n",
    "\n",
    "print(random_02.ndim)"
   ]
  },
  {
   "cell_type": "code",
   "execution_count": 98,
   "metadata": {},
   "outputs": [
    {
     "name": "stdout",
     "output_type": "stream",
     "text": [
      "(3, 5, 5)\n",
      "3\n",
      "\n",
      "\n",
      "(10,)\n",
      "1\n",
      "\n",
      "\n",
      "(4, 5, 5)\n",
      "3\n"
     ]
    }
   ],
   "source": [
    "# Verificando outros arrays\n",
    "\n",
    "print(random_03.shape)\n",
    "print(random_03.ndim)\n",
    "print('\\n')\n",
    "print(random_04.shape)\n",
    "print(random_04.ndim)\n",
    "print('\\n')\n",
    "print(random_05.shape)\n",
    "print(random_05.ndim)"
   ]
  },
  {
   "cell_type": "code",
   "execution_count": 99,
   "metadata": {},
   "outputs": [
    {
     "name": "stdout",
     "output_type": "stream",
     "text": [
      "10\n",
      "3\n"
     ]
    }
   ],
   "source": [
    "# Verificando o tamanho das dimensões\n",
    "\n",
    "print(len(random_01))\n",
    "print(len(random_02))"
   ]
  },
  {
   "cell_type": "code",
   "execution_count": 106,
   "metadata": {},
   "outputs": [
    {
     "name": "stdout",
     "output_type": "stream",
     "text": [
      "[[ 7 39 40 34 23]\n",
      " [95  4  8 57  0]\n",
      " [79 13 24  4 18]\n",
      " [95 99 67 17 59]\n",
      " [86 18 81  8 59]]\n",
      "5\n",
      "[79 13 24  4 18]\n",
      "5\n"
     ]
    }
   ],
   "source": [
    "# Verificando o tamanho das dimensões de arrays multidimensionais\n",
    "\n",
    "print(random_02[0])\n",
    "print(len(random_02[0]))\n",
    "\n",
    "print(random_02[0][2])\n",
    "print(len(random_02[0][2]))"
   ]
  },
  {
   "cell_type": "code",
   "execution_count": 108,
   "metadata": {},
   "outputs": [
    {
     "name": "stdout",
     "output_type": "stream",
     "text": [
      "10\n",
      "75\n",
      "75\n",
      "10\n",
      "100\n"
     ]
    }
   ],
   "source": [
    "# Verificando a quantidade de elementos\n",
    "\n",
    "print(random_01.size)\n",
    "print(random_02.size)\n",
    "print(random_03.size)\n",
    "print(random_04.size)\n",
    "print(random_05.size)"
   ]
  },
  {
   "cell_type": "code",
   "execution_count": 112,
   "metadata": {},
   "outputs": [
    {
     "name": "stdout",
     "output_type": "stream",
     "text": [
      "int32\n",
      "int32\n",
      "int32\n",
      "float64\n",
      "float64\n"
     ]
    }
   ],
   "source": [
    "# Verificando o tipo de dados de elementos\n",
    "\n",
    "print(random_01.dtype)\n",
    "print(random_02.dtype)\n",
    "print(random_03.dtype)\n",
    "print(random_04.dtype)\n",
    "print(random_05.dtype)"
   ]
  },
  {
   "cell_type": "markdown",
   "metadata": {},
   "source": [
    "##### Indexação e slicing (fatiamento) em ndarrays"
   ]
  },
  {
   "cell_type": "code",
   "execution_count": 116,
   "metadata": {},
   "outputs": [
    {
     "name": "stdout",
     "output_type": "stream",
     "text": [
      "[6 4 6 7 0 6 0 2 8 3]\n",
      "\n",
      "\n",
      "[[ 6 35 52 76 70]\n",
      " [ 2 27 61 21 50]\n",
      " [24 76 84 48 25]\n",
      " [21 28 25 91 81]]\n",
      "\n",
      "\n",
      "[[[0.91526036 0.69764067 0.3317921  0.51540458 0.29215295]\n",
      "  [0.77147941 0.04840374 0.35327332 0.33949904 0.56815206]\n",
      "  [0.65604701 0.22631342 0.6318762  0.27361956 0.8605309 ]\n",
      "  [0.30316709 0.70536071 0.01195253 0.81452784 0.45407907]]\n",
      "\n",
      " [[0.48340049 0.81423511 0.87968347 0.21375212 0.27164244]\n",
      "  [0.71471635 0.1445924  0.62477345 0.22603653 0.39110752]\n",
      "  [0.13785246 0.04169441 0.93062843 0.57615993 0.02393759]\n",
      "  [0.10068553 0.06839217 0.01768869 0.48558228 0.41081311]]\n",
      "\n",
      " [[0.33100579 0.8691768  0.01286855 0.72228646 0.92770389]\n",
      "  [0.5390955  0.31418925 0.37457867 0.0969218  0.78486784]\n",
      "  [0.92158242 0.98513794 0.50735919 0.72302308 0.12476716]\n",
      "  [0.85405849 0.58302532 0.4690679  0.74767246 0.24846703]]]\n"
     ]
    }
   ],
   "source": [
    "# Criando os arrays para realizar as operações\n",
    "\n",
    "arr_1d = np.random.randint(0, 10, 10)\n",
    "arr_2d = np.random.randint(1, 101, (4, 5))\n",
    "arr_3d = np.random.random((3, 4, 5))\n",
    "print(arr_1d)\n",
    "print('\\n')\n",
    "print(arr_2d)\n",
    "print('\\n')\n",
    "print(arr_3d)"
   ]
  },
  {
   "cell_type": "code",
   "execution_count": 150,
   "metadata": {},
   "outputs": [
    {
     "name": "stdout",
     "output_type": "stream",
     "text": [
      "4\n",
      "3\n"
     ]
    }
   ],
   "source": [
    "# Acessar apenas um índice de um array de 1 dimensão\n",
    "\n",
    "item_1 = arr_1d[1]\n",
    "item_2 = arr_1d[-1]\n",
    "print(item_1)\n",
    "print(item_2)"
   ]
  },
  {
   "cell_type": "code",
   "execution_count": 122,
   "metadata": {},
   "outputs": [
    {
     "name": "stdout",
     "output_type": "stream",
     "text": [
      "[ 2 27 61 21 50]\n",
      "61\n"
     ]
    }
   ],
   "source": [
    "# Acessar apenas um índice de um array de 2 dimensões\n",
    "\n",
    "item_1 = arr_2d[1]\n",
    "print(item_1)\n",
    "\n",
    "item_2 = arr_2d[1][2]\n",
    "print(item_2)"
   ]
  },
  {
   "cell_type": "code",
   "execution_count": 148,
   "metadata": {},
   "outputs": [
    {
     "name": "stdout",
     "output_type": "stream",
     "text": [
      "[[0.48340049 0.81423511 0.87968347 0.21375212 0.27164244]\n",
      " [0.71471635 0.1445924  0.62477345 0.22603653 0.39110752]\n",
      " [0.13785246 0.04169441 0.93062843 0.57615993 0.02393759]\n",
      " [0.10068553 0.06839217 0.01768869 0.48558228 0.41081311]]\n",
      "\n",
      "\n",
      "[0.13785246 0.04169441 0.93062843 0.57615993 0.02393759]\n",
      "\n",
      "\n",
      "0.5761599314877578\n",
      "\n",
      "\n",
      "[0.10068553 0.06839217 0.01768869 0.48558228 0.41081311]\n"
     ]
    }
   ],
   "source": [
    "# Acessar apenas um índice de um array de 2 dimensões\n",
    "\n",
    "item_1 = arr_3d[1]\n",
    "print(item_1)\n",
    "\n",
    "print('\\n')\n",
    "\n",
    "item_2 = arr_3d[1][2]\n",
    "print(item_2)\n",
    "\n",
    "print('\\n')\n",
    "\n",
    "item_3 = arr_3d[1][2][3]\n",
    "print(item_3)\n",
    "\n",
    "print('\\n')\n",
    "\n",
    "item_4 = arr_3d[1, 3]\n",
    "print(item_4)"
   ]
  },
  {
   "cell_type": "code",
   "execution_count": 128,
   "metadata": {},
   "outputs": [
    {
     "name": "stdout",
     "output_type": "stream",
     "text": [
      "[35 61 21]\n"
     ]
    }
   ],
   "source": [
    "# Acessando através de uma lista de linhas e colunas\n",
    "\n",
    "linhas = [0, 1, 3]\n",
    "colunas = [1, 2, 0]\n",
    "\n",
    "itens = arr_2d[linhas, colunas]\n",
    "print(itens)"
   ]
  },
  {
   "cell_type": "code",
   "execution_count": 159,
   "metadata": {},
   "outputs": [
    {
     "name": "stdout",
     "output_type": "stream",
     "text": [
      "[6 4]\n",
      "[4 6]\n"
     ]
    }
   ],
   "source": [
    "# Acessando através de slicing em arrays de 1 dimensão\n",
    "\n",
    "itens = arr_1d[:2]\n",
    "print(itens)\n",
    "\n",
    "itens = arr_1d[1:3]\n",
    "print(itens)"
   ]
  },
  {
   "cell_type": "code",
   "execution_count": 132,
   "metadata": {},
   "outputs": [
    {
     "name": "stdout",
     "output_type": "stream",
     "text": [
      "[[ 6 35 52 76 70]\n",
      " [ 2 27 61 21 50]]\n"
     ]
    }
   ],
   "source": [
    "# Acessando através de slicing em arrays de 2 dimensões (matrizes)\n",
    "\n",
    "itens = arr_2d[:2]\n",
    "print(itens)\n",
    "\n",
    "itens = arr_2d[1:2, 3]\n",
    "print(itens)"
   ]
  },
  {
   "cell_type": "code",
   "execution_count": 160,
   "metadata": {},
   "outputs": [
    {
     "name": "stdout",
     "output_type": "stream",
     "text": [
      "[[[0.91526036 0.69764067 0.3317921  0.51540458 0.29215295]\n",
      "  [0.77147941 0.04840374 0.35327332 0.33949904 0.56815206]\n",
      "  [0.65604701 0.22631342 0.6318762  0.27361956 0.8605309 ]\n",
      "  [0.30316709 0.70536071 0.01195253 0.81452784 0.45407907]]\n",
      "\n",
      " [[0.48340049 0.81423511 0.87968347 0.21375212 0.27164244]\n",
      "  [0.71471635 0.1445924  0.62477345 0.22603653 0.39110752]\n",
      "  [0.13785246 0.04169441 0.93062843 0.57615993 0.02393759]\n",
      "  [0.10068553 0.06839217 0.01768869 0.48558228 0.41081311]]\n",
      "\n",
      " [[0.33100579 0.8691768  0.01286855 0.72228646 0.92770389]\n",
      "  [0.5390955  0.31418925 0.37457867 0.0969218  0.78486784]\n",
      "  [0.92158242 0.98513794 0.50735919 0.72302308 0.12476716]\n",
      "  [0.85405849 0.58302532 0.4690679  0.74767246 0.24846703]]]\n",
      "\n",
      "\n",
      "[[[0.35327332 0.33949904]\n",
      "  [0.6318762  0.27361956]]\n",
      "\n",
      " [[0.62477345 0.22603653]\n",
      "  [0.93062843 0.57615993]]]\n"
     ]
    }
   ],
   "source": [
    "# Slicing em arrays de três dimensões (faces, linhas, colunas)\n",
    "\n",
    "print(arr_3d)\n",
    "\n",
    "print('\\n')\n",
    "\n",
    "itens = arr_3d[0:2, 1:3, 2:4]\n",
    "print(itens)"
   ]
  },
  {
   "cell_type": "markdown",
   "metadata": {},
   "source": [
    "##### Indexação com booleanos"
   ]
  },
  {
   "cell_type": "code",
   "execution_count": 169,
   "metadata": {},
   "outputs": [
    {
     "name": "stdout",
     "output_type": "stream",
     "text": [
      "[442   1 244 288 417 348  15 251 423 271]\n",
      "\n",
      "\n",
      "[[ 82 180 279 329 189]\n",
      " [ 14 182 385  75 321]\n",
      " [ 77 371 414 117 414]\n",
      " [ 26 430  91 412 171]\n",
      " [256 303  61 135 238]]\n",
      "\n",
      "\n",
      "[[[484 257  32 221 157]\n",
      "  [289 493 431 335 364]]\n",
      "\n",
      " [[243 481 263 200 225]\n",
      "  [ 71  40 465 316  82]]\n",
      "\n",
      " [[208 469 142 114 161]\n",
      "  [357 455 271  40  41]]]\n"
     ]
    }
   ],
   "source": [
    "# Array para utilizar\n",
    "\n",
    "arr_booleano_1d = np.random.randint(1, 501, (10))\n",
    "arr_booleano_2d = np.random.randint(1, 501, (5, 5))\n",
    "arr_booleano_3d = np.random.randint(1, 501, (3, 2, 5))\n",
    "\n",
    "print(arr_booleano_1d)\n",
    "print('\\n')\n",
    "print(arr_booleano_2d)\n",
    "print('\\n')\n",
    "print(arr_booleano_3d)"
   ]
  },
  {
   "cell_type": "code",
   "execution_count": 171,
   "metadata": {},
   "outputs": [
    {
     "name": "stdout",
     "output_type": "stream",
     "text": [
      "[442 417 348 423]\n"
     ]
    }
   ],
   "source": [
    "# Filtrando o array 1D por todos os elementos que sejam maiores que 300\n",
    "\n",
    "filtro = arr_booleano_1d[arr_booleano_1d > 300]\n",
    "print(filtro)"
   ]
  },
  {
   "cell_type": "code",
   "execution_count": 173,
   "metadata": {},
   "outputs": [
    {
     "name": "stdout",
     "output_type": "stream",
     "text": [
      "[329 385 321 371 414 414 430 412 303]\n"
     ]
    }
   ],
   "source": [
    "# Filtrando o array 2D por todos os elementos que sejam maiores que 50\n",
    "\n",
    "filtro = arr_booleano_2d[arr_booleano_2d > 300]\n",
    "print(filtro)"
   ]
  },
  {
   "cell_type": "code",
   "execution_count": 179,
   "metadata": {},
   "outputs": [
    {
     "name": "stdout",
     "output_type": "stream",
     "text": [
      "[[[ True False False False False]\n",
      "  [False  True  True  True  True]]\n",
      "\n",
      " [[False  True False False False]\n",
      "  [False False  True  True False]]\n",
      "\n",
      " [[False  True False False False]\n",
      "  [ True  True False False False]]]\n"
     ]
    }
   ],
   "source": [
    "# Retorna um array de booleanos comparando elementos que sejam maiores que 50\n",
    "\n",
    "booleanos = arr_booleano_3d > 300\n",
    "print(booleanos)"
   ]
  },
  {
   "cell_type": "code",
   "execution_count": 181,
   "metadata": {},
   "outputs": [
    {
     "name": "stdout",
     "output_type": "stream",
     "text": [
      "270.0\n",
      "222.08\n",
      "256.9\n"
     ]
    }
   ],
   "source": [
    "# Calcular a média dos elementos dos arrays\n",
    "\n",
    "media_1d = arr_booleano_1d.mean()\n",
    "media_2d = arr_booleano_2d.mean()\n",
    "media_3d = arr_booleano_3d.mean()\n",
    "\n",
    "print(media_1d)\n",
    "print(media_2d)\n",
    "print(media_3d)"
   ]
  }
 ],
 "metadata": {
  "kernelspec": {
   "display_name": "Python 3",
   "language": "python",
   "name": "python3"
  },
  "language_info": {
   "codemirror_mode": {
    "name": "ipython",
    "version": 3
   },
   "file_extension": ".py",
   "mimetype": "text/x-python",
   "name": "python",
   "nbconvert_exporter": "python",
   "pygments_lexer": "ipython3",
   "version": "3.7.4"
  }
 },
 "nbformat": 4,
 "nbformat_minor": 2
}
