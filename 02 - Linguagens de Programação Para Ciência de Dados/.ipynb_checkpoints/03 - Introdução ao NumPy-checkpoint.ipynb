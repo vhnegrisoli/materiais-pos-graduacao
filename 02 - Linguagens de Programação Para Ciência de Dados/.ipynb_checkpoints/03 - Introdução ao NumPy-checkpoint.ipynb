{
 "cells": [
  {
   "cell_type": "markdown",
   "metadata": {},
   "source": [
    "## Pós-Graduação: Especialização em Data Science & Big Data"
   ]
  },
  {
   "cell_type": "markdown",
   "metadata": {},
   "source": [
    "### Pontifícia Universidade Católica de Minas Gerais (PUC-MG)"
   ]
  },
  {
   "cell_type": "markdown",
   "metadata": {},
   "source": [
    "#### Victor Hugo Negrisoli - Linguagens de Programação Para Ciência de Dados"
   ]
  },
  {
   "cell_type": "markdown",
   "metadata": {},
   "source": [
    "#### Criação de ndarrays ou Arrays N-Dimensionais "
   ]
  },
  {
   "cell_type": "code",
   "execution_count": 52,
   "metadata": {},
   "outputs": [],
   "source": [
    "import numpy as np"
   ]
  },
  {
   "cell_type": "markdown",
   "metadata": {},
   "source": [
    "##### Arrays de 1 dimensão"
   ]
  },
  {
   "cell_type": "code",
   "execution_count": 53,
   "metadata": {},
   "outputs": [
    {
     "name": "stdout",
     "output_type": "stream",
     "text": [
      "[1 2 3 4 5]\n",
      "<class 'numpy.ndarray'>\n"
     ]
    }
   ],
   "source": [
    "# Criando um array simples de 1 dimensão (vetor)\n",
    "\n",
    "arr_1 = np.array([1, 2, 3, 4, 5])\n",
    "print(arr_1)\n",
    "print(type(arr_1))"
   ]
  },
  {
   "cell_type": "code",
   "execution_count": 54,
   "metadata": {},
   "outputs": [
    {
     "name": "stdout",
     "output_type": "stream",
     "text": [
      "int32\n",
      "<U1\n"
     ]
    }
   ],
   "source": [
    "# Verificando o tipo de dados do array\n",
    "\n",
    "print(arr_1.dtype)\n",
    "\n",
    "arr_2 = np.array([\"1\", \"2\", \"3\"])\n",
    "\n",
    "print(arr_2.dtype)"
   ]
  },
  {
   "cell_type": "code",
   "execution_count": 55,
   "metadata": {},
   "outputs": [
    {
     "name": "stdout",
     "output_type": "stream",
     "text": [
      "[1. 2. 3. 4. 5.]\n",
      "float64\n",
      "['1' '2' '3' '4' '5']\n",
      "<U1\n"
     ]
    }
   ],
   "source": [
    "# Definindo um tipo de dado ao criar o array\n",
    "\n",
    "# Passando um array de int e criando um np array como float\n",
    "\n",
    "arr_3 = np.array([1, 2, 3, 4, 5], dtype = float)\n",
    "print(arr_3)\n",
    "print(arr_3.dtype)\n",
    "\n",
    "# Passando um array de int e criando um np array como str\n",
    "\n",
    "arr_4 = np.array([1, 2, 3, 4, 5], dtype = str)\n",
    "print(arr_4)\n",
    "print(arr_4.dtype)"
   ]
  },
  {
   "cell_type": "code",
   "execution_count": 56,
   "metadata": {},
   "outputs": [
    {
     "name": "stdout",
     "output_type": "stream",
     "text": [
      "['1' '2' '3.0' 'False']\n",
      "<U5\n",
      "[1. 2. 3. 0. 1.]\n",
      "float64\n",
      "[False  True]\n",
      "bool\n"
     ]
    }
   ],
   "source": [
    "# Precedência de tipos: str > float > int >  bool\n",
    "\n",
    "arr_multi = np.array(['1', 2, 3.0, False])\n",
    "print(arr_multi)\n",
    "print(arr_multi.dtype)\n",
    "\n",
    "arr_multi_2 = np.array([1, 2, 3.0, False, True])\n",
    "print(arr_multi_2)\n",
    "print(arr_multi_2.dtype)\n",
    "\n",
    "arr_multi_bool = np.array([False, True])\n",
    "print(arr_multi_bool)\n",
    "print(arr_multi_bool.dtype)"
   ]
  },
  {
   "cell_type": "markdown",
   "metadata": {},
   "source": [
    "##### Criando arrays de 2 dimensões (matrizes)"
   ]
  },
  {
   "cell_type": "code",
   "execution_count": 57,
   "metadata": {},
   "outputs": [
    {
     "name": "stdout",
     "output_type": "stream",
     "text": [
      "[[1 2 3]\n",
      " [4 5 6]\n",
      " [7 8 9]]\n",
      "<class 'numpy.ndarray'>\n"
     ]
    }
   ],
   "source": [
    "# Recebe uma lista de listas\n",
    "\n",
    "matriz = np.array([[1, 2, 3], [4, 5, 6], [7, 8, 9]])\n",
    "print(matriz)\n",
    "print(type(matriz))"
   ]
  },
  {
   "cell_type": "code",
   "execution_count": 58,
   "metadata": {},
   "outputs": [
    {
     "name": "stdout",
     "output_type": "stream",
     "text": [
      "[[[1 2 3]\n",
      "  [4 5 6]\n",
      "  [7 8 9]]\n",
      "\n",
      " [[1 2 3]\n",
      "  [4 5 6]\n",
      "  [7 8 9]]\n",
      "\n",
      " [[1 2 3]\n",
      "  [4 5 6]\n",
      "  [7 8 9]]]\n",
      "<class 'numpy.ndarray'>\n"
     ]
    }
   ],
   "source": [
    "# Recebe uma lista que contem uma lista de listas, e assim continuamente\n",
    "\n",
    "array_3d = np.array([[[1, 2, 3], [4, 5, 6], [7, 8, 9]], [[1, 2, 3], [4, 5, 6], [7, 8, 9]], [[1, 2, 3], [4, 5, 6], [7, 8, 9]]])\n",
    "print(array_3d)\n",
    "print(type(array_3d))"
   ]
  },
  {
   "cell_type": "markdown",
   "metadata": {},
   "source": [
    "##### Criar arrays com zeros()"
   ]
  },
  {
   "cell_type": "code",
   "execution_count": 59,
   "metadata": {},
   "outputs": [
    {
     "name": "stdout",
     "output_type": "stream",
     "text": [
      "[0. 0. 0. 0. 0.]\n"
     ]
    }
   ],
   "source": [
    "# A função zeros() criará um np array conforme as especificações fornecidas como parâmetro\n",
    "\n",
    "# Uma dimensão\n",
    "\n",
    "zeros_1d = np.zeros(5)\n",
    "print(zeros_1d)"
   ]
  },
  {
   "cell_type": "code",
   "execution_count": 60,
   "metadata": {},
   "outputs": [
    {
     "name": "stdout",
     "output_type": "stream",
     "text": [
      "[[0. 0. 0. 0. 0.]\n",
      " [0. 0. 0. 0. 0.]\n",
      " [0. 0. 0. 0. 0.]\n",
      " [0. 0. 0. 0. 0.]\n",
      " [0. 0. 0. 0. 0.]]\n"
     ]
    }
   ],
   "source": [
    "# Duas dimensões\n",
    "\n",
    "zeros_2d = np.zeros((5, 5)) # Cria uma matriz 5x5\n",
    "print(zeros_2d)"
   ]
  },
  {
   "cell_type": "code",
   "execution_count": 61,
   "metadata": {},
   "outputs": [
    {
     "name": "stdout",
     "output_type": "stream",
     "text": [
      "[['' '' '' '' '']\n",
      " ['' '' '' '' '']\n",
      " ['' '' '' '' '']\n",
      " ['' '' '' '' '']\n",
      " ['' '' '' '' '']]\n"
     ]
    }
   ],
   "source": [
    "# Duas dimensões especificando o tipo de dados\n",
    "\n",
    "zeros_2d_2 = np.zeros((5, 5), dtype = str) # Cria uma matriz 5x5 de strings\n",
    "print(zeros_2d_2)"
   ]
  },
  {
   "cell_type": "code",
   "execution_count": 62,
   "metadata": {},
   "outputs": [
    {
     "name": "stdout",
     "output_type": "stream",
     "text": [
      "[[[0 0 0 0 0]\n",
      "  [0 0 0 0 0]\n",
      "  [0 0 0 0 0]\n",
      "  [0 0 0 0 0]\n",
      "  [0 0 0 0 0]]\n",
      "\n",
      " [[0 0 0 0 0]\n",
      "  [0 0 0 0 0]\n",
      "  [0 0 0 0 0]\n",
      "  [0 0 0 0 0]\n",
      "  [0 0 0 0 0]]\n",
      "\n",
      " [[0 0 0 0 0]\n",
      "  [0 0 0 0 0]\n",
      "  [0 0 0 0 0]\n",
      "  [0 0 0 0 0]\n",
      "  [0 0 0 0 0]]\n",
      "\n",
      " [[0 0 0 0 0]\n",
      "  [0 0 0 0 0]\n",
      "  [0 0 0 0 0]\n",
      "  [0 0 0 0 0]\n",
      "  [0 0 0 0 0]]\n",
      "\n",
      " [[0 0 0 0 0]\n",
      "  [0 0 0 0 0]\n",
      "  [0 0 0 0 0]\n",
      "  [0 0 0 0 0]\n",
      "  [0 0 0 0 0]]]\n"
     ]
    }
   ],
   "source": [
    "# Três dimensões\n",
    "\n",
    "zeros_3d = np.zeros((5, 5, 5), dtype = int)\n",
    "print(zeros_3d)"
   ]
  },
  {
   "cell_type": "markdown",
   "metadata": {},
   "source": [
    "##### Função ones()"
   ]
  },
  {
   "cell_type": "code",
   "execution_count": 63,
   "metadata": {},
   "outputs": [
    {
     "name": "stdout",
     "output_type": "stream",
     "text": [
      "[1. 1. 1. 1. 1.]\n"
     ]
    }
   ],
   "source": [
    "# Exatamente igual à função zeros, porém, cria com valor 1\n",
    "\n",
    "ones_1d = np.ones(5)\n",
    "print(ones_1d)"
   ]
  },
  {
   "cell_type": "code",
   "execution_count": 64,
   "metadata": {},
   "outputs": [
    {
     "name": "stdout",
     "output_type": "stream",
     "text": [
      "[[1 1 1 1 1]\n",
      " [1 1 1 1 1]\n",
      " [1 1 1 1 1]\n",
      " [1 1 1 1 1]\n",
      " [1 1 1 1 1]]\n"
     ]
    }
   ],
   "source": [
    "# Duas dimensões\n",
    "\n",
    "ones_2d = np.ones((5, 5), dtype = int)\n",
    "print(ones_2d)"
   ]
  },
  {
   "cell_type": "code",
   "execution_count": 65,
   "metadata": {},
   "outputs": [
    {
     "name": "stdout",
     "output_type": "stream",
     "text": [
      "[[[1 1 1 1 1]\n",
      "  [1 1 1 1 1]\n",
      "  [1 1 1 1 1]\n",
      "  [1 1 1 1 1]\n",
      "  [1 1 1 1 1]]\n",
      "\n",
      " [[1 1 1 1 1]\n",
      "  [1 1 1 1 1]\n",
      "  [1 1 1 1 1]\n",
      "  [1 1 1 1 1]\n",
      "  [1 1 1 1 1]]\n",
      "\n",
      " [[1 1 1 1 1]\n",
      "  [1 1 1 1 1]\n",
      "  [1 1 1 1 1]\n",
      "  [1 1 1 1 1]\n",
      "  [1 1 1 1 1]]\n",
      "\n",
      " [[1 1 1 1 1]\n",
      "  [1 1 1 1 1]\n",
      "  [1 1 1 1 1]\n",
      "  [1 1 1 1 1]\n",
      "  [1 1 1 1 1]]\n",
      "\n",
      " [[1 1 1 1 1]\n",
      "  [1 1 1 1 1]\n",
      "  [1 1 1 1 1]\n",
      "  [1 1 1 1 1]\n",
      "  [1 1 1 1 1]]]\n"
     ]
    }
   ],
   "source": [
    "# Três dimensões\n",
    "\n",
    "ones_3d = np.ones((5, 5, 5), dtype = int)\n",
    "print(ones_3d)"
   ]
  },
  {
   "cell_type": "markdown",
   "metadata": {},
   "source": [
    "##### Arrays preenchidos com uma faixa de valores - arange()"
   ]
  },
  {
   "cell_type": "code",
   "execution_count": 66,
   "metadata": {},
   "outputs": [
    {
     "name": "stdout",
     "output_type": "stream",
     "text": [
      "[0 1 2 3 4]\n"
     ]
    }
   ],
   "source": [
    "# Cria um np array com valores de 0 a 4\n",
    "\n",
    "valores_1 = np.arange(5)\n",
    "print(valores_1)"
   ]
  },
  {
   "cell_type": "code",
   "execution_count": 67,
   "metadata": {},
   "outputs": [
    {
     "name": "stdout",
     "output_type": "stream",
     "text": [
      "[ 5  6  7  8  9 10 11 12 13 14 15 16 17 18 19 20 21 22 23 24]\n"
     ]
    }
   ],
   "source": [
    "# Cria um np array com valores de 5 a 24\n",
    "\n",
    "valores_2 = np.arange(5, 25)\n",
    "print(valores_2)"
   ]
  },
  {
   "cell_type": "code",
   "execution_count": 68,
   "metadata": {},
   "outputs": [
    {
     "name": "stdout",
     "output_type": "stream",
     "text": [
      "[ 5  8 11 14 17 20 23 26 29 32 35 38 41 44 47]\n"
     ]
    }
   ],
   "source": [
    "# Cria um np array com valores de 5 a 49 de 3 em 3\n",
    "\n",
    "valores_3 = np.arange(5, 50, 3)\n",
    "print(valores_3)\n"
   ]
  },
  {
   "cell_type": "markdown",
   "metadata": {},
   "source": [
    "##### Criando arrays com espaços iguais usando linspace()"
   ]
  },
  {
   "cell_type": "code",
   "execution_count": 69,
   "metadata": {},
   "outputs": [
    {
     "name": "stdout",
     "output_type": "stream",
     "text": [
      "[ 0. 10.]\n"
     ]
    }
   ],
   "source": [
    "# Valores de 0 a 10 espaçados por 2\n",
    "\n",
    "iguais_1 = np.linspace(0, 10, 2)\n",
    "print(iguais_1)"
   ]
  },
  {
   "cell_type": "code",
   "execution_count": 70,
   "metadata": {},
   "outputs": [
    {
     "name": "stdout",
     "output_type": "stream",
     "text": [
      "[  0   7  14  21  28  35  42  50  57  64  71  78  85  92 100]\n"
     ]
    }
   ],
   "source": [
    "# Valores de 0 a 100 espaçados por 15\n",
    "\n",
    "iguais_2 = np.linspace(0, 100, 15, dtype = int)\n",
    "print(iguais_2)"
   ]
  },
  {
   "cell_type": "code",
   "execution_count": 71,
   "metadata": {},
   "outputs": [
    {
     "name": "stdout",
     "output_type": "stream",
     "text": [
      "[   0   20   40   61   81  102  122  142  163  183  204  224  244  265\n",
      "  285  306  326  346  367  387  408  428  448  469  489  510  530  551\n",
      "  571  591  612  632  653  673  693  714  734  755  775  795  816  836\n",
      "  857  877  897  918  938  959  979 1000]\n"
     ]
    }
   ],
   "source": [
    "# Utilizando o valor padrão para elementos não informados, o padrão é 50\n",
    "\n",
    "iguais_3 = np.linspace(0, 1000, dtype = int)\n",
    "print(iguais_3)"
   ]
  },
  {
   "cell_type": "code",
   "execution_count": 72,
   "metadata": {},
   "outputs": [
    {
     "name": "stdout",
     "output_type": "stream",
     "text": [
      "[   0   20   40   61   81  102  122  142  163  183  204  224  244  265\n",
      "  285  306  326  346  367  387  408  428  448  469  489  510  530  551\n",
      "  571  591  612  632  653  673  693  714  734  755  775  795  816  836\n",
      "  857  877  897  918  938  959  979 1000]\n",
      "[  0  20  40  60  80 100 120 140 160 180 200 220 240 260 280 300 320 340\n",
      " 360 380 400 420 440 460 480 500 520 540 560 580 600 620 640 660 680 700\n",
      " 720 740 760 780 800 820 840 860 880 900 920 940 960 980]\n"
     ]
    }
   ],
   "source": [
    "# Ao utilizar o parâmetro endpoint, irá informar se é pra incluir o último valor\n",
    "\n",
    "iguais_endpoint_true = np.linspace(0, 1000, dtype = int, endpoint = True)\n",
    "print(iguais_endpoint_true)\n",
    "\n",
    "iguais_endpoint_false = np.linspace(0, 1000, dtype = int, endpoint = False)\n",
    "print(iguais_endpoint_false)"
   ]
  },
  {
   "cell_type": "markdown",
   "metadata": {},
   "source": [
    "##### Função full()"
   ]
  },
  {
   "cell_type": "code",
   "execution_count": 73,
   "metadata": {},
   "outputs": [
    {
     "name": "stdout",
     "output_type": "stream",
     "text": [
      "[5 5 5 5 5 5 5 5 5 5]\n"
     ]
    }
   ],
   "source": [
    "# Criando um array preenchendo completamente com um valor informado\n",
    "\n",
    "arr_full_01 = np.full(10, 5)\n",
    "print(arr_full_01)"
   ]
  },
  {
   "cell_type": "code",
   "execution_count": 74,
   "metadata": {},
   "outputs": [
    {
     "name": "stdout",
     "output_type": "stream",
     "text": [
      "[[5 5 5 5 5 5 5 5 5 5]\n",
      " [5 5 5 5 5 5 5 5 5 5]\n",
      " [5 5 5 5 5 5 5 5 5 5]\n",
      " [5 5 5 5 5 5 5 5 5 5]\n",
      " [5 5 5 5 5 5 5 5 5 5]\n",
      " [5 5 5 5 5 5 5 5 5 5]\n",
      " [5 5 5 5 5 5 5 5 5 5]\n",
      " [5 5 5 5 5 5 5 5 5 5]\n",
      " [5 5 5 5 5 5 5 5 5 5]\n",
      " [5 5 5 5 5 5 5 5 5 5]]\n"
     ]
    }
   ],
   "source": [
    "# Array de duas dimensões - Matriz 10x10 contendo apenas números 5\n",
    "\n",
    "arr_full_02 = np.full((10, 10), 5)\n",
    "print(arr_full_02)"
   ]
  },
  {
   "cell_type": "code",
   "execution_count": 75,
   "metadata": {},
   "outputs": [
    {
     "name": "stdout",
     "output_type": "stream",
     "text": [
      "[[[5 5]\n",
      "  [5 5]]\n",
      "\n",
      " [[5 5]\n",
      "  [5 5]]\n",
      "\n",
      " [[5 5]\n",
      "  [5 5]]]\n"
     ]
    }
   ],
   "source": [
    "# Array de três dimensões contendo o número 5\n",
    "\n",
    "arr_full_03 = np.full((3, 2, 2), 5)\n",
    "print(arr_full_03)"
   ]
  },
  {
   "cell_type": "markdown",
   "metadata": {},
   "source": [
    "##### Matriz identidade com a função eye()"
   ]
  },
  {
   "cell_type": "code",
   "execution_count": 77,
   "metadata": {},
   "outputs": [
    {
     "name": "stdout",
     "output_type": "stream",
     "text": [
      "[[1 0 0 0 0]\n",
      " [0 1 0 0 0]\n",
      " [0 0 1 0 0]\n",
      " [0 0 0 1 0]\n",
      " [0 0 0 0 1]]\n"
     ]
    }
   ],
   "source": [
    "# Cria uma matriz identidade 5x5\n",
    "\n",
    "identidade_01 = np.eye(5, dtype = int)\n",
    "print(identidade_01)"
   ]
  },
  {
   "cell_type": "markdown",
   "metadata": {},
   "source": [
    "##### Criando um array com números aleatórios"
   ]
  },
  {
   "cell_type": "code",
   "execution_count": 78,
   "metadata": {},
   "outputs": [
    {
     "name": "stdout",
     "output_type": "stream",
     "text": [
      "0\n"
     ]
    }
   ],
   "source": [
    "# Criando um único número aleatório entre 0 a 10\n",
    "\n",
    "random_01 = np.random.randint(10)\n",
    "print(random_01)"
   ]
  },
  {
   "cell_type": "code",
   "execution_count": 79,
   "metadata": {},
   "outputs": [
    {
     "name": "stdout",
     "output_type": "stream",
     "text": [
      "[57  9 77 42 59 64 16 75 71 24]\n"
     ]
    }
   ],
   "source": [
    "# Criando um array entre 0 e 100 de 10 elementos\n",
    "\n",
    "random_02 = np.random.randint(0, 100, 10)\n",
    "print(random_02)"
   ]
  },
  {
   "cell_type": "code",
   "execution_count": 80,
   "metadata": {},
   "outputs": [
    {
     "name": "stdout",
     "output_type": "stream",
     "text": [
      "[[91 62 17 45 44 87 74 91 13 37]\n",
      " [99 73 92 97 57 19 48 17 22 77]\n",
      " [11 29 63 73 27 58 76 60 24 31]\n",
      " [17 78 29 24 92 27 98 67 26 36]\n",
      " [12  8  5 52 27 46 80  0 48 61]\n",
      " [33 98 85  8 33 56 84  9 42 67]\n",
      " [ 3 81 26 21 67 84 64 83 39 72]\n",
      " [72 58  7 93 98 16 97 98 49 83]\n",
      " [ 3 61 90  8 46 15 48 98 92 34]\n",
      " [ 6  4 82 77 82 89 25 36 41 49]]\n"
     ]
    }
   ],
   "source": [
    "# Criando uma matriz 10x10 entre 0 e 100\n",
    "\n",
    "random_02 = np.random.randint(0, 100, (10, 10))\n",
    "print(random_02)"
   ]
  },
  {
   "cell_type": "code",
   "execution_count": 81,
   "metadata": {},
   "outputs": [
    {
     "name": "stdout",
     "output_type": "stream",
     "text": [
      "[[[24 28 23 68 77]\n",
      "  [65 74 60 90 62]\n",
      "  [ 1 52 58 62  3]\n",
      "  [41 54 59 42 45]\n",
      "  [65 51 21 69 82]]\n",
      "\n",
      " [[59 43 52  1 76]\n",
      "  [70 99 34 34  6]\n",
      "  [33 21 43  2 12]\n",
      "  [92 27 59 51  0]\n",
      "  [70 27 76 47  3]]\n",
      "\n",
      " [[46 97 18 66 37]\n",
      "  [59 80 58 13 43]\n",
      "  [ 6 22 44 26 45]\n",
      "  [20 75 81 87 81]\n",
      "  [86  3 16 97  5]]]\n"
     ]
    }
   ],
   "source": [
    "# Criando um array de 3 dimensões entre 0 e 100\n",
    "\n",
    "random_03 = np.random.randint(0, 100, (3, 5, 5))\n",
    "print(random_03)"
   ]
  },
  {
   "cell_type": "code",
   "execution_count": 82,
   "metadata": {},
   "outputs": [
    {
     "name": "stdout",
     "output_type": "stream",
     "text": [
      "[0.31454201 0.32996763 0.28537754 0.86002767 0.16043629 0.39886386\n",
      " 0.16030041 0.19337174 0.01946563 0.71371542]\n"
     ]
    }
   ],
   "source": [
    "# Criando 10 elementos aleatórios entre 0 e 1\n",
    "\n",
    "random_04 = np.random.random(10)\n",
    "print(random_04)"
   ]
  },
  {
   "cell_type": "code",
   "execution_count": 83,
   "metadata": {},
   "outputs": [
    {
     "name": "stdout",
     "output_type": "stream",
     "text": [
      "[[0.77739847 0.20309218 0.27304602 0.39671365 0.22096491]\n",
      " [0.76999538 0.5012639  0.64589649 0.53285138 0.66547422]\n",
      " [0.09300376 0.40374854 0.19021008 0.91628769 0.02151731]\n",
      " [0.8611125  0.74839495 0.92969796 0.0484111  0.60415723]]\n"
     ]
    }
   ],
   "source": [
    "# Criando uma matriz 4x5 com elementos aleatórios entre 0 e 1\n",
    "\n",
    "random_05 = np.random.random((4, 5))\n",
    "print(random_05)"
   ]
  },
  {
   "cell_type": "code",
   "execution_count": 84,
   "metadata": {},
   "outputs": [
    {
     "name": "stdout",
     "output_type": "stream",
     "text": [
      "[[[0.46711966 0.85663411 0.33354244 0.59418655 0.96098628]\n",
      "  [0.64069099 0.82794649 0.40549677 0.2796922  0.75390221]\n",
      "  [0.89552321 0.59876679 0.18996155 0.97926588 0.47324974]\n",
      "  [0.26279656 0.10578072 0.70001707 0.89899209 0.8523673 ]\n",
      "  [0.03526733 0.06410183 0.74536126 0.64109814 0.83458337]]\n",
      "\n",
      " [[0.46582194 0.33579359 0.20740027 0.18536625 0.93141928]\n",
      "  [0.91050043 0.65507864 0.4241873  0.79514274 0.13639907]\n",
      "  [0.41376508 0.7756721  0.1089945  0.98606844 0.84981006]\n",
      "  [0.89181298 0.60910414 0.94716019 0.13462749 0.97704257]\n",
      "  [0.66913902 0.94636063 0.35877133 0.09081011 0.44436865]]\n",
      "\n",
      " [[0.36493491 0.17130527 0.1869368  0.94136093 0.87056871]\n",
      "  [0.4150023  0.31087379 0.63716556 0.20080362 0.51530159]\n",
      "  [0.61454564 0.82318362 0.2173551  0.07302063 0.51961297]\n",
      "  [0.08507252 0.14628182 0.28758695 0.92750923 0.94099537]\n",
      "  [0.58573915 0.17960211 0.119082   0.62811143 0.96306548]]\n",
      "\n",
      " [[0.71067681 0.00994604 0.31694302 0.02405674 0.70820079]\n",
      "  [0.56260592 0.43786737 0.16047624 0.20113664 0.75549414]\n",
      "  [0.19795769 0.9651436  0.56913052 0.04397567 0.59769921]\n",
      "  [0.72445394 0.008076   0.40726854 0.64674047 0.64285259]\n",
      "  [0.50309337 0.60168251 0.03742403 0.59101286 0.12057963]]]\n"
     ]
    }
   ],
   "source": [
    "# Criando um array de três dimensões com elementos aleatórios entre 0 e 1\n",
    "\n",
    "random_05 = np.random.random((4, 5, 5))\n",
    "print(random_05)"
   ]
  },
  {
   "cell_type": "markdown",
   "metadata": {},
   "source": [
    "##### Verificando propriedades dos arrays"
   ]
  },
  {
   "cell_type": "code",
   "execution_count": 85,
   "metadata": {},
   "outputs": [
    {
     "name": "stdout",
     "output_type": "stream",
     "text": [
      "(10, 10)\n"
     ]
    }
   ],
   "source": [
    "# Verificando a modelagem do array, ou seja, quantidade de linhas, colunas e páginas \n",
    "\n",
    "print(random_02.shape)"
   ]
  },
  {
   "cell_type": "code",
   "execution_count": 86,
   "metadata": {},
   "outputs": [
    {
     "name": "stdout",
     "output_type": "stream",
     "text": [
      "2\n"
     ]
    }
   ],
   "source": [
    "# Verificando o número de dimensões de um array \n",
    "\n",
    "print(random_02.ndim)"
   ]
  },
  {
   "cell_type": "code",
   "execution_count": 87,
   "metadata": {},
   "outputs": [
    {
     "name": "stdout",
     "output_type": "stream",
     "text": [
      "(3, 5, 5)\n",
      "3\n",
      "\n",
      "\n",
      "(10,)\n",
      "1\n",
      "\n",
      "\n",
      "(4, 5, 5)\n",
      "3\n"
     ]
    }
   ],
   "source": [
    "# Verificando outros arrays\n",
    "\n",
    "print(random_03.shape)\n",
    "print(random_03.ndim)\n",
    "print('\\n')\n",
    "print(random_04.shape)\n",
    "print(random_04.ndim)\n",
    "print('\\n')\n",
    "print(random_05.shape)\n",
    "print(random_05.ndim)"
   ]
  },
  {
   "cell_type": "code",
   "execution_count": 90,
   "metadata": {},
   "outputs": [
    {
     "name": "stdout",
     "output_type": "stream",
     "text": [
      "10\n",
      "3\n"
     ]
    }
   ],
   "source": [
    "# Verificando o tamanho das dimensões\n",
    "\n",
    "print(len(random_02))\n",
    "print(len(random_03))"
   ]
  },
  {
   "cell_type": "code",
   "execution_count": 92,
   "metadata": {},
   "outputs": [
    {
     "name": "stdout",
     "output_type": "stream",
     "text": [
      "[91 62 17 45 44 87 74 91 13 37]\n",
      "10\n",
      "17\n"
     ]
    }
   ],
   "source": [
    "# Verificando o tamanho das dimensões de arrays multidimensionais\n",
    "\n",
    "print(random_02[0])\n",
    "print(len(random_02[0]))\n",
    "\n",
    "print(random_02[0][2])"
   ]
  },
  {
   "cell_type": "code",
   "execution_count": 95,
   "metadata": {},
   "outputs": [
    {
     "name": "stdout",
     "output_type": "stream",
     "text": [
      "100\n",
      "75\n",
      "10\n",
      "100\n"
     ]
    }
   ],
   "source": [
    "# Verificando a quantidade de elementos\n",
    "\n",
    "print(random_02.size)\n",
    "print(random_03.size)\n",
    "print(random_04.size)\n",
    "print(random_05.size)"
   ]
  },
  {
   "cell_type": "code",
   "execution_count": 97,
   "metadata": {},
   "outputs": [
    {
     "name": "stdout",
     "output_type": "stream",
     "text": [
      "int32\n",
      "int32\n",
      "float64\n",
      "float64\n"
     ]
    }
   ],
   "source": [
    "# Verificando o tipo de dados de elementos\n",
    "\n",
    "print(random_02.dtype)\n",
    "print(random_03.dtype)\n",
    "print(random_04.dtype)\n",
    "print(random_05.dtype)"
   ]
  },
  {
   "cell_type": "markdown",
   "metadata": {},
   "source": [
    "##### Indexação e slicing (fatiamento) em ndarrays"
   ]
  },
  {
   "cell_type": "code",
   "execution_count": 98,
   "metadata": {},
   "outputs": [
    {
     "name": "stdout",
     "output_type": "stream",
     "text": [
      "[5 6 7 6 9 1 7 3 8 4]\n",
      "\n",
      "\n",
      "[[ 43   2  19   9  84]\n",
      " [ 85  54  27 100  97]\n",
      " [  3   3  48  58  21]\n",
      " [ 77  40   7  92  50]]\n",
      "\n",
      "\n",
      "[[[0.74291959 0.89788459 0.33000439 0.76132532 0.98420983]\n",
      "  [0.11123055 0.51440158 0.604782   0.23383095 0.96264546]\n",
      "  [0.26229649 0.51981367 0.39615291 0.69050967 0.66954215]\n",
      "  [0.94039098 0.84611174 0.61636308 0.17442602 0.03294095]]\n",
      "\n",
      " [[0.25458983 0.97009327 0.00562734 0.50077124 0.59038877]\n",
      "  [0.14202589 0.66503095 0.610447   0.58708306 0.31883155]\n",
      "  [0.00820939 0.22384556 0.70875708 0.84805628 0.74077553]\n",
      "  [0.41086137 0.81537038 0.10403086 0.36962236 0.12790319]]\n",
      "\n",
      " [[0.86710999 0.07971897 0.22268255 0.9879453  0.47861441]\n",
      "  [0.23730634 0.4010635  0.28366754 0.18876955 0.44638761]\n",
      "  [0.20648917 0.99410296 0.77926067 0.64983538 0.00521068]\n",
      "  [0.58073708 0.10542577 0.60650322 0.97242395 0.65922317]]]\n"
     ]
    }
   ],
   "source": [
    "# Criando os arrays para realizar as operações\n",
    "\n",
    "arr_1d = np.random.randint(0, 10, 10)\n",
    "arr_2d = np.random.randint(1, 101, (4, 5))\n",
    "arr_3d = np.random.random((3, 4, 5))\n",
    "print(arr_1d)\n",
    "print('\\n')\n",
    "print(arr_2d)\n",
    "print('\\n')\n",
    "print(arr_3d)"
   ]
  },
  {
   "cell_type": "code",
   "execution_count": 99,
   "metadata": {},
   "outputs": [
    {
     "name": "stdout",
     "output_type": "stream",
     "text": [
      "6\n",
      "4\n"
     ]
    }
   ],
   "source": [
    "# Acessar apenas um índice de um array de 1 dimensão\n",
    "\n",
    "item_1 = arr_1d[1]\n",
    "item_2 = arr_1d[-1]\n",
    "print(item_1)\n",
    "print(item_2)"
   ]
  },
  {
   "cell_type": "code",
   "execution_count": 100,
   "metadata": {},
   "outputs": [
    {
     "name": "stdout",
     "output_type": "stream",
     "text": [
      "[ 85  54  27 100  97]\n",
      "27\n"
     ]
    }
   ],
   "source": [
    "# Acessar apenas um índice de um array de 2 dimensões\n",
    "\n",
    "item_1 = arr_2d[1]\n",
    "print(item_1)\n",
    "\n",
    "item_2 = arr_2d[1][2]\n",
    "print(item_2)"
   ]
  },
  {
   "cell_type": "code",
   "execution_count": 101,
   "metadata": {},
   "outputs": [
    {
     "name": "stdout",
     "output_type": "stream",
     "text": [
      "[[0.25458983 0.97009327 0.00562734 0.50077124 0.59038877]\n",
      " [0.14202589 0.66503095 0.610447   0.58708306 0.31883155]\n",
      " [0.00820939 0.22384556 0.70875708 0.84805628 0.74077553]\n",
      " [0.41086137 0.81537038 0.10403086 0.36962236 0.12790319]]\n",
      "\n",
      "\n",
      "[0.00820939 0.22384556 0.70875708 0.84805628 0.74077553]\n",
      "\n",
      "\n",
      "0.8480562842842151\n",
      "\n",
      "\n",
      "[0.41086137 0.81537038 0.10403086 0.36962236 0.12790319]\n"
     ]
    }
   ],
   "source": [
    "# Acessar apenas um índice de um array de 2 dimensões\n",
    "\n",
    "item_1 = arr_3d[1]\n",
    "print(item_1)\n",
    "\n",
    "print('\\n')\n",
    "\n",
    "item_2 = arr_3d[1][2]\n",
    "print(item_2)\n",
    "\n",
    "print('\\n')\n",
    "\n",
    "item_3 = arr_3d[1][2][3]\n",
    "print(item_3)\n",
    "\n",
    "print('\\n')\n",
    "\n",
    "item_4 = arr_3d[1, 3]\n",
    "print(item_4)"
   ]
  },
  {
   "cell_type": "code",
   "execution_count": 102,
   "metadata": {},
   "outputs": [
    {
     "name": "stdout",
     "output_type": "stream",
     "text": [
      "[ 2 27 77]\n"
     ]
    }
   ],
   "source": [
    "# Acessando através de uma lista de linhas e colunas\n",
    "\n",
    "linhas = [0, 1, 3]\n",
    "colunas = [1, 2, 0]\n",
    "\n",
    "itens = arr_2d[linhas, colunas]\n",
    "print(itens)"
   ]
  },
  {
   "cell_type": "code",
   "execution_count": 103,
   "metadata": {},
   "outputs": [
    {
     "name": "stdout",
     "output_type": "stream",
     "text": [
      "[5 6]\n",
      "[6 7]\n"
     ]
    }
   ],
   "source": [
    "# Acessando através de slicing em arrays de 1 dimensão\n",
    "\n",
    "itens = arr_1d[:2]\n",
    "print(itens)\n",
    "\n",
    "itens = arr_1d[1:3]\n",
    "print(itens)"
   ]
  },
  {
   "cell_type": "code",
   "execution_count": 104,
   "metadata": {},
   "outputs": [
    {
     "name": "stdout",
     "output_type": "stream",
     "text": [
      "[[ 43   2  19   9  84]\n",
      " [ 85  54  27 100  97]]\n",
      "[100]\n"
     ]
    }
   ],
   "source": [
    "# Acessando através de slicing em arrays de 2 dimensões (matrizes)\n",
    "\n",
    "itens = arr_2d[:2]\n",
    "print(itens)\n",
    "\n",
    "itens = arr_2d[1:2, 3]\n",
    "print(itens)"
   ]
  },
  {
   "cell_type": "code",
   "execution_count": 105,
   "metadata": {},
   "outputs": [
    {
     "name": "stdout",
     "output_type": "stream",
     "text": [
      "[[[0.74291959 0.89788459 0.33000439 0.76132532 0.98420983]\n",
      "  [0.11123055 0.51440158 0.604782   0.23383095 0.96264546]\n",
      "  [0.26229649 0.51981367 0.39615291 0.69050967 0.66954215]\n",
      "  [0.94039098 0.84611174 0.61636308 0.17442602 0.03294095]]\n",
      "\n",
      " [[0.25458983 0.97009327 0.00562734 0.50077124 0.59038877]\n",
      "  [0.14202589 0.66503095 0.610447   0.58708306 0.31883155]\n",
      "  [0.00820939 0.22384556 0.70875708 0.84805628 0.74077553]\n",
      "  [0.41086137 0.81537038 0.10403086 0.36962236 0.12790319]]\n",
      "\n",
      " [[0.86710999 0.07971897 0.22268255 0.9879453  0.47861441]\n",
      "  [0.23730634 0.4010635  0.28366754 0.18876955 0.44638761]\n",
      "  [0.20648917 0.99410296 0.77926067 0.64983538 0.00521068]\n",
      "  [0.58073708 0.10542577 0.60650322 0.97242395 0.65922317]]]\n",
      "\n",
      "\n",
      "[[[0.604782   0.23383095]\n",
      "  [0.39615291 0.69050967]]\n",
      "\n",
      " [[0.610447   0.58708306]\n",
      "  [0.70875708 0.84805628]]]\n"
     ]
    }
   ],
   "source": [
    "# Slicing em arrays de três dimensões (faces, linhas, colunas)\n",
    "\n",
    "print(arr_3d)\n",
    "\n",
    "print('\\n')\n",
    "\n",
    "itens = arr_3d[0:2, 1:3, 2:4]\n",
    "print(itens)"
   ]
  },
  {
   "cell_type": "markdown",
   "metadata": {},
   "source": [
    "##### Indexação com booleanos"
   ]
  },
  {
   "cell_type": "code",
   "execution_count": 106,
   "metadata": {},
   "outputs": [
    {
     "name": "stdout",
     "output_type": "stream",
     "text": [
      "[300 202 495 112 285  50 244 258 372 160]\n",
      "\n",
      "\n",
      "[[267 131 324 335 379]\n",
      " [430 319  73 378 361]\n",
      " [ 10 257 479 287  23]\n",
      " [244 221 346 202 499]\n",
      " [443  72 360 178  31]]\n",
      "\n",
      "\n",
      "[[[ 95 170 426 323 257]\n",
      "  [232 495 467 168 458]]\n",
      "\n",
      " [[141 216 443 403 286]\n",
      "  [132 419 460 485 174]]\n",
      "\n",
      " [[260 283  44 280 321]\n",
      "  [ 35  16 330 239  95]]]\n"
     ]
    }
   ],
   "source": [
    "# Array para utilizar\n",
    "\n",
    "arr_booleano_1d = np.random.randint(1, 501, (10))\n",
    "arr_booleano_2d = np.random.randint(1, 501, (5, 5))\n",
    "arr_booleano_3d = np.random.randint(1, 501, (3, 2, 5))\n",
    "\n",
    "print(arr_booleano_1d)\n",
    "print('\\n')\n",
    "print(arr_booleano_2d)\n",
    "print('\\n')\n",
    "print(arr_booleano_3d)"
   ]
  },
  {
   "cell_type": "code",
   "execution_count": 107,
   "metadata": {},
   "outputs": [
    {
     "name": "stdout",
     "output_type": "stream",
     "text": [
      "[495 372]\n"
     ]
    }
   ],
   "source": [
    "# Filtrando o array 1D por todos os elementos que sejam maiores que 300\n",
    "\n",
    "filtro = arr_booleano_1d[arr_booleano_1d > 300]\n",
    "print(filtro)"
   ]
  },
  {
   "cell_type": "code",
   "execution_count": 108,
   "metadata": {},
   "outputs": [
    {
     "name": "stdout",
     "output_type": "stream",
     "text": [
      "[324 335 379 430 319 378 361 479 346 499 443 360]\n"
     ]
    }
   ],
   "source": [
    "# Filtrando o array 2D por todos os elementos que sejam maiores que 50\n",
    "\n",
    "filtro = arr_booleano_2d[arr_booleano_2d > 300]\n",
    "print(filtro)"
   ]
  },
  {
   "cell_type": "code",
   "execution_count": 109,
   "metadata": {},
   "outputs": [
    {
     "name": "stdout",
     "output_type": "stream",
     "text": [
      "[[[False False  True  True False]\n",
      "  [False  True  True False  True]]\n",
      "\n",
      " [[False False  True  True False]\n",
      "  [False  True  True  True False]]\n",
      "\n",
      " [[False False False False  True]\n",
      "  [False False  True False False]]]\n"
     ]
    }
   ],
   "source": [
    "# Retorna um array de booleanos comparando elementos que sejam maiores que 50\n",
    "\n",
    "booleanos = arr_booleano_3d > 300\n",
    "print(booleanos)"
   ]
  },
  {
   "cell_type": "code",
   "execution_count": 116,
   "metadata": {},
   "outputs": [
    {
     "name": "stdout",
     "output_type": "stream",
     "text": [
      "247.8\n",
      "265.96\n",
      "271.76666666666665\n"
     ]
    }
   ],
   "source": [
    "# Calcular a média dos elementos dos arrays\n",
    "\n",
    "media_1d = arr_booleano_1d.mean()\n",
    "media_2d = arr_booleano_2d.mean()\n",
    "media_3d = arr_booleano_3d.mean()\n",
    "\n",
    "print(media_1d)\n",
    "print(media_2d)\n",
    "print(media_3d)"
   ]
  },
  {
   "cell_type": "markdown",
   "metadata": {},
   "source": [
    "##### Manipulando Arrays NumPy"
   ]
  },
  {
   "cell_type": "markdown",
   "metadata": {},
   "source": [
    "##### Adicionar, alterar e remover elementos"
   ]
  },
  {
   "cell_type": "code",
   "execution_count": 137,
   "metadata": {},
   "outputs": [
    {
     "name": "stdout",
     "output_type": "stream",
     "text": [
      "[109   1  54  98  61 147 102   4 159 115  66 183]\n",
      "int32\n",
      "\n",
      "\n",
      "[[179 145 197  10]\n",
      " [ 32  47 160   9]\n",
      " [  6  66  77  97]]\n",
      "int32\n",
      "\n",
      "\n",
      "[[[197  56  40  71 185  50]\n",
      "  [186 172 189  72  31  14]\n",
      "  [ 88 128 190 118 184 128]]\n",
      "\n",
      " [[140  61 136 125  67 173]\n",
      "  [128 185  18 122  28  85]\n",
      "  [165 144 157  38  47 136]]]\n",
      "int32\n"
     ]
    }
   ],
   "source": [
    "# Criando arrays para utilizar\n",
    "\n",
    "arr_1d = np.random.randint(1,200, 12)\n",
    "arr_2d = np.random.randint(1,200, (3,4))\n",
    "arr_3d = np.random.randint(1,200, (2,3,6))\n",
    "\n",
    "print(arr_1d)\n",
    "print(arr_1d.dtype)\n",
    "print('\\n')\n",
    "print(arr_2d)\n",
    "print(arr_2d.dtype)\n",
    "print('\\n')\n",
    "print(arr_3d)\n",
    "print(arr_3d.dtype)"
   ]
  },
  {
   "cell_type": "code",
   "execution_count": 130,
   "metadata": {},
   "outputs": [
    {
     "name": "stdout",
     "output_type": "stream",
     "text": [
      "Valor anterior: 24\n",
      "Valor atual: 12\n"
     ]
    }
   ],
   "source": [
    "# Alterando elementos de um array de 1 dimensão\n",
    "\n",
    "valor_anterior = arr_1d[0]\n",
    "print('Valor anterior: {}'.format(str(valor_anterior)))\n",
    "\n",
    "arr_1d[0] = 12\n",
    "\n",
    "print('Valor atual: {}'.format(str(arr_1d[0])))"
   ]
  },
  {
   "cell_type": "code",
   "execution_count": 133,
   "metadata": {},
   "outputs": [
    {
     "name": "stdout",
     "output_type": "stream",
     "text": [
      "Valor anterior: 108\n",
      "Valor atual: 12\n"
     ]
    }
   ],
   "source": [
    "# Alterando elementos de um array de 2 dimensões\n",
    "\n",
    "valor_anterior = arr_2d[0][0]\n",
    "print('Valor anterior: {}'.format(str(valor_anterior)))\n",
    "\n",
    "arr_2d[0][0] = 12\n",
    "\n",
    "print('Valor atual: {}'.format(str(arr_2d[0][0])))"
   ]
  },
  {
   "cell_type": "code",
   "execution_count": 140,
   "metadata": {},
   "outputs": [
    {
     "name": "stdout",
     "output_type": "stream",
     "text": [
      "Valor anterior: 197\n",
      "Valor atual: 12\n"
     ]
    }
   ],
   "source": [
    "# Alterando elementos de um array de 3 dimensões\n",
    "\n",
    "valor_anterior = arr_3d[0][0][0]\n",
    "print('Valor anterior: {}'.format(str(valor_anterior)))\n",
    "\n",
    "arr_3d[0][0][0] = 12\n",
    "\n",
    "print('Valor atual: {}'.format(str(arr_3d[0][0][0])))"
   ]
  },
  {
   "cell_type": "code",
   "execution_count": 141,
   "metadata": {},
   "outputs": [
    {
     "name": "stdout",
     "output_type": "stream",
     "text": [
      "[109   1  54  98  61 147 102   4 159 115  66 183   1   2   3]\n"
     ]
    }
   ],
   "source": [
    "# Adicionando novos elementos a um array de 1 dimensão\n",
    "\n",
    "arr_1d_add = np.append(arr_1d, [1, 2, 3])\n",
    "print(arr_1d_add)"
   ]
  },
  {
   "cell_type": "code",
   "execution_count": 142,
   "metadata": {},
   "outputs": [
    {
     "name": "stdout",
     "output_type": "stream",
     "text": [
      "[179 145 197  10  32  47 160   9   6  66  77  97   1   2   3]\n"
     ]
    }
   ],
   "source": [
    "# Adicionando novos elementos a um array de 2 dimensões\n",
    "\n",
    "arr_2d_add = np.append(arr_2d, [1, 2, 3])\n",
    "print(arr_2d_add)"
   ]
  },
  {
   "cell_type": "code",
   "execution_count": 143,
   "metadata": {},
   "outputs": [
    {
     "name": "stdout",
     "output_type": "stream",
     "text": [
      "[ 12  56  40  71 185  50 186 172 189  72  31  14  88 128 190 118 184 128\n",
      " 140  61 136 125  67 173 128 185  18 122  28  85 165 144 157  38  47 136\n",
      "   1   2   3]\n"
     ]
    }
   ],
   "source": [
    "# Adicionando novos elementos a um array de 3 dimensões\n",
    "\n",
    "arr_3d_add = np.append(arr_3d, [1, 2, 3])\n",
    "print(arr_3d_add)"
   ]
  },
  {
   "cell_type": "code",
   "execution_count": 145,
   "metadata": {},
   "outputs": [
    {
     "name": "stdout",
     "output_type": "stream",
     "text": [
      "[ 98  61 147 102   4 159 115  66 183   1   2   3]\n"
     ]
    }
   ],
   "source": [
    "# Removendo elementos a um array de 1 dimensão\n",
    "\n",
    "arr_1d_delete = np.delete(arr_1d_add, [0, 1, 2])\n",
    "print(arr_1d_delete)"
   ]
  },
  {
   "cell_type": "code",
   "execution_count": 146,
   "metadata": {},
   "outputs": [
    {
     "name": "stdout",
     "output_type": "stream",
     "text": [
      "[ 10  32  47 160   9   6  66  77  97   1   2   3]\n"
     ]
    }
   ],
   "source": [
    "# Removendo elementos a um array de 2 dimensões\n",
    "\n",
    "arr_2d_delete = np.delete(arr_2d_add, [0, 1, 2])\n",
    "print(arr_2d_delete)"
   ]
  },
  {
   "cell_type": "code",
   "execution_count": 147,
   "metadata": {},
   "outputs": [
    {
     "name": "stdout",
     "output_type": "stream",
     "text": [
      "[ 71 185  50 186 172 189  72  31  14  88 128 190 118 184 128 140  61 136\n",
      " 125  67 173 128 185  18 122  28  85 165 144 157  38  47 136   1   2   3]\n"
     ]
    }
   ],
   "source": [
    "# Removendo elementos a um array de 3 dimensões\n",
    "\n",
    "arr_3d_delete = np.delete(arr_3d_add, [0, 1, 2])\n",
    "print(arr_3d_delete)"
   ]
  },
  {
   "cell_type": "markdown",
   "metadata": {},
   "source": [
    "##### Comparação entre arrays"
   ]
  },
  {
   "cell_type": "code",
   "execution_count": 148,
   "metadata": {},
   "outputs": [
    {
     "name": "stdout",
     "output_type": "stream",
     "text": [
      "[False False False False  True False False False False False False False\n",
      " False False  True False False False False False]\n"
     ]
    }
   ],
   "source": [
    "# Comparando dois arrays e printando se são iguais\n",
    "\n",
    "arr_1d_1 = np.random.randint(0, 10, 20)\n",
    "arr_1d_2 = np.random.randint(0, 10, 20)\n",
    "\n",
    "print(arr_1d_1 == arr_1d_2)"
   ]
  },
  {
   "cell_type": "code",
   "execution_count": 149,
   "metadata": {},
   "outputs": [
    {
     "data": {
      "text/plain": [
       "array([False, False, False, False, False, False, False, False, False,\n",
       "       False,  True, False,  True, False, False, False, False, False,\n",
       "       False, False])"
      ]
     },
     "execution_count": 149,
     "metadata": {},
     "output_type": "execute_result"
    }
   ],
   "source": [
    "# Comparando um elemento específico\n",
    "\n",
    "arr_1d_1 == 1"
   ]
  },
  {
   "cell_type": "code",
   "execution_count": 153,
   "metadata": {},
   "outputs": [
    {
     "name": "stdout",
     "output_type": "stream",
     "text": [
      "[3 3]\n"
     ]
    }
   ],
   "source": [
    "# Retorna apenas onde os elementos são iguais a 3\n",
    "\n",
    "print(arr_1d_1[arr_1d_1 == 3])"
   ]
  },
  {
   "cell_type": "markdown",
   "metadata": {},
   "source": [
    "##### Operações entre arrays e escalares"
   ]
  },
  {
   "cell_type": "code",
   "execution_count": 158,
   "metadata": {},
   "outputs": [
    {
     "name": "stdout",
     "output_type": "stream",
     "text": [
      "[ 1  2  3  4  5  6  7  8  9 10]\n",
      "[ 1  3  5  7  9 11 13 15 17 19]\n",
      "[ 2  4  6  8 10 12 14 16 18 20]\n"
     ]
    }
   ],
   "source": [
    "# Criando um array de 1 dimensão, um array apenas com números ímpares entre 1 a 20 e um que é a multiplicação do 1º array\n",
    "\n",
    "arr_1d = np.arange(1, 11)\n",
    "arr_2d = np.arange(1, 20, 2)\n",
    "arr_3d = 2 * arr_1d\n",
    "print(arr_1d)\n",
    "print(arr_2d)\n",
    "print(arr_3d)"
   ]
  },
  {
   "cell_type": "code",
   "execution_count": 160,
   "metadata": {},
   "outputs": [
    {
     "name": "stdout",
     "output_type": "stream",
     "text": [
      "[ 1  2  3  4  5  6  7  8  9 10]\n",
      "[ 5  6  7  8  9 10 11 12 13 14]\n"
     ]
    }
   ],
   "source": [
    "# Criando um array com a soma todos os valores por 4\n",
    "\n",
    "arr_soma = arr_1d + 4\n",
    "print(arr_1d)\n",
    "print(arr_soma)"
   ]
  },
  {
   "cell_type": "code",
   "execution_count": 168,
   "metadata": {},
   "outputs": [
    {
     "name": "stdout",
     "output_type": "stream",
     "text": [
      "Soma\n",
      "[ 6  8 10 12 14 16 18 20 22 24]\n",
      "[ 6  8 10 12 14 16 18 20 22 24]\n",
      "\n",
      "\n",
      "Subtração\n",
      "[-4 -4 -4 -4 -4 -4 -4 -4 -4 -4]\n",
      "[-4 -4 -4 -4 -4 -4 -4 -4 -4 -4]\n",
      "\n",
      "\n",
      "Multiplicação\n",
      "[  5  12  21  32  45  60  77  96 117 140]\n",
      "[  5  12  21  32  45  60  77  96 117 140]\n",
      "\n",
      "\n",
      "Divisão\n",
      "[0.2        0.33333333 0.42857143 0.5        0.55555556 0.6\n",
      " 0.63636364 0.66666667 0.69230769 0.71428571]\n",
      "[0.2        0.33333333 0.42857143 0.5        0.55555556 0.6\n",
      " 0.63636364 0.66666667 0.69230769 0.71428571]\n"
     ]
    }
   ],
   "source": [
    "# Adição, subtração, multiplicação, divisão entre arrays\n",
    "\n",
    "# Soma \n",
    "\n",
    "print('Soma')\n",
    "\n",
    "arr_soma_2 = arr_1d + arr_soma\n",
    "print(arr_soma_2)\n",
    "\n",
    "# ou então\n",
    "\n",
    "arr_soma_2 = np.add(arr_1d, arr_soma)\n",
    "print(arr_soma_2)\n",
    "print('\\n')\n",
    "\n",
    "# Subtração\n",
    "print('Subtração')\n",
    "\n",
    "arr_subtracao = arr_1d - arr_soma\n",
    "print(arr_subtracao)\n",
    "\n",
    "# ou então\n",
    "\n",
    "arr_subtracao = np.subtract(arr_1d, arr_soma)\n",
    "print(arr_subtracao)\n",
    "print('\\n')\n",
    "\n",
    "# Multiplicação\n",
    "print('Multiplicação')\n",
    "\n",
    "arr_mult = arr_1d * arr_soma\n",
    "print(arr_mult)\n",
    "\n",
    "# ou então\n",
    "\n",
    "arr_mult = np.multiply(arr_1d, arr_soma)\n",
    "print(arr_mult)\n",
    "print('\\n')\n",
    "\n",
    "# Divisão\n",
    "print('Divisão')\n",
    "\n",
    "arr_divisao = arr_1d / arr_soma\n",
    "print(arr_divisao)\n",
    "\n",
    "# ou então\n",
    "\n",
    "arr_divisao = np.divide(arr_1d, arr_soma)\n",
    "print(arr_divisao)\n"
   ]
  },
  {
   "cell_type": "code",
   "execution_count": 164,
   "metadata": {},
   "outputs": [
    {
     "name": "stdout",
     "output_type": "stream",
     "text": [
      "[1.         1.41421356 1.73205081 2.         2.23606798 2.44948974\n",
      " 2.64575131 2.82842712 3.         3.16227766]\n"
     ]
    }
   ],
   "source": [
    "# Quadrado dos valores do array\n",
    "\n",
    "arr_quadrado = np.sqrt(arr_1d)\n",
    "print(arr_quadrado)"
   ]
  },
  {
   "cell_type": "markdown",
   "metadata": {},
   "source": [
    "##### Funções de soma, média, máximo, mínimo, mediana, desvio padrão"
   ]
  },
  {
   "cell_type": "code",
   "execution_count": 170,
   "metadata": {},
   "outputs": [
    {
     "name": "stdout",
     "output_type": "stream",
     "text": [
      "[[27 23 94 31 89 56 14 56  4 72]\n",
      " [73  3  6 36 28 76 94 69 27 57]\n",
      " [28 56  3 44 53 57 96 38 61 13]\n",
      " [45 92  8 68 39 17 72 71 16 13]\n",
      " [35 95 52  1 83 85 93 96 88 75]]\n"
     ]
    }
   ],
   "source": [
    "# Criando um array numpy para testar as funções\n",
    "\n",
    "dados = np.random.randint(1, 101, (5,10))\n",
    "print(dados)"
   ]
  },
  {
   "cell_type": "code",
   "execution_count": 173,
   "metadata": {},
   "outputs": [
    {
     "name": "stdout",
     "output_type": "stream",
     "text": [
      "2528\n",
      "[208 269 163 180 292 291 369 330 196 230]\n",
      "[466 469 449 441 703]\n"
     ]
    }
   ],
   "source": [
    "# Soma normal e com eixo\n",
    "\n",
    "soma_dados = dados.sum()\n",
    "soma_dados_eixo_colunas = dados.sum(axis = 0)\n",
    "soma_dados_eixo_linhas = dados.sum(axis = 1)\n",
    "\n",
    "print(soma_dados)\n",
    "print(soma_dados_eixo_colunas)\n",
    "print(soma_dados_eixo_linhas)"
   ]
  },
  {
   "cell_type": "code",
   "execution_count": 178,
   "metadata": {},
   "outputs": [
    {
     "name": "stdout",
     "output_type": "stream",
     "text": [
      "[208 269 163 180 292 291 369 330 196 230]\n",
      "[208 269 163 180 292 291 369 330 196 230]\n"
     ]
    }
   ],
   "source": [
    "# Utilizando a função built-in do Python é o mesmo que a soma no eixo da coluna\n",
    "\n",
    "soma_dados_built_in = sum(dados)\n",
    "\n",
    "print(soma_dados_eixo_colunas)\n",
    "print(soma_dados_built_in)"
   ]
  },
  {
   "cell_type": "code",
   "execution_count": 181,
   "metadata": {},
   "outputs": [
    {
     "name": "stdout",
     "output_type": "stream",
     "text": [
      "Maior geral: 96\n",
      "Menor geral: 1\n",
      "Maior colunas: [73 95 94 68 89 85 96 96 88 75]\n",
      "Menor colunas: [73 95 94 68 89 85 96 96 88 75]\n",
      "Maior linhas: [94 94 96 92 96]\n",
      "Menor linhas: [94 94 96 92 96]\n"
     ]
    }
   ],
   "source": [
    "# Valores máximos e mínimos gerais e por eixo\n",
    "\n",
    "maior_geral = dados.max()\n",
    "menor_geral = dados.min()\n",
    "maior_colunas = dados.max(axis = 0)\n",
    "menor_colunas = dados.max(axis = 0)\n",
    "maior_linhas = dados.max(axis = 1)\n",
    "menor_linhas = dados.max(axis = 1)\n",
    "\n",
    "print('Maior geral: {}'.format(str(maior_geral)))\n",
    "print('Menor geral: {}'.format(str(menor_geral)))\n",
    "print('Maior colunas: {}'.format(str(maior_colunas)))\n",
    "print('Menor colunas: {}'.format(str(menor_colunas)))\n",
    "print('Maior linhas: {}'.format(str(maior_linhas)))\n",
    "print('Menor linhas: {}'.format(str(menor_linhas)))"
   ]
  },
  {
   "cell_type": "code",
   "execution_count": 182,
   "metadata": {},
   "outputs": [
    {
     "name": "stdout",
     "output_type": "stream",
     "text": [
      "Soma acumulada geral: [  27   50  144  175  264  320  334  390  394  466  539  542  548  584\n",
      "  612  688  782  851  878  935  963 1019 1022 1066 1119 1176 1272 1310\n",
      " 1371 1384 1429 1521 1529 1597 1636 1653 1725 1796 1812 1825 1860 1955\n",
      " 2007 2008 2091 2176 2269 2365 2453 2528]\n",
      "Soma acumulada colunas: [[ 27  23  94  31  89  56  14  56   4  72]\n",
      " [100  26 100  67 117 132 108 125  31 129]\n",
      " [128  82 103 111 170 189 204 163  92 142]\n",
      " [173 174 111 179 209 206 276 234 108 155]\n",
      " [208 269 163 180 292 291 369 330 196 230]]\n",
      "Soma acumulada linhas: [[ 27  50 144 175 264 320 334 390 394 466]\n",
      " [ 73  76  82 118 146 222 316 385 412 469]\n",
      " [ 28  84  87 131 184 241 337 375 436 449]\n",
      " [ 45 137 145 213 252 269 341 412 428 441]\n",
      " [ 35 130 182 183 266 351 444 540 628 703]]\n"
     ]
    }
   ],
   "source": [
    "# Soma acumulada geral e por eixos\n",
    "\n",
    "soma_acumulada_geral = dados.cumsum()\n",
    "soma_acumulada_colunas = dados.cumsum(axis = 0)\n",
    "soma_acumulada_linhas = dados.cumsum(axis = 1)\n",
    "\n",
    "print('Soma acumulada geral: {}'.format(str(soma_acumulada_geral)))\n",
    "print('Soma acumulada colunas: {}'.format(str(soma_acumulada_colunas)))\n",
    "print('Soma acumulada linhas: {}'.format(str(soma_acumulada_linhas)))"
   ]
  },
  {
   "cell_type": "code",
   "execution_count": 183,
   "metadata": {},
   "outputs": [
    {
     "name": "stdout",
     "output_type": "stream",
     "text": [
      "Média geral: 50.56\n",
      "Média colunas: [41.6 53.8 32.6 36.  58.4 58.2 73.8 66.  39.2 46. ]\n",
      "Média linhas: [46.6 46.9 44.9 44.1 70.3]\n"
     ]
    }
   ],
   "source": [
    "# Média geral por eixos\n",
    "\n",
    "media_geral = dados.mean()\n",
    "media_colunas = dados.mean(axis = 0)\n",
    "media_linhas = dados.mean(axis = 1)\n",
    "\n",
    "print('Média geral: {}'.format(str(media_geral)))\n",
    "print('Média colunas: {}'.format(str(media_colunas)))\n",
    "print('Média linhas: {}'.format(str(media_linhas)))"
   ]
  },
  {
   "cell_type": "code",
   "execution_count": 185,
   "metadata": {},
   "outputs": [
    {
     "name": "stdout",
     "output_type": "stream",
     "text": [
      "Desvio Padrão geral: 30.346769185532747\n",
      "Desvio Padrão colunas: [16.96584805 36.58086932 35.59550533 21.62406067 23.96330528 23.40427311\n",
      " 31.1409698  19.0682983  30.92830419 27.62607464]\n",
      "Desvio Padrão linhas: [29.88042838 29.6797911  25.12548507 28.61625412 29.80285221]\n"
     ]
    }
   ],
   "source": [
    "# Desvio Padrão geral por eixos\n",
    "\n",
    "desvio_padrao_geral = dados.std()\n",
    "desvio_padrao_colunas = dados.std(axis = 0)\n",
    "desvio_padrao_linhas = dados.std(axis = 1)\n",
    "\n",
    "print('Desvio Padrão geral: {}'.format(str(desvio_padrao_geral)))\n",
    "print('Desvio Padrão colunas: {}'.format(str(desvio_padrao_colunas)))\n",
    "print('Desvio Padrão linhas: {}'.format(str(desvio_padrao_linhas)))"
   ]
  },
  {
   "cell_type": "code",
   "execution_count": 186,
   "metadata": {},
   "outputs": [
    {
     "name": "stdout",
     "output_type": "stream",
     "text": [
      "Mediana geral: 54.5\n",
      "Mediana colunas: [35. 56.  8. 36. 53. 57. 93. 69. 27. 57.]\n",
      "Mediana linhas: [43.5 46.5 48.5 42.  84. ]\n"
     ]
    }
   ],
   "source": [
    "# Mediana geral por eixos\n",
    "\n",
    "mediana_geral = np.median(dados)\n",
    "mediana_colunas = np.median(dados, axis = 0)\n",
    "mediana_linhas = np.median(dados, axis = 1)\n",
    "\n",
    "print('Mediana geral: {}'.format(str(mediana_geral)))\n",
    "print('Mediana colunas: {}'.format(str(mediana_colunas)))\n",
    "print('Mediana linhas: {}'.format(str(mediana_linhas)))"
   ]
  },
  {
   "cell_type": "markdown",
   "metadata": {},
   "source": [
    "##### Concatenação e cópia de Arrays"
   ]
  },
  {
   "cell_type": "code",
   "execution_count": 201,
   "metadata": {},
   "outputs": [
    {
     "name": "stdout",
     "output_type": "stream",
     "text": [
      "[[37 42 26 21 47]\n",
      " [ 7  8 43 35 13]\n",
      " [33 20 18 47 38]\n",
      " [ 8 14 26 40 19]]\n",
      "\n",
      "\n",
      "[[61 84 77 83 85]\n",
      " [86 69 84 85 65]\n",
      " [87 60 95 51 69]\n",
      " [63 99 77 75 76]]\n"
     ]
    }
   ],
   "source": [
    "# Criando o array para testes\n",
    "\n",
    "arr_2d_1 = np.random.randint(1, 50,(4,5))\n",
    "arr_2d_2 = np.random.randint(50, 100,(4,5))\n",
    "\n",
    "print(arr_2d_1)\n",
    "print('\\n')\n",
    "print(arr_2d_2)"
   ]
  },
  {
   "cell_type": "code",
   "execution_count": 202,
   "metadata": {},
   "outputs": [
    {
     "name": "stdout",
     "output_type": "stream",
     "text": [
      "[[-1 84 77 83 85]\n",
      " [86 -1 84 85 -1]\n",
      " [87 -1 95 -1 -1]\n",
      " [-1 99 77 75 76]]\n",
      "\n",
      "\n",
      "[[-1 84 77 83 85]\n",
      " [86 -1 84 85 -1]\n",
      " [87 -1 95 -1 -1]\n",
      " [-1 99 77 75 76]]\n"
     ]
    }
   ],
   "source": [
    "# Alterando via referência de memória sem usar copy()\n",
    "\n",
    "arr_2d_3 = arr_2d_2\n",
    "arr_2d_3[arr_2d_3 < 70] = - 1\n",
    "\n",
    "print(arr_2d_2)\n",
    "print('\\n')\n",
    "print(arr_2d_3)"
   ]
  },
  {
   "cell_type": "code",
   "execution_count": 203,
   "metadata": {},
   "outputs": [
    {
     "name": "stdout",
     "output_type": "stream",
     "text": [
      "[[-1 84 77 83 85]\n",
      " [86 -1 84 85 -1]\n",
      " [87 -1 95 -1 -1]\n",
      " [-1 99 77 75 76]]\n",
      "\n",
      "\n",
      "[[-2 -2 -2 -2 -2]\n",
      " [-2 -2 -2 -2 -2]\n",
      " [-2 -2 95 -2 -2]\n",
      " [-2 99 -2 -2 -2]]\n"
     ]
    }
   ],
   "source": [
    "# Alterando utilizando copy() - cria uma nova referência na memória e não modifica o array copiado\n",
    "\n",
    "arr_2d_3 = arr_2d_2.copy()\n",
    "arr_2d_3[arr_2d_3 < 90] = - 2\n",
    "\n",
    "print(arr_2d_2)\n",
    "print('\\n')\n",
    "print(arr_2d_3)"
   ]
  },
  {
   "cell_type": "markdown",
   "metadata": {},
   "source": [
    "##### Ordenando elementos em um Array"
   ]
  },
  {
   "cell_type": "code",
   "execution_count": 226,
   "metadata": {},
   "outputs": [
    {
     "name": "stdout",
     "output_type": "stream",
     "text": [
      "[31 71 88 67 25 71 84 46 89 28 69 98 10  2 21]\n",
      "\n",
      "\n",
      "[[54 64 28 33 66 91 46 40 11 19]\n",
      " [41 10 38 40 66 13 75 94 27 33]\n",
      " [91 87 55 50 60 22 15 44 57 91]\n",
      " [68 58 26 75 62 43 69 13 33 16]\n",
      " [26 59 61 74 24 11 60  9 20 60]\n",
      " [23 96 93 77 36 13 42 36  8 95]\n",
      " [ 5 18 42 37 28 44  8 24 84 94]\n",
      " [54 11 27  3 54 86 51 17 86 53]\n",
      " [78 93 30 51 91 61 25 65 75 58]\n",
      " [20 27 91 23 85  6 80 89 15 12]]\n"
     ]
    }
   ],
   "source": [
    "# Criando os arrays para ordenar\n",
    "\n",
    "sort_1d = np.random.randint(1, 99, 15)\n",
    "sort_2d = np.random.randint(1, 99, (10, 10))\n",
    "\n",
    "print(sort_1d)\n",
    "print('\\n')\n",
    "print(sort_2d)"
   ]
  },
  {
   "cell_type": "code",
   "execution_count": 227,
   "metadata": {},
   "outputs": [
    {
     "name": "stdout",
     "output_type": "stream",
     "text": [
      "[ 2 10 21 25 28 31 46 67 69 71 71 84 88 89 98]\n"
     ]
    }
   ],
   "source": [
    "# Ordenação simples em array de 1 dimensão\n",
    "\n",
    "sort_1d.sort()\n",
    "print(sort_1d)"
   ]
  },
  {
   "cell_type": "code",
   "execution_count": 228,
   "metadata": {},
   "outputs": [
    {
     "name": "stdout",
     "output_type": "stream",
     "text": [
      "[[54 64 28 33 66 91 46 40 11 19]\n",
      " [41 10 38 40 66 13 75 94 27 33]\n",
      " [91 87 55 50 60 22 15 44 57 91]\n",
      " [68 58 26 75 62 43 69 13 33 16]\n",
      " [26 59 61 74 24 11 60  9 20 60]\n",
      " [23 96 93 77 36 13 42 36  8 95]\n",
      " [ 5 18 42 37 28 44  8 24 84 94]\n",
      " [54 11 27  3 54 86 51 17 86 53]\n",
      " [78 93 30 51 91 61 25 65 75 58]\n",
      " [20 27 91 23 85  6 80 89 15 12]]\n",
      "\n",
      "\n",
      "[[ 3  8 15 20 23 27 41 44 61 74]\n",
      " [ 5 11 17 24 26 37 42 54 66 75]\n",
      " [ 6 11 18 24 28 40 54 60 69 86]\n",
      " [ 8 12 20 27 36 42 54 64 75 91]\n",
      " [ 9 13 23 33 38 46 60 66 84 91]\n",
      " [10 13 26 33 40 53 60 68 86 91]\n",
      " [11 16 27 33 43 57 62 78 89 93]\n",
      " [13 19 28 36 51 58 75 85 91 94]\n",
      " [15 22 44 50 55 59 77 87 91 94]\n",
      " [25 30 51 58 61 65 80 93 95 96]]\n",
      "\n",
      "\n",
      "[[11 19 28 33 40 46 54 64 66 91]\n",
      " [10 13 27 33 38 40 41 66 75 94]\n",
      " [15 22 44 50 55 57 60 87 91 91]\n",
      " [13 16 26 33 43 58 62 68 69 75]\n",
      " [ 9 11 20 24 26 59 60 60 61 74]\n",
      " [ 8 13 23 36 36 42 77 93 95 96]\n",
      " [ 5  8 18 24 28 37 42 44 84 94]\n",
      " [ 3 11 17 27 51 53 54 54 86 86]\n",
      " [25 30 51 58 61 65 75 78 91 93]\n",
      " [ 6 12 15 20 23 27 80 85 89 91]]\n"
     ]
    }
   ],
   "source": [
    "# Ordenação simples, por linhas e colunas em array de 2 dimensões\n",
    "\n",
    "sort_normal = sort_2d.copy()\n",
    "sort_colunas = sort_2d.copy()\n",
    "sort_linhas = sort_2d.copy()\n",
    "\n",
    "sort_colunas.sort()\n",
    "print(sort_normal)\n",
    "print('\\n')\n",
    "\n",
    "sort_colunas.sort(axis = 0)\n",
    "print(sort_colunas)\n",
    "print('\\n')\n",
    "\n",
    "sort_linhas.sort(axis = 1)\n",
    "print(sort_linhas)"
   ]
  },
  {
   "cell_type": "markdown",
   "metadata": {},
   "source": [
    "##### Transposição de Arrays"
   ]
  },
  {
   "cell_type": "code",
   "execution_count": 230,
   "metadata": {},
   "outputs": [
    {
     "name": "stdout",
     "output_type": "stream",
     "text": [
      "[[1 2 3 4]\n",
      " [5 6 7 8]]\n"
     ]
    }
   ],
   "source": [
    "# Criar o array para transpor\n",
    "\n",
    "arr = np.array([[1, 2, 3, 4], [5, 6, 7, 8]])\n",
    "print(arr)"
   ]
  },
  {
   "cell_type": "code",
   "execution_count": 236,
   "metadata": {},
   "outputs": [
    {
     "name": "stdout",
     "output_type": "stream",
     "text": [
      "[[1 5]\n",
      " [2 6]\n",
      " [3 7]\n",
      " [4 8]]\n",
      "\n",
      "\n",
      "[[1 5]\n",
      " [2 6]\n",
      " [3 7]\n",
      " [4 8]]\n",
      "\n",
      "\n",
      "[[1 2 3 4]\n",
      " [5 6 7 8]]\n"
     ]
    }
   ],
   "source": [
    "# O atributo T ou a função transpose() irão mostrar o array transposto, porém, não modificará o array\n",
    "\n",
    "print(arr.T)\n",
    "print('\\n')\n",
    "print(arr.transpose())\n",
    "print('\\n')\n",
    "print(arr)"
   ]
  },
  {
   "cell_type": "markdown",
   "metadata": {},
   "source": [
    "##### Reshaping de Arrays - alterando o formato de um Array"
   ]
  },
  {
   "cell_type": "code",
   "execution_count": 240,
   "metadata": {},
   "outputs": [
    {
     "name": "stdout",
     "output_type": "stream",
     "text": [
      "[ 1  2  3  4  5  6  7  8  9 10 11 12 13 14 15 16 17 18 19 20 21 22 23 24]\n",
      "(24,)\n"
     ]
    }
   ],
   "source": [
    "# Utilizando a função reshape, é possível alterar o formato do array, um ndarray 4x5 pode tornar-se 5x4\n",
    "\n",
    "arr = np.arange(1, 25)\n",
    "print(arr)\n",
    "print(arr.shape)"
   ]
  },
  {
   "cell_type": "code",
   "execution_count": 242,
   "metadata": {},
   "outputs": [
    {
     "name": "stdout",
     "output_type": "stream",
     "text": [
      "[[ 1  2  3  4  5  6  7  8  9 10 11 12]\n",
      " [13 14 15 16 17 18 19 20 21 22 23 24]]\n"
     ]
    }
   ],
   "source": [
    "# Alterando o shape do array para 2 linhas e 12 colunas \n",
    "\n",
    "arr.shape = (2, 12)\n",
    "print(arr)"
   ]
  },
  {
   "cell_type": "code",
   "execution_count": 245,
   "metadata": {},
   "outputs": [
    {
     "name": "stdout",
     "output_type": "stream",
     "text": [
      "[[ 1  2  3  4  5  6  7  8]\n",
      " [ 9 10 11 12 13 14 15 16]\n",
      " [17 18 19 20 21 22 23 24]]\n"
     ]
    }
   ],
   "source": [
    "# Alterando o shape do array para 3 linhas e 8 colunas \n",
    "\n",
    "arr.shape = (3, 8)\n",
    "print(arr)"
   ]
  },
  {
   "cell_type": "code",
   "execution_count": 248,
   "metadata": {},
   "outputs": [
    {
     "name": "stdout",
     "output_type": "stream",
     "text": [
      "[[ 1  2  3  4  5  6]\n",
      " [ 7  8  9 10 11 12]\n",
      " [13 14 15 16 17 18]\n",
      " [19 20 21 22 23 24]]\n",
      "\n",
      "\n",
      "[[ 1  2  3  4  5  6  7  8]\n",
      " [ 9 10 11 12 13 14 15 16]\n",
      " [17 18 19 20 21 22 23 24]]\n"
     ]
    }
   ],
   "source": [
    "# A função reshape() não altera o array, apenas mostra o reshaping\n",
    "\n",
    "print(arr.reshape(4, 6))\n",
    "print('\\n')\n",
    "print(arr)"
   ]
  },
  {
   "cell_type": "code",
   "execution_count": 252,
   "metadata": {},
   "outputs": [
    {
     "name": "stdout",
     "output_type": "stream",
     "text": [
      "[ 1  2  3  4  5  6  7  8  9 10 11 12 13 14 15 16 17 18 19 20 21 22 23 24]\n",
      "[ 1  2  3  4  5  6  7  8  9 10 11 12 13 14 15 16 17 18 19 20 21 22 23 24]\n"
     ]
    }
   ],
   "source": [
    "# Linearizar um array em 1 dimensão com as funções flatten() e ravel()\n",
    "\n",
    "arr_linear_1 = arr.flatten()\n",
    "arr_linear_2 = arr.ravel()\n",
    "\n",
    "print(arr_linear_1)\n",
    "print(arr_linear_2)"
   ]
  },
  {
   "cell_type": "markdown",
   "metadata": {},
   "source": [
    "##### Concatenação de Arrays"
   ]
  },
  {
   "cell_type": "code",
   "execution_count": 256,
   "metadata": {},
   "outputs": [
    {
     "name": "stdout",
     "output_type": "stream",
     "text": [
      "[[31 68  6 80 45  3 39 79 58]\n",
      " [53 67 19 75 84 96 54 77 94]\n",
      " [26 76 87 17 35 31 37 98  7]]\n",
      "\n",
      "\n",
      "[[32 59 47 43 60 25 75 75 42]\n",
      " [75 48 76 98 98 42 37 40 46]\n",
      " [13 66 82 98 31 18 74 27 65]\n",
      " [25 18 35 50 18 77 63 34  6]\n",
      " [19 58  5  3  3 25 67 98 47]]\n",
      "\n",
      "\n",
      "[[16 67 10 80]\n",
      " [86 95 31  8]\n",
      " [98 69 30 39]\n",
      " [20 24 19 29]\n",
      " [80 56 69 22]]\n"
     ]
    }
   ],
   "source": [
    "# Criando arrays para concatenar\n",
    "\n",
    "arr_1 = np.random.randint(1,101,(3, 9))\n",
    "arr_2 = np.random.randint(1,101,(5, 9))\n",
    "arr_3 = np.random.randint(1,101,(5, 4))\n",
    "\n",
    "print(arr_1)\n",
    "print('\\n')\n",
    "print(arr_2)\n",
    "print('\\n')\n",
    "print(arr_3)"
   ]
  },
  {
   "cell_type": "code",
   "execution_count": 264,
   "metadata": {},
   "outputs": [
    {
     "name": "stdout",
     "output_type": "stream",
     "text": [
      "[[31 68  6 80 45  3 39 79 58]\n",
      " [53 67 19 75 84 96 54 77 94]\n",
      " [26 76 87 17 35 31 37 98  7]\n",
      " [32 59 47 43 60 25 75 75 42]\n",
      " [75 48 76 98 98 42 37 40 46]\n",
      " [13 66 82 98 31 18 74 27 65]\n",
      " [25 18 35 50 18 77 63 34  6]\n",
      " [19 58  5  3  3 25 67 98 47]]\n",
      "\n",
      "\n",
      "[[31 68  6 80 45  3 39 79 58]\n",
      " [53 67 19 75 84 96 54 77 94]\n",
      " [26 76 87 17 35 31 37 98  7]\n",
      " [32 59 47 43 60 25 75 75 42]\n",
      " [75 48 76 98 98 42 37 40 46]\n",
      " [13 66 82 98 31 18 74 27 65]\n",
      " [25 18 35 50 18 77 63 34  6]\n",
      " [19 58  5  3  3 25 67 98 47]]\n"
     ]
    }
   ],
   "source": [
    "# Utilizando a concatenação vertical pelo eixo das colunas utilizando concatenate axis = 0 ou com vstack (faz direto)\n",
    "\n",
    "concat_1 = np.concatenate((arr_1, arr_2), axis = 0)\n",
    "vstack = np.vstack((arr_1, arr_2))\n",
    "\n",
    "print(concat_1)\n",
    "print('\\n')\n",
    "print(vstack)"
   ]
  },
  {
   "cell_type": "code",
   "execution_count": 266,
   "metadata": {},
   "outputs": [
    {
     "name": "stdout",
     "output_type": "stream",
     "text": [
      "[[32 59 47 43 60 25 75 75 42 16 67 10 80]\n",
      " [75 48 76 98 98 42 37 40 46 86 95 31  8]\n",
      " [13 66 82 98 31 18 74 27 65 98 69 30 39]\n",
      " [25 18 35 50 18 77 63 34  6 20 24 19 29]\n",
      " [19 58  5  3  3 25 67 98 47 80 56 69 22]]\n",
      "\n",
      "\n",
      "[[32 59 47 43 60 25 75 75 42 16 67 10 80]\n",
      " [75 48 76 98 98 42 37 40 46 86 95 31  8]\n",
      " [13 66 82 98 31 18 74 27 65 98 69 30 39]\n",
      " [25 18 35 50 18 77 63 34  6 20 24 19 29]\n",
      " [19 58  5  3  3 25 67 98 47 80 56 69 22]]\n"
     ]
    }
   ],
   "source": [
    "# Utilizando a concatenação horizontal pelo eixo das linhas utilizando concatenate axis = 1 ou com hstack (faz direto)\n",
    "\n",
    "concat_2 = np.concatenate((arr_2, arr_3), axis = 1)\n",
    "hstack = np.hstack((arr_2, arr_3))\n",
    "\n",
    "print(concat_2)\n",
    "print('\\n')\n",
    "print(hstack)"
   ]
  },
  {
   "cell_type": "markdown",
   "metadata": {},
   "source": [
    "##### Dividindo arrays"
   ]
  },
  {
   "cell_type": "code",
   "execution_count": 275,
   "metadata": {},
   "outputs": [
    {
     "name": "stdout",
     "output_type": "stream",
     "text": [
      "[[31 68  6 80 45  3 39 79 58]\n",
      " [53 67 19 75 84 96 54 77 94]\n",
      " [26 76 87 17 35 31 37 98  7]\n",
      " [32 59 47 43 60 25 75 75 42]\n",
      " [75 48 76 98 98 42 37 40 46]\n",
      " [13 66 82 98 31 18 74 27 65]\n",
      " [25 18 35 50 18 77 63 34  6]\n",
      " [19 58  5  3  3 25 67 98 47]]\n",
      "\n",
      "\n",
      "[[31 68  6 80 45  3 39 79 58]\n",
      " [53 67 19 75 84 96 54 77 94]\n",
      " [26 76 87 17 35 31 37 98  7]\n",
      " [32 59 47 43 60 25 75 75 42]]\n",
      "\n",
      "\n",
      "[[75 48 76 98 98 42 37 40 46]\n",
      " [13 66 82 98 31 18 74 27 65]\n",
      " [25 18 35 50 18 77 63 34  6]\n",
      " [19 58  5  3  3 25 67 98 47]]\n"
     ]
    }
   ],
   "source": [
    "# Dividindo o primeiro array concatenado em 2 pelo eixo das colunas | divisão vertical com vsplit() \n",
    "\n",
    "vsplit = np.vsplit(concat_1, 2)\n",
    "print(concat_1)\n",
    "print('\\n')\n",
    "print(vsplit[0])\n",
    "print('\\n')\n",
    "print(vsplit[1])"
   ]
  },
  {
   "cell_type": "code",
   "execution_count": 277,
   "metadata": {},
   "outputs": [
    {
     "name": "stdout",
     "output_type": "stream",
     "text": [
      "[[31 68  6 80 45  3 39 79 58]\n",
      " [53 67 19 75 84 96 54 77 94]\n",
      " [26 76 87 17 35 31 37 98  7]\n",
      " [32 59 47 43 60 25 75 75 42]\n",
      " [75 48 76 98 98 42 37 40 46]\n",
      " [13 66 82 98 31 18 74 27 65]\n",
      " [25 18 35 50 18 77 63 34  6]\n",
      " [19 58  5  3  3 25 67 98 47]]\n",
      "\n",
      "\n",
      "[[31 68  6]\n",
      " [53 67 19]\n",
      " [26 76 87]\n",
      " [32 59 47]\n",
      " [75 48 76]\n",
      " [13 66 82]\n",
      " [25 18 35]\n",
      " [19 58  5]]\n",
      "\n",
      "\n",
      "[[80 45  3]\n",
      " [75 84 96]\n",
      " [17 35 31]\n",
      " [43 60 25]\n",
      " [98 98 42]\n",
      " [98 31 18]\n",
      " [50 18 77]\n",
      " [ 3  3 25]]\n",
      "\n",
      "\n",
      "[[39 79 58]\n",
      " [54 77 94]\n",
      " [37 98  7]\n",
      " [75 75 42]\n",
      " [37 40 46]\n",
      " [74 27 65]\n",
      " [63 34  6]\n",
      " [67 98 47]]\n"
     ]
    }
   ],
   "source": [
    "# Dividindo o primeiro array concatenado em 3 pelo eixo das linhas | divisão horizontal com hsplit() \n",
    "\n",
    "hsplit = np.hsplit(concat_1, 3)\n",
    "\n",
    "print(concat_1)\n",
    "print('\\n')\n",
    "print(hsplit[0])\n",
    "print('\\n')\n",
    "print(hsplit[1])\n",
    "print('\\n')\n",
    "print(hsplit[2])"
   ]
  },
  {
   "cell_type": "markdown",
   "metadata": {},
   "source": [
    "##### Testes de performance de funções comuns e utilizando o NumPy"
   ]
  },
  {
   "cell_type": "code",
   "execution_count": 281,
   "metadata": {},
   "outputs": [
    {
     "name": "stdout",
     "output_type": "stream",
     "text": [
      "292\n",
      "292\n",
      "292\n"
     ]
    }
   ],
   "source": [
    "# Será criada uma função em Python para comparar as somas e a mesma função no NumPy\n",
    "\n",
    "idades = [12, 15, 14, 88, 32, 54, 41, 11, 25]\n",
    "\n",
    "def soma(idades):\n",
    "    soma = 0\n",
    "    for num in idades:\n",
    "        soma += num\n",
    "    return soma\n",
    "\n",
    "print(soma(idades))\n",
    "print(sum(idades))\n",
    "print(np.sum(idades))"
   ]
  },
  {
   "cell_type": "code",
   "execution_count": 295,
   "metadata": {},
   "outputs": [
    {
     "name": "stdout",
     "output_type": "stream",
     "text": [
      "489993396\n",
      "489993396\n",
      "489993396\n"
     ]
    }
   ],
   "source": [
    "# Gerando uma lista de idades entre 0 a 50 com 20 milhões de dados\n",
    "\n",
    "idades = np.random.randint(0, 50, 20000000)\n",
    "\n",
    "print(soma(idades))\n",
    "print(sum(idades))\n",
    "print(np.sum(idades))"
   ]
  },
  {
   "cell_type": "markdown",
   "metadata": {},
   "source": [
    "##### Calculando o tempo de execução de cada uma das funções"
   ]
  },
  {
   "cell_type": "code",
   "execution_count": 296,
   "metadata": {},
   "outputs": [
    {
     "name": "stdout",
     "output_type": "stream",
     "text": [
      "4.89 s ± 162 ms per loop (mean ± std. dev. of 7 runs, 1 loop each)\n"
     ]
    }
   ],
   "source": [
    "%timeit soma(idades)"
   ]
  },
  {
   "cell_type": "code",
   "execution_count": 297,
   "metadata": {},
   "outputs": [
    {
     "name": "stdout",
     "output_type": "stream",
     "text": [
      "3.88 s ± 67.9 ms per loop (mean ± std. dev. of 7 runs, 1 loop each)\n"
     ]
    }
   ],
   "source": [
    "%timeit sum(idades)"
   ]
  },
  {
   "cell_type": "code",
   "execution_count": 298,
   "metadata": {},
   "outputs": [
    {
     "name": "stdout",
     "output_type": "stream",
     "text": [
      "10.6 ms ± 78.3 µs per loop (mean ± std. dev. of 7 runs, 100 loops each)\n"
     ]
    }
   ],
   "source": [
    "%timeit np.sum(idades)"
   ]
  },
  {
   "cell_type": "code",
   "execution_count": 304,
   "metadata": {},
   "outputs": [],
   "source": [
    "numeros = np.random.randint(1000, 2000, 2000000)\n",
    "\n",
    "def quadrados(numeros):\n",
    "    quadrados = []\n",
    "    for numero in numeros:\n",
    "        quadrados.append(numero ** 2)\n",
    "    return quadrados\n",
    "\n",
    "def quadrados_comprehension(numeros):\n",
    "    return [num * num for num in numeros]\n",
    "\n",
    "def quadrados_map(numeros):\n",
    "    return list(map(lambda n: n ** 2, numeros))"
   ]
  },
  {
   "cell_type": "code",
   "execution_count": 305,
   "metadata": {},
   "outputs": [
    {
     "name": "stdout",
     "output_type": "stream",
     "text": [
      "1.43 s ± 152 ms per loop (mean ± std. dev. of 7 runs, 1 loop each)\n"
     ]
    }
   ],
   "source": [
    "%timeit quadrados(numeros)"
   ]
  },
  {
   "cell_type": "code",
   "execution_count": 306,
   "metadata": {},
   "outputs": [
    {
     "name": "stdout",
     "output_type": "stream",
     "text": [
      "782 ms ± 142 ms per loop (mean ± std. dev. of 7 runs, 1 loop each)\n"
     ]
    }
   ],
   "source": [
    "%timeit quadrados_comprehension(numeros)"
   ]
  },
  {
   "cell_type": "code",
   "execution_count": 307,
   "metadata": {},
   "outputs": [
    {
     "name": "stdout",
     "output_type": "stream",
     "text": [
      "1.32 s ± 93 ms per loop (mean ± std. dev. of 7 runs, 1 loop each)\n"
     ]
    }
   ],
   "source": [
    "%timeit quadrados_map(numeros)"
   ]
  },
  {
   "cell_type": "code",
   "execution_count": 308,
   "metadata": {},
   "outputs": [
    {
     "name": "stdout",
     "output_type": "stream",
     "text": [
      "277 ms ± 19.8 ms per loop (mean ± std. dev. of 7 runs, 1 loop each)\n"
     ]
    }
   ],
   "source": [
    "%timeit list(np.power(numeros, 2))"
   ]
  }
 ],
 "metadata": {
  "kernelspec": {
   "display_name": "Python 3",
   "language": "python",
   "name": "python3"
  },
  "language_info": {
   "codemirror_mode": {
    "name": "ipython",
    "version": 3
   },
   "file_extension": ".py",
   "mimetype": "text/x-python",
   "name": "python",
   "nbconvert_exporter": "python",
   "pygments_lexer": "ipython3",
   "version": "3.7.4"
  }
 },
 "nbformat": 4,
 "nbformat_minor": 2
}
