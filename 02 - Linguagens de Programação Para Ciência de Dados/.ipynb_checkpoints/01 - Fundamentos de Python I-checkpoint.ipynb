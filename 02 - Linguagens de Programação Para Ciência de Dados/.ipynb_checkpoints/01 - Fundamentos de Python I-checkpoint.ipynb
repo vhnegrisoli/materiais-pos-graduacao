{
 "cells": [
  {
   "cell_type": "markdown",
   "metadata": {},
   "source": [
    "## Pós-Graduação: Especialização em Data Science & Big Data"
   ]
  },
  {
   "cell_type": "markdown",
   "metadata": {},
   "source": [
    "### Pontifícia Universidade Católica de Minas Gerais (PUC-MG)"
   ]
  },
  {
   "cell_type": "markdown",
   "metadata": {},
   "source": [
    "#### Victor Hugo Negrisoli - Linguagens de Programação Para Ciência de Dados\n"
   ]
  },
  {
   "cell_type": "markdown",
   "metadata": {},
   "source": [
    "#### Fundamentos de Pyhton I"
   ]
  },
  {
   "cell_type": "markdown",
   "metadata": {},
   "source": [
    "#### 01 - Variáveis, tipos de dados, conversão/casting de dados e comentários"
   ]
  },
  {
   "cell_type": "markdown",
   "metadata": {},
   "source": [
    "###### Variáveis"
   ]
  },
  {
   "cell_type": "code",
   "execution_count": null,
   "metadata": {},
   "outputs": [],
   "source": [
    "# Tipos: int, string, bool, float, etc\n",
    "\n",
    "nome_aluno = \"Victor Hugo Negrisoli\"\n",
    "idade = 22\n",
    "pagamento_aprovado = True\n",
    "valor_pagamento = 17.50\n",
    "print(nome_aluno)\n",
    "print(idade)\n",
    "print(pagamento_aprovado)\n",
    "print(valor_pagamento)"
   ]
  },
  {
   "cell_type": "markdown",
   "metadata": {},
   "source": [
    "##### Conversão / Casting de Dados "
   ]
  },
  {
   "cell_type": "code",
   "execution_count": 2,
   "metadata": {},
   "outputs": [
    {
     "name": "stdout",
     "output_type": "stream",
     "text": [
      "2020\n",
      "2020\n"
     ]
    }
   ],
   "source": [
    "ano = 2020\n",
    "print(ano)\n",
    "\n",
    "# Int para String\n",
    "\n",
    "ano_string = str(ano)\n",
    "print(ano_string)"
   ]
  },
  {
   "cell_type": "code",
   "execution_count": 3,
   "metadata": {},
   "outputs": [
    {
     "name": "stdout",
     "output_type": "stream",
     "text": [
      "True\n"
     ]
    }
   ],
   "source": [
    "# Int para Bool\n",
    "\n",
    "ano_bool = bool(ano)\n",
    "print(ano_bool)"
   ]
  },
  {
   "cell_type": "code",
   "execution_count": 4,
   "metadata": {},
   "outputs": [
    {
     "name": "stdout",
     "output_type": "stream",
     "text": [
      "False\n"
     ]
    }
   ],
   "source": [
    "# Expressão para Bool\n",
    "\n",
    "ano_bool_false = bool(ano < 10)\n",
    "print(ano_bool_false)"
   ]
  },
  {
   "cell_type": "code",
   "execution_count": 5,
   "metadata": {},
   "outputs": [
    {
     "name": "stdout",
     "output_type": "stream",
     "text": [
      "2020.0\n"
     ]
    }
   ],
   "source": [
    "# Int para Float\n",
    "\n",
    "ano_float = float(2020)\n",
    "print(ano_float)"
   ]
  },
  {
   "cell_type": "code",
   "execution_count": 6,
   "metadata": {},
   "outputs": [
    {
     "name": "stdout",
     "output_type": "stream",
     "text": [
      "132\n"
     ]
    }
   ],
   "source": [
    "# Float para Int\n",
    "\n",
    "preco = 132.45\n",
    "preco_int = int(preco)\n",
    "print(preco_int)"
   ]
  },
  {
   "cell_type": "code",
   "execution_count": 7,
   "metadata": {},
   "outputs": [
    {
     "name": "stdout",
     "output_type": "stream",
     "text": [
      "2020\n"
     ]
    }
   ],
   "source": [
    "# String para Int\n",
    "\n",
    "ano_string = \"2020\"\n",
    "ano_int = int(ano_string)\n",
    "print(ano_int)"
   ]
  },
  {
   "cell_type": "markdown",
   "metadata": {},
   "source": [
    "#### 02 - Estruturas de Dados: Listas, Tuplas, Dicionários, Conjuntos (Sets)"
   ]
  },
  {
   "cell_type": "markdown",
   "metadata": {},
   "source": [
    "##### Listas"
   ]
  },
  {
   "cell_type": "code",
   "execution_count": 29,
   "metadata": {},
   "outputs": [
    {
     "name": "stdout",
     "output_type": "stream",
     "text": [
      "[]\n",
      "['Python', 'Java']\n",
      "<class 'list'>\n"
     ]
    }
   ],
   "source": [
    "# Declara uma lista vazia\n",
    "\n",
    "lista_linguagens_vazia = []\n",
    "lista_linguagens = ['Python', 'Java']\n",
    "print(lista_linguagens_vazia)\n",
    "print(lista_linguagens)\n",
    "print(type(lista_linguagens))"
   ]
  },
  {
   "cell_type": "code",
   "execution_count": 9,
   "metadata": {},
   "outputs": [
    {
     "name": "stdout",
     "output_type": "stream",
     "text": [
      "['Python', 'Java', 'Javascript']\n"
     ]
    }
   ],
   "source": [
    "# Adicionando itens à lista\n",
    "\n",
    "lista_linguagens.append('Javascript')\n",
    "print(lista_linguagens)"
   ]
  },
  {
   "cell_type": "code",
   "execution_count": 10,
   "metadata": {},
   "outputs": [
    {
     "name": "stdout",
     "output_type": "stream",
     "text": [
      "['Python', 'Java', 'Javascript']\n"
     ]
    }
   ],
   "source": [
    "# Copiando a lista\n",
    "\n",
    "lista_linguagens_copia = lista_linguagens.copy()\n",
    "print(lista_linguagens_copia)"
   ]
  },
  {
   "cell_type": "code",
   "execution_count": 11,
   "metadata": {},
   "outputs": [
    {
     "name": "stdout",
     "output_type": "stream",
     "text": [
      "[]\n"
     ]
    }
   ],
   "source": [
    "# Limpando os elementos de uma lista\n",
    "\n",
    "lista_linguagens_copia.clear()\n",
    "print(lista_linguagens_copia)"
   ]
  },
  {
   "cell_type": "code",
   "execution_count": 12,
   "metadata": {},
   "outputs": [
    {
     "name": "stdout",
     "output_type": "stream",
     "text": [
      "2\n"
     ]
    }
   ],
   "source": [
    "# Contando a quantidade de vezes que um elemento aparece na lista\n",
    "\n",
    "lista_linguagens.append(\"Java\")\n",
    "print(lista_linguagens.count(\"Java\"))"
   ]
  },
  {
   "cell_type": "code",
   "execution_count": 13,
   "metadata": {},
   "outputs": [
    {
     "name": "stdout",
     "output_type": "stream",
     "text": [
      "['Javascript', 'Java']\n"
     ]
    }
   ],
   "source": [
    "# Removendo um item de uma lista através de um elemento e através de um índice\n",
    "\n",
    "lista_linguagens.remove(\"Java\")\n",
    "lista_linguagens.pop(0)\n",
    "print(lista_linguagens)"
   ]
  },
  {
   "cell_type": "code",
   "execution_count": 24,
   "metadata": {},
   "outputs": [
    {
     "ename": "ValueError",
     "evalue": "list.remove(x): x not in list",
     "output_type": "error",
     "traceback": [
      "\u001b[1;31m---------------------------------------------------------------------------\u001b[0m",
      "\u001b[1;31mValueError\u001b[0m                                Traceback (most recent call last)",
      "\u001b[1;32m<ipython-input-24-489197a67596>\u001b[0m in \u001b[0;36m<module>\u001b[1;34m\u001b[0m\n\u001b[0;32m      1\u001b[0m \u001b[1;31m# Tentando remover um elemento que não existe por índice ou por elemento\u001b[0m\u001b[1;33m\u001b[0m\u001b[1;33m\u001b[0m\u001b[1;33m\u001b[0m\u001b[0m\n\u001b[1;32m----> 2\u001b[1;33m \u001b[0mlista_linguagens\u001b[0m\u001b[1;33m.\u001b[0m\u001b[0mremove\u001b[0m\u001b[1;33m(\u001b[0m\u001b[1;34m\"Elemento não existente\"\u001b[0m\u001b[1;33m)\u001b[0m\u001b[1;33m\u001b[0m\u001b[1;33m\u001b[0m\u001b[0m\n\u001b[0m\u001b[0;32m      3\u001b[0m \u001b[0mlista_linguagens\u001b[0m\u001b[1;33m.\u001b[0m\u001b[0mpop\u001b[0m\u001b[1;33m(\u001b[0m\u001b[1;36m1000\u001b[0m\u001b[1;33m)\u001b[0m\u001b[1;33m\u001b[0m\u001b[1;33m\u001b[0m\u001b[0m\n",
      "\u001b[1;31mValueError\u001b[0m: list.remove(x): x not in list"
     ]
    }
   ],
   "source": [
    "# Tentando remover um elemento que não existe\n",
    "\n",
    "lista_linguagens.remove(\"Elemento não existente\")"
   ]
  },
  {
   "cell_type": "code",
   "execution_count": 25,
   "metadata": {},
   "outputs": [
    {
     "ename": "IndexError",
     "evalue": "pop index out of range",
     "output_type": "error",
     "traceback": [
      "\u001b[1;31m---------------------------------------------------------------------------\u001b[0m",
      "\u001b[1;31mIndexError\u001b[0m                                Traceback (most recent call last)",
      "\u001b[1;32m<ipython-input-25-7b96d6faa325>\u001b[0m in \u001b[0;36m<module>\u001b[1;34m\u001b[0m\n\u001b[1;32m----> 1\u001b[1;33m \u001b[0mlista_linguagens\u001b[0m\u001b[1;33m.\u001b[0m\u001b[0mpop\u001b[0m\u001b[1;33m(\u001b[0m\u001b[1;36m1000\u001b[0m\u001b[1;33m)\u001b[0m\u001b[1;33m\u001b[0m\u001b[1;33m\u001b[0m\u001b[0m\n\u001b[0m",
      "\u001b[1;31mIndexError\u001b[0m: pop index out of range"
     ]
    }
   ],
   "source": [
    "# Tentando remover um elemento de um índice que não existe\n",
    "\n",
    "lista_linguagens.pop(1000)"
   ]
  },
  {
   "cell_type": "code",
   "execution_count": 14,
   "metadata": {},
   "outputs": [
    {
     "name": "stdout",
     "output_type": "stream",
     "text": [
      "Javascript\n",
      "0\n"
     ]
    }
   ],
   "source": [
    "# Recuperando um elemento por índice e o índice de um elemento\n",
    "\n",
    "elemento = lista_linguagens[0]\n",
    "indice_elemento = lista_linguagens.index(elemento)\n",
    "print(elemento)\n",
    "print(indice_elemento)"
   ]
  },
  {
   "cell_type": "code",
   "execution_count": 19,
   "metadata": {},
   "outputs": [
    {
     "name": "stdout",
     "output_type": "stream",
     "text": [
      "[1, 3, 5, 5, 6, 7, 9, 10]\n",
      "[10, 9, 7, 6, 5, 5, 3, 1]\n",
      "[1, 3, 5, 5, 6, 7, 9, 10]\n"
     ]
    }
   ],
   "source": [
    "# Ordenando uma lista normal e inverso (ascendente e decrescente)\n",
    "\n",
    "lista_numerica = [10, 5, 7, 9, 3, 5, 6, 1]\n",
    "lista_numerica.sort()\n",
    "print(lista_numerica)\n",
    "\n",
    "lista_numerica.sort(reverse = True)\n",
    "print(lista_numerica)\n",
    "\n",
    "lista_numerica.reverse()\n",
    "print(lista_numerica)"
   ]
  },
  {
   "cell_type": "code",
   "execution_count": 22,
   "metadata": {},
   "outputs": [
    {
     "name": "stdout",
     "output_type": "stream",
     "text": [
      "46\n",
      "10\n",
      "1\n",
      "8\n"
     ]
    }
   ],
   "source": [
    "# Funções de soma, média, valor máximo e mínimo, e tamanho da lista\n",
    "\n",
    "valores_soma  = sum(lista_numerica)\n",
    "valor_maximo  = max(lista_numerica)\n",
    "valor_minimo  = min(lista_numerica)\n",
    "tamanho_lista = len(lista_numerica)\n",
    "\n",
    "print(valores_soma)\n",
    "print(valor_maximo)\n",
    "print(valor_minimo)\n",
    "print(tamanho_lista)"
   ]
  },
  {
   "cell_type": "markdown",
   "metadata": {},
   "source": [
    "##### Tuplas"
   ]
  },
  {
   "cell_type": "code",
   "execution_count": 47,
   "metadata": {},
   "outputs": [
    {
     "name": "stdout",
     "output_type": "stream",
     "text": [
      "('Python', 'Java')\n",
      "<class 'tuple'>\n"
     ]
    }
   ],
   "source": [
    "# Tuplas - igual a lista, porém, imutável, identificada por parênteses ao invés de colchetes\n",
    "\n",
    "# Em uma tupla, é possível apenas criar uma tupla e recuperar seus valores\n",
    "\n",
    "tupla_linguagens  = (\"Python\", \"Java\")\n",
    "print(tupla_linguagens )\n",
    "print(type(tupla_linguagens ))"
   ]
  },
  {
   "cell_type": "code",
   "execution_count": 48,
   "metadata": {},
   "outputs": [
    {
     "name": "stdout",
     "output_type": "stream",
     "text": [
      "Python\n",
      "0\n"
     ]
    }
   ],
   "source": [
    "# Recuperar valores dos elementos e índices\n",
    "\n",
    "elemento = tupla_linguagens [0]\n",
    "indice_elemento = tupla_linguagens .index(elemento)\n",
    "print(elemento)\n",
    "print(indice_elemento)"
   ]
  },
  {
   "cell_type": "code",
   "execution_count": 49,
   "metadata": {},
   "outputs": [
    {
     "name": "stdout",
     "output_type": "stream",
     "text": [
      "46\n",
      "10\n",
      "1\n",
      "8\n"
     ]
    }
   ],
   "source": [
    "# Funções matemáticas\n",
    "\n",
    "tupla_numerica = (10, 5, 7, 9, 3, 5, 6, 1)\n",
    "\n",
    "valores_soma  = sum(tupla_numerica)\n",
    "valor_maximo  = max(tupla_numerica)\n",
    "valor_minimo  = min(tupla_numerica)\n",
    "tamanho_lista = len(tupla_numerica)\n",
    "\n",
    "print(valores_soma)\n",
    "print(valor_maximo)\n",
    "print(valor_minimo)\n",
    "print(tamanho_lista)"
   ]
  },
  {
   "cell_type": "markdown",
   "metadata": {},
   "source": [
    "##### Dicionários"
   ]
  },
  {
   "cell_type": "code",
   "execution_count": 58,
   "metadata": {},
   "outputs": [
    {
     "name": "stdout",
     "output_type": "stream",
     "text": [
      "{'Script': 'Python', 'Compilada': 'Java', 'Funcional': 'Haskell', 'Frameworks': ['Spring Boot', 'Django', 'Flask', 'Express.js']}\n",
      "<class 'dict'>\n"
     ]
    }
   ],
   "source": [
    "# Um dicionário é um par key/value ou chave/valor\n",
    "\n",
    "dicionario_lingagens = {\n",
    "    \"Script\": \"Python\",\n",
    "    \"Compilada\": \"Java\",\n",
    "    \"Funcional\": \"Haskell\",\n",
    "    \"Frameworks\": [\"Spring Boot\", \"Django\", \"Flask\", \"Express.js\"]\n",
    "}\n",
    "print(dicionario_lingagens)\n",
    "print(type(dicionario_lingagens))"
   ]
  },
  {
   "cell_type": "code",
   "execution_count": 59,
   "metadata": {},
   "outputs": [
    {
     "name": "stdout",
     "output_type": "stream",
     "text": [
      "{'Script': 'Python', 'Compilada': 'Java', 'Funcional': 'Haskell', 'Frameworks': ['Spring Boot', 'Django', 'Flask', 'Express.js']}\n"
     ]
    }
   ],
   "source": [
    "# Copiando um dicionário\n",
    "\n",
    "dicionario_lingagens_copia = dicionario_lingagens.copy()\n",
    "print(dicionario_lingagens_copia)"
   ]
  },
  {
   "cell_type": "code",
   "execution_count": 60,
   "metadata": {},
   "outputs": [
    {
     "name": "stdout",
     "output_type": "stream",
     "text": [
      "{}\n"
     ]
    }
   ],
   "source": [
    "# Limpando um dicionário\n",
    "\n",
    "dicionario_lingagens_copia.clear()\n",
    "print(dicionario_lingagens_copia)"
   ]
  },
  {
   "cell_type": "code",
   "execution_count": 62,
   "metadata": {},
   "outputs": [
    {
     "name": "stdout",
     "output_type": "stream",
     "text": [
      "Java\n"
     ]
    }
   ],
   "source": [
    "# Recuperar o dicionário a partir de uma chave\n",
    "\n",
    "valor = dicionario_lingagens.get(\"Compilada\")\n",
    "print(valor)"
   ]
  },
  {
   "cell_type": "code",
   "execution_count": 65,
   "metadata": {},
   "outputs": [
    {
     "name": "stdout",
     "output_type": "stream",
     "text": [
      "{'Compilada': None, 'Frameworks': None}\n"
     ]
    }
   ],
   "source": [
    "# Recuperar o dicionário a partir de um conjunto de chaves\n",
    "\n",
    "valores = dicionario_lingagens.fromkeys({\"Compilada\", \"Frameworks\"})\n",
    "print(valores)"
   ]
  },
  {
   "cell_type": "code",
   "execution_count": 67,
   "metadata": {},
   "outputs": [
    {
     "name": "stdout",
     "output_type": "stream",
     "text": [
      "dict_items([('Script', 'Python'), ('Compilada', 'Java'), ('Funcional', 'Haskell'), ('Frameworks', ['Spring Boot', 'Django', 'Flask', 'Express.js'])])\n"
     ]
    }
   ],
   "source": [
    "# Recuperar todos os itens\n",
    "\n",
    "itens = dicionario_lingagens.items()\n",
    "print(itens)"
   ]
  },
  {
   "cell_type": "code",
   "execution_count": 70,
   "metadata": {},
   "outputs": [
    {
     "name": "stdout",
     "output_type": "stream",
     "text": [
      "dict_keys(['Script', 'Compilada', 'Funcional', 'Frameworks'])\n",
      "dict_values(['Python', 'Java', 'Haskell', ['Spring Boot', 'Django', 'Flask', 'Express.js']])\n"
     ]
    }
   ],
   "source": [
    "# Recuperando apenas as chaves e valores separadamente\n",
    "\n",
    "chaves = dicionario_lingagens.keys()\n",
    "valores = dicionario_lingagens.values()\n",
    "print(chaves)\n",
    "print(valores)"
   ]
  },
  {
   "cell_type": "code",
   "execution_count": 72,
   "metadata": {},
   "outputs": [
    {
     "name": "stdout",
     "output_type": "stream",
     "text": [
      "{'Script': 'Python', 'Compilada': 'Java', 'Frameworks': ['Spring Boot', 'Django', 'Flask', 'Express.js']}\n"
     ]
    }
   ],
   "source": [
    "# Remove um item do dicionário pela chave\n",
    "\n",
    "dicionario_lingagens.pop(\"Funcional\")\n",
    "print(dicionario_lingagens)"
   ]
  },
  {
   "cell_type": "code",
   "execution_count": 73,
   "metadata": {},
   "outputs": [
    {
     "name": "stdout",
     "output_type": "stream",
     "text": [
      "{'Script': 'Python', 'Compilada': 'Java'}\n"
     ]
    }
   ],
   "source": [
    "# Remove o último item adicionado ao dicionário\n",
    "\n",
    "dicionario_lingagens.popitem()\n",
    "print(dicionario_lingagens)"
   ]
  },
  {
   "cell_type": "code",
   "execution_count": 81,
   "metadata": {},
   "outputs": [],
   "source": [
    "# Valores mínimos e máximos das chaves do dicionário\n",
    "\n",
    "valor_minimo = max(dicionario_lingagens)\n",
    "valor_maximo = min(dicionario_lingagens)\n",
    "print(valor_aximo)\n",
    "print(valor_minimo)"
   ]
  },
  {
   "cell_type": "markdown",
   "metadata": {},
   "source": [
    "##### Conjuntos (Sets)"
   ]
  },
  {
   "cell_type": "code",
   "execution_count": 134,
   "metadata": {},
   "outputs": [
    {
     "name": "stdout",
     "output_type": "stream",
     "text": [
      "{'Javascript', 'Python', 'Java'}\n",
      "<class 'set'>\n",
      "{'Javascript', 'Python', 'Java'}\n"
     ]
    }
   ],
   "source": [
    "# Coleção de elementos únicos, não suportam indexação como nas listas e tuplas\n",
    "\n",
    "set_linguagens = {\"Python\", \"Java\", \"Java\", \"Java\", \"Javascript\"}\n",
    "print(set_linguagens)\n",
    "print(type(set_linguagens))\n",
    "print(set_linguagens)"
   ]
  },
  {
   "cell_type": "code",
   "execution_count": 135,
   "metadata": {},
   "outputs": [
    {
     "name": "stdout",
     "output_type": "stream",
     "text": [
      "{'Javascript', 'C#', 'Python', 'Java'}\n"
     ]
    }
   ],
   "source": [
    "# Adicionando item novo e um item já existente, apenas o novo aparecerá como item no set\n",
    "\n",
    "set_linguagens.add(\"C#\")\n",
    "set_linguagens.add(\"Python\")\n",
    "print(set_linguagens)"
   ]
  },
  {
   "cell_type": "code",
   "execution_count": 136,
   "metadata": {},
   "outputs": [
    {
     "name": "stdout",
     "output_type": "stream",
     "text": [
      "set()\n"
     ]
    }
   ],
   "source": [
    "# Criando uma cópia e limpando o set\n",
    "\n",
    "set_linguagens_copia = set_linguagens.copy()\n",
    "set_linguagens_copia.clear()\n",
    "print(set_linguagens_copia)"
   ]
  },
  {
   "cell_type": "code",
   "execution_count": 137,
   "metadata": {},
   "outputs": [
    {
     "name": "stdout",
     "output_type": "stream",
     "text": [
      "{'Go', 'Lua', 'Python', 'Javascript', 'Haskell', 'C#', 'Java'}\n"
     ]
    }
   ],
   "source": [
    "# Criando um novo set para fazer união\n",
    "\n",
    "set_linguagens_2 = (\"Python\", \"Go\", \"Java\", \"Haskell\", \"Lua\")\n",
    "\n",
    "uniao = set_linguagens.union(set_linguagens_2)\n",
    "print(uniao)"
   ]
  },
  {
   "cell_type": "code",
   "execution_count": 138,
   "metadata": {},
   "outputs": [
    {
     "name": "stdout",
     "output_type": "stream",
     "text": [
      "{'Python', 'Java'}\n"
     ]
    }
   ],
   "source": [
    "# Criando um novo set para fazer interesção\n",
    "\n",
    "set_linguagens_2 = (\"Python\", \"Go\", \"Java\", \"Haskell\", \"Lua\")\n",
    "\n",
    "intersecao = set_linguagens.intersection(set_linguagens_2)\n",
    "print(intersecao)"
   ]
  },
  {
   "cell_type": "code",
   "execution_count": 139,
   "metadata": {},
   "outputs": [
    {
     "name": "stdout",
     "output_type": "stream",
     "text": [
      "{'Javascript', 'C#'}\n"
     ]
    }
   ],
   "source": [
    "# Criando um novo set para fazer diferença\n",
    "\n",
    "set_linguagens_2 = (\"Python\", \"Go\", \"Java\", \"Haskell\", \"Lua\")\n",
    "\n",
    "diferenca = set_linguagens.difference(set_linguagens_2)\n",
    "print(diferenca)"
   ]
  },
  {
   "cell_type": "code",
   "execution_count": 140,
   "metadata": {},
   "outputs": [
    {
     "name": "stdout",
     "output_type": "stream",
     "text": [
      "False\n",
      "False\n",
      "False\n",
      "True\n",
      "True\n",
      "True\n"
     ]
    }
   ],
   "source": [
    "# Criando um novo set para fazer verificacao se está contido, se é disjunção ou superconjunto\n",
    "\n",
    "set_linguagens_2 = {\"Python\", \"Go\", \"Java\", \"Haskell\", \"Lua\"}\n",
    "\n",
    "sao_disjuntos = set_linguagens.isdisjoint(set_linguagens_2)\n",
    "is_contido = set_linguagens.issubset(set_linguagens_2)\n",
    "is_superconjunto = set_linguagens_2.issuperset(set_linguagens)\n",
    "\n",
    "print(sao_disjuntos)\n",
    "print(is_contido)\n",
    "print(is_superconjunto)\n",
    "\n",
    "subset_linguagens_disjunto = {\"Lisp\", \"COBOL\"}\n",
    "subset_linguagens_contido = {\"Python\", \"Java\"}\n",
    "\n",
    "sao_disjuntos = subset_linguagens_disjunto.isdisjoint(set_linguagens)\n",
    "is_contido = subset_linguagens_contido.issubset(set_linguagens)\n",
    "is_superconjunto = set_linguagens.issuperset(subset_linguagens)\n",
    "\n",
    "print(sao_disjuntos)\n",
    "print(is_contido)\n",
    "print(is_superconjunto)"
   ]
  },
  {
   "cell_type": "code",
   "execution_count": 141,
   "metadata": {},
   "outputs": [
    {
     "name": "stdout",
     "output_type": "stream",
     "text": [
      "{'Javascript', 'C#'}\n"
     ]
    }
   ],
   "source": [
    "# Remove um item do set com os métodos remove e discard\n",
    "# O método pop sempre removerá o último \n",
    "\n",
    "set_linguagens.remove(\"Java\")\n",
    "set_linguagens.remove(\"Python\")\n",
    "print(set_linguagens)"
   ]
  },
  {
   "cell_type": "code",
   "execution_count": 144,
   "metadata": {},
   "outputs": [
    {
     "name": "stdout",
     "output_type": "stream",
     "text": [
      "{'Go', 'Lua', 'Javascript', 'Python', 'Haskell', 'C#', 'Java'}\n"
     ]
    }
   ],
   "source": [
    "# Diferença simétrica entre os sets set_linguagens e set_linguagens_2\n",
    "\n",
    "diferenca_simetrica = set_linguagens.symmetric_difference(set_linguagens_2)\n",
    "print(diferenca_simetrica)"
   ]
  }
 ],
 "metadata": {
  "kernelspec": {
   "display_name": "Python 3",
   "language": "python",
   "name": "python3"
  },
  "language_info": {
   "codemirror_mode": {
    "name": "ipython",
    "version": 3
   },
   "file_extension": ".py",
   "mimetype": "text/x-python",
   "name": "python",
   "nbconvert_exporter": "python",
   "pygments_lexer": "ipython3",
   "version": "3.7.4"
  }
 },
 "nbformat": 4,
 "nbformat_minor": 2
}
