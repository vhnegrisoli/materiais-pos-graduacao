{
 "cells": [
  {
   "cell_type": "markdown",
   "metadata": {},
   "source": [
    "## Pós-Graduação: Especialização em Data Science & Big Data"
   ]
  },
  {
   "cell_type": "markdown",
   "metadata": {},
   "source": [
    "### Pontifícia Universidade Católica de Minas Gerais (PUC-MG)"
   ]
  },
  {
   "cell_type": "markdown",
   "metadata": {},
   "source": [
    "#### Victor Hugo Negrisoli - Linguagens de Programação Para Ciência de Dados"
   ]
  },
  {
   "cell_type": "markdown",
   "metadata": {},
   "source": [
    "#### Fundamentos de Pyhton II"
   ]
  },
  {
   "cell_type": "markdown",
   "metadata": {},
   "source": [
    "##### Manipulação de Strings"
   ]
  },
  {
   "cell_type": "code",
   "execution_count": 133,
   "metadata": {},
   "outputs": [],
   "source": [
    "from functools import reduce"
   ]
  },
  {
   "cell_type": "code",
   "execution_count": 2,
   "metadata": {},
   "outputs": [
    {
     "name": "stdout",
     "output_type": "stream",
     "text": [
      "Ciência de Dados & Big Data\n"
     ]
    }
   ],
   "source": [
    "# Definindo Strings\n",
    "\n",
    "curso = \"Ciência de Dados & Big Data\"\n",
    "print(curso)"
   ]
  },
  {
   "cell_type": "code",
   "execution_count": 3,
   "metadata": {},
   "outputs": [
    {
     "name": "stdout",
     "output_type": "stream",
     "text": [
      "27\n",
      "s\n",
      "0\n"
     ]
    }
   ],
   "source": [
    "# Realizando indexação simples e verificação de quantidade de caracteres\n",
    "\n",
    "tamanho = len(curso)\n",
    "palavra = curso[15]\n",
    "print(tamanho)\n",
    "print(palavra)\n",
    "\n",
    "vazio = \"\"\n",
    "print(len(vazio))"
   ]
  },
  {
   "cell_type": "code",
   "execution_count": 4,
   "metadata": {},
   "outputs": [
    {
     "name": "stdout",
     "output_type": "stream",
     "text": [
      "a\n",
      "a\n",
      "a\n"
     ]
    }
   ],
   "source": [
    "# Recuperando último caractere de diferentes maneiras\n",
    "ultimo_indice = curso[26]\n",
    "print(ultimo_indice)\n",
    "\n",
    "ultimo_caractere = curso[len(curso) - 1]\n",
    "print(ultimo_caractere)\n",
    "\n",
    "ultimo_indice_negativo = curso[-1]\n",
    "print(ultimo_caractere)"
   ]
  },
  {
   "cell_type": "code",
   "execution_count": 5,
   "metadata": {},
   "outputs": [
    {
     "name": "stdout",
     "output_type": "stream",
     "text": [
      "C\n",
      "C\n",
      "C\n"
     ]
    }
   ],
   "source": [
    "# Recuperando primeiro caractere\n",
    "\n",
    "primeiro_indice_zero = curso[0]\n",
    "print(primeiro_indice_zero)\n",
    "\n",
    "primeiro_indice_negativo = curso[-27]\n",
    "print(primeiro_indice_negativo)\n",
    "\n",
    "primeiro_indice_length_negativo = curso[-len(curso)]\n",
    "print(primeiro_indice_length_negativo)"
   ]
  },
  {
   "cell_type": "code",
   "execution_count": 6,
   "metadata": {},
   "outputs": [
    {
     "name": "stdout",
     "output_type": "stream",
     "text": [
      "Ciência de Dados & Big Data\n"
     ]
    }
   ],
   "source": [
    "# Realizando indexação e slicing na String\n",
    "\n",
    "# Busca String completa\n",
    "\n",
    "slicing_completo = curso[:]\n",
    "print(slicing_completo)"
   ]
  },
  {
   "cell_type": "code",
   "execution_count": 7,
   "metadata": {},
   "outputs": [
    {
     "name": "stdout",
     "output_type": "stream",
     "text": [
      "a de Dados & Big Data\n"
     ]
    }
   ],
   "source": [
    "# Busca String do índice 6 até o último\n",
    "\n",
    "slicing_parcial = curso[6:]\n",
    "print(slicing_parcial)"
   ]
  },
  {
   "cell_type": "code",
   "execution_count": 8,
   "metadata": {},
   "outputs": [
    {
     "name": "stdout",
     "output_type": "stream",
     "text": [
      "Ciência\n"
     ]
    }
   ],
   "source": [
    "# Busca String do índice 0 até o 7\n",
    "\n",
    "slicing_duplo = curso[0:7]\n",
    "print(slicing_duplo)"
   ]
  },
  {
   "cell_type": "code",
   "execution_count": 9,
   "metadata": {},
   "outputs": [
    {
     "name": "stdout",
     "output_type": "stream",
     "text": [
      "Cêcad\n"
     ]
    }
   ],
   "source": [
    "# Busca String do índice 0 até o 10 incrementando de 2 em 2 índices \n",
    "\n",
    "slicing_por_passos = curso[0:10:2]\n",
    "print(slicing_por_passos)"
   ]
  },
  {
   "cell_type": "code",
   "execution_count": 10,
   "metadata": {},
   "outputs": [
    {
     "name": "stdout",
     "output_type": "stream",
     "text": [
      "Ciência \n"
     ]
    }
   ],
   "source": [
    "# Busca String do índice -27 até o -19\n",
    "\n",
    "slicing_indices_negativos = curso[-27:-19]\n",
    "print(slicing_indices_negativos)"
   ]
  },
  {
   "cell_type": "code",
   "execution_count": 11,
   "metadata": {},
   "outputs": [
    {
     "name": "stdout",
     "output_type": "stream",
     "text": [
      "Cêcad ao  i aa\n"
     ]
    }
   ],
   "source": [
    "# Busca String do índice 0 até o último incrementando de 2 em 2 índices\n",
    "\n",
    "slicing_indices_dois_em_dois = curso[::2]\n",
    "print(slicing_indices_dois_em_dois)"
   ]
  },
  {
   "cell_type": "code",
   "execution_count": 12,
   "metadata": {},
   "outputs": [
    {
     "name": "stdout",
     "output_type": "stream",
     "text": [
      "ataD giB & sodaD ed aicnêiC\n"
     ]
    }
   ],
   "source": [
    "# Inverter a String buscando do índice 0 ao último incrementando em um negativo\n",
    "\n",
    "slicing_reverter = curso[::-1]\n",
    "print(slicing_reverter)"
   ]
  },
  {
   "cell_type": "code",
   "execution_count": 13,
   "metadata": {},
   "outputs": [
    {
     "name": "stdout",
     "output_type": "stream",
     "text": [
      "True\n"
     ]
    }
   ],
   "source": [
    "# Validar se uma String está contida em outra\n",
    "\n",
    "substring = \"ata\"\n",
    "esta_contido = substring in curso\n",
    "print(esta_contido)"
   ]
  },
  {
   "cell_type": "code",
   "execution_count": 14,
   "metadata": {},
   "outputs": [
    {
     "name": "stdout",
     "output_type": "stream",
     "text": [
      "Ciência de Dados & Big Data - Victor Hugo Negrisoli\n"
     ]
    }
   ],
   "source": [
    "# Concatenação de Strings\n",
    "\n",
    "espaco = \" - \"\n",
    "aluno = \"Victor Hugo Negrisoli\"\n",
    "curso_aluno = curso + espaco + aluno\n",
    "print(curso_aluno)"
   ]
  },
  {
   "cell_type": "code",
   "execution_count": 15,
   "metadata": {},
   "outputs": [
    {
     "name": "stdout",
     "output_type": "stream",
     "text": [
      "1001100110011001100110011001100110011001\n"
     ]
    }
   ],
   "source": [
    "# Multiplica String\n",
    "\n",
    "binario = \"1001\"\n",
    "repeticao = binario * 10\n",
    "print(repeticao)"
   ]
  },
  {
   "cell_type": "code",
   "execution_count": 16,
   "metadata": {},
   "outputs": [
    {
     "name": "stdout",
     "output_type": "stream",
     "text": [
      "O aluno Victor Hugo Negrisoli iniciou a Pós-Graduação Ciência de Dados & Big Data no ano de 2020.\n"
     ]
    }
   ],
   "source": [
    "# Formatação de Strings ao printar\n",
    "ano = 2020\n",
    "mensagem = \"O aluno {} iniciou a Pós-Graduação {} no ano de {}.\".format(aluno, curso, str(ano))\n",
    "print(mensagem)"
   ]
  },
  {
   "cell_type": "markdown",
   "metadata": {},
   "source": [
    "##### Controle de Fluxo - Expressões Condicionais"
   ]
  },
  {
   "cell_type": "code",
   "execution_count": 17,
   "metadata": {},
   "outputs": [
    {
     "name": "stdout",
     "output_type": "stream",
     "text": [
      "10\n"
     ]
    }
   ],
   "source": [
    "# Condição simples\n",
    "\n",
    "numero = 10\n",
    "\n",
    "if (numero == 1):\n",
    "    numero = 9\n",
    "print(numero)"
   ]
  },
  {
   "cell_type": "code",
   "execution_count": 18,
   "metadata": {},
   "outputs": [
    {
     "name": "stdout",
     "output_type": "stream",
     "text": [
      "15\n"
     ]
    }
   ],
   "source": [
    "# Condição com contra condição\n",
    "\n",
    "if (numero == 1):\n",
    "    numero = 9\n",
    "else:\n",
    "    numero = 15\n",
    "print(numero)"
   ]
  },
  {
   "cell_type": "code",
   "execution_count": 19,
   "metadata": {},
   "outputs": [
    {
     "name": "stdout",
     "output_type": "stream",
     "text": [
      "17\n"
     ]
    }
   ],
   "source": [
    "# Várias condições\n",
    "\n",
    "if (numero < 20):\n",
    "    numero += 2\n",
    "elif (numero <= 11):\n",
    "    numero *= 5\n",
    "elif (numero > 4):\n",
    "    numero -= 1500\n",
    "else:\n",
    "    numero = 0\n",
    "print(numero)"
   ]
  },
  {
   "cell_type": "code",
   "execution_count": 20,
   "metadata": {},
   "outputs": [
    {
     "name": "stdout",
     "output_type": "stream",
     "text": [
      "O texto 'ata' existe na String 'Ciência de Dados & Big Data'\n"
     ]
    }
   ],
   "source": [
    "# Combinando funções booleanas\n",
    "\n",
    "existe = False\n",
    "if (substring in curso):\n",
    "    existe = True\n",
    "if (existe):\n",
    "    print(\"O texto '{}' existe na String '{}'\".format(substring, curso))\n",
    "else:\n",
    "    print(\"O texto '{}' não existe na String '{}'\".format(substring, curso))"
   ]
  },
  {
   "cell_type": "code",
   "execution_count": 21,
   "metadata": {},
   "outputs": [
    {
     "name": "stdout",
     "output_type": "stream",
     "text": [
      "Tudo falso\n",
      "Asserção 2 é verdade\n"
     ]
    }
   ],
   "source": [
    "# Utilizando operadores lógicos\n",
    "\n",
    "if (numero > 20 and numero < 2):\n",
    "    print(\"Asserção 1 é verdade\")\n",
    "elif (numero > 20 or numero < 10):\n",
    "    print(\"Asserção 2 é verdade\")\n",
    "else:\n",
    "    print(\"Tudo falso\")\n",
    "    \n",
    "if (numero > 20 and numero < 2):\n",
    "    print(\"Asserção 1 é verdade\")\n",
    "elif (numero < 20 or numero < 10):\n",
    "    print(\"Asserção 2 é verdade\")\n",
    "else:\n",
    "    print(\"Tudo falso\")"
   ]
  },
  {
   "cell_type": "code",
   "execution_count": 22,
   "metadata": {},
   "outputs": [
    {
     "name": "stdout",
     "output_type": "stream",
     "text": [
      "17000\n"
     ]
    }
   ],
   "source": [
    "# Condicionais aninhados\n",
    "\n",
    "if (numero < 20):\n",
    "    if (numero > 2 and numero < 25):\n",
    "        if (numero < 1000):\n",
    "            numero *= 1000\n",
    "print(numero)"
   ]
  },
  {
   "cell_type": "markdown",
   "metadata": {},
   "source": [
    "##### Estruturas de Repetição"
   ]
  },
  {
   "cell_type": "markdown",
   "metadata": {},
   "source": [
    "##### Loop While"
   ]
  },
  {
   "cell_type": "code",
   "execution_count": 23,
   "metadata": {},
   "outputs": [
    {
     "name": "stdout",
     "output_type": "stream",
     "text": [
      "1\n",
      "2\n",
      "3\n",
      "4\n",
      "5\n",
      "6\n",
      "7\n",
      "8\n",
      "9\n",
      "10\n"
     ]
    }
   ],
   "source": [
    "# Repetindo valores enquanto a variável numero seja menor que 10, imprimindo a cada iteração e incrementando 1 ao fim\n",
    "\n",
    "numero = 0\n",
    "\n",
    "while(numero < 10):\n",
    "    numero += 1\n",
    "    print(numero)"
   ]
  },
  {
   "cell_type": "code",
   "execution_count": 24,
   "metadata": {},
   "outputs": [
    {
     "name": "stdout",
     "output_type": "stream",
     "text": [
      "Digite um número:15\n",
      "A raiz quadrada de 15 é 3.872983346207417\n",
      "Digite um número:23\n",
      "A raiz quadrada de 23 é 4.795831523312719\n",
      "Digite um número:0\n",
      "Digite um número:33\n",
      "A raiz quadrada de 33 é 5.744562646538029\n",
      "Digite um número:3\n",
      "A raiz quadrada de 3 é 1.7320508075688772\n"
     ]
    }
   ],
   "source": [
    "qtd = 1\n",
    "while(qtd < 5):\n",
    "    valor = int(input('Digite um número:'))\n",
    "    if valor > 0:\n",
    "        raiz = valor ** (1/2)\n",
    "        print('A raiz quadrada de {} é {}'.format(str(valor), str(raiz)))\n",
    "        qtd += 1"
   ]
  },
  {
   "cell_type": "markdown",
   "metadata": {},
   "source": [
    "##### Loop For"
   ]
  },
  {
   "cell_type": "code",
   "execution_count": 27,
   "metadata": {},
   "outputs": [
    {
     "name": "stdout",
     "output_type": "stream",
     "text": [
      "0\n",
      "1\n",
      "2\n",
      "3\n",
      "4\n",
      "5\n",
      "6\n",
      "7\n",
      "8\n",
      "9\n"
     ]
    }
   ],
   "source": [
    "# Iterando elementos de uma lista\n",
    "\n",
    "lista = [0,1,2,3,4,5,6,7,8,9]\n",
    "\n",
    "for item in lista:\n",
    "    print(item)"
   ]
  },
  {
   "cell_type": "code",
   "execution_count": 28,
   "metadata": {},
   "outputs": [
    {
     "name": "stdout",
     "output_type": "stream",
     "text": [
      "0\n",
      "1\n",
      "2\n",
      "3\n",
      "4\n",
      "5\n",
      "6\n",
      "7\n",
      "8\n",
      "9\n"
     ]
    }
   ],
   "source": [
    "# Iterando utilizando a função range(), podendo especificar índice inicial, final e o incremento\n",
    "\n",
    "for i in range(len(lista)):\n",
    "    print(lista[i])"
   ]
  },
  {
   "cell_type": "code",
   "execution_count": 29,
   "metadata": {},
   "outputs": [
    {
     "name": "stdout",
     "output_type": "stream",
     "text": [
      "0\n",
      "2\n",
      "4\n",
      "6\n",
      "8\n"
     ]
    }
   ],
   "source": [
    "# Imprimindo apenas valores pares\n",
    "for i in range(0, 10, 2):\n",
    "    print(i)"
   ]
  },
  {
   "cell_type": "code",
   "execution_count": 34,
   "metadata": {},
   "outputs": [
    {
     "name": "stdout",
     "output_type": "stream",
     "text": [
      "10\n",
      "9\n",
      "8\n",
      "7\n",
      "6\n",
      "5\n",
      "4\n",
      "3\n",
      "2\n",
      "1\n"
     ]
    }
   ],
   "source": [
    "# Imprimindo valores ao reverso\n",
    "for i in range(10, 0, -1):\n",
    "    print(i)"
   ]
  },
  {
   "cell_type": "code",
   "execution_count": 35,
   "metadata": {},
   "outputs": [
    {
     "name": "stdout",
     "output_type": "stream",
     "text": [
      "C\n",
      "i\n",
      "ê\n",
      "n\n",
      "c\n",
      "i\n",
      "a\n",
      " \n",
      "d\n",
      "e\n",
      " \n",
      "D\n",
      "a\n",
      "d\n",
      "o\n",
      "s\n",
      " \n",
      "&\n",
      " \n",
      "B\n",
      "i\n",
      "g\n",
      " \n",
      "D\n",
      "a\n",
      "t\n",
      "a\n"
     ]
    }
   ],
   "source": [
    "for char in curso:\n",
    "    print(char)"
   ]
  },
  {
   "cell_type": "code",
   "execution_count": 48,
   "metadata": {},
   "outputs": [
    {
     "name": "stdout",
     "output_type": "stream",
     "text": [
      "Chave: Script\n",
      "Valor: Python\n",
      "\n",
      "\n",
      "Chave: Compilada\n",
      "Valor: Java\n",
      "\n",
      "\n",
      "Chave: Funcional\n",
      "Valor: Haskell\n",
      "\n",
      "\n",
      "Chave: Frameworks\n",
      "O valor da chave Frameworks é uma lista, seus valores são: \n",
      "Spring Boot\n",
      "Django\n",
      "Flask\n",
      "Express.js\n",
      "\n",
      "\n"
     ]
    }
   ],
   "source": [
    "# Printando cada item de um dicionário\n",
    "# Primeiramente serão printadas as chaves e posteriormente os valores\n",
    "\n",
    "dicionario_lingagens = {\n",
    "    \"Script\": \"Python\",\n",
    "    \"Compilada\": \"Java\",\n",
    "    \"Funcional\": \"Haskell\",\n",
    "    \"Frameworks\": [\"Spring Boot\", \"Django\", \"Flask\", \"Express.js\"]\n",
    "}\n",
    "\n",
    "for key in dicionario_lingagens:\n",
    "    print('Chave: {}'.format(key))\n",
    "    if (type(dicionario_lingagens.get(key)) == list):\n",
    "        print('O valor da chave {} é uma lista, seus valores são: '.format(key))\n",
    "        for item in dicionario_lingagens.get(key):\n",
    "            print(item)\n",
    "    else:\n",
    "        print('Valor: {}'.format(dicionario_lingagens.get(key)))  \n",
    "    print('\\n')"
   ]
  },
  {
   "cell_type": "markdown",
   "metadata": {},
   "source": [
    "##### List Comprehension"
   ]
  },
  {
   "cell_type": "code",
   "execution_count": 81,
   "metadata": {},
   "outputs": [
    {
     "name": "stdout",
     "output_type": "stream",
     "text": [
      "[1, 2, 3, 4, 5]\n",
      "[1, 2, 3, 4, 5]\n",
      "[1, 2, 3, 4, 5]\n"
     ]
    }
   ],
   "source": [
    "# Criando uma lista iterando uma lista diretamente\n",
    "\n",
    "lista_comum = [1,2,3,4,5]\n",
    "lista_range = list(range(1, 6))\n",
    "lista_comprehension = [n for n in range(1,6)]\n",
    "\n",
    "print(lista_comum)\n",
    "print(lista_range)\n",
    "print(lista_comprehension)"
   ]
  },
  {
   "cell_type": "code",
   "execution_count": 78,
   "metadata": {},
   "outputs": [
    {
     "data": {
      "text/plain": [
       "[0,\n",
       " 2,\n",
       " 4,\n",
       " 6,\n",
       " 8,\n",
       " 10,\n",
       " 12,\n",
       " 14,\n",
       " 16,\n",
       " 18,\n",
       " 20,\n",
       " 22,\n",
       " 24,\n",
       " 26,\n",
       " 28,\n",
       " 30,\n",
       " 32,\n",
       " 34,\n",
       " 36,\n",
       " 38,\n",
       " 40,\n",
       " 42,\n",
       " 44,\n",
       " 46,\n",
       " 48,\n",
       " 50,\n",
       " 52,\n",
       " 54,\n",
       " 56,\n",
       " 58,\n",
       " 60,\n",
       " 62,\n",
       " 64,\n",
       " 66,\n",
       " 68,\n",
       " 70,\n",
       " 72,\n",
       " 74,\n",
       " 76,\n",
       " 78,\n",
       " 80,\n",
       " 82,\n",
       " 84,\n",
       " 86,\n",
       " 88,\n",
       " 90,\n",
       " 92,\n",
       " 94,\n",
       " 96,\n",
       " 98,\n",
       " 100]"
      ]
     },
     "execution_count": 78,
     "metadata": {},
     "output_type": "execute_result"
    }
   ],
   "source": [
    "# Criando uma lista de números pares de 0 a 50 utilizando comprehensions\n",
    "\n",
    "lista_pares = [n for n in range(101) if n % 2 == 0]\n",
    "lista_pares"
   ]
  },
  {
   "cell_type": "code",
   "execution_count": 82,
   "metadata": {},
   "outputs": [
    {
     "data": {
      "text/plain": [
       "['C',\n",
       " 'i',\n",
       " 'ê',\n",
       " 'n',\n",
       " 'c',\n",
       " 'i',\n",
       " ' ',\n",
       " 'd',\n",
       " 'e',\n",
       " ' ',\n",
       " 'D',\n",
       " 'd',\n",
       " 'o',\n",
       " 's',\n",
       " ' ',\n",
       " '&',\n",
       " ' ',\n",
       " 'B',\n",
       " 'i',\n",
       " 'g',\n",
       " ' ',\n",
       " 'D',\n",
       " 't']"
      ]
     },
     "execution_count": 82,
     "metadata": {},
     "output_type": "execute_result"
    }
   ],
   "source": [
    "# Criando uma lista de caracteres em que os caracteres sejam diferentes de 'a'\n",
    "\n",
    "letras_curso_sem_a = [letra for letra in curso if letra != 'a']\n",
    "letras_curso_sem_a"
   ]
  },
  {
   "cell_type": "markdown",
   "metadata": {},
   "source": [
    "##### Funções"
   ]
  },
  {
   "cell_type": "code",
   "execution_count": 83,
   "metadata": {},
   "outputs": [
    {
     "name": "stdout",
     "output_type": "stream",
     "text": [
      "Digite um número:25\n",
      "A raiz quadrada de 25 é 5.0\n",
      "Digite um número:3\n",
      "A raiz quadrada de 3 é 1.7320508075688772\n",
      "Digite um número:3\n",
      "A raiz quadrada de 3 é 1.7320508075688772\n",
      "Digite um número:5\n",
      "A raiz quadrada de 5 é 2.23606797749979\n"
     ]
    }
   ],
   "source": [
    "\"\"\"\n",
    "\n",
    "Para declarar uma função, utiliza-se a palavra reservada def\n",
    "\n",
    "Será reescrita a função acima de calcular as raízes dos números,\n",
    "porém, será chamada a função de cálculo da raiz\n",
    "para cada número recebido no input. \n",
    "A regra de negócio de validar o número maior que zero será feita em outra função\n",
    "\n",
    "\"\"\"\n",
    "\n",
    "# Função sem retorno, apenas processa uma informação\n",
    "def calcular_raiz(numero):\n",
    "    \"\"\"\n",
    "    Essa função irá receber um parâmetro 'numero' e printar o resultado de sua raiz quadrada\n",
    "    \"\"\"\n",
    "    raiz = 0\n",
    "    if is_numero_valido(numero):\n",
    "        raiz = numero ** (1/2)    \n",
    "    print('A raiz quadrada de {} é {}'.format(str(numero), str(raiz)))\n",
    "    \n",
    "# Função com retorno, processa uma informação e retorna um resultado\n",
    "def is_numero_valido(numero):\n",
    "    \"\"\"\n",
    "    Essa função receberá um parâmetro 'numero' e retornará um bool como True se o número\n",
    "    for maior que zero, senão, retornará False\n",
    "    \"\"\"\n",
    "    return numero > 0\n",
    "\n",
    "qtd = 1\n",
    "while(qtd < 5):\n",
    "    valor = int(input('Digite um número:'))\n",
    "    calcular_raiz(valor)\n",
    "    qtd += 1"
   ]
  },
  {
   "cell_type": "code",
   "execution_count": 118,
   "metadata": {},
   "outputs": [
    {
     "name": "stdout",
     "output_type": "stream",
     "text": [
      "3\n",
      "6\n",
      "9\n",
      "12\n",
      "15\n"
     ]
    }
   ],
   "source": [
    "numeros = [n for n in range(1, 16)]\n",
    "filtro = filter(lambda x: x%3 == 0, numeros)\n",
    "for i in filtro:\n",
    "    if(i%3==0):\n",
    "        print(i)"
   ]
  },
  {
   "cell_type": "markdown",
   "metadata": {},
   "source": [
    "##### Funções Lambda"
   ]
  },
  {
   "cell_type": "code",
   "execution_count": 155,
   "metadata": {},
   "outputs": [
    {
     "name": "stdout",
     "output_type": "stream",
     "text": [
      "4.0\n",
      "4.0\n"
     ]
    }
   ],
   "source": [
    "# Funções Lambda são definidas diretamente em uma linha\n",
    "\n",
    "# Função normal\n",
    "\n",
    "def calcular_raiz(numero):\n",
    "    return numero ** (1/2)\n",
    "\n",
    "raiz_normal = calcular_raiz(16)\n",
    "print(raiz_normal)\n",
    "\n",
    "# Função lambda\n",
    "\n",
    "calcular_raiz_lambda = lambda numero: numero ** (1/2) if is_numero_valido(numero) else 0\n",
    "\n",
    "raiz_lambda = calcular_raiz_lambda(16)\n",
    "print(raiz_lambda)"
   ]
  },
  {
   "cell_type": "markdown",
   "metadata": {},
   "source": [
    "##### Funções Map(), Reduce(), Filter() e Zip()"
   ]
  },
  {
   "cell_type": "markdown",
   "metadata": {},
   "source": [
    "##### map()"
   ]
  },
  {
   "cell_type": "code",
   "execution_count": 156,
   "metadata": {},
   "outputs": [
    {
     "name": "stdout",
     "output_type": "stream",
     "text": [
      "Iterando com for:                                      [2.0, 3.0, 4.0, 6.0, 11.0]\n",
      "Iterando com função Map:                               [2.0, 3.0, 4.0, 6.0, 11.0]\n",
      "Iterando com função Map declarando Lambda diretamente: [2.0, 3.0, 4.0, 6.0, 11.0]\n"
     ]
    }
   ],
   "source": [
    "# A função Map irá iterar uma lista de valores e realizar alguma ação\n",
    "\n",
    "raizes_para_calcular = [4.0, 9.0, 16.0, 36.0, 121.0]\n",
    "\n",
    "# Sem map\n",
    "\n",
    "raizes_caluladas_sem_map = []\n",
    "for raizes in raizes_para_calcular:\n",
    "    raizes_caluladas_sem_map.append(calcular_raiz(raizes))\n",
    "\n",
    "print('Iterando com for:                                      {}'.format(raizes_caluladas_sem_map))\n",
    "\n",
    "# Utilizando a função map para iterar\n",
    "\n",
    "raizes_caluladas = list(map(calcular_raiz_lambda, raizes_para_calcular))\n",
    "\n",
    "print('Iterando com função Map:                               {}'.format(raizes_caluladas))\n",
    "\n",
    "# Definindo a função lambda diretamente na função map\n",
    "\n",
    "raizes_caluladas_lambda = list(map(lambda n: n ** (1/2) if is_numero_valido(n) else 0, raizes_para_calcular))\n",
    "\n",
    "print('Iterando com função Map declarando Lambda diretamente: {}'.format(raizes_caluladas_lambda))"
   ]
  },
  {
   "cell_type": "markdown",
   "metadata": {},
   "source": [
    "##### reduce()"
   ]
  },
  {
   "cell_type": "code",
   "execution_count": 151,
   "metadata": {},
   "outputs": [
    {
     "name": "stdout",
     "output_type": "stream",
     "text": [
      "174\n"
     ]
    }
   ],
   "source": [
    "# A função reduce() irá agregar os valores da estrutura em um único valor, recebe uma função e um iterável\n",
    "numeros = [1, 65,7,92,3,2,4]\n",
    "\n",
    "somar = lambda numero1, numero2: numero1 + numero2\n",
    "\n",
    "soma_raizes_calculadas = reduce(somar, numeros)\n",
    "\n",
    "print(soma_raizes_calculadas)"
   ]
  },
  {
   "cell_type": "code",
   "execution_count": 159,
   "metadata": {},
   "outputs": [
    {
     "name": "stdout",
     "output_type": "stream",
     "text": [
      "13.914997777178712\n"
     ]
    }
   ],
   "source": [
    "# Calculando as raízes e retornando a soma de todos os resultados\n",
    "\n",
    "soma_raizes = reduce(lambda n1, n2: calcular_raiz_lambda(n1) + calcular_raiz_lambda(n2), raizes_para_calcular)\n",
    "print(soma_raizes)"
   ]
  },
  {
   "cell_type": "markdown",
   "metadata": {},
   "source": [
    "##### filter()"
   ]
  },
  {
   "cell_type": "code",
   "execution_count": 176,
   "metadata": {},
   "outputs": [
    {
     "name": "stdout",
     "output_type": "stream",
     "text": [
      "Filtrando usando iteração: [0, 2, 4, 6, 8, 10, 12, 14, 16, 18, 20, 22, 24, 26, 28, 30, 32, 34, 36, 38, 40, 42, 44, 46, 48, 50]\n",
      "Filtrando usando filter:   [0, 2, 4, 6, 8, 10, 12, 14, 16, 18, 20, 22, 24, 26, 28, 30, 32, 34, 36, 38, 40, 42, 44, 46, 48, 50]\n"
     ]
    }
   ],
   "source": [
    "# Aplicar filtros na estrutura de dados\n",
    "\n",
    "# Filtrando por iteração\n",
    "numeros_0_a_50 = [n for n in range(0, 51)]\n",
    "\n",
    "numeros_0_a_50_pares = []\n",
    "\n",
    "for i in numeros_0_a_50:\n",
    "    if (i % 2 == 0):\n",
    "        numeros_0_a_50_pares.append(i)\n",
    "        \n",
    "print('Filtrando usando iteração: {}'.format(numeros_0_a_50_pares))\n",
    "\n",
    "# Filtrando usando a função filter\n",
    "\n",
    "numeros_0_a_50_pares_filter = list(filter(lambda n: n % 2 == 0, numeros_0_a_50))\n",
    "\n",
    "print('Filtrando usando filter:   {}'.format(numeros_0_a_50_pares_filter))"
   ]
  },
  {
   "cell_type": "markdown",
   "metadata": {},
   "source": [
    "##### zip()"
   ]
  },
  {
   "cell_type": "code",
   "execution_count": 180,
   "metadata": {},
   "outputs": [
    {
     "name": "stdout",
     "output_type": "stream",
     "text": [
      "[(1, 'Python', 17.8), (2, 'Java', 16.5), (3, 'Javascript', 141.11), (4, 'C#', 123.0)]\n"
     ]
    }
   ],
   "source": [
    "# A função zip() combina dados de vários iteráveis\n",
    "\n",
    "numeros = [1,2,3,4]\n",
    "linguagens_programacao = [\"Python\", \"Java\", \"Javascript\", \"C#\"]\n",
    "precos = [17.80,16.50,141.11,123.0]\n",
    "\n",
    "combinado = list(zip(numeros, linguagens_programacao, precos))\n",
    "print(combinado)"
   ]
  },
  {
   "cell_type": "code",
   "execution_count": 184,
   "metadata": {},
   "outputs": [
    {
     "data": {
      "text/plain": [
       "{'Script': 'facil', 'Compilada': 'media', 'Funcional': 'dificil'}"
      ]
     },
     "execution_count": 184,
     "metadata": {},
     "output_type": "execute_result"
    }
   ],
   "source": [
    "# Combinando valores de dicionários\n",
    "\n",
    "dicionario_lingagens = {\n",
    "    \"Script\": \"Python\",\n",
    "    \"Compilada\": \"Java\",\n",
    "    \"Funcional\": \"Haskell\",\n",
    "    \"Frameworks\": \"Express.js\"\n",
    "}\n",
    "\n",
    "niveis = {\n",
    "    \"facil\": \"10 meses\",\n",
    "    \"media\": \"1 ano e 6 meses\",\n",
    "    \"dificil\": \"3 anos\"\n",
    "}\n",
    "\n",
    "combinacao_dicionario = dict(zip(dicionario_lingagens, niveis))\n",
    "combinacao_dicionario"
   ]
  }
 ],
 "metadata": {
  "kernelspec": {
   "display_name": "Python 3",
   "language": "python",
   "name": "python3"
  },
  "language_info": {
   "codemirror_mode": {
    "name": "ipython",
    "version": 3
   },
   "file_extension": ".py",
   "mimetype": "text/x-python",
   "name": "python",
   "nbconvert_exporter": "python",
   "pygments_lexer": "ipython3",
   "version": "3.7.4"
  }
 },
 "nbformat": 4,
 "nbformat_minor": 2
}
