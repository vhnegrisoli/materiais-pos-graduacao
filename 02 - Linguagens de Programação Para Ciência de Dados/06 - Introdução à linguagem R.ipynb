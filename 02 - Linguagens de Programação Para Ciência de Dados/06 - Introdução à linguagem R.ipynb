{
 "cells": [
  {
   "cell_type": "markdown",
   "metadata": {},
   "source": [
    "## Pós-Graduação: Especialização em Data Science & Big Data"
   ]
  },
  {
   "cell_type": "markdown",
   "metadata": {},
   "source": [
    "### Pontifícia Universidade Católica de Minas Gerais (PUC-MG)"
   ]
  },
  {
   "cell_type": "markdown",
   "metadata": {},
   "source": [
    "#### Victor Hugo Negrisoli - Linguagens de Programação Para Ciência de Dados"
   ]
  },
  {
   "cell_type": "markdown",
   "metadata": {},
   "source": [
    "##### Introdução à linguagem R"
   ]
  },
  {
   "cell_type": "code",
   "execution_count": 4,
   "metadata": {},
   "outputs": [
    {
     "data": {
      "text/html": [
       "<table>\n",
       "<caption>A matrix: 111 × 16 of type chr</caption>\n",
       "<thead>\n",
       "\t<tr><th></th><th scope=col>Package</th><th scope=col>LibPath</th><th scope=col>Version</th><th scope=col>Priority</th><th scope=col>Depends</th><th scope=col>Imports</th><th scope=col>LinkingTo</th><th scope=col>Suggests</th><th scope=col>Enhances</th><th scope=col>License</th><th scope=col>License_is_FOSS</th><th scope=col>License_restricts_use</th><th scope=col>OS_type</th><th scope=col>MD5sum</th><th scope=col>NeedsCompilation</th><th scope=col>Built</th></tr>\n",
       "</thead>\n",
       "<tbody>\n",
       "\t<tr><th scope=row>askpass</th><td><span style=white-space:pre-wrap>askpass    </span></td><td>C:/Users/Lord_Negrisoli/Documents/R/win-library/4.0</td><td><span style=white-space:pre-wrap>1.1     </span></td><td>NA</td><td><span style=white-space:pre-wrap>NA                              </span></td><td><span style=white-space:pre-wrap>sys (&gt;= 2.1)                                                                                                                                                                                                                                                                                                                                                                                                                                                                                               </span></td><td><span style=white-space:pre-wrap>NA  </span></td><td><span style=white-space:pre-wrap>testthat                                                                                                                                                                                                                                    </span></td><td><span style=white-space:pre-wrap>NA            </span></td><td><span style=white-space:pre-wrap>MIT + file LICENSE         </span></td><td>NA</td><td>NA</td><td>NA</td><td>NA</td><td>yes</td><td>4.0.0</td></tr>\n",
       "\t<tr><th scope=row>assertthat</th><td>assertthat </td><td>C:/Users/Lord_Negrisoli/Documents/R/win-library/4.0</td><td>0.2.1   </td><td>NA</td><td>NA                              </td><td>tools                                                                                                                                                                                                                                                                                                                                                                                                                                                                                                      </td><td>NA  </td><td>testthat, covr                                                                                                                                                                                                                              </td><td>NA            </td><td>GPL-3                      </td><td>NA</td><td>NA</td><td>NA</td><td>NA</td><td>no </td><td>4.0.0</td></tr>\n",
       "\t<tr><th scope=row>backports</th><td><span style=white-space:pre-wrap>backports  </span></td><td>C:/Users/Lord_Negrisoli/Documents/R/win-library/4.0</td><td><span style=white-space:pre-wrap>1.1.6   </span></td><td>NA</td><td><span style=white-space:pre-wrap>R (&gt;= 3.0.0)                    </span></td><td><span style=white-space:pre-wrap>utils                                                                                                                                                                                                                                                                                                                                                                                                                                                                                                      </span></td><td><span style=white-space:pre-wrap>NA  </span></td><td><span style=white-space:pre-wrap>NA                                                                                                                                                                                                                                          </span></td><td><span style=white-space:pre-wrap>NA            </span></td><td><span style=white-space:pre-wrap>GPL-2 | GPL-3              </span></td><td>NA</td><td>NA</td><td>NA</td><td>NA</td><td>yes</td><td>4.0.0</td></tr>\n",
       "\t<tr><th scope=row>base64enc</th><td><span style=white-space:pre-wrap>base64enc  </span></td><td>C:/Users/Lord_Negrisoli/Documents/R/win-library/4.0</td><td><span style=white-space:pre-wrap>0.1-3   </span></td><td>NA</td><td><span style=white-space:pre-wrap>R (&gt;= 2.9.0)                    </span></td><td><span style=white-space:pre-wrap>NA                                                                                                                                                                                                                                                                                                                                                                                                                                                                                                         </span></td><td><span style=white-space:pre-wrap>NA  </span></td><td><span style=white-space:pre-wrap>NA                                                                                                                                                                                                                                          </span></td><td><span style=white-space:pre-wrap>png           </span></td><td><span style=white-space:pre-wrap>GPL-2 | GPL-3              </span></td><td>NA</td><td>NA</td><td>NA</td><td>NA</td><td>yes</td><td>4.0.0</td></tr>\n",
       "\t<tr><th scope=row>BH</th><td>BH         </td><td>C:/Users/Lord_Negrisoli/Documents/R/win-library/4.0</td><td>1.72.0-3</td><td>NA</td><td>NA                              </td><td>NA                                                                                                                                                                                                                                                                                                                                                                                                                                                                                                         </td><td>NA  </td><td>NA                                                                                                                                                                                                                                          </td><td>NA            </td><td>BSL-1.0                    </td><td>NA</td><td>NA</td><td>NA</td><td>NA</td><td>no </td><td>4.0.0</td></tr>\n",
       "\t<tr><th scope=row>brew</th><td>brew       </td><td>C:/Users/Lord_Negrisoli/Documents/R/win-library/4.0</td><td>1.0-6   </td><td>NA</td><td>NA                              </td><td>NA                                                                                                                                                                                                                                                                                                                                                                                                                                                                                                         </td><td>NA  </td><td>NA                                                                                                                                                                                                                                          </td><td>NA            </td><td>GPL-2                      </td><td>NA</td><td>NA</td><td>NA</td><td>NA</td><td>NA </td><td>4.0.0</td></tr>\n",
       "\t<tr><th scope=row>callr</th><td><span style=white-space:pre-wrap>callr      </span></td><td>C:/Users/Lord_Negrisoli/Documents/R/win-library/4.0</td><td><span style=white-space:pre-wrap>3.4.3   </span></td><td>NA</td><td><span style=white-space:pre-wrap>NA                              </span></td><td><span style=white-space:pre-wrap>processx (&gt;= 3.4.0), R6, utils                                                                                                                                                                                                                                                                                                                                                                                                                                                                             </span></td><td><span style=white-space:pre-wrap>NA  </span></td><td><span style=white-space:pre-wrap>cliapp, covr, crayon, fansi, pingr, ps, rprojroot, spelling,\n",
       "testthat, tibble, withr                                                                                                                                                       </span></td><td><span style=white-space:pre-wrap>NA            </span></td><td><span style=white-space:pre-wrap>MIT + file LICENSE         </span></td><td>NA</td><td>NA</td><td>NA</td><td>NA</td><td>no </td><td>4.0.0</td></tr>\n",
       "\t<tr><th scope=row>cli</th><td><span style=white-space:pre-wrap>cli        </span></td><td>C:/Users/Lord_Negrisoli/Documents/R/win-library/4.0</td><td><span style=white-space:pre-wrap>2.0.2   </span></td><td>NA</td><td><span style=white-space:pre-wrap>R (&gt;= 2.10)                     </span></td><td><span style=white-space:pre-wrap>assertthat, crayon (&gt;= 1.3.4), glue, methods, utils, fansi                                                                                                                                                                                                                                                                                                                                                                                                                                                 </span></td><td><span style=white-space:pre-wrap>NA  </span></td><td><span style=white-space:pre-wrap>callr, covr, htmlwidgets, knitr, mockery, rmarkdown,\n",
       "rstudioapi, prettycode (&gt;= 1.1.0), testthat, withr                                                                                                                                    </span></td><td><span style=white-space:pre-wrap>NA            </span></td><td><span style=white-space:pre-wrap>MIT + file LICENSE         </span></td><td>NA</td><td>NA</td><td>NA</td><td>NA</td><td>no </td><td>4.0.0</td></tr>\n",
       "\t<tr><th scope=row>clipr</th><td><span style=white-space:pre-wrap>clipr      </span></td><td>C:/Users/Lord_Negrisoli/Documents/R/win-library/4.0</td><td><span style=white-space:pre-wrap>0.7.0   </span></td><td>NA</td><td><span style=white-space:pre-wrap>NA                              </span></td><td><span style=white-space:pre-wrap>utils                                                                                                                                                                                                                                                                                                                                                                                                                                                                                                      </span></td><td><span style=white-space:pre-wrap>NA  </span></td><td><span style=white-space:pre-wrap>covr, knitr, rmarkdown, rstudioapi (&gt;= 0.5), testthat (&gt;=\n",
       "2.0.0)                                                                                                                                                                           </span></td><td><span style=white-space:pre-wrap>NA            </span></td><td><span style=white-space:pre-wrap>GPL-3                      </span></td><td>NA</td><td>NA</td><td>NA</td><td>NA</td><td>no </td><td>4.0.0</td></tr>\n",
       "\t<tr><th scope=row>commonmark</th><td>commonmark </td><td>C:/Users/Lord_Negrisoli/Documents/R/win-library/4.0</td><td>1.7     </td><td>NA</td><td>NA                              </td><td>NA                                                                                                                                                                                                                                                                                                                                                                                                                                                                                                         </td><td>NA  </td><td>curl, testthat, xml2                                                                                                                                                                                                                        </td><td>NA            </td><td>BSD_2_clause + file LICENSE</td><td>NA</td><td>NA</td><td>NA</td><td>NA</td><td>yes</td><td>4.0.0</td></tr>\n",
       "\t<tr><th scope=row>covr</th><td><span style=white-space:pre-wrap>covr       </span></td><td>C:/Users/Lord_Negrisoli/Documents/R/win-library/4.0</td><td><span style=white-space:pre-wrap>3.5.0   </span></td><td>NA</td><td><span style=white-space:pre-wrap>R (&gt;= 3.1.0), methods           </span></td><td><span style=white-space:pre-wrap>digest, stats, utils, jsonlite, rex, httr, crayon, withr (&gt;=\n",
       "1.0.2), yaml                                                                                                                                                                                                                                                                                                                                                                                                                                 </span></td><td><span style=white-space:pre-wrap>NA  </span></td><td><span style=white-space:pre-wrap>R6, knitr, rmarkdown, htmltools, DT (&gt;= 0.2), testthat,\n",
       "rlang, rstudioapi (&gt;= 0.2), xml2 (&gt;= 1.0.0), parallel, memoise,\n",
       "mockery                                                                                                           </span></td><td><span style=white-space:pre-wrap>NA            </span></td><td><span style=white-space:pre-wrap>GPL-3                      </span></td><td>NA</td><td>NA</td><td>NA</td><td>NA</td><td>yes</td><td>4.0.0</td></tr>\n",
       "\t<tr><th scope=row>crayon</th><td>crayon     </td><td>C:/Users/Lord_Negrisoli/Documents/R/win-library/4.0</td><td>1.3.4   </td><td>NA</td><td>NA                              </td><td>grDevices, methods, utils                                                                                                                                                                                                                                                                                                                                                                                                                                                                                  </td><td>NA  </td><td>mockery, rstudioapi, testthat, withr                                                                                                                                                                                                        </td><td>NA            </td><td>MIT + file LICENSE         </td><td>NA</td><td>NA</td><td>NA</td><td>NA</td><td>no </td><td>4.0.0</td></tr>\n",
       "\t<tr><th scope=row>crosstalk</th><td><span style=white-space:pre-wrap>crosstalk  </span></td><td>C:/Users/Lord_Negrisoli/Documents/R/win-library/4.0</td><td>1.1.0.1 </td><td>NA</td><td><span style=white-space:pre-wrap>NA                              </span></td><td><span style=white-space:pre-wrap>htmltools (&gt;= 0.3.6), jsonlite, lazyeval, R6                                                                                                                                                                                                                                                                                                                                                                                                                                                               </span></td><td><span style=white-space:pre-wrap>NA  </span></td><td><span style=white-space:pre-wrap>shiny, ggplot2, testthat (&gt;= 2.1.0)                                                                                                                                                                                                         </span></td><td><span style=white-space:pre-wrap>NA            </span></td><td><span style=white-space:pre-wrap>MIT + file LICENSE         </span></td><td>NA</td><td>NA</td><td>NA</td><td>NA</td><td>no </td><td>4.0.0</td></tr>\n",
       "\t<tr><th scope=row>curl</th><td><span style=white-space:pre-wrap>curl       </span></td><td>C:/Users/Lord_Negrisoli/Documents/R/win-library/4.0</td><td><span style=white-space:pre-wrap>4.3     </span></td><td>NA</td><td><span style=white-space:pre-wrap>R (&gt;= 3.0.0)                    </span></td><td><span style=white-space:pre-wrap>NA                                                                                                                                                                                                                                                                                                                                                                                                                                                                                                         </span></td><td><span style=white-space:pre-wrap>NA  </span></td><td><span style=white-space:pre-wrap>spelling, testthat (&gt;= 1.0.0), knitr, jsonlite, rmarkdown,\n",
       "magrittr, httpuv (&gt;= 1.4.4), webutils                                                                                                                                           </span></td><td><span style=white-space:pre-wrap>NA            </span></td><td><span style=white-space:pre-wrap>MIT + file LICENSE         </span></td><td>NA</td><td>NA</td><td>NA</td><td>NA</td><td>yes</td><td>4.0.0</td></tr>\n",
       "\t<tr><th scope=row>desc</th><td><span style=white-space:pre-wrap>desc       </span></td><td>C:/Users/Lord_Negrisoli/Documents/R/win-library/4.0</td><td><span style=white-space:pre-wrap>1.2.0   </span></td><td>NA</td><td><span style=white-space:pre-wrap>R (&gt;= 3.1.0)                    </span></td><td><span style=white-space:pre-wrap>assertthat, utils, R6, crayon, rprojroot                                                                                                                                                                                                                                                                                                                                                                                                                                                                   </span></td><td><span style=white-space:pre-wrap>NA  </span></td><td><span style=white-space:pre-wrap>covr, testthat, whoami, withr                                                                                                                                                                                                               </span></td><td><span style=white-space:pre-wrap>NA            </span></td><td><span style=white-space:pre-wrap>MIT + file LICENSE         </span></td><td>NA</td><td>NA</td><td>NA</td><td>NA</td><td>no </td><td>4.0.0</td></tr>\n",
       "\t<tr><th scope=row>devtools</th><td><span style=white-space:pre-wrap>devtools   </span></td><td>C:/Users/Lord_Negrisoli/Documents/R/win-library/4.0</td><td><span style=white-space:pre-wrap>2.3.0   </span></td><td>NA</td><td>R (&gt;= 3.0.2), usethis (&gt;= 1.6.0)</td><td>callr (&gt;= 3.4.3), cli (&gt;= 2.0.2), covr (&gt;= 3.5.0), crayon (&gt;=\n",
       "1.3.4), desc (&gt;= 1.2.0), digest (&gt;= 0.6.25), DT (&gt;= 0.13),\n",
       "ellipsis (&gt;= 0.3.0), glue (&gt;= 1.4.0), git2r (&gt;= 0.26.1), httr\n",
       "(&gt;= 1.4.1), jsonlite (&gt;= 1.6.1), memoise (&gt;= 1.1.0), pkgbuild\n",
       "(&gt;= 1.0.6), pkgload (&gt;= 1.0.2), rcmdcheck (&gt;= 1.3.3), remotes\n",
       "(&gt;= 2.1.1), rlang (&gt;= 0.4.5), roxygen2 (&gt;= 7.1.0), rstudioapi\n",
       "(&gt;= 0.11), rversions (&gt;= 2.0.1), sessioninfo (&gt;= 1.1.1), stats,\n",
       "testthat (&gt;= 2.3.2), tools, utils, withr (&gt;= 2.1.2)</td><td><span style=white-space:pre-wrap>NA  </span></td><td>BiocManager (&gt;= 1.30.10), curl (&gt;= 4.3), foghorn (&gt;= 1.1.5),\n",
       "gmailr (&gt;= 1.0.0), knitr (&gt;= 1.28), lintr (&gt;= 2.0.1), mockery\n",
       "(&gt;= 0.4.2), pingr (&gt;= 2.0.0), MASS, pkgdown (&gt;= 1.5.1), rhub\n",
       "(&gt;= 1.1.1), rmarkdown (&gt;= 2.1), spelling (&gt;= 2.1)</td><td><span style=white-space:pre-wrap>NA            </span></td><td><span style=white-space:pre-wrap>GPL (&gt;= 2)                 </span></td><td>NA</td><td>NA</td><td>NA</td><td>NA</td><td>no </td><td>4.0.0</td></tr>\n",
       "\t<tr><th scope=row>digest</th><td><span style=white-space:pre-wrap>digest     </span></td><td>C:/Users/Lord_Negrisoli/Documents/R/win-library/4.0</td><td><span style=white-space:pre-wrap>0.6.25  </span></td><td>NA</td><td><span style=white-space:pre-wrap>R (&gt;= 3.1.0)                    </span></td><td><span style=white-space:pre-wrap>utils                                                                                                                                                                                                                                                                                                                                                                                                                                                                                                      </span></td><td><span style=white-space:pre-wrap>NA  </span></td><td><span style=white-space:pre-wrap>tinytest, knitr, rmarkdown                                                                                                                                                                                                                  </span></td><td><span style=white-space:pre-wrap>NA            </span></td><td><span style=white-space:pre-wrap>GPL (&gt;= 2)                 </span></td><td>NA</td><td>NA</td><td>NA</td><td>NA</td><td>yes</td><td>4.0.0</td></tr>\n",
       "\t<tr><th scope=row>DT</th><td><span style=white-space:pre-wrap>DT         </span></td><td>C:/Users/Lord_Negrisoli/Documents/R/win-library/4.0</td><td><span style=white-space:pre-wrap>0.13    </span></td><td>NA</td><td><span style=white-space:pre-wrap>NA                              </span></td><td><span style=white-space:pre-wrap>htmltools (&gt;= 0.3.6), htmlwidgets (&gt;= 1.3), jsonlite (&gt;=\n",
       "0.9.16), magrittr, crosstalk, promises                                                                                                                                                                                                                                                                                                                                                                                                           </span></td><td><span style=white-space:pre-wrap>NA  </span></td><td><span style=white-space:pre-wrap>knitr (&gt;= 1.8), rmarkdown, shiny (&gt;= 1.2.0)                                                                                                                                                                                                 </span></td><td><span style=white-space:pre-wrap>NA            </span></td><td><span style=white-space:pre-wrap>GPL-3 | file LICENSE       </span></td><td>NA</td><td>NA</td><td>NA</td><td>NA</td><td>no </td><td>4.0.0</td></tr>\n",
       "\t<tr><th scope=row>ellipsis</th><td><span style=white-space:pre-wrap>ellipsis   </span></td><td>C:/Users/Lord_Negrisoli/Documents/R/win-library/4.0</td><td><span style=white-space:pre-wrap>0.3.0   </span></td><td>NA</td><td><span style=white-space:pre-wrap>R (&gt;= 3.2)                      </span></td><td><span style=white-space:pre-wrap>rlang (&gt;= 0.3.0)                                                                                                                                                                                                                                                                                                                                                                                                                                                                                           </span></td><td><span style=white-space:pre-wrap>NA  </span></td><td><span style=white-space:pre-wrap>covr, testthat                                                                                                                                                                                                                              </span></td><td><span style=white-space:pre-wrap>NA            </span></td><td><span style=white-space:pre-wrap>GPL-3                      </span></td><td>NA</td><td>NA</td><td>NA</td><td>NA</td><td>yes</td><td>4.0.0</td></tr>\n",
       "\t<tr><th scope=row>evaluate</th><td><span style=white-space:pre-wrap>evaluate   </span></td><td>C:/Users/Lord_Negrisoli/Documents/R/win-library/4.0</td><td><span style=white-space:pre-wrap>0.14    </span></td><td>NA</td><td><span style=white-space:pre-wrap>R (&gt;= 3.0.2)                    </span></td><td><span style=white-space:pre-wrap>methods                                                                                                                                                                                                                                                                                                                                                                                                                                                                                                    </span></td><td><span style=white-space:pre-wrap>NA  </span></td><td><span style=white-space:pre-wrap>testthat, lattice, ggplot2                                                                                                                                                                                                                  </span></td><td><span style=white-space:pre-wrap>NA            </span></td><td><span style=white-space:pre-wrap>MIT + file LICENSE         </span></td><td>NA</td><td>NA</td><td>NA</td><td>NA</td><td>no </td><td>4.0.0</td></tr>\n",
       "\t<tr><th scope=row>fansi</th><td><span style=white-space:pre-wrap>fansi      </span></td><td>C:/Users/Lord_Negrisoli/Documents/R/win-library/4.0</td><td><span style=white-space:pre-wrap>0.4.1   </span></td><td>NA</td><td><span style=white-space:pre-wrap>R (&gt;= 3.1.0)                    </span></td><td><span style=white-space:pre-wrap>NA                                                                                                                                                                                                                                                                                                                                                                                                                                                                                                         </span></td><td><span style=white-space:pre-wrap>NA  </span></td><td><span style=white-space:pre-wrap>unitizer, knitr, rmarkdown                                                                                                                                                                                                                  </span></td><td><span style=white-space:pre-wrap>NA            </span></td><td><span style=white-space:pre-wrap>GPL (&gt;= 2)                 </span></td><td>NA</td><td>NA</td><td>NA</td><td>NA</td><td>yes</td><td>4.0.0</td></tr>\n",
       "\t<tr><th scope=row>fs</th><td><span style=white-space:pre-wrap>fs         </span></td><td>C:/Users/Lord_Negrisoli/Documents/R/win-library/4.0</td><td><span style=white-space:pre-wrap>1.4.1   </span></td><td>NA</td><td><span style=white-space:pre-wrap>R (&gt;= 3.1)                      </span></td><td><span style=white-space:pre-wrap>methods                                                                                                                                                                                                                                                                                                                                                                                                                                                                                                    </span></td><td><span style=white-space:pre-wrap>NA  </span></td><td><span style=white-space:pre-wrap>testthat, covr, pillar (&gt;= 1.0.0), tibble (&gt;= 1.1.0), crayon,\n",
       "rmarkdown, knitr, withr, spelling                                                                                                                                            </span></td><td><span style=white-space:pre-wrap>NA            </span></td><td><span style=white-space:pre-wrap>GPL-3                      </span></td><td>NA</td><td>NA</td><td>NA</td><td>NA</td><td>yes</td><td>4.0.0</td></tr>\n",
       "\t<tr><th scope=row>gh</th><td><span style=white-space:pre-wrap>gh         </span></td><td>C:/Users/Lord_Negrisoli/Documents/R/win-library/4.0</td><td><span style=white-space:pre-wrap>1.1.0   </span></td><td>NA</td><td><span style=white-space:pre-wrap>NA                              </span></td><td><span style=white-space:pre-wrap>cli, ini, jsonlite, httr (&gt;= 1.2)                                                                                                                                                                                                                                                                                                                                                                                                                                                                          </span></td><td><span style=white-space:pre-wrap>NA  </span></td><td><span style=white-space:pre-wrap>covr, keyring, pingr, testthat, withr                                                                                                                                                                                                       </span></td><td><span style=white-space:pre-wrap>NA            </span></td><td><span style=white-space:pre-wrap>MIT + file LICENSE         </span></td><td>NA</td><td>NA</td><td>NA</td><td>NA</td><td>no </td><td>4.0.0</td></tr>\n",
       "\t<tr><th scope=row>git2r</th><td><span style=white-space:pre-wrap>git2r      </span></td><td>C:/Users/Lord_Negrisoli/Documents/R/win-library/4.0</td><td><span style=white-space:pre-wrap>0.27.1  </span></td><td>NA</td><td><span style=white-space:pre-wrap>R (&gt;= 3.1)                      </span></td><td><span style=white-space:pre-wrap>graphics, utils                                                                                                                                                                                                                                                                                                                                                                                                                                                                                            </span></td><td><span style=white-space:pre-wrap>NA  </span></td><td><span style=white-space:pre-wrap>getPass                                                                                                                                                                                                                                     </span></td><td><span style=white-space:pre-wrap>NA            </span></td><td><span style=white-space:pre-wrap>GPL-2                      </span></td><td>NA</td><td>NA</td><td>NA</td><td>NA</td><td>yes</td><td>4.0.0</td></tr>\n",
       "\t<tr><th scope=row>glue</th><td><span style=white-space:pre-wrap>glue       </span></td><td>C:/Users/Lord_Negrisoli/Documents/R/win-library/4.0</td><td><span style=white-space:pre-wrap>1.4.0   </span></td><td>NA</td><td><span style=white-space:pre-wrap>R (&gt;= 3.1)                      </span></td><td><span style=white-space:pre-wrap>methods                                                                                                                                                                                                                                                                                                                                                                                                                                                                                                    </span></td><td><span style=white-space:pre-wrap>NA  </span></td><td><span style=white-space:pre-wrap>testthat, covr, magrittr, crayon, knitr, rmarkdown, DBI,\n",
       "RSQLite, R.utils, forcats, microbenchmark, rprintf, stringr,\n",
       "ggplot2, dplyr, withr, vctrs (&gt;= 0.2.2)                                                                             </span></td><td><span style=white-space:pre-wrap>NA            </span></td><td><span style=white-space:pre-wrap>MIT + file LICENSE         </span></td><td>NA</td><td>NA</td><td>NA</td><td>NA</td><td>yes</td><td>4.0.0</td></tr>\n",
       "\t<tr><th scope=row>highr</th><td><span style=white-space:pre-wrap>highr      </span></td><td>C:/Users/Lord_Negrisoli/Documents/R/win-library/4.0</td><td><span style=white-space:pre-wrap>0.8     </span></td><td>NA</td><td><span style=white-space:pre-wrap>R (&gt;= 3.2.3)                    </span></td><td><span style=white-space:pre-wrap>NA                                                                                                                                                                                                                                                                                                                                                                                                                                                                                                         </span></td><td><span style=white-space:pre-wrap>NA  </span></td><td><span style=white-space:pre-wrap>knitr, testit                                                                                                                                                                                                                               </span></td><td><span style=white-space:pre-wrap>NA            </span></td><td><span style=white-space:pre-wrap>GPL                        </span></td><td>NA</td><td>NA</td><td>NA</td><td>NA</td><td>no </td><td>4.0.0</td></tr>\n",
       "\t<tr><th scope=row>htmltools</th><td><span style=white-space:pre-wrap>htmltools  </span></td><td>C:/Users/Lord_Negrisoli/Documents/R/win-library/4.0</td><td><span style=white-space:pre-wrap>0.4.0   </span></td><td>NA</td><td><span style=white-space:pre-wrap>R (&gt;= 2.14.1)                   </span></td><td><span style=white-space:pre-wrap>utils, digest, Rcpp, rlang                                                                                                                                                                                                                                                                                                                                                                                                                                                                                 </span></td><td>Rcpp</td><td><span style=white-space:pre-wrap>markdown, testthat, withr                                                                                                                                                                                                                   </span></td><td><span style=white-space:pre-wrap>knitr         </span></td><td><span style=white-space:pre-wrap>GPL (&gt;= 2)                 </span></td><td>NA</td><td>NA</td><td>NA</td><td>NA</td><td>yes</td><td>4.0.0</td></tr>\n",
       "\t<tr><th scope=row>htmlwidgets</th><td>htmlwidgets</td><td>C:/Users/Lord_Negrisoli/Documents/R/win-library/4.0</td><td><span style=white-space:pre-wrap>1.5.1   </span></td><td>NA</td><td><span style=white-space:pre-wrap>NA                              </span></td><td><span style=white-space:pre-wrap>grDevices, htmltools (&gt;= 0.3), jsonlite (&gt;= 0.9.16), yaml                                                                                                                                                                                                                                                                                                                                                                                                                                                  </span></td><td><span style=white-space:pre-wrap>NA  </span></td><td><span style=white-space:pre-wrap>knitr (&gt;= 1.8)                                                                                                                                                                                                                              </span></td><td>shiny (&gt;= 1.1)</td><td><span style=white-space:pre-wrap>MIT + file LICENSE         </span></td><td>NA</td><td>NA</td><td>NA</td><td>NA</td><td>no </td><td>4.0.0</td></tr>\n",
       "\t<tr><th scope=row>httr</th><td><span style=white-space:pre-wrap>httr       </span></td><td>C:/Users/Lord_Negrisoli/Documents/R/win-library/4.0</td><td><span style=white-space:pre-wrap>1.4.1   </span></td><td>NA</td><td><span style=white-space:pre-wrap>R (&gt;= 3.2)                      </span></td><td><span style=white-space:pre-wrap>curl (&gt;= 3.0.0), jsonlite, mime, openssl (&gt;= 0.8), R6                                                                                                                                                                                                                                                                                                                                                                                                                                                      </span></td><td><span style=white-space:pre-wrap>NA  </span></td><td><span style=white-space:pre-wrap>covr, httpuv, jpeg, knitr, png, readr, rmarkdown, testthat\n",
       "(&gt;= 0.8.0), xml2                                                                                                                                                                </span></td><td><span style=white-space:pre-wrap>NA            </span></td><td><span style=white-space:pre-wrap>MIT + file LICENSE         </span></td><td>NA</td><td>NA</td><td>NA</td><td>NA</td><td>no </td><td>4.0.0</td></tr>\n",
       "\t<tr><th scope=row>ini</th><td>ini        </td><td>C:/Users/Lord_Negrisoli/Documents/R/win-library/4.0</td><td>0.3.1   </td><td>NA</td><td>NA                              </td><td>NA                                                                                                                                                                                                                                                                                                                                                                                                                                                                                                         </td><td>NA  </td><td>testthat                                                                                                                                                                                                                                    </td><td>NA            </td><td>GPL-3                      </td><td>NA</td><td>NA</td><td>NA</td><td>NA</td><td>no </td><td>4.0.0</td></tr>\n",
       "\t<tr><th scope=row>...</th><td>...</td><td>...</td><td>...</td><td>...</td><td>...</td><td>...</td><td>...</td><td>...</td><td>...</td><td>...</td><td>...</td><td>...</td><td>...</td><td>...</td><td>...</td><td>...</td></tr>\n",
       "\t<tr><th scope=row>base</th><td>base        </td><td>C:/Program Files/R/R-4.0.0/library</td><td>4.0.0   </td><td>base       </td><td>NA                                             </td><td>NA                                              </td><td>NA</td><td>methods                                   </td><td>NA                                   </td><td>Part of R 4.0.0          </td><td>NA</td><td>NA</td><td>NA</td><td>NA</td><td>NA </td><td>4.0.0</td></tr>\n",
       "\t<tr><th scope=row>boot</th><td><span style=white-space:pre-wrap>boot        </span></td><td>C:/Program Files/R/R-4.0.0/library</td><td><span style=white-space:pre-wrap>1.3-24  </span></td><td>recommended</td><td><span style=white-space:pre-wrap>R (&gt;= 3.0.0), graphics, stats                  </span></td><td><span style=white-space:pre-wrap>NA                                              </span></td><td>NA</td><td><span style=white-space:pre-wrap>MASS, survival                            </span></td><td><span style=white-space:pre-wrap>NA                                   </span></td><td><span style=white-space:pre-wrap>Unlimited                </span></td><td>NA</td><td>NA</td><td>NA</td><td>NA</td><td>no </td><td>4.0.0</td></tr>\n",
       "\t<tr><th scope=row>class</th><td><span style=white-space:pre-wrap>class       </span></td><td>C:/Program Files/R/R-4.0.0/library</td><td><span style=white-space:pre-wrap>7.3-16  </span></td><td>recommended</td><td><span style=white-space:pre-wrap>R (&gt;= 3.0.0), stats, utils                     </span></td><td><span style=white-space:pre-wrap>MASS                                            </span></td><td>NA</td><td><span style=white-space:pre-wrap>NA                                        </span></td><td><span style=white-space:pre-wrap>NA                                   </span></td><td><span style=white-space:pre-wrap>GPL-2 | GPL-3            </span></td><td>NA</td><td>NA</td><td>NA</td><td>NA</td><td>yes</td><td>4.0.0</td></tr>\n",
       "\t<tr><th scope=row>cluster</th><td><span style=white-space:pre-wrap>cluster     </span></td><td>C:/Program Files/R/R-4.0.0/library</td><td><span style=white-space:pre-wrap>2.1.0   </span></td><td>recommended</td><td><span style=white-space:pre-wrap>R (&gt;= 3.3.0)                                   </span></td><td><span style=white-space:pre-wrap>graphics, grDevices, stats, utils               </span></td><td>NA</td><td><span style=white-space:pre-wrap>MASS, Matrix                              </span></td><td><span style=white-space:pre-wrap>NA                                   </span></td><td><span style=white-space:pre-wrap>GPL (&gt;= 2)               </span></td><td>NA</td><td>NA</td><td>NA</td><td>NA</td><td>yes</td><td>4.0.0</td></tr>\n",
       "\t<tr><th scope=row>codetools</th><td><span style=white-space:pre-wrap>codetools   </span></td><td>C:/Program Files/R/R-4.0.0/library</td><td><span style=white-space:pre-wrap>0.2-16  </span></td><td>recommended</td><td><span style=white-space:pre-wrap>R (&gt;= 2.1)                                     </span></td><td><span style=white-space:pre-wrap>NA                                              </span></td><td>NA</td><td><span style=white-space:pre-wrap>NA                                        </span></td><td><span style=white-space:pre-wrap>NA                                   </span></td><td><span style=white-space:pre-wrap>GPL                      </span></td><td>NA</td><td>NA</td><td>NA</td><td>NA</td><td>no </td><td>4.0.0</td></tr>\n",
       "\t<tr><th scope=row>compiler</th><td>compiler    </td><td>C:/Program Files/R/R-4.0.0/library</td><td>4.0.0   </td><td>base       </td><td>NA                                             </td><td>NA                                              </td><td>NA</td><td>NA                                        </td><td>NA                                   </td><td>Part of R 4.0.0          </td><td>NA</td><td>NA</td><td>NA</td><td>NA</td><td>NA </td><td>4.0.0</td></tr>\n",
       "\t<tr><th scope=row>datasets</th><td>datasets    </td><td>C:/Program Files/R/R-4.0.0/library</td><td>4.0.0   </td><td>base       </td><td>NA                                             </td><td>NA                                              </td><td>NA</td><td>NA                                        </td><td>NA                                   </td><td>Part of R 4.0.0          </td><td>NA</td><td>NA</td><td>NA</td><td>NA</td><td>NA </td><td>4.0.0</td></tr>\n",
       "\t<tr><th scope=row>foreign</th><td><span style=white-space:pre-wrap>foreign     </span></td><td>C:/Program Files/R/R-4.0.0/library</td><td><span style=white-space:pre-wrap>0.8-78  </span></td><td>recommended</td><td><span style=white-space:pre-wrap>R (&gt;= 4.0.0)                                   </span></td><td><span style=white-space:pre-wrap>methods, utils, stats                           </span></td><td>NA</td><td><span style=white-space:pre-wrap>NA                                        </span></td><td><span style=white-space:pre-wrap>NA                                   </span></td><td><span style=white-space:pre-wrap>GPL (&gt;= 2)               </span></td><td>NA</td><td>NA</td><td>NA</td><td>NA</td><td>yes</td><td>4.0.0</td></tr>\n",
       "\t<tr><th scope=row>graphics</th><td>graphics    </td><td>C:/Program Files/R/R-4.0.0/library</td><td>4.0.0   </td><td>base       </td><td>NA                                             </td><td>grDevices                                       </td><td>NA</td><td>NA                                        </td><td>NA                                   </td><td>Part of R 4.0.0          </td><td>NA</td><td>NA</td><td>NA</td><td>NA</td><td>yes</td><td>4.0.0</td></tr>\n",
       "\t<tr><th scope=row>grDevices</th><td>grDevices   </td><td>C:/Program Files/R/R-4.0.0/library</td><td>4.0.0   </td><td>base       </td><td>NA                                             </td><td>NA                                              </td><td>NA</td><td>KernSmooth                                </td><td>NA                                   </td><td>Part of R 4.0.0          </td><td>NA</td><td>NA</td><td>NA</td><td>NA</td><td>yes</td><td>4.0.0</td></tr>\n",
       "\t<tr><th scope=row>grid</th><td>grid        </td><td>C:/Program Files/R/R-4.0.0/library</td><td>4.0.0   </td><td>base       </td><td>NA                                             </td><td>grDevices, utils                                </td><td>NA</td><td>lattice                                   </td><td>NA                                   </td><td>Part of R 4.0.0          </td><td>NA</td><td>NA</td><td>NA</td><td>NA</td><td>yes</td><td>4.0.0</td></tr>\n",
       "\t<tr><th scope=row>KernSmooth</th><td><span style=white-space:pre-wrap>KernSmooth  </span></td><td>C:/Program Files/R/R-4.0.0/library</td><td>2.23-16 </td><td>recommended</td><td><span style=white-space:pre-wrap>R (&gt;= 2.5.0), stats                            </span></td><td><span style=white-space:pre-wrap>NA                                              </span></td><td>NA</td><td><span style=white-space:pre-wrap>MASS                                      </span></td><td><span style=white-space:pre-wrap>NA                                   </span></td><td><span style=white-space:pre-wrap>Unlimited                </span></td><td>NA</td><td>NA</td><td>NA</td><td>NA</td><td>yes</td><td>4.0.0</td></tr>\n",
       "\t<tr><th scope=row>lattice</th><td><span style=white-space:pre-wrap>lattice     </span></td><td>C:/Program Files/R/R-4.0.0/library</td><td>0.20-41 </td><td>recommended</td><td><span style=white-space:pre-wrap>R (&gt;= 3.0.0)                                   </span></td><td><span style=white-space:pre-wrap>grid, grDevices, graphics, stats, utils         </span></td><td>NA</td><td><span style=white-space:pre-wrap>KernSmooth, MASS, latticeExtra            </span></td><td><span style=white-space:pre-wrap>chron                                </span></td><td><span style=white-space:pre-wrap>GPL (&gt;= 2)               </span></td><td>NA</td><td>NA</td><td>NA</td><td>NA</td><td>yes</td><td>4.0.0</td></tr>\n",
       "\t<tr><th scope=row>MASS</th><td><span style=white-space:pre-wrap>MASS        </span></td><td>C:/Program Files/R/R-4.0.0/library</td><td>7.3-51.5</td><td>recommended</td><td>R (&gt;= 3.1.0), grDevices, graphics, stats, utils</td><td><span style=white-space:pre-wrap>methods                                         </span></td><td>NA</td><td><span style=white-space:pre-wrap>lattice, nlme, nnet, survival             </span></td><td><span style=white-space:pre-wrap>NA                                   </span></td><td><span style=white-space:pre-wrap>GPL-2 | GPL-3            </span></td><td>NA</td><td>NA</td><td>NA</td><td>NA</td><td>yes</td><td>4.0.0</td></tr>\n",
       "\t<tr><th scope=row>Matrix</th><td><span style=white-space:pre-wrap>Matrix      </span></td><td>C:/Program Files/R/R-4.0.0/library</td><td><span style=white-space:pre-wrap>1.2-18  </span></td><td>recommended</td><td><span style=white-space:pre-wrap>R (&gt;= 3.2.0)                                   </span></td><td><span style=white-space:pre-wrap>methods, graphics, grid, stats, utils, lattice  </span></td><td>NA</td><td><span style=white-space:pre-wrap>expm, MASS                                </span></td><td>MatrixModels, graph, SparseM, sfsmisc</td><td>GPL (&gt;= 2) | file LICENCE</td><td>NA</td><td>NA</td><td>NA</td><td>NA</td><td>yes</td><td>4.0.0</td></tr>\n",
       "\t<tr><th scope=row>methods</th><td>methods     </td><td>C:/Program Files/R/R-4.0.0/library</td><td>4.0.0   </td><td>base       </td><td>NA                                             </td><td>utils, stats                                    </td><td>NA</td><td>codetools                                 </td><td>NA                                   </td><td>Part of R 4.0.0          </td><td>NA</td><td>NA</td><td>NA</td><td>NA</td><td>yes</td><td>4.0.0</td></tr>\n",
       "\t<tr><th scope=row>mgcv</th><td><span style=white-space:pre-wrap>mgcv        </span></td><td>C:/Program Files/R/R-4.0.0/library</td><td><span style=white-space:pre-wrap>1.8-31  </span></td><td>recommended</td><td><span style=white-space:pre-wrap>R (&gt;= 2.14.0), nlme (&gt;= 3.1-64)                </span></td><td>methods, stats, graphics, Matrix, splines, utils</td><td>NA</td><td><span style=white-space:pre-wrap>parallel, survival, MASS                  </span></td><td><span style=white-space:pre-wrap>NA                                   </span></td><td><span style=white-space:pre-wrap>GPL (&gt;= 2)               </span></td><td>NA</td><td>NA</td><td>NA</td><td>NA</td><td>yes</td><td>4.0.0</td></tr>\n",
       "\t<tr><th scope=row>nlme</th><td><span style=white-space:pre-wrap>nlme        </span></td><td>C:/Program Files/R/R-4.0.0/library</td><td>3.1-147 </td><td>recommended</td><td><span style=white-space:pre-wrap>R (&gt;= 3.4.0)                                   </span></td><td><span style=white-space:pre-wrap>graphics, stats, utils, lattice                 </span></td><td>NA</td><td><span style=white-space:pre-wrap>Hmisc, MASS                               </span></td><td><span style=white-space:pre-wrap>NA                                   </span></td><td>GPL (&gt;= 2) | file LICENCE</td><td>NA</td><td>NA</td><td>NA</td><td>NA</td><td>yes</td><td>4.0.0</td></tr>\n",
       "\t<tr><th scope=row>nnet</th><td><span style=white-space:pre-wrap>nnet        </span></td><td>C:/Program Files/R/R-4.0.0/library</td><td><span style=white-space:pre-wrap>7.3-13  </span></td><td>recommended</td><td><span style=white-space:pre-wrap>R (&gt;= 3.0.0), stats, utils                     </span></td><td><span style=white-space:pre-wrap>NA                                              </span></td><td>NA</td><td><span style=white-space:pre-wrap>MASS                                      </span></td><td><span style=white-space:pre-wrap>NA                                   </span></td><td><span style=white-space:pre-wrap>GPL-2 | GPL-3            </span></td><td>NA</td><td>NA</td><td>NA</td><td>NA</td><td>yes</td><td>4.0.0</td></tr>\n",
       "\t<tr><th scope=row>parallel</th><td>parallel    </td><td>C:/Program Files/R/R-4.0.0/library</td><td>4.0.0   </td><td>base       </td><td>NA                                             </td><td>tools, compiler                                 </td><td>NA</td><td>methods                                   </td><td>snow, nws, Rmpi                      </td><td>Part of R 4.0.0          </td><td>NA</td><td>NA</td><td>NA</td><td>NA</td><td>yes</td><td>4.0.0</td></tr>\n",
       "\t<tr><th scope=row>rpart</th><td><span style=white-space:pre-wrap>rpart       </span></td><td>C:/Program Files/R/R-4.0.0/library</td><td><span style=white-space:pre-wrap>4.1-15  </span></td><td>recommended</td><td><span style=white-space:pre-wrap>R (&gt;= 2.15.0), graphics, stats, grDevices      </span></td><td><span style=white-space:pre-wrap>NA                                              </span></td><td>NA</td><td><span style=white-space:pre-wrap>survival                                  </span></td><td><span style=white-space:pre-wrap>NA                                   </span></td><td><span style=white-space:pre-wrap>GPL-2 | GPL-3            </span></td><td>NA</td><td>NA</td><td>NA</td><td>NA</td><td>yes</td><td>4.0.0</td></tr>\n",
       "\t<tr><th scope=row>spatial</th><td><span style=white-space:pre-wrap>spatial     </span></td><td>C:/Program Files/R/R-4.0.0/library</td><td><span style=white-space:pre-wrap>7.3-11  </span></td><td>recommended</td><td><span style=white-space:pre-wrap>R (&gt;= 3.0.0), graphics, stats, utils           </span></td><td><span style=white-space:pre-wrap>NA                                              </span></td><td>NA</td><td><span style=white-space:pre-wrap>MASS                                      </span></td><td><span style=white-space:pre-wrap>NA                                   </span></td><td><span style=white-space:pre-wrap>GPL-2 | GPL-3            </span></td><td>NA</td><td>NA</td><td>NA</td><td>NA</td><td>yes</td><td>4.0.0</td></tr>\n",
       "\t<tr><th scope=row>splines</th><td>splines     </td><td>C:/Program Files/R/R-4.0.0/library</td><td>4.0.0   </td><td>base       </td><td>NA                                             </td><td>graphics, stats                                 </td><td>NA</td><td>Matrix, methods                           </td><td>NA                                   </td><td>Part of R 4.0.0          </td><td>NA</td><td>NA</td><td>NA</td><td>NA</td><td>yes</td><td>4.0.0</td></tr>\n",
       "\t<tr><th scope=row>stats</th><td>stats       </td><td>C:/Program Files/R/R-4.0.0/library</td><td>4.0.0   </td><td>base       </td><td>NA                                             </td><td>utils, grDevices, graphics                      </td><td>NA</td><td>MASS, Matrix, SuppDists, methods, stats4  </td><td>NA                                   </td><td>Part of R 4.0.0          </td><td>NA</td><td>NA</td><td>NA</td><td>NA</td><td>yes</td><td>4.0.0</td></tr>\n",
       "\t<tr><th scope=row>stats4</th><td>stats4      </td><td>C:/Program Files/R/R-4.0.0/library</td><td>4.0.0   </td><td>base       </td><td>NA                                             </td><td>graphics, methods, stats                        </td><td>NA</td><td>NA                                        </td><td>NA                                   </td><td>Part of R 4.0.0          </td><td>NA</td><td>NA</td><td>NA</td><td>NA</td><td>NA </td><td>4.0.0</td></tr>\n",
       "\t<tr><th scope=row>survival</th><td><span style=white-space:pre-wrap>survival    </span></td><td>C:/Program Files/R/R-4.0.0/library</td><td><span style=white-space:pre-wrap>3.1-12  </span></td><td>recommended</td><td><span style=white-space:pre-wrap>R (&gt;= 3.4.0)                                   </span></td><td>graphics, Matrix, methods, splines, stats, utils</td><td>NA</td><td><span style=white-space:pre-wrap>NA                                        </span></td><td><span style=white-space:pre-wrap>NA                                   </span></td><td><span style=white-space:pre-wrap>LGPL (&gt;= 2)              </span></td><td>NA</td><td>NA</td><td>NA</td><td>NA</td><td>yes</td><td>4.0.0</td></tr>\n",
       "\t<tr><th scope=row>tcltk</th><td>tcltk       </td><td>C:/Program Files/R/R-4.0.0/library</td><td>4.0.0   </td><td>base       </td><td>NA                                             </td><td>utils                                           </td><td>NA</td><td>NA                                        </td><td>NA                                   </td><td>Part of R 4.0.0          </td><td>NA</td><td>NA</td><td>NA</td><td>NA</td><td>yes</td><td>4.0.0</td></tr>\n",
       "\t<tr><th scope=row>tools</th><td>tools       </td><td>C:/Program Files/R/R-4.0.0/library</td><td>4.0.0   </td><td>base       </td><td>NA                                             </td><td>NA                                              </td><td>NA</td><td>codetools, methods, xml2, curl, commonmark</td><td>NA                                   </td><td>Part of R 4.0.0          </td><td>NA</td><td>NA</td><td>NA</td><td>NA</td><td>yes</td><td>4.0.0</td></tr>\n",
       "\t<tr><th scope=row>translations</th><td>translations</td><td>C:/Program Files/R/R-4.0.0/library</td><td>4.0.0   </td><td>NA         </td><td>NA                                             </td><td>NA                                              </td><td>NA</td><td>NA                                        </td><td>NA                                   </td><td>Part of R 4.0.0          </td><td>NA</td><td>NA</td><td>NA</td><td>NA</td><td>NA </td><td>4.0.0</td></tr>\n",
       "\t<tr><th scope=row>utils</th><td>utils       </td><td>C:/Program Files/R/R-4.0.0/library</td><td>4.0.0   </td><td>base       </td><td>NA                                             </td><td>NA                                              </td><td>NA</td><td>methods, xml2, commonmark                 </td><td>NA                                   </td><td>Part of R 4.0.0          </td><td>NA</td><td>NA</td><td>NA</td><td>NA</td><td>yes</td><td>4.0.0</td></tr>\n",
       "</tbody>\n",
       "</table>\n"
      ],
      "text/latex": [
       "A matrix: 111 × 16 of type chr\n",
       "\\begin{tabular}{r|llllllllllllllll}\n",
       "  & Package & LibPath & Version & Priority & Depends & Imports & LinkingTo & Suggests & Enhances & License & License\\_is\\_FOSS & License\\_restricts\\_use & OS\\_type & MD5sum & NeedsCompilation & Built\\\\\n",
       "\\hline\n",
       "\taskpass & askpass     & C:/Users/Lord\\_Negrisoli/Documents/R/win-library/4.0 & 1.1      & NA & NA                               & sys (>= 2.1)                                                                                                                                                                                                                                                                                                                                                                                                                                                                                                & NA   & testthat                                                                                                                                                                                                                                     & NA             & MIT + file LICENSE          & NA & NA & NA & NA & yes & 4.0.0\\\\\n",
       "\tassertthat & assertthat  & C:/Users/Lord\\_Negrisoli/Documents/R/win-library/4.0 & 0.2.1    & NA & NA                               & tools                                                                                                                                                                                                                                                                                                                                                                                                                                                                                                       & NA   & testthat, covr                                                                                                                                                                                                                               & NA             & GPL-3                       & NA & NA & NA & NA & no  & 4.0.0\\\\\n",
       "\tbackports & backports   & C:/Users/Lord\\_Negrisoli/Documents/R/win-library/4.0 & 1.1.6    & NA & R (>= 3.0.0)                     & utils                                                                                                                                                                                                                                                                                                                                                                                                                                                                                                       & NA   & NA                                                                                                                                                                                                                                           & NA             & GPL-2 \\textbar{} GPL-3               & NA & NA & NA & NA & yes & 4.0.0\\\\\n",
       "\tbase64enc & base64enc   & C:/Users/Lord\\_Negrisoli/Documents/R/win-library/4.0 & 0.1-3    & NA & R (>= 2.9.0)                     & NA                                                                                                                                                                                                                                                                                                                                                                                                                                                                                                          & NA   & NA                                                                                                                                                                                                                                           & png            & GPL-2 \\textbar{} GPL-3               & NA & NA & NA & NA & yes & 4.0.0\\\\\n",
       "\tBH & BH          & C:/Users/Lord\\_Negrisoli/Documents/R/win-library/4.0 & 1.72.0-3 & NA & NA                               & NA                                                                                                                                                                                                                                                                                                                                                                                                                                                                                                          & NA   & NA                                                                                                                                                                                                                                           & NA             & BSL-1.0                     & NA & NA & NA & NA & no  & 4.0.0\\\\\n",
       "\tbrew & brew        & C:/Users/Lord\\_Negrisoli/Documents/R/win-library/4.0 & 1.0-6    & NA & NA                               & NA                                                                                                                                                                                                                                                                                                                                                                                                                                                                                                          & NA   & NA                                                                                                                                                                                                                                           & NA             & GPL-2                       & NA & NA & NA & NA & NA  & 4.0.0\\\\\n",
       "\tcallr & callr       & C:/Users/Lord\\_Negrisoli/Documents/R/win-library/4.0 & 3.4.3    & NA & NA                               & processx (>= 3.4.0), R6, utils                                                                                                                                                                                                                                                                                                                                                                                                                                                                              & NA   & cliapp, covr, crayon, fansi, pingr, ps, rprojroot, spelling,\n",
       "testthat, tibble, withr                                                                                                                                                        & NA             & MIT + file LICENSE          & NA & NA & NA & NA & no  & 4.0.0\\\\\n",
       "\tcli & cli         & C:/Users/Lord\\_Negrisoli/Documents/R/win-library/4.0 & 2.0.2    & NA & R (>= 2.10)                      & assertthat, crayon (>= 1.3.4), glue, methods, utils, fansi                                                                                                                                                                                                                                                                                                                                                                                                                                                  & NA   & callr, covr, htmlwidgets, knitr, mockery, rmarkdown,\n",
       "rstudioapi, prettycode (>= 1.1.0), testthat, withr                                                                                                                                     & NA             & MIT + file LICENSE          & NA & NA & NA & NA & no  & 4.0.0\\\\\n",
       "\tclipr & clipr       & C:/Users/Lord\\_Negrisoli/Documents/R/win-library/4.0 & 0.7.0    & NA & NA                               & utils                                                                                                                                                                                                                                                                                                                                                                                                                                                                                                       & NA   & covr, knitr, rmarkdown, rstudioapi (>= 0.5), testthat (>=\n",
       "2.0.0)                                                                                                                                                                            & NA             & GPL-3                       & NA & NA & NA & NA & no  & 4.0.0\\\\\n",
       "\tcommonmark & commonmark  & C:/Users/Lord\\_Negrisoli/Documents/R/win-library/4.0 & 1.7      & NA & NA                               & NA                                                                                                                                                                                                                                                                                                                                                                                                                                                                                                          & NA   & curl, testthat, xml2                                                                                                                                                                                                                         & NA             & BSD\\_2\\_clause + file LICENSE & NA & NA & NA & NA & yes & 4.0.0\\\\\n",
       "\tcovr & covr        & C:/Users/Lord\\_Negrisoli/Documents/R/win-library/4.0 & 3.5.0    & NA & R (>= 3.1.0), methods            & digest, stats, utils, jsonlite, rex, httr, crayon, withr (>=\n",
       "1.0.2), yaml                                                                                                                                                                                                                                                                                                                                                                                                                                  & NA   & R6, knitr, rmarkdown, htmltools, DT (>= 0.2), testthat,\n",
       "rlang, rstudioapi (>= 0.2), xml2 (>= 1.0.0), parallel, memoise,\n",
       "mockery                                                                                                            & NA             & GPL-3                       & NA & NA & NA & NA & yes & 4.0.0\\\\\n",
       "\tcrayon & crayon      & C:/Users/Lord\\_Negrisoli/Documents/R/win-library/4.0 & 1.3.4    & NA & NA                               & grDevices, methods, utils                                                                                                                                                                                                                                                                                                                                                                                                                                                                                   & NA   & mockery, rstudioapi, testthat, withr                                                                                                                                                                                                         & NA             & MIT + file LICENSE          & NA & NA & NA & NA & no  & 4.0.0\\\\\n",
       "\tcrosstalk & crosstalk   & C:/Users/Lord\\_Negrisoli/Documents/R/win-library/4.0 & 1.1.0.1  & NA & NA                               & htmltools (>= 0.3.6), jsonlite, lazyeval, R6                                                                                                                                                                                                                                                                                                                                                                                                                                                                & NA   & shiny, ggplot2, testthat (>= 2.1.0)                                                                                                                                                                                                          & NA             & MIT + file LICENSE          & NA & NA & NA & NA & no  & 4.0.0\\\\\n",
       "\tcurl & curl        & C:/Users/Lord\\_Negrisoli/Documents/R/win-library/4.0 & 4.3      & NA & R (>= 3.0.0)                     & NA                                                                                                                                                                                                                                                                                                                                                                                                                                                                                                          & NA   & spelling, testthat (>= 1.0.0), knitr, jsonlite, rmarkdown,\n",
       "magrittr, httpuv (>= 1.4.4), webutils                                                                                                                                            & NA             & MIT + file LICENSE          & NA & NA & NA & NA & yes & 4.0.0\\\\\n",
       "\tdesc & desc        & C:/Users/Lord\\_Negrisoli/Documents/R/win-library/4.0 & 1.2.0    & NA & R (>= 3.1.0)                     & assertthat, utils, R6, crayon, rprojroot                                                                                                                                                                                                                                                                                                                                                                                                                                                                    & NA   & covr, testthat, whoami, withr                                                                                                                                                                                                                & NA             & MIT + file LICENSE          & NA & NA & NA & NA & no  & 4.0.0\\\\\n",
       "\tdevtools & devtools    & C:/Users/Lord\\_Negrisoli/Documents/R/win-library/4.0 & 2.3.0    & NA & R (>= 3.0.2), usethis (>= 1.6.0) & callr (>= 3.4.3), cli (>= 2.0.2), covr (>= 3.5.0), crayon (>=\n",
       "1.3.4), desc (>= 1.2.0), digest (>= 0.6.25), DT (>= 0.13),\n",
       "ellipsis (>= 0.3.0), glue (>= 1.4.0), git2r (>= 0.26.1), httr\n",
       "(>= 1.4.1), jsonlite (>= 1.6.1), memoise (>= 1.1.0), pkgbuild\n",
       "(>= 1.0.6), pkgload (>= 1.0.2), rcmdcheck (>= 1.3.3), remotes\n",
       "(>= 2.1.1), rlang (>= 0.4.5), roxygen2 (>= 7.1.0), rstudioapi\n",
       "(>= 0.11), rversions (>= 2.0.1), sessioninfo (>= 1.1.1), stats,\n",
       "testthat (>= 2.3.2), tools, utils, withr (>= 2.1.2) & NA   & BiocManager (>= 1.30.10), curl (>= 4.3), foghorn (>= 1.1.5),\n",
       "gmailr (>= 1.0.0), knitr (>= 1.28), lintr (>= 2.0.1), mockery\n",
       "(>= 0.4.2), pingr (>= 2.0.0), MASS, pkgdown (>= 1.5.1), rhub\n",
       "(>= 1.1.1), rmarkdown (>= 2.1), spelling (>= 2.1) & NA             & GPL (>= 2)                  & NA & NA & NA & NA & no  & 4.0.0\\\\\n",
       "\tdigest & digest      & C:/Users/Lord\\_Negrisoli/Documents/R/win-library/4.0 & 0.6.25   & NA & R (>= 3.1.0)                     & utils                                                                                                                                                                                                                                                                                                                                                                                                                                                                                                       & NA   & tinytest, knitr, rmarkdown                                                                                                                                                                                                                   & NA             & GPL (>= 2)                  & NA & NA & NA & NA & yes & 4.0.0\\\\\n",
       "\tDT & DT          & C:/Users/Lord\\_Negrisoli/Documents/R/win-library/4.0 & 0.13     & NA & NA                               & htmltools (>= 0.3.6), htmlwidgets (>= 1.3), jsonlite (>=\n",
       "0.9.16), magrittr, crosstalk, promises                                                                                                                                                                                                                                                                                                                                                                                                            & NA   & knitr (>= 1.8), rmarkdown, shiny (>= 1.2.0)                                                                                                                                                                                                  & NA             & GPL-3 \\textbar{} file LICENSE        & NA & NA & NA & NA & no  & 4.0.0\\\\\n",
       "\tellipsis & ellipsis    & C:/Users/Lord\\_Negrisoli/Documents/R/win-library/4.0 & 0.3.0    & NA & R (>= 3.2)                       & rlang (>= 0.3.0)                                                                                                                                                                                                                                                                                                                                                                                                                                                                                            & NA   & covr, testthat                                                                                                                                                                                                                               & NA             & GPL-3                       & NA & NA & NA & NA & yes & 4.0.0\\\\\n",
       "\tevaluate & evaluate    & C:/Users/Lord\\_Negrisoli/Documents/R/win-library/4.0 & 0.14     & NA & R (>= 3.0.2)                     & methods                                                                                                                                                                                                                                                                                                                                                                                                                                                                                                     & NA   & testthat, lattice, ggplot2                                                                                                                                                                                                                   & NA             & MIT + file LICENSE          & NA & NA & NA & NA & no  & 4.0.0\\\\\n",
       "\tfansi & fansi       & C:/Users/Lord\\_Negrisoli/Documents/R/win-library/4.0 & 0.4.1    & NA & R (>= 3.1.0)                     & NA                                                                                                                                                                                                                                                                                                                                                                                                                                                                                                          & NA   & unitizer, knitr, rmarkdown                                                                                                                                                                                                                   & NA             & GPL (>= 2)                  & NA & NA & NA & NA & yes & 4.0.0\\\\\n",
       "\tfs & fs          & C:/Users/Lord\\_Negrisoli/Documents/R/win-library/4.0 & 1.4.1    & NA & R (>= 3.1)                       & methods                                                                                                                                                                                                                                                                                                                                                                                                                                                                                                     & NA   & testthat, covr, pillar (>= 1.0.0), tibble (>= 1.1.0), crayon,\n",
       "rmarkdown, knitr, withr, spelling                                                                                                                                             & NA             & GPL-3                       & NA & NA & NA & NA & yes & 4.0.0\\\\\n",
       "\tgh & gh          & C:/Users/Lord\\_Negrisoli/Documents/R/win-library/4.0 & 1.1.0    & NA & NA                               & cli, ini, jsonlite, httr (>= 1.2)                                                                                                                                                                                                                                                                                                                                                                                                                                                                           & NA   & covr, keyring, pingr, testthat, withr                                                                                                                                                                                                        & NA             & MIT + file LICENSE          & NA & NA & NA & NA & no  & 4.0.0\\\\\n",
       "\tgit2r & git2r       & C:/Users/Lord\\_Negrisoli/Documents/R/win-library/4.0 & 0.27.1   & NA & R (>= 3.1)                       & graphics, utils                                                                                                                                                                                                                                                                                                                                                                                                                                                                                             & NA   & getPass                                                                                                                                                                                                                                      & NA             & GPL-2                       & NA & NA & NA & NA & yes & 4.0.0\\\\\n",
       "\tglue & glue        & C:/Users/Lord\\_Negrisoli/Documents/R/win-library/4.0 & 1.4.0    & NA & R (>= 3.1)                       & methods                                                                                                                                                                                                                                                                                                                                                                                                                                                                                                     & NA   & testthat, covr, magrittr, crayon, knitr, rmarkdown, DBI,\n",
       "RSQLite, R.utils, forcats, microbenchmark, rprintf, stringr,\n",
       "ggplot2, dplyr, withr, vctrs (>= 0.2.2)                                                                              & NA             & MIT + file LICENSE          & NA & NA & NA & NA & yes & 4.0.0\\\\\n",
       "\thighr & highr       & C:/Users/Lord\\_Negrisoli/Documents/R/win-library/4.0 & 0.8      & NA & R (>= 3.2.3)                     & NA                                                                                                                                                                                                                                                                                                                                                                                                                                                                                                          & NA   & knitr, testit                                                                                                                                                                                                                                & NA             & GPL                         & NA & NA & NA & NA & no  & 4.0.0\\\\\n",
       "\thtmltools & htmltools   & C:/Users/Lord\\_Negrisoli/Documents/R/win-library/4.0 & 0.4.0    & NA & R (>= 2.14.1)                    & utils, digest, Rcpp, rlang                                                                                                                                                                                                                                                                                                                                                                                                                                                                                  & Rcpp & markdown, testthat, withr                                                                                                                                                                                                                    & knitr          & GPL (>= 2)                  & NA & NA & NA & NA & yes & 4.0.0\\\\\n",
       "\thtmlwidgets & htmlwidgets & C:/Users/Lord\\_Negrisoli/Documents/R/win-library/4.0 & 1.5.1    & NA & NA                               & grDevices, htmltools (>= 0.3), jsonlite (>= 0.9.16), yaml                                                                                                                                                                                                                                                                                                                                                                                                                                                   & NA   & knitr (>= 1.8)                                                                                                                                                                                                                               & shiny (>= 1.1) & MIT + file LICENSE          & NA & NA & NA & NA & no  & 4.0.0\\\\\n",
       "\thttr & httr        & C:/Users/Lord\\_Negrisoli/Documents/R/win-library/4.0 & 1.4.1    & NA & R (>= 3.2)                       & curl (>= 3.0.0), jsonlite, mime, openssl (>= 0.8), R6                                                                                                                                                                                                                                                                                                                                                                                                                                                       & NA   & covr, httpuv, jpeg, knitr, png, readr, rmarkdown, testthat\n",
       "(>= 0.8.0), xml2                                                                                                                                                                 & NA             & MIT + file LICENSE          & NA & NA & NA & NA & no  & 4.0.0\\\\\n",
       "\tini & ini         & C:/Users/Lord\\_Negrisoli/Documents/R/win-library/4.0 & 0.3.1    & NA & NA                               & NA                                                                                                                                                                                                                                                                                                                                                                                                                                                                                                          & NA   & testthat                                                                                                                                                                                                                                     & NA             & GPL-3                       & NA & NA & NA & NA & no  & 4.0.0\\\\\n",
       "\t... & ... & ... & ... & ... & ... & ... & ... & ... & ... & ... & ... & ... & ... & ... & ... & ...\\\\\n",
       "\tbase & base         & C:/Program Files/R/R-4.0.0/library & 4.0.0    & base        & NA                                              & NA                                               & NA & methods                                    & NA                                    & Part of R 4.0.0           & NA & NA & NA & NA & NA  & 4.0.0\\\\\n",
       "\tboot & boot         & C:/Program Files/R/R-4.0.0/library & 1.3-24   & recommended & R (>= 3.0.0), graphics, stats                   & NA                                               & NA & MASS, survival                             & NA                                    & Unlimited                 & NA & NA & NA & NA & no  & 4.0.0\\\\\n",
       "\tclass & class        & C:/Program Files/R/R-4.0.0/library & 7.3-16   & recommended & R (>= 3.0.0), stats, utils                      & MASS                                             & NA & NA                                         & NA                                    & GPL-2 \\textbar{} GPL-3             & NA & NA & NA & NA & yes & 4.0.0\\\\\n",
       "\tcluster & cluster      & C:/Program Files/R/R-4.0.0/library & 2.1.0    & recommended & R (>= 3.3.0)                                    & graphics, grDevices, stats, utils                & NA & MASS, Matrix                               & NA                                    & GPL (>= 2)                & NA & NA & NA & NA & yes & 4.0.0\\\\\n",
       "\tcodetools & codetools    & C:/Program Files/R/R-4.0.0/library & 0.2-16   & recommended & R (>= 2.1)                                      & NA                                               & NA & NA                                         & NA                                    & GPL                       & NA & NA & NA & NA & no  & 4.0.0\\\\\n",
       "\tcompiler & compiler     & C:/Program Files/R/R-4.0.0/library & 4.0.0    & base        & NA                                              & NA                                               & NA & NA                                         & NA                                    & Part of R 4.0.0           & NA & NA & NA & NA & NA  & 4.0.0\\\\\n",
       "\tdatasets & datasets     & C:/Program Files/R/R-4.0.0/library & 4.0.0    & base        & NA                                              & NA                                               & NA & NA                                         & NA                                    & Part of R 4.0.0           & NA & NA & NA & NA & NA  & 4.0.0\\\\\n",
       "\tforeign & foreign      & C:/Program Files/R/R-4.0.0/library & 0.8-78   & recommended & R (>= 4.0.0)                                    & methods, utils, stats                            & NA & NA                                         & NA                                    & GPL (>= 2)                & NA & NA & NA & NA & yes & 4.0.0\\\\\n",
       "\tgraphics & graphics     & C:/Program Files/R/R-4.0.0/library & 4.0.0    & base        & NA                                              & grDevices                                        & NA & NA                                         & NA                                    & Part of R 4.0.0           & NA & NA & NA & NA & yes & 4.0.0\\\\\n",
       "\tgrDevices & grDevices    & C:/Program Files/R/R-4.0.0/library & 4.0.0    & base        & NA                                              & NA                                               & NA & KernSmooth                                 & NA                                    & Part of R 4.0.0           & NA & NA & NA & NA & yes & 4.0.0\\\\\n",
       "\tgrid & grid         & C:/Program Files/R/R-4.0.0/library & 4.0.0    & base        & NA                                              & grDevices, utils                                 & NA & lattice                                    & NA                                    & Part of R 4.0.0           & NA & NA & NA & NA & yes & 4.0.0\\\\\n",
       "\tKernSmooth & KernSmooth   & C:/Program Files/R/R-4.0.0/library & 2.23-16  & recommended & R (>= 2.5.0), stats                             & NA                                               & NA & MASS                                       & NA                                    & Unlimited                 & NA & NA & NA & NA & yes & 4.0.0\\\\\n",
       "\tlattice & lattice      & C:/Program Files/R/R-4.0.0/library & 0.20-41  & recommended & R (>= 3.0.0)                                    & grid, grDevices, graphics, stats, utils          & NA & KernSmooth, MASS, latticeExtra             & chron                                 & GPL (>= 2)                & NA & NA & NA & NA & yes & 4.0.0\\\\\n",
       "\tMASS & MASS         & C:/Program Files/R/R-4.0.0/library & 7.3-51.5 & recommended & R (>= 3.1.0), grDevices, graphics, stats, utils & methods                                          & NA & lattice, nlme, nnet, survival              & NA                                    & GPL-2 \\textbar{} GPL-3             & NA & NA & NA & NA & yes & 4.0.0\\\\\n",
       "\tMatrix & Matrix       & C:/Program Files/R/R-4.0.0/library & 1.2-18   & recommended & R (>= 3.2.0)                                    & methods, graphics, grid, stats, utils, lattice   & NA & expm, MASS                                 & MatrixModels, graph, SparseM, sfsmisc & GPL (>= 2) \\textbar{} file LICENCE & NA & NA & NA & NA & yes & 4.0.0\\\\\n",
       "\tmethods & methods      & C:/Program Files/R/R-4.0.0/library & 4.0.0    & base        & NA                                              & utils, stats                                     & NA & codetools                                  & NA                                    & Part of R 4.0.0           & NA & NA & NA & NA & yes & 4.0.0\\\\\n",
       "\tmgcv & mgcv         & C:/Program Files/R/R-4.0.0/library & 1.8-31   & recommended & R (>= 2.14.0), nlme (>= 3.1-64)                 & methods, stats, graphics, Matrix, splines, utils & NA & parallel, survival, MASS                   & NA                                    & GPL (>= 2)                & NA & NA & NA & NA & yes & 4.0.0\\\\\n",
       "\tnlme & nlme         & C:/Program Files/R/R-4.0.0/library & 3.1-147  & recommended & R (>= 3.4.0)                                    & graphics, stats, utils, lattice                  & NA & Hmisc, MASS                                & NA                                    & GPL (>= 2) \\textbar{} file LICENCE & NA & NA & NA & NA & yes & 4.0.0\\\\\n",
       "\tnnet & nnet         & C:/Program Files/R/R-4.0.0/library & 7.3-13   & recommended & R (>= 3.0.0), stats, utils                      & NA                                               & NA & MASS                                       & NA                                    & GPL-2 \\textbar{} GPL-3             & NA & NA & NA & NA & yes & 4.0.0\\\\\n",
       "\tparallel & parallel     & C:/Program Files/R/R-4.0.0/library & 4.0.0    & base        & NA                                              & tools, compiler                                  & NA & methods                                    & snow, nws, Rmpi                       & Part of R 4.0.0           & NA & NA & NA & NA & yes & 4.0.0\\\\\n",
       "\trpart & rpart        & C:/Program Files/R/R-4.0.0/library & 4.1-15   & recommended & R (>= 2.15.0), graphics, stats, grDevices       & NA                                               & NA & survival                                   & NA                                    & GPL-2 \\textbar{} GPL-3             & NA & NA & NA & NA & yes & 4.0.0\\\\\n",
       "\tspatial & spatial      & C:/Program Files/R/R-4.0.0/library & 7.3-11   & recommended & R (>= 3.0.0), graphics, stats, utils            & NA                                               & NA & MASS                                       & NA                                    & GPL-2 \\textbar{} GPL-3             & NA & NA & NA & NA & yes & 4.0.0\\\\\n",
       "\tsplines & splines      & C:/Program Files/R/R-4.0.0/library & 4.0.0    & base        & NA                                              & graphics, stats                                  & NA & Matrix, methods                            & NA                                    & Part of R 4.0.0           & NA & NA & NA & NA & yes & 4.0.0\\\\\n",
       "\tstats & stats        & C:/Program Files/R/R-4.0.0/library & 4.0.0    & base        & NA                                              & utils, grDevices, graphics                       & NA & MASS, Matrix, SuppDists, methods, stats4   & NA                                    & Part of R 4.0.0           & NA & NA & NA & NA & yes & 4.0.0\\\\\n",
       "\tstats4 & stats4       & C:/Program Files/R/R-4.0.0/library & 4.0.0    & base        & NA                                              & graphics, methods, stats                         & NA & NA                                         & NA                                    & Part of R 4.0.0           & NA & NA & NA & NA & NA  & 4.0.0\\\\\n",
       "\tsurvival & survival     & C:/Program Files/R/R-4.0.0/library & 3.1-12   & recommended & R (>= 3.4.0)                                    & graphics, Matrix, methods, splines, stats, utils & NA & NA                                         & NA                                    & LGPL (>= 2)               & NA & NA & NA & NA & yes & 4.0.0\\\\\n",
       "\ttcltk & tcltk        & C:/Program Files/R/R-4.0.0/library & 4.0.0    & base        & NA                                              & utils                                            & NA & NA                                         & NA                                    & Part of R 4.0.0           & NA & NA & NA & NA & yes & 4.0.0\\\\\n",
       "\ttools & tools        & C:/Program Files/R/R-4.0.0/library & 4.0.0    & base        & NA                                              & NA                                               & NA & codetools, methods, xml2, curl, commonmark & NA                                    & Part of R 4.0.0           & NA & NA & NA & NA & yes & 4.0.0\\\\\n",
       "\ttranslations & translations & C:/Program Files/R/R-4.0.0/library & 4.0.0    & NA          & NA                                              & NA                                               & NA & NA                                         & NA                                    & Part of R 4.0.0           & NA & NA & NA & NA & NA  & 4.0.0\\\\\n",
       "\tutils & utils        & C:/Program Files/R/R-4.0.0/library & 4.0.0    & base        & NA                                              & NA                                               & NA & methods, xml2, commonmark                  & NA                                    & Part of R 4.0.0           & NA & NA & NA & NA & yes & 4.0.0\\\\\n",
       "\\end{tabular}\n"
      ],
      "text/markdown": [
       "\n",
       "A matrix: 111 × 16 of type chr\n",
       "\n",
       "| <!--/--> | Package | LibPath | Version | Priority | Depends | Imports | LinkingTo | Suggests | Enhances | License | License_is_FOSS | License_restricts_use | OS_type | MD5sum | NeedsCompilation | Built |\n",
       "|---|---|---|---|---|---|---|---|---|---|---|---|---|---|---|---|---|\n",
       "| askpass | askpass     | C:/Users/Lord_Negrisoli/Documents/R/win-library/4.0 | 1.1      | NA | NA                               | sys (&gt;= 2.1)                                                                                                                                                                                                                                                                                                                                                                                                                                                                                                | NA   | testthat                                                                                                                                                                                                                                     | NA             | MIT + file LICENSE          | NA | NA | NA | NA | yes | 4.0.0 |\n",
       "| assertthat | assertthat  | C:/Users/Lord_Negrisoli/Documents/R/win-library/4.0 | 0.2.1    | NA | NA                               | tools                                                                                                                                                                                                                                                                                                                                                                                                                                                                                                       | NA   | testthat, covr                                                                                                                                                                                                                               | NA             | GPL-3                       | NA | NA | NA | NA | no  | 4.0.0 |\n",
       "| backports | backports   | C:/Users/Lord_Negrisoli/Documents/R/win-library/4.0 | 1.1.6    | NA | R (&gt;= 3.0.0)                     | utils                                                                                                                                                                                                                                                                                                                                                                                                                                                                                                       | NA   | NA                                                                                                                                                                                                                                           | NA             | GPL-2 | GPL-3               | NA | NA | NA | NA | yes | 4.0.0 |\n",
       "| base64enc | base64enc   | C:/Users/Lord_Negrisoli/Documents/R/win-library/4.0 | 0.1-3    | NA | R (&gt;= 2.9.0)                     | NA                                                                                                                                                                                                                                                                                                                                                                                                                                                                                                          | NA   | NA                                                                                                                                                                                                                                           | png            | GPL-2 | GPL-3               | NA | NA | NA | NA | yes | 4.0.0 |\n",
       "| BH | BH          | C:/Users/Lord_Negrisoli/Documents/R/win-library/4.0 | 1.72.0-3 | NA | NA                               | NA                                                                                                                                                                                                                                                                                                                                                                                                                                                                                                          | NA   | NA                                                                                                                                                                                                                                           | NA             | BSL-1.0                     | NA | NA | NA | NA | no  | 4.0.0 |\n",
       "| brew | brew        | C:/Users/Lord_Negrisoli/Documents/R/win-library/4.0 | 1.0-6    | NA | NA                               | NA                                                                                                                                                                                                                                                                                                                                                                                                                                                                                                          | NA   | NA                                                                                                                                                                                                                                           | NA             | GPL-2                       | NA | NA | NA | NA | NA  | 4.0.0 |\n",
       "| callr | callr       | C:/Users/Lord_Negrisoli/Documents/R/win-library/4.0 | 3.4.3    | NA | NA                               | processx (&gt;= 3.4.0), R6, utils                                                                                                                                                                                                                                                                                                                                                                                                                                                                              | NA   | cliapp, covr, crayon, fansi, pingr, ps, rprojroot, spelling,\n",
       "testthat, tibble, withr                                                                                                                                                        | NA             | MIT + file LICENSE          | NA | NA | NA | NA | no  | 4.0.0 |\n",
       "| cli | cli         | C:/Users/Lord_Negrisoli/Documents/R/win-library/4.0 | 2.0.2    | NA | R (&gt;= 2.10)                      | assertthat, crayon (&gt;= 1.3.4), glue, methods, utils, fansi                                                                                                                                                                                                                                                                                                                                                                                                                                                  | NA   | callr, covr, htmlwidgets, knitr, mockery, rmarkdown,\n",
       "rstudioapi, prettycode (&gt;= 1.1.0), testthat, withr                                                                                                                                     | NA             | MIT + file LICENSE          | NA | NA | NA | NA | no  | 4.0.0 |\n",
       "| clipr | clipr       | C:/Users/Lord_Negrisoli/Documents/R/win-library/4.0 | 0.7.0    | NA | NA                               | utils                                                                                                                                                                                                                                                                                                                                                                                                                                                                                                       | NA   | covr, knitr, rmarkdown, rstudioapi (&gt;= 0.5), testthat (&gt;=\n",
       "2.0.0)                                                                                                                                                                            | NA             | GPL-3                       | NA | NA | NA | NA | no  | 4.0.0 |\n",
       "| commonmark | commonmark  | C:/Users/Lord_Negrisoli/Documents/R/win-library/4.0 | 1.7      | NA | NA                               | NA                                                                                                                                                                                                                                                                                                                                                                                                                                                                                                          | NA   | curl, testthat, xml2                                                                                                                                                                                                                         | NA             | BSD_2_clause + file LICENSE | NA | NA | NA | NA | yes | 4.0.0 |\n",
       "| covr | covr        | C:/Users/Lord_Negrisoli/Documents/R/win-library/4.0 | 3.5.0    | NA | R (&gt;= 3.1.0), methods            | digest, stats, utils, jsonlite, rex, httr, crayon, withr (&gt;=\n",
       "1.0.2), yaml                                                                                                                                                                                                                                                                                                                                                                                                                                  | NA   | R6, knitr, rmarkdown, htmltools, DT (&gt;= 0.2), testthat,\n",
       "rlang, rstudioapi (&gt;= 0.2), xml2 (&gt;= 1.0.0), parallel, memoise,\n",
       "mockery                                                                                                            | NA             | GPL-3                       | NA | NA | NA | NA | yes | 4.0.0 |\n",
       "| crayon | crayon      | C:/Users/Lord_Negrisoli/Documents/R/win-library/4.0 | 1.3.4    | NA | NA                               | grDevices, methods, utils                                                                                                                                                                                                                                                                                                                                                                                                                                                                                   | NA   | mockery, rstudioapi, testthat, withr                                                                                                                                                                                                         | NA             | MIT + file LICENSE          | NA | NA | NA | NA | no  | 4.0.0 |\n",
       "| crosstalk | crosstalk   | C:/Users/Lord_Negrisoli/Documents/R/win-library/4.0 | 1.1.0.1  | NA | NA                               | htmltools (&gt;= 0.3.6), jsonlite, lazyeval, R6                                                                                                                                                                                                                                                                                                                                                                                                                                                                | NA   | shiny, ggplot2, testthat (&gt;= 2.1.0)                                                                                                                                                                                                          | NA             | MIT + file LICENSE          | NA | NA | NA | NA | no  | 4.0.0 |\n",
       "| curl | curl        | C:/Users/Lord_Negrisoli/Documents/R/win-library/4.0 | 4.3      | NA | R (&gt;= 3.0.0)                     | NA                                                                                                                                                                                                                                                                                                                                                                                                                                                                                                          | NA   | spelling, testthat (&gt;= 1.0.0), knitr, jsonlite, rmarkdown,\n",
       "magrittr, httpuv (&gt;= 1.4.4), webutils                                                                                                                                            | NA             | MIT + file LICENSE          | NA | NA | NA | NA | yes | 4.0.0 |\n",
       "| desc | desc        | C:/Users/Lord_Negrisoli/Documents/R/win-library/4.0 | 1.2.0    | NA | R (&gt;= 3.1.0)                     | assertthat, utils, R6, crayon, rprojroot                                                                                                                                                                                                                                                                                                                                                                                                                                                                    | NA   | covr, testthat, whoami, withr                                                                                                                                                                                                                | NA             | MIT + file LICENSE          | NA | NA | NA | NA | no  | 4.0.0 |\n",
       "| devtools | devtools    | C:/Users/Lord_Negrisoli/Documents/R/win-library/4.0 | 2.3.0    | NA | R (&gt;= 3.0.2), usethis (&gt;= 1.6.0) | callr (&gt;= 3.4.3), cli (&gt;= 2.0.2), covr (&gt;= 3.5.0), crayon (&gt;=\n",
       "1.3.4), desc (&gt;= 1.2.0), digest (&gt;= 0.6.25), DT (&gt;= 0.13),\n",
       "ellipsis (&gt;= 0.3.0), glue (&gt;= 1.4.0), git2r (&gt;= 0.26.1), httr\n",
       "(&gt;= 1.4.1), jsonlite (&gt;= 1.6.1), memoise (&gt;= 1.1.0), pkgbuild\n",
       "(&gt;= 1.0.6), pkgload (&gt;= 1.0.2), rcmdcheck (&gt;= 1.3.3), remotes\n",
       "(&gt;= 2.1.1), rlang (&gt;= 0.4.5), roxygen2 (&gt;= 7.1.0), rstudioapi\n",
       "(&gt;= 0.11), rversions (&gt;= 2.0.1), sessioninfo (&gt;= 1.1.1), stats,\n",
       "testthat (&gt;= 2.3.2), tools, utils, withr (&gt;= 2.1.2) | NA   | BiocManager (&gt;= 1.30.10), curl (&gt;= 4.3), foghorn (&gt;= 1.1.5),\n",
       "gmailr (&gt;= 1.0.0), knitr (&gt;= 1.28), lintr (&gt;= 2.0.1), mockery\n",
       "(&gt;= 0.4.2), pingr (&gt;= 2.0.0), MASS, pkgdown (&gt;= 1.5.1), rhub\n",
       "(&gt;= 1.1.1), rmarkdown (&gt;= 2.1), spelling (&gt;= 2.1) | NA             | GPL (&gt;= 2)                  | NA | NA | NA | NA | no  | 4.0.0 |\n",
       "| digest | digest      | C:/Users/Lord_Negrisoli/Documents/R/win-library/4.0 | 0.6.25   | NA | R (&gt;= 3.1.0)                     | utils                                                                                                                                                                                                                                                                                                                                                                                                                                                                                                       | NA   | tinytest, knitr, rmarkdown                                                                                                                                                                                                                   | NA             | GPL (&gt;= 2)                  | NA | NA | NA | NA | yes | 4.0.0 |\n",
       "| DT | DT          | C:/Users/Lord_Negrisoli/Documents/R/win-library/4.0 | 0.13     | NA | NA                               | htmltools (&gt;= 0.3.6), htmlwidgets (&gt;= 1.3), jsonlite (&gt;=\n",
       "0.9.16), magrittr, crosstalk, promises                                                                                                                                                                                                                                                                                                                                                                                                            | NA   | knitr (&gt;= 1.8), rmarkdown, shiny (&gt;= 1.2.0)                                                                                                                                                                                                  | NA             | GPL-3 | file LICENSE        | NA | NA | NA | NA | no  | 4.0.0 |\n",
       "| ellipsis | ellipsis    | C:/Users/Lord_Negrisoli/Documents/R/win-library/4.0 | 0.3.0    | NA | R (&gt;= 3.2)                       | rlang (&gt;= 0.3.0)                                                                                                                                                                                                                                                                                                                                                                                                                                                                                            | NA   | covr, testthat                                                                                                                                                                                                                               | NA             | GPL-3                       | NA | NA | NA | NA | yes | 4.0.0 |\n",
       "| evaluate | evaluate    | C:/Users/Lord_Negrisoli/Documents/R/win-library/4.0 | 0.14     | NA | R (&gt;= 3.0.2)                     | methods                                                                                                                                                                                                                                                                                                                                                                                                                                                                                                     | NA   | testthat, lattice, ggplot2                                                                                                                                                                                                                   | NA             | MIT + file LICENSE          | NA | NA | NA | NA | no  | 4.0.0 |\n",
       "| fansi | fansi       | C:/Users/Lord_Negrisoli/Documents/R/win-library/4.0 | 0.4.1    | NA | R (&gt;= 3.1.0)                     | NA                                                                                                                                                                                                                                                                                                                                                                                                                                                                                                          | NA   | unitizer, knitr, rmarkdown                                                                                                                                                                                                                   | NA             | GPL (&gt;= 2)                  | NA | NA | NA | NA | yes | 4.0.0 |\n",
       "| fs | fs          | C:/Users/Lord_Negrisoli/Documents/R/win-library/4.0 | 1.4.1    | NA | R (&gt;= 3.1)                       | methods                                                                                                                                                                                                                                                                                                                                                                                                                                                                                                     | NA   | testthat, covr, pillar (&gt;= 1.0.0), tibble (&gt;= 1.1.0), crayon,\n",
       "rmarkdown, knitr, withr, spelling                                                                                                                                             | NA             | GPL-3                       | NA | NA | NA | NA | yes | 4.0.0 |\n",
       "| gh | gh          | C:/Users/Lord_Negrisoli/Documents/R/win-library/4.0 | 1.1.0    | NA | NA                               | cli, ini, jsonlite, httr (&gt;= 1.2)                                                                                                                                                                                                                                                                                                                                                                                                                                                                           | NA   | covr, keyring, pingr, testthat, withr                                                                                                                                                                                                        | NA             | MIT + file LICENSE          | NA | NA | NA | NA | no  | 4.0.0 |\n",
       "| git2r | git2r       | C:/Users/Lord_Negrisoli/Documents/R/win-library/4.0 | 0.27.1   | NA | R (&gt;= 3.1)                       | graphics, utils                                                                                                                                                                                                                                                                                                                                                                                                                                                                                             | NA   | getPass                                                                                                                                                                                                                                      | NA             | GPL-2                       | NA | NA | NA | NA | yes | 4.0.0 |\n",
       "| glue | glue        | C:/Users/Lord_Negrisoli/Documents/R/win-library/4.0 | 1.4.0    | NA | R (&gt;= 3.1)                       | methods                                                                                                                                                                                                                                                                                                                                                                                                                                                                                                     | NA   | testthat, covr, magrittr, crayon, knitr, rmarkdown, DBI,\n",
       "RSQLite, R.utils, forcats, microbenchmark, rprintf, stringr,\n",
       "ggplot2, dplyr, withr, vctrs (&gt;= 0.2.2)                                                                              | NA             | MIT + file LICENSE          | NA | NA | NA | NA | yes | 4.0.0 |\n",
       "| highr | highr       | C:/Users/Lord_Negrisoli/Documents/R/win-library/4.0 | 0.8      | NA | R (&gt;= 3.2.3)                     | NA                                                                                                                                                                                                                                                                                                                                                                                                                                                                                                          | NA   | knitr, testit                                                                                                                                                                                                                                | NA             | GPL                         | NA | NA | NA | NA | no  | 4.0.0 |\n",
       "| htmltools | htmltools   | C:/Users/Lord_Negrisoli/Documents/R/win-library/4.0 | 0.4.0    | NA | R (&gt;= 2.14.1)                    | utils, digest, Rcpp, rlang                                                                                                                                                                                                                                                                                                                                                                                                                                                                                  | Rcpp | markdown, testthat, withr                                                                                                                                                                                                                    | knitr          | GPL (&gt;= 2)                  | NA | NA | NA | NA | yes | 4.0.0 |\n",
       "| htmlwidgets | htmlwidgets | C:/Users/Lord_Negrisoli/Documents/R/win-library/4.0 | 1.5.1    | NA | NA                               | grDevices, htmltools (&gt;= 0.3), jsonlite (&gt;= 0.9.16), yaml                                                                                                                                                                                                                                                                                                                                                                                                                                                   | NA   | knitr (&gt;= 1.8)                                                                                                                                                                                                                               | shiny (&gt;= 1.1) | MIT + file LICENSE          | NA | NA | NA | NA | no  | 4.0.0 |\n",
       "| httr | httr        | C:/Users/Lord_Negrisoli/Documents/R/win-library/4.0 | 1.4.1    | NA | R (&gt;= 3.2)                       | curl (&gt;= 3.0.0), jsonlite, mime, openssl (&gt;= 0.8), R6                                                                                                                                                                                                                                                                                                                                                                                                                                                       | NA   | covr, httpuv, jpeg, knitr, png, readr, rmarkdown, testthat\n",
       "(&gt;= 0.8.0), xml2                                                                                                                                                                 | NA             | MIT + file LICENSE          | NA | NA | NA | NA | no  | 4.0.0 |\n",
       "| ini | ini         | C:/Users/Lord_Negrisoli/Documents/R/win-library/4.0 | 0.3.1    | NA | NA                               | NA                                                                                                                                                                                                                                                                                                                                                                                                                                                                                                          | NA   | testthat                                                                                                                                                                                                                                     | NA             | GPL-3                       | NA | NA | NA | NA | no  | 4.0.0 |\n",
       "| ... | ... | ... | ... | ... | ... | ... | ... | ... | ... | ... | ... | ... | ... | ... | ... | ... |\n",
       "| base | base         | C:/Program Files/R/R-4.0.0/library | 4.0.0    | base        | NA                                              | NA                                               | NA | methods                                    | NA                                    | Part of R 4.0.0           | NA | NA | NA | NA | NA  | 4.0.0 |\n",
       "| boot | boot         | C:/Program Files/R/R-4.0.0/library | 1.3-24   | recommended | R (&gt;= 3.0.0), graphics, stats                   | NA                                               | NA | MASS, survival                             | NA                                    | Unlimited                 | NA | NA | NA | NA | no  | 4.0.0 |\n",
       "| class | class        | C:/Program Files/R/R-4.0.0/library | 7.3-16   | recommended | R (&gt;= 3.0.0), stats, utils                      | MASS                                             | NA | NA                                         | NA                                    | GPL-2 | GPL-3             | NA | NA | NA | NA | yes | 4.0.0 |\n",
       "| cluster | cluster      | C:/Program Files/R/R-4.0.0/library | 2.1.0    | recommended | R (&gt;= 3.3.0)                                    | graphics, grDevices, stats, utils                | NA | MASS, Matrix                               | NA                                    | GPL (&gt;= 2)                | NA | NA | NA | NA | yes | 4.0.0 |\n",
       "| codetools | codetools    | C:/Program Files/R/R-4.0.0/library | 0.2-16   | recommended | R (&gt;= 2.1)                                      | NA                                               | NA | NA                                         | NA                                    | GPL                       | NA | NA | NA | NA | no  | 4.0.0 |\n",
       "| compiler | compiler     | C:/Program Files/R/R-4.0.0/library | 4.0.0    | base        | NA                                              | NA                                               | NA | NA                                         | NA                                    | Part of R 4.0.0           | NA | NA | NA | NA | NA  | 4.0.0 |\n",
       "| datasets | datasets     | C:/Program Files/R/R-4.0.0/library | 4.0.0    | base        | NA                                              | NA                                               | NA | NA                                         | NA                                    | Part of R 4.0.0           | NA | NA | NA | NA | NA  | 4.0.0 |\n",
       "| foreign | foreign      | C:/Program Files/R/R-4.0.0/library | 0.8-78   | recommended | R (&gt;= 4.0.0)                                    | methods, utils, stats                            | NA | NA                                         | NA                                    | GPL (&gt;= 2)                | NA | NA | NA | NA | yes | 4.0.0 |\n",
       "| graphics | graphics     | C:/Program Files/R/R-4.0.0/library | 4.0.0    | base        | NA                                              | grDevices                                        | NA | NA                                         | NA                                    | Part of R 4.0.0           | NA | NA | NA | NA | yes | 4.0.0 |\n",
       "| grDevices | grDevices    | C:/Program Files/R/R-4.0.0/library | 4.0.0    | base        | NA                                              | NA                                               | NA | KernSmooth                                 | NA                                    | Part of R 4.0.0           | NA | NA | NA | NA | yes | 4.0.0 |\n",
       "| grid | grid         | C:/Program Files/R/R-4.0.0/library | 4.0.0    | base        | NA                                              | grDevices, utils                                 | NA | lattice                                    | NA                                    | Part of R 4.0.0           | NA | NA | NA | NA | yes | 4.0.0 |\n",
       "| KernSmooth | KernSmooth   | C:/Program Files/R/R-4.0.0/library | 2.23-16  | recommended | R (&gt;= 2.5.0), stats                             | NA                                               | NA | MASS                                       | NA                                    | Unlimited                 | NA | NA | NA | NA | yes | 4.0.0 |\n",
       "| lattice | lattice      | C:/Program Files/R/R-4.0.0/library | 0.20-41  | recommended | R (&gt;= 3.0.0)                                    | grid, grDevices, graphics, stats, utils          | NA | KernSmooth, MASS, latticeExtra             | chron                                 | GPL (&gt;= 2)                | NA | NA | NA | NA | yes | 4.0.0 |\n",
       "| MASS | MASS         | C:/Program Files/R/R-4.0.0/library | 7.3-51.5 | recommended | R (&gt;= 3.1.0), grDevices, graphics, stats, utils | methods                                          | NA | lattice, nlme, nnet, survival              | NA                                    | GPL-2 | GPL-3             | NA | NA | NA | NA | yes | 4.0.0 |\n",
       "| Matrix | Matrix       | C:/Program Files/R/R-4.0.0/library | 1.2-18   | recommended | R (&gt;= 3.2.0)                                    | methods, graphics, grid, stats, utils, lattice   | NA | expm, MASS                                 | MatrixModels, graph, SparseM, sfsmisc | GPL (&gt;= 2) | file LICENCE | NA | NA | NA | NA | yes | 4.0.0 |\n",
       "| methods | methods      | C:/Program Files/R/R-4.0.0/library | 4.0.0    | base        | NA                                              | utils, stats                                     | NA | codetools                                  | NA                                    | Part of R 4.0.0           | NA | NA | NA | NA | yes | 4.0.0 |\n",
       "| mgcv | mgcv         | C:/Program Files/R/R-4.0.0/library | 1.8-31   | recommended | R (&gt;= 2.14.0), nlme (&gt;= 3.1-64)                 | methods, stats, graphics, Matrix, splines, utils | NA | parallel, survival, MASS                   | NA                                    | GPL (&gt;= 2)                | NA | NA | NA | NA | yes | 4.0.0 |\n",
       "| nlme | nlme         | C:/Program Files/R/R-4.0.0/library | 3.1-147  | recommended | R (&gt;= 3.4.0)                                    | graphics, stats, utils, lattice                  | NA | Hmisc, MASS                                | NA                                    | GPL (&gt;= 2) | file LICENCE | NA | NA | NA | NA | yes | 4.0.0 |\n",
       "| nnet | nnet         | C:/Program Files/R/R-4.0.0/library | 7.3-13   | recommended | R (&gt;= 3.0.0), stats, utils                      | NA                                               | NA | MASS                                       | NA                                    | GPL-2 | GPL-3             | NA | NA | NA | NA | yes | 4.0.0 |\n",
       "| parallel | parallel     | C:/Program Files/R/R-4.0.0/library | 4.0.0    | base        | NA                                              | tools, compiler                                  | NA | methods                                    | snow, nws, Rmpi                       | Part of R 4.0.0           | NA | NA | NA | NA | yes | 4.0.0 |\n",
       "| rpart | rpart        | C:/Program Files/R/R-4.0.0/library | 4.1-15   | recommended | R (&gt;= 2.15.0), graphics, stats, grDevices       | NA                                               | NA | survival                                   | NA                                    | GPL-2 | GPL-3             | NA | NA | NA | NA | yes | 4.0.0 |\n",
       "| spatial | spatial      | C:/Program Files/R/R-4.0.0/library | 7.3-11   | recommended | R (&gt;= 3.0.0), graphics, stats, utils            | NA                                               | NA | MASS                                       | NA                                    | GPL-2 | GPL-3             | NA | NA | NA | NA | yes | 4.0.0 |\n",
       "| splines | splines      | C:/Program Files/R/R-4.0.0/library | 4.0.0    | base        | NA                                              | graphics, stats                                  | NA | Matrix, methods                            | NA                                    | Part of R 4.0.0           | NA | NA | NA | NA | yes | 4.0.0 |\n",
       "| stats | stats        | C:/Program Files/R/R-4.0.0/library | 4.0.0    | base        | NA                                              | utils, grDevices, graphics                       | NA | MASS, Matrix, SuppDists, methods, stats4   | NA                                    | Part of R 4.0.0           | NA | NA | NA | NA | yes | 4.0.0 |\n",
       "| stats4 | stats4       | C:/Program Files/R/R-4.0.0/library | 4.0.0    | base        | NA                                              | graphics, methods, stats                         | NA | NA                                         | NA                                    | Part of R 4.0.0           | NA | NA | NA | NA | NA  | 4.0.0 |\n",
       "| survival | survival     | C:/Program Files/R/R-4.0.0/library | 3.1-12   | recommended | R (&gt;= 3.4.0)                                    | graphics, Matrix, methods, splines, stats, utils | NA | NA                                         | NA                                    | LGPL (&gt;= 2)               | NA | NA | NA | NA | yes | 4.0.0 |\n",
       "| tcltk | tcltk        | C:/Program Files/R/R-4.0.0/library | 4.0.0    | base        | NA                                              | utils                                            | NA | NA                                         | NA                                    | Part of R 4.0.0           | NA | NA | NA | NA | yes | 4.0.0 |\n",
       "| tools | tools        | C:/Program Files/R/R-4.0.0/library | 4.0.0    | base        | NA                                              | NA                                               | NA | codetools, methods, xml2, curl, commonmark | NA                                    | Part of R 4.0.0           | NA | NA | NA | NA | yes | 4.0.0 |\n",
       "| translations | translations | C:/Program Files/R/R-4.0.0/library | 4.0.0    | NA          | NA                                              | NA                                               | NA | NA                                         | NA                                    | Part of R 4.0.0           | NA | NA | NA | NA | NA  | 4.0.0 |\n",
       "| utils | utils        | C:/Program Files/R/R-4.0.0/library | 4.0.0    | base        | NA                                              | NA                                               | NA | methods, xml2, commonmark                  | NA                                    | Part of R 4.0.0           | NA | NA | NA | NA | yes | 4.0.0 |\n",
       "\n"
      ],
      "text/plain": [
       "             Package      LibPath                                            \n",
       "askpass      askpass      C:/Users/Lord_Negrisoli/Documents/R/win-library/4.0\n",
       "assertthat   assertthat   C:/Users/Lord_Negrisoli/Documents/R/win-library/4.0\n",
       "backports    backports    C:/Users/Lord_Negrisoli/Documents/R/win-library/4.0\n",
       "base64enc    base64enc    C:/Users/Lord_Negrisoli/Documents/R/win-library/4.0\n",
       "BH           BH           C:/Users/Lord_Negrisoli/Documents/R/win-library/4.0\n",
       "brew         brew         C:/Users/Lord_Negrisoli/Documents/R/win-library/4.0\n",
       "callr        callr        C:/Users/Lord_Negrisoli/Documents/R/win-library/4.0\n",
       "cli          cli          C:/Users/Lord_Negrisoli/Documents/R/win-library/4.0\n",
       "clipr        clipr        C:/Users/Lord_Negrisoli/Documents/R/win-library/4.0\n",
       "commonmark   commonmark   C:/Users/Lord_Negrisoli/Documents/R/win-library/4.0\n",
       "covr         covr         C:/Users/Lord_Negrisoli/Documents/R/win-library/4.0\n",
       "crayon       crayon       C:/Users/Lord_Negrisoli/Documents/R/win-library/4.0\n",
       "crosstalk    crosstalk    C:/Users/Lord_Negrisoli/Documents/R/win-library/4.0\n",
       "curl         curl         C:/Users/Lord_Negrisoli/Documents/R/win-library/4.0\n",
       "desc         desc         C:/Users/Lord_Negrisoli/Documents/R/win-library/4.0\n",
       "devtools     devtools     C:/Users/Lord_Negrisoli/Documents/R/win-library/4.0\n",
       "digest       digest       C:/Users/Lord_Negrisoli/Documents/R/win-library/4.0\n",
       "DT           DT           C:/Users/Lord_Negrisoli/Documents/R/win-library/4.0\n",
       "ellipsis     ellipsis     C:/Users/Lord_Negrisoli/Documents/R/win-library/4.0\n",
       "evaluate     evaluate     C:/Users/Lord_Negrisoli/Documents/R/win-library/4.0\n",
       "fansi        fansi        C:/Users/Lord_Negrisoli/Documents/R/win-library/4.0\n",
       "fs           fs           C:/Users/Lord_Negrisoli/Documents/R/win-library/4.0\n",
       "gh           gh           C:/Users/Lord_Negrisoli/Documents/R/win-library/4.0\n",
       "git2r        git2r        C:/Users/Lord_Negrisoli/Documents/R/win-library/4.0\n",
       "glue         glue         C:/Users/Lord_Negrisoli/Documents/R/win-library/4.0\n",
       "highr        highr        C:/Users/Lord_Negrisoli/Documents/R/win-library/4.0\n",
       "htmltools    htmltools    C:/Users/Lord_Negrisoli/Documents/R/win-library/4.0\n",
       "htmlwidgets  htmlwidgets  C:/Users/Lord_Negrisoli/Documents/R/win-library/4.0\n",
       "httr         httr         C:/Users/Lord_Negrisoli/Documents/R/win-library/4.0\n",
       "ini          ini          C:/Users/Lord_Negrisoli/Documents/R/win-library/4.0\n",
       "...          ...          ...                                                \n",
       "base         base         C:/Program Files/R/R-4.0.0/library                 \n",
       "boot         boot         C:/Program Files/R/R-4.0.0/library                 \n",
       "class        class        C:/Program Files/R/R-4.0.0/library                 \n",
       "cluster      cluster      C:/Program Files/R/R-4.0.0/library                 \n",
       "codetools    codetools    C:/Program Files/R/R-4.0.0/library                 \n",
       "compiler     compiler     C:/Program Files/R/R-4.0.0/library                 \n",
       "datasets     datasets     C:/Program Files/R/R-4.0.0/library                 \n",
       "foreign      foreign      C:/Program Files/R/R-4.0.0/library                 \n",
       "graphics     graphics     C:/Program Files/R/R-4.0.0/library                 \n",
       "grDevices    grDevices    C:/Program Files/R/R-4.0.0/library                 \n",
       "grid         grid         C:/Program Files/R/R-4.0.0/library                 \n",
       "KernSmooth   KernSmooth   C:/Program Files/R/R-4.0.0/library                 \n",
       "lattice      lattice      C:/Program Files/R/R-4.0.0/library                 \n",
       "MASS         MASS         C:/Program Files/R/R-4.0.0/library                 \n",
       "Matrix       Matrix       C:/Program Files/R/R-4.0.0/library                 \n",
       "methods      methods      C:/Program Files/R/R-4.0.0/library                 \n",
       "mgcv         mgcv         C:/Program Files/R/R-4.0.0/library                 \n",
       "nlme         nlme         C:/Program Files/R/R-4.0.0/library                 \n",
       "nnet         nnet         C:/Program Files/R/R-4.0.0/library                 \n",
       "parallel     parallel     C:/Program Files/R/R-4.0.0/library                 \n",
       "rpart        rpart        C:/Program Files/R/R-4.0.0/library                 \n",
       "spatial      spatial      C:/Program Files/R/R-4.0.0/library                 \n",
       "splines      splines      C:/Program Files/R/R-4.0.0/library                 \n",
       "stats        stats        C:/Program Files/R/R-4.0.0/library                 \n",
       "stats4       stats4       C:/Program Files/R/R-4.0.0/library                 \n",
       "survival     survival     C:/Program Files/R/R-4.0.0/library                 \n",
       "tcltk        tcltk        C:/Program Files/R/R-4.0.0/library                 \n",
       "tools        tools        C:/Program Files/R/R-4.0.0/library                 \n",
       "translations translations C:/Program Files/R/R-4.0.0/library                 \n",
       "utils        utils        C:/Program Files/R/R-4.0.0/library                 \n",
       "             Version  Priority   \n",
       "askpass      1.1      NA         \n",
       "assertthat   0.2.1    NA         \n",
       "backports    1.1.6    NA         \n",
       "base64enc    0.1-3    NA         \n",
       "BH           1.72.0-3 NA         \n",
       "brew         1.0-6    NA         \n",
       "callr        3.4.3    NA         \n",
       "cli          2.0.2    NA         \n",
       "clipr        0.7.0    NA         \n",
       "commonmark   1.7      NA         \n",
       "covr         3.5.0    NA         \n",
       "crayon       1.3.4    NA         \n",
       "crosstalk    1.1.0.1  NA         \n",
       "curl         4.3      NA         \n",
       "desc         1.2.0    NA         \n",
       "devtools     2.3.0    NA         \n",
       "digest       0.6.25   NA         \n",
       "DT           0.13     NA         \n",
       "ellipsis     0.3.0    NA         \n",
       "evaluate     0.14     NA         \n",
       "fansi        0.4.1    NA         \n",
       "fs           1.4.1    NA         \n",
       "gh           1.1.0    NA         \n",
       "git2r        0.27.1   NA         \n",
       "glue         1.4.0    NA         \n",
       "highr        0.8      NA         \n",
       "htmltools    0.4.0    NA         \n",
       "htmlwidgets  1.5.1    NA         \n",
       "httr         1.4.1    NA         \n",
       "ini          0.3.1    NA         \n",
       "...          ...      ...        \n",
       "base         4.0.0    base       \n",
       "boot         1.3-24   recommended\n",
       "class        7.3-16   recommended\n",
       "cluster      2.1.0    recommended\n",
       "codetools    0.2-16   recommended\n",
       "compiler     4.0.0    base       \n",
       "datasets     4.0.0    base       \n",
       "foreign      0.8-78   recommended\n",
       "graphics     4.0.0    base       \n",
       "grDevices    4.0.0    base       \n",
       "grid         4.0.0    base       \n",
       "KernSmooth   2.23-16  recommended\n",
       "lattice      0.20-41  recommended\n",
       "MASS         7.3-51.5 recommended\n",
       "Matrix       1.2-18   recommended\n",
       "methods      4.0.0    base       \n",
       "mgcv         1.8-31   recommended\n",
       "nlme         3.1-147  recommended\n",
       "nnet         7.3-13   recommended\n",
       "parallel     4.0.0    base       \n",
       "rpart        4.1-15   recommended\n",
       "spatial      7.3-11   recommended\n",
       "splines      4.0.0    base       \n",
       "stats        4.0.0    base       \n",
       "stats4       4.0.0    base       \n",
       "survival     3.1-12   recommended\n",
       "tcltk        4.0.0    base       \n",
       "tools        4.0.0    base       \n",
       "translations 4.0.0    NA         \n",
       "utils        4.0.0    base       \n",
       "             Depends                                        \n",
       "askpass      NA                                             \n",
       "assertthat   NA                                             \n",
       "backports    R (>= 3.0.0)                                   \n",
       "base64enc    R (>= 2.9.0)                                   \n",
       "BH           NA                                             \n",
       "brew         NA                                             \n",
       "callr        NA                                             \n",
       "cli          R (>= 2.10)                                    \n",
       "clipr        NA                                             \n",
       "commonmark   NA                                             \n",
       "covr         R (>= 3.1.0), methods                          \n",
       "crayon       NA                                             \n",
       "crosstalk    NA                                             \n",
       "curl         R (>= 3.0.0)                                   \n",
       "desc         R (>= 3.1.0)                                   \n",
       "devtools     R (>= 3.0.2), usethis (>= 1.6.0)               \n",
       "digest       R (>= 3.1.0)                                   \n",
       "DT           NA                                             \n",
       "ellipsis     R (>= 3.2)                                     \n",
       "evaluate     R (>= 3.0.2)                                   \n",
       "fansi        R (>= 3.1.0)                                   \n",
       "fs           R (>= 3.1)                                     \n",
       "gh           NA                                             \n",
       "git2r        R (>= 3.1)                                     \n",
       "glue         R (>= 3.1)                                     \n",
       "highr        R (>= 3.2.3)                                   \n",
       "htmltools    R (>= 2.14.1)                                  \n",
       "htmlwidgets  NA                                             \n",
       "httr         R (>= 3.2)                                     \n",
       "ini          NA                                             \n",
       "...          ...                                            \n",
       "base         NA                                             \n",
       "boot         R (>= 3.0.0), graphics, stats                  \n",
       "class        R (>= 3.0.0), stats, utils                     \n",
       "cluster      R (>= 3.3.0)                                   \n",
       "codetools    R (>= 2.1)                                     \n",
       "compiler     NA                                             \n",
       "datasets     NA                                             \n",
       "foreign      R (>= 4.0.0)                                   \n",
       "graphics     NA                                             \n",
       "grDevices    NA                                             \n",
       "grid         NA                                             \n",
       "KernSmooth   R (>= 2.5.0), stats                            \n",
       "lattice      R (>= 3.0.0)                                   \n",
       "MASS         R (>= 3.1.0), grDevices, graphics, stats, utils\n",
       "Matrix       R (>= 3.2.0)                                   \n",
       "methods      NA                                             \n",
       "mgcv         R (>= 2.14.0), nlme (>= 3.1-64)                \n",
       "nlme         R (>= 3.4.0)                                   \n",
       "nnet         R (>= 3.0.0), stats, utils                     \n",
       "parallel     NA                                             \n",
       "rpart        R (>= 2.15.0), graphics, stats, grDevices      \n",
       "spatial      R (>= 3.0.0), graphics, stats, utils           \n",
       "splines      NA                                             \n",
       "stats        NA                                             \n",
       "stats4       NA                                             \n",
       "survival     R (>= 3.4.0)                                   \n",
       "tcltk        NA                                             \n",
       "tools        NA                                             \n",
       "translations NA                                             \n",
       "utils        NA                                             \n",
       "             Imports                                                                                                                                                                                                                                                                                                                                                                                                                                                                                                    \n",
       "askpass      sys (>= 2.1)                                                                                                                                                                                                                                                                                                                                                                                                                                                                                               \n",
       "assertthat   tools                                                                                                                                                                                                                                                                                                                                                                                                                                                                                                      \n",
       "backports    utils                                                                                                                                                                                                                                                                                                                                                                                                                                                                                                      \n",
       "base64enc    NA                                                                                                                                                                                                                                                                                                                                                                                                                                                                                                         \n",
       "BH           NA                                                                                                                                                                                                                                                                                                                                                                                                                                                                                                         \n",
       "brew         NA                                                                                                                                                                                                                                                                                                                                                                                                                                                                                                         \n",
       "callr        processx (>= 3.4.0), R6, utils                                                                                                                                                                                                                                                                                                                                                                                                                                                                             \n",
       "cli          assertthat, crayon (>= 1.3.4), glue, methods, utils, fansi                                                                                                                                                                                                                                                                                                                                                                                                                                                 \n",
       "clipr        utils                                                                                                                                                                                                                                                                                                                                                                                                                                                                                                      \n",
       "commonmark   NA                                                                                                                                                                                                                                                                                                                                                                                                                                                                                                         \n",
       "covr         digest, stats, utils, jsonlite, rex, httr, crayon, withr (>=\\n1.0.2), yaml                                                                                                                                                                                                                                                                                                                                                                                                                                 \n",
       "crayon       grDevices, methods, utils                                                                                                                                                                                                                                                                                                                                                                                                                                                                                  \n",
       "crosstalk    htmltools (>= 0.3.6), jsonlite, lazyeval, R6                                                                                                                                                                                                                                                                                                                                                                                                                                                               \n",
       "curl         NA                                                                                                                                                                                                                                                                                                                                                                                                                                                                                                         \n",
       "desc         assertthat, utils, R6, crayon, rprojroot                                                                                                                                                                                                                                                                                                                                                                                                                                                                   \n",
       "devtools     callr (>= 3.4.3), cli (>= 2.0.2), covr (>= 3.5.0), crayon (>=\\n1.3.4), desc (>= 1.2.0), digest (>= 0.6.25), DT (>= 0.13),\\nellipsis (>= 0.3.0), glue (>= 1.4.0), git2r (>= 0.26.1), httr\\n(>= 1.4.1), jsonlite (>= 1.6.1), memoise (>= 1.1.0), pkgbuild\\n(>= 1.0.6), pkgload (>= 1.0.2), rcmdcheck (>= 1.3.3), remotes\\n(>= 2.1.1), rlang (>= 0.4.5), roxygen2 (>= 7.1.0), rstudioapi\\n(>= 0.11), rversions (>= 2.0.1), sessioninfo (>= 1.1.1), stats,\\ntestthat (>= 2.3.2), tools, utils, withr (>= 2.1.2)\n",
       "digest       utils                                                                                                                                                                                                                                                                                                                                                                                                                                                                                                      \n",
       "DT           htmltools (>= 0.3.6), htmlwidgets (>= 1.3), jsonlite (>=\\n0.9.16), magrittr, crosstalk, promises                                                                                                                                                                                                                                                                                                                                                                                                           \n",
       "ellipsis     rlang (>= 0.3.0)                                                                                                                                                                                                                                                                                                                                                                                                                                                                                           \n",
       "evaluate     methods                                                                                                                                                                                                                                                                                                                                                                                                                                                                                                    \n",
       "fansi        NA                                                                                                                                                                                                                                                                                                                                                                                                                                                                                                         \n",
       "fs           methods                                                                                                                                                                                                                                                                                                                                                                                                                                                                                                    \n",
       "gh           cli, ini, jsonlite, httr (>= 1.2)                                                                                                                                                                                                                                                                                                                                                                                                                                                                          \n",
       "git2r        graphics, utils                                                                                                                                                                                                                                                                                                                                                                                                                                                                                            \n",
       "glue         methods                                                                                                                                                                                                                                                                                                                                                                                                                                                                                                    \n",
       "highr        NA                                                                                                                                                                                                                                                                                                                                                                                                                                                                                                         \n",
       "htmltools    utils, digest, Rcpp, rlang                                                                                                                                                                                                                                                                                                                                                                                                                                                                                 \n",
       "htmlwidgets  grDevices, htmltools (>= 0.3), jsonlite (>= 0.9.16), yaml                                                                                                                                                                                                                                                                                                                                                                                                                                                  \n",
       "httr         curl (>= 3.0.0), jsonlite, mime, openssl (>= 0.8), R6                                                                                                                                                                                                                                                                                                                                                                                                                                                      \n",
       "ini          NA                                                                                                                                                                                                                                                                                                                                                                                                                                                                                                         \n",
       "...          ...                                                                                                                                                                                                                                                                                                                                                                                                                                                                                                        \n",
       "base         NA                                                                                                                                                                                                                                                                                                                                                                                                                                                                                                         \n",
       "boot         NA                                                                                                                                                                                                                                                                                                                                                                                                                                                                                                         \n",
       "class        MASS                                                                                                                                                                                                                                                                                                                                                                                                                                                                                                       \n",
       "cluster      graphics, grDevices, stats, utils                                                                                                                                                                                                                                                                                                                                                                                                                                                                          \n",
       "codetools    NA                                                                                                                                                                                                                                                                                                                                                                                                                                                                                                         \n",
       "compiler     NA                                                                                                                                                                                                                                                                                                                                                                                                                                                                                                         \n",
       "datasets     NA                                                                                                                                                                                                                                                                                                                                                                                                                                                                                                         \n",
       "foreign      methods, utils, stats                                                                                                                                                                                                                                                                                                                                                                                                                                                                                      \n",
       "graphics     grDevices                                                                                                                                                                                                                                                                                                                                                                                                                                                                                                  \n",
       "grDevices    NA                                                                                                                                                                                                                                                                                                                                                                                                                                                                                                         \n",
       "grid         grDevices, utils                                                                                                                                                                                                                                                                                                                                                                                                                                                                                           \n",
       "KernSmooth   NA                                                                                                                                                                                                                                                                                                                                                                                                                                                                                                         \n",
       "lattice      grid, grDevices, graphics, stats, utils                                                                                                                                                                                                                                                                                                                                                                                                                                                                    \n",
       "MASS         methods                                                                                                                                                                                                                                                                                                                                                                                                                                                                                                    \n",
       "Matrix       methods, graphics, grid, stats, utils, lattice                                                                                                                                                                                                                                                                                                                                                                                                                                                             \n",
       "methods      utils, stats                                                                                                                                                                                                                                                                                                                                                                                                                                                                                               \n",
       "mgcv         methods, stats, graphics, Matrix, splines, utils                                                                                                                                                                                                                                                                                                                                                                                                                                                           \n",
       "nlme         graphics, stats, utils, lattice                                                                                                                                                                                                                                                                                                                                                                                                                                                                            \n",
       "nnet         NA                                                                                                                                                                                                                                                                                                                                                                                                                                                                                                         \n",
       "parallel     tools, compiler                                                                                                                                                                                                                                                                                                                                                                                                                                                                                            \n",
       "rpart        NA                                                                                                                                                                                                                                                                                                                                                                                                                                                                                                         \n",
       "spatial      NA                                                                                                                                                                                                                                                                                                                                                                                                                                                                                                         \n",
       "splines      graphics, stats                                                                                                                                                                                                                                                                                                                                                                                                                                                                                            \n",
       "stats        utils, grDevices, graphics                                                                                                                                                                                                                                                                                                                                                                                                                                                                                 \n",
       "stats4       graphics, methods, stats                                                                                                                                                                                                                                                                                                                                                                                                                                                                                   \n",
       "survival     graphics, Matrix, methods, splines, stats, utils                                                                                                                                                                                                                                                                                                                                                                                                                                                           \n",
       "tcltk        utils                                                                                                                                                                                                                                                                                                                                                                                                                                                                                                      \n",
       "tools        NA                                                                                                                                                                                                                                                                                                                                                                                                                                                                                                         \n",
       "translations NA                                                                                                                                                                                                                                                                                                                                                                                                                                                                                                         \n",
       "utils        NA                                                                                                                                                                                                                                                                                                                                                                                                                                                                                                         \n",
       "             LinkingTo\n",
       "askpass      NA       \n",
       "assertthat   NA       \n",
       "backports    NA       \n",
       "base64enc    NA       \n",
       "BH           NA       \n",
       "brew         NA       \n",
       "callr        NA       \n",
       "cli          NA       \n",
       "clipr        NA       \n",
       "commonmark   NA       \n",
       "covr         NA       \n",
       "crayon       NA       \n",
       "crosstalk    NA       \n",
       "curl         NA       \n",
       "desc         NA       \n",
       "devtools     NA       \n",
       "digest       NA       \n",
       "DT           NA       \n",
       "ellipsis     NA       \n",
       "evaluate     NA       \n",
       "fansi        NA       \n",
       "fs           NA       \n",
       "gh           NA       \n",
       "git2r        NA       \n",
       "glue         NA       \n",
       "highr        NA       \n",
       "htmltools    Rcpp     \n",
       "htmlwidgets  NA       \n",
       "httr         NA       \n",
       "ini          NA       \n",
       "...          ...      \n",
       "base         NA       \n",
       "boot         NA       \n",
       "class        NA       \n",
       "cluster      NA       \n",
       "codetools    NA       \n",
       "compiler     NA       \n",
       "datasets     NA       \n",
       "foreign      NA       \n",
       "graphics     NA       \n",
       "grDevices    NA       \n",
       "grid         NA       \n",
       "KernSmooth   NA       \n",
       "lattice      NA       \n",
       "MASS         NA       \n",
       "Matrix       NA       \n",
       "methods      NA       \n",
       "mgcv         NA       \n",
       "nlme         NA       \n",
       "nnet         NA       \n",
       "parallel     NA       \n",
       "rpart        NA       \n",
       "spatial      NA       \n",
       "splines      NA       \n",
       "stats        NA       \n",
       "stats4       NA       \n",
       "survival     NA       \n",
       "tcltk        NA       \n",
       "tools        NA       \n",
       "translations NA       \n",
       "utils        NA       \n",
       "             Suggests                                                                                                                                                                                                                                    \n",
       "askpass      testthat                                                                                                                                                                                                                                    \n",
       "assertthat   testthat, covr                                                                                                                                                                                                                              \n",
       "backports    NA                                                                                                                                                                                                                                          \n",
       "base64enc    NA                                                                                                                                                                                                                                          \n",
       "BH           NA                                                                                                                                                                                                                                          \n",
       "brew         NA                                                                                                                                                                                                                                          \n",
       "callr        cliapp, covr, crayon, fansi, pingr, ps, rprojroot, spelling,\\ntestthat, tibble, withr                                                                                                                                                       \n",
       "cli          callr, covr, htmlwidgets, knitr, mockery, rmarkdown,\\nrstudioapi, prettycode (>= 1.1.0), testthat, withr                                                                                                                                    \n",
       "clipr        covr, knitr, rmarkdown, rstudioapi (>= 0.5), testthat (>=\\n2.0.0)                                                                                                                                                                           \n",
       "commonmark   curl, testthat, xml2                                                                                                                                                                                                                        \n",
       "covr         R6, knitr, rmarkdown, htmltools, DT (>= 0.2), testthat,\\nrlang, rstudioapi (>= 0.2), xml2 (>= 1.0.0), parallel, memoise,\\nmockery                                                                                                           \n",
       "crayon       mockery, rstudioapi, testthat, withr                                                                                                                                                                                                        \n",
       "crosstalk    shiny, ggplot2, testthat (>= 2.1.0)                                                                                                                                                                                                         \n",
       "curl         spelling, testthat (>= 1.0.0), knitr, jsonlite, rmarkdown,\\nmagrittr, httpuv (>= 1.4.4), webutils                                                                                                                                           \n",
       "desc         covr, testthat, whoami, withr                                                                                                                                                                                                               \n",
       "devtools     BiocManager (>= 1.30.10), curl (>= 4.3), foghorn (>= 1.1.5),\\ngmailr (>= 1.0.0), knitr (>= 1.28), lintr (>= 2.0.1), mockery\\n(>= 0.4.2), pingr (>= 2.0.0), MASS, pkgdown (>= 1.5.1), rhub\\n(>= 1.1.1), rmarkdown (>= 2.1), spelling (>= 2.1)\n",
       "digest       tinytest, knitr, rmarkdown                                                                                                                                                                                                                  \n",
       "DT           knitr (>= 1.8), rmarkdown, shiny (>= 1.2.0)                                                                                                                                                                                                 \n",
       "ellipsis     covr, testthat                                                                                                                                                                                                                              \n",
       "evaluate     testthat, lattice, ggplot2                                                                                                                                                                                                                  \n",
       "fansi        unitizer, knitr, rmarkdown                                                                                                                                                                                                                  \n",
       "fs           testthat, covr, pillar (>= 1.0.0), tibble (>= 1.1.0), crayon,\\nrmarkdown, knitr, withr, spelling                                                                                                                                            \n",
       "gh           covr, keyring, pingr, testthat, withr                                                                                                                                                                                                       \n",
       "git2r        getPass                                                                                                                                                                                                                                     \n",
       "glue         testthat, covr, magrittr, crayon, knitr, rmarkdown, DBI,\\nRSQLite, R.utils, forcats, microbenchmark, rprintf, stringr,\\nggplot2, dplyr, withr, vctrs (>= 0.2.2)                                                                             \n",
       "highr        knitr, testit                                                                                                                                                                                                                               \n",
       "htmltools    markdown, testthat, withr                                                                                                                                                                                                                   \n",
       "htmlwidgets  knitr (>= 1.8)                                                                                                                                                                                                                              \n",
       "httr         covr, httpuv, jpeg, knitr, png, readr, rmarkdown, testthat\\n(>= 0.8.0), xml2                                                                                                                                                                \n",
       "ini          testthat                                                                                                                                                                                                                                    \n",
       "...          ...                                                                                                                                                                                                                                         \n",
       "base         methods                                                                                                                                                                                                                                     \n",
       "boot         MASS, survival                                                                                                                                                                                                                              \n",
       "class        NA                                                                                                                                                                                                                                          \n",
       "cluster      MASS, Matrix                                                                                                                                                                                                                                \n",
       "codetools    NA                                                                                                                                                                                                                                          \n",
       "compiler     NA                                                                                                                                                                                                                                          \n",
       "datasets     NA                                                                                                                                                                                                                                          \n",
       "foreign      NA                                                                                                                                                                                                                                          \n",
       "graphics     NA                                                                                                                                                                                                                                          \n",
       "grDevices    KernSmooth                                                                                                                                                                                                                                  \n",
       "grid         lattice                                                                                                                                                                                                                                     \n",
       "KernSmooth   MASS                                                                                                                                                                                                                                        \n",
       "lattice      KernSmooth, MASS, latticeExtra                                                                                                                                                                                                              \n",
       "MASS         lattice, nlme, nnet, survival                                                                                                                                                                                                               \n",
       "Matrix       expm, MASS                                                                                                                                                                                                                                  \n",
       "methods      codetools                                                                                                                                                                                                                                   \n",
       "mgcv         parallel, survival, MASS                                                                                                                                                                                                                    \n",
       "nlme         Hmisc, MASS                                                                                                                                                                                                                                 \n",
       "nnet         MASS                                                                                                                                                                                                                                        \n",
       "parallel     methods                                                                                                                                                                                                                                     \n",
       "rpart        survival                                                                                                                                                                                                                                    \n",
       "spatial      MASS                                                                                                                                                                                                                                        \n",
       "splines      Matrix, methods                                                                                                                                                                                                                             \n",
       "stats        MASS, Matrix, SuppDists, methods, stats4                                                                                                                                                                                                    \n",
       "stats4       NA                                                                                                                                                                                                                                          \n",
       "survival     NA                                                                                                                                                                                                                                          \n",
       "tcltk        NA                                                                                                                                                                                                                                          \n",
       "tools        codetools, methods, xml2, curl, commonmark                                                                                                                                                                                                  \n",
       "translations NA                                                                                                                                                                                                                                          \n",
       "utils        methods, xml2, commonmark                                                                                                                                                                                                                   \n",
       "             Enhances                              License                    \n",
       "askpass      NA                                    MIT + file LICENSE         \n",
       "assertthat   NA                                    GPL-3                      \n",
       "backports    NA                                    GPL-2 | GPL-3              \n",
       "base64enc    png                                   GPL-2 | GPL-3              \n",
       "BH           NA                                    BSL-1.0                    \n",
       "brew         NA                                    GPL-2                      \n",
       "callr        NA                                    MIT + file LICENSE         \n",
       "cli          NA                                    MIT + file LICENSE         \n",
       "clipr        NA                                    GPL-3                      \n",
       "commonmark   NA                                    BSD_2_clause + file LICENSE\n",
       "covr         NA                                    GPL-3                      \n",
       "crayon       NA                                    MIT + file LICENSE         \n",
       "crosstalk    NA                                    MIT + file LICENSE         \n",
       "curl         NA                                    MIT + file LICENSE         \n",
       "desc         NA                                    MIT + file LICENSE         \n",
       "devtools     NA                                    GPL (>= 2)                 \n",
       "digest       NA                                    GPL (>= 2)                 \n",
       "DT           NA                                    GPL-3 | file LICENSE       \n",
       "ellipsis     NA                                    GPL-3                      \n",
       "evaluate     NA                                    MIT + file LICENSE         \n",
       "fansi        NA                                    GPL (>= 2)                 \n",
       "fs           NA                                    GPL-3                      \n",
       "gh           NA                                    MIT + file LICENSE         \n",
       "git2r        NA                                    GPL-2                      \n",
       "glue         NA                                    MIT + file LICENSE         \n",
       "highr        NA                                    GPL                        \n",
       "htmltools    knitr                                 GPL (>= 2)                 \n",
       "htmlwidgets  shiny (>= 1.1)                        MIT + file LICENSE         \n",
       "httr         NA                                    MIT + file LICENSE         \n",
       "ini          NA                                    GPL-3                      \n",
       "...          ...                                   ...                        \n",
       "base         NA                                    Part of R 4.0.0            \n",
       "boot         NA                                    Unlimited                  \n",
       "class        NA                                    GPL-2 | GPL-3              \n",
       "cluster      NA                                    GPL (>= 2)                 \n",
       "codetools    NA                                    GPL                        \n",
       "compiler     NA                                    Part of R 4.0.0            \n",
       "datasets     NA                                    Part of R 4.0.0            \n",
       "foreign      NA                                    GPL (>= 2)                 \n",
       "graphics     NA                                    Part of R 4.0.0            \n",
       "grDevices    NA                                    Part of R 4.0.0            \n",
       "grid         NA                                    Part of R 4.0.0            \n",
       "KernSmooth   NA                                    Unlimited                  \n",
       "lattice      chron                                 GPL (>= 2)                 \n",
       "MASS         NA                                    GPL-2 | GPL-3              \n",
       "Matrix       MatrixModels, graph, SparseM, sfsmisc GPL (>= 2) | file LICENCE  \n",
       "methods      NA                                    Part of R 4.0.0            \n",
       "mgcv         NA                                    GPL (>= 2)                 \n",
       "nlme         NA                                    GPL (>= 2) | file LICENCE  \n",
       "nnet         NA                                    GPL-2 | GPL-3              \n",
       "parallel     snow, nws, Rmpi                       Part of R 4.0.0            \n",
       "rpart        NA                                    GPL-2 | GPL-3              \n",
       "spatial      NA                                    GPL-2 | GPL-3              \n",
       "splines      NA                                    Part of R 4.0.0            \n",
       "stats        NA                                    Part of R 4.0.0            \n",
       "stats4       NA                                    Part of R 4.0.0            \n",
       "survival     NA                                    LGPL (>= 2)                \n",
       "tcltk        NA                                    Part of R 4.0.0            \n",
       "tools        NA                                    Part of R 4.0.0            \n",
       "translations NA                                    Part of R 4.0.0            \n",
       "utils        NA                                    Part of R 4.0.0            \n",
       "             License_is_FOSS License_restricts_use OS_type MD5sum\n",
       "askpass      NA              NA                    NA      NA    \n",
       "assertthat   NA              NA                    NA      NA    \n",
       "backports    NA              NA                    NA      NA    \n",
       "base64enc    NA              NA                    NA      NA    \n",
       "BH           NA              NA                    NA      NA    \n",
       "brew         NA              NA                    NA      NA    \n",
       "callr        NA              NA                    NA      NA    \n",
       "cli          NA              NA                    NA      NA    \n",
       "clipr        NA              NA                    NA      NA    \n",
       "commonmark   NA              NA                    NA      NA    \n",
       "covr         NA              NA                    NA      NA    \n",
       "crayon       NA              NA                    NA      NA    \n",
       "crosstalk    NA              NA                    NA      NA    \n",
       "curl         NA              NA                    NA      NA    \n",
       "desc         NA              NA                    NA      NA    \n",
       "devtools     NA              NA                    NA      NA    \n",
       "digest       NA              NA                    NA      NA    \n",
       "DT           NA              NA                    NA      NA    \n",
       "ellipsis     NA              NA                    NA      NA    \n",
       "evaluate     NA              NA                    NA      NA    \n",
       "fansi        NA              NA                    NA      NA    \n",
       "fs           NA              NA                    NA      NA    \n",
       "gh           NA              NA                    NA      NA    \n",
       "git2r        NA              NA                    NA      NA    \n",
       "glue         NA              NA                    NA      NA    \n",
       "highr        NA              NA                    NA      NA    \n",
       "htmltools    NA              NA                    NA      NA    \n",
       "htmlwidgets  NA              NA                    NA      NA    \n",
       "httr         NA              NA                    NA      NA    \n",
       "ini          NA              NA                    NA      NA    \n",
       "...          ...             ...                   ...     ...   \n",
       "base         NA              NA                    NA      NA    \n",
       "boot         NA              NA                    NA      NA    \n",
       "class        NA              NA                    NA      NA    \n",
       "cluster      NA              NA                    NA      NA    \n",
       "codetools    NA              NA                    NA      NA    \n",
       "compiler     NA              NA                    NA      NA    \n",
       "datasets     NA              NA                    NA      NA    \n",
       "foreign      NA              NA                    NA      NA    \n",
       "graphics     NA              NA                    NA      NA    \n",
       "grDevices    NA              NA                    NA      NA    \n",
       "grid         NA              NA                    NA      NA    \n",
       "KernSmooth   NA              NA                    NA      NA    \n",
       "lattice      NA              NA                    NA      NA    \n",
       "MASS         NA              NA                    NA      NA    \n",
       "Matrix       NA              NA                    NA      NA    \n",
       "methods      NA              NA                    NA      NA    \n",
       "mgcv         NA              NA                    NA      NA    \n",
       "nlme         NA              NA                    NA      NA    \n",
       "nnet         NA              NA                    NA      NA    \n",
       "parallel     NA              NA                    NA      NA    \n",
       "rpart        NA              NA                    NA      NA    \n",
       "spatial      NA              NA                    NA      NA    \n",
       "splines      NA              NA                    NA      NA    \n",
       "stats        NA              NA                    NA      NA    \n",
       "stats4       NA              NA                    NA      NA    \n",
       "survival     NA              NA                    NA      NA    \n",
       "tcltk        NA              NA                    NA      NA    \n",
       "tools        NA              NA                    NA      NA    \n",
       "translations NA              NA                    NA      NA    \n",
       "utils        NA              NA                    NA      NA    \n",
       "             NeedsCompilation Built\n",
       "askpass      yes              4.0.0\n",
       "assertthat   no               4.0.0\n",
       "backports    yes              4.0.0\n",
       "base64enc    yes              4.0.0\n",
       "BH           no               4.0.0\n",
       "brew         NA               4.0.0\n",
       "callr        no               4.0.0\n",
       "cli          no               4.0.0\n",
       "clipr        no               4.0.0\n",
       "commonmark   yes              4.0.0\n",
       "covr         yes              4.0.0\n",
       "crayon       no               4.0.0\n",
       "crosstalk    no               4.0.0\n",
       "curl         yes              4.0.0\n",
       "desc         no               4.0.0\n",
       "devtools     no               4.0.0\n",
       "digest       yes              4.0.0\n",
       "DT           no               4.0.0\n",
       "ellipsis     yes              4.0.0\n",
       "evaluate     no               4.0.0\n",
       "fansi        yes              4.0.0\n",
       "fs           yes              4.0.0\n",
       "gh           no               4.0.0\n",
       "git2r        yes              4.0.0\n",
       "glue         yes              4.0.0\n",
       "highr        no               4.0.0\n",
       "htmltools    yes              4.0.0\n",
       "htmlwidgets  no               4.0.0\n",
       "httr         no               4.0.0\n",
       "ini          no               4.0.0\n",
       "...          ...              ...  \n",
       "base         NA               4.0.0\n",
       "boot         no               4.0.0\n",
       "class        yes              4.0.0\n",
       "cluster      yes              4.0.0\n",
       "codetools    no               4.0.0\n",
       "compiler     NA               4.0.0\n",
       "datasets     NA               4.0.0\n",
       "foreign      yes              4.0.0\n",
       "graphics     yes              4.0.0\n",
       "grDevices    yes              4.0.0\n",
       "grid         yes              4.0.0\n",
       "KernSmooth   yes              4.0.0\n",
       "lattice      yes              4.0.0\n",
       "MASS         yes              4.0.0\n",
       "Matrix       yes              4.0.0\n",
       "methods      yes              4.0.0\n",
       "mgcv         yes              4.0.0\n",
       "nlme         yes              4.0.0\n",
       "nnet         yes              4.0.0\n",
       "parallel     yes              4.0.0\n",
       "rpart        yes              4.0.0\n",
       "spatial      yes              4.0.0\n",
       "splines      yes              4.0.0\n",
       "stats        yes              4.0.0\n",
       "stats4       NA               4.0.0\n",
       "survival     yes              4.0.0\n",
       "tcltk        yes              4.0.0\n",
       "tools        yes              4.0.0\n",
       "translations NA               4.0.0\n",
       "utils        yes              4.0.0"
      ]
     },
     "metadata": {},
     "output_type": "display_data"
    }
   ],
   "source": [
    "# Visualizando os pacotes instalados\n",
    "\n",
    "installed.packages()"
   ]
  },
  {
   "cell_type": "code",
   "execution_count": 13,
   "metadata": {},
   "outputs": [],
   "source": [
    "# Carregando um pacote com a função library\n",
    "\n",
    "library(ggplot2)"
   ]
  },
  {
   "cell_type": "code",
   "execution_count": 14,
   "metadata": {},
   "outputs": [
    {
     "data": {
      "text/html": [
       "<style>\n",
       ".list-inline {list-style: none; margin:0; padding: 0}\n",
       ".list-inline>li {display: inline-block}\n",
       ".list-inline>li:not(:last-child)::after {content: \"\\00b7\"; padding: 0 .5ex}\n",
       "</style>\n",
       "<ol class=list-inline><li>'.GlobalEnv'</li><li>'package:ggplot2'</li><li>'jupyter:irkernel'</li><li>'jupyter:irkernel'</li><li>'package:stats'</li><li>'package:graphics'</li><li>'package:grDevices'</li><li>'package:utils'</li><li>'package:datasets'</li><li>'package:methods'</li><li>'Autoloads'</li><li>'package:base'</li></ol>\n"
      ],
      "text/latex": [
       "\\begin{enumerate*}\n",
       "\\item '.GlobalEnv'\n",
       "\\item 'package:ggplot2'\n",
       "\\item 'jupyter:irkernel'\n",
       "\\item 'jupyter:irkernel'\n",
       "\\item 'package:stats'\n",
       "\\item 'package:graphics'\n",
       "\\item 'package:grDevices'\n",
       "\\item 'package:utils'\n",
       "\\item 'package:datasets'\n",
       "\\item 'package:methods'\n",
       "\\item 'Autoloads'\n",
       "\\item 'package:base'\n",
       "\\end{enumerate*}\n"
      ],
      "text/markdown": [
       "1. '.GlobalEnv'\n",
       "2. 'package:ggplot2'\n",
       "3. 'jupyter:irkernel'\n",
       "4. 'jupyter:irkernel'\n",
       "5. 'package:stats'\n",
       "6. 'package:graphics'\n",
       "7. 'package:grDevices'\n",
       "8. 'package:utils'\n",
       "9. 'package:datasets'\n",
       "10. 'package:methods'\n",
       "11. 'Autoloads'\n",
       "12. 'package:base'\n",
       "\n",
       "\n"
      ],
      "text/plain": [
       " [1] \".GlobalEnv\"        \"package:ggplot2\"   \"jupyter:irkernel\" \n",
       " [4] \"jupyter:irkernel\"  \"package:stats\"     \"package:graphics\" \n",
       " [7] \"package:grDevices\" \"package:utils\"     \"package:datasets\" \n",
       "[10] \"package:methods\"   \"Autoloads\"         \"package:base\"     "
      ]
     },
     "metadata": {},
     "output_type": "display_data"
    }
   ],
   "source": [
    "# A função search() irá verificar todos os pacotes carregados na memória\n",
    "\n",
    "search()"
   ]
  },
  {
   "cell_type": "code",
   "execution_count": 15,
   "metadata": {},
   "outputs": [],
   "source": [
    "# Função detach() para desalocar um pacote na memória\n",
    "\n",
    "detach(\"package:ggplot2\")"
   ]
  },
  {
   "cell_type": "code",
   "execution_count": 16,
   "metadata": {},
   "outputs": [
    {
     "data": {
      "text/html": [
       "<style>\n",
       ".list-inline {list-style: none; margin:0; padding: 0}\n",
       ".list-inline>li {display: inline-block}\n",
       ".list-inline>li:not(:last-child)::after {content: \"\\00b7\"; padding: 0 .5ex}\n",
       "</style>\n",
       "<ol class=list-inline><li>'.GlobalEnv'</li><li>'jupyter:irkernel'</li><li>'jupyter:irkernel'</li><li>'package:stats'</li><li>'package:graphics'</li><li>'package:grDevices'</li><li>'package:utils'</li><li>'package:datasets'</li><li>'package:methods'</li><li>'Autoloads'</li><li>'package:base'</li></ol>\n"
      ],
      "text/latex": [
       "\\begin{enumerate*}\n",
       "\\item '.GlobalEnv'\n",
       "\\item 'jupyter:irkernel'\n",
       "\\item 'jupyter:irkernel'\n",
       "\\item 'package:stats'\n",
       "\\item 'package:graphics'\n",
       "\\item 'package:grDevices'\n",
       "\\item 'package:utils'\n",
       "\\item 'package:datasets'\n",
       "\\item 'package:methods'\n",
       "\\item 'Autoloads'\n",
       "\\item 'package:base'\n",
       "\\end{enumerate*}\n"
      ],
      "text/markdown": [
       "1. '.GlobalEnv'\n",
       "2. 'jupyter:irkernel'\n",
       "3. 'jupyter:irkernel'\n",
       "4. 'package:stats'\n",
       "5. 'package:graphics'\n",
       "6. 'package:grDevices'\n",
       "7. 'package:utils'\n",
       "8. 'package:datasets'\n",
       "9. 'package:methods'\n",
       "10. 'Autoloads'\n",
       "11. 'package:base'\n",
       "\n",
       "\n"
      ],
      "text/plain": [
       " [1] \".GlobalEnv\"        \"jupyter:irkernel\"  \"jupyter:irkernel\" \n",
       " [4] \"package:stats\"     \"package:graphics\"  \"package:grDevices\"\n",
       " [7] \"package:utils\"     \"package:datasets\"  \"package:methods\"  \n",
       "[10] \"Autoloads\"         \"package:base\"     "
      ]
     },
     "metadata": {},
     "output_type": "display_data"
    }
   ],
   "source": [
    "# Verificando se o pacote ggplot2 foi removido da memória\n",
    "\n",
    "search()"
   ]
  },
  {
   "cell_type": "markdown",
   "metadata": {},
   "source": [
    "##### Operadores aritméticos"
   ]
  },
  {
   "cell_type": "code",
   "execution_count": 29,
   "metadata": {},
   "outputs": [],
   "source": [
    "a = 5\n",
    "b = 14\n",
    "c = 2"
   ]
  },
  {
   "cell_type": "code",
   "execution_count": 38,
   "metadata": {},
   "outputs": [
    {
     "name": "stdout",
     "output_type": "stream",
     "text": [
      "[1] 0\n",
      "[1] 1\n",
      "[1] 6103515625\n",
      "[1] 6103515625\n",
      "[1] 2.236068\n",
      "[1] 2.236068\n"
     ]
    }
   ],
   "source": [
    "# Quociente, resto, exponenciação e radiciação \n",
    "\n",
    "ab = a %/% b     # Quociente\n",
    "print(ab)\n",
    "ac = a %% c      # Resto \n",
    "print(ac)\n",
    "bc = a ** b      # Exponenciação\n",
    "print(bc)\n",
    "bc_2 = a ^ b     # Exponenciação novamente\n",
    "print(bc_2)\n",
    "cb = a ** (1/2)  # Radiciação\n",
    "print(cb)\n",
    "cb_2 = a ^ (1/2) # Radiciação novamente\n",
    "print(cb_2)"
   ]
  },
  {
   "cell_type": "markdown",
   "metadata": {},
   "source": [
    "##### Tipos de Dados"
   ]
  },
  {
   "cell_type": "code",
   "execution_count": 41,
   "metadata": {},
   "outputs": [
    {
     "data": {
      "text/html": [
       "1.79769e+308"
      ],
      "text/latex": [
       "1.79769e+308"
      ],
      "text/markdown": [
       "1.79769e+308"
      ],
      "text/plain": [
       "[1] 1.79769e+308"
      ]
     },
     "metadata": {},
     "output_type": "display_data"
    }
   ],
   "source": [
    "# Criando um número gigante e ver qual será o valor atribuído a ele\n",
    "\n",
    "a = 179768999999999999999999999999999999999999999999999999999999999999999999999999999999999999999999999999999999999999999999999999999999999999999999999999999999999999999999999999999999999999999999999999999999999999999999999999999999999999999999999999999999999999999999999999999999999999999999999999999999999999999\n",
    "a"
   ]
  },
  {
   "cell_type": "code",
   "execution_count": 42,
   "metadata": {},
   "outputs": [
    {
     "data": {
      "text/html": [
       "'double'"
      ],
      "text/latex": [
       "'double'"
      ],
      "text/markdown": [
       "'double'"
      ],
      "text/plain": [
       "[1] \"double\""
      ]
     },
     "metadata": {},
     "output_type": "display_data"
    }
   ],
   "source": [
    "typeof(a)"
   ]
  },
  {
   "cell_type": "code",
   "execution_count": 45,
   "metadata": {},
   "outputs": [
    {
     "data": {
      "text/html": [
       "2147483647"
      ],
      "text/latex": [
       "2147483647"
      ],
      "text/markdown": [
       "2147483647"
      ],
      "text/plain": [
       "[1] 2147483647"
      ]
     },
     "metadata": {},
     "output_type": "display_data"
    }
   ],
   "source": [
    "b = 2147483647L\n",
    "b"
   ]
  },
  {
   "cell_type": "code",
   "execution_count": 46,
   "metadata": {},
   "outputs": [
    {
     "data": {
      "text/html": [
       "'integer'"
      ],
      "text/latex": [
       "'integer'"
      ],
      "text/markdown": [
       "'integer'"
      ],
      "text/plain": [
       "[1] \"integer\""
      ]
     },
     "metadata": {},
     "output_type": "display_data"
    }
   ],
   "source": [
    "typeof(b)"
   ]
  },
  {
   "cell_type": "code",
   "execution_count": 49,
   "metadata": {},
   "outputs": [
    {
     "data": {
      "text/html": [
       "2147483647"
      ],
      "text/latex": [
       "2147483647"
      ],
      "text/markdown": [
       "2147483647"
      ],
      "text/plain": [
       "[1] 2147483647"
      ]
     },
     "metadata": {},
     "output_type": "display_data"
    }
   ],
   "source": [
    "# A função as.integer irá converter (casting) um número para Integer\n",
    "\n",
    "c = as.integer(2147483647)\n",
    "c"
   ]
  },
  {
   "cell_type": "code",
   "execution_count": 50,
   "metadata": {},
   "outputs": [
    {
     "data": {
      "text/html": [
       "'integer'"
      ],
      "text/latex": [
       "'integer'"
      ],
      "text/markdown": [
       "'integer'"
      ],
      "text/plain": [
       "[1] \"integer\""
      ]
     },
     "metadata": {},
     "output_type": "display_data"
    }
   ],
   "source": [
    "typeof(c)"
   ]
  },
  {
   "cell_type": "code",
   "execution_count": 51,
   "metadata": {},
   "outputs": [
    {
     "data": {
      "text/html": [
       "'Teste String'"
      ],
      "text/latex": [
       "'Teste String'"
      ],
      "text/markdown": [
       "'Teste String'"
      ],
      "text/plain": [
       "[1] \"Teste String\""
      ]
     },
     "metadata": {},
     "output_type": "display_data"
    }
   ],
   "source": [
    "# Tipos de textos, que no R é tipo character\n",
    "\n",
    "d = \"Teste String\"\n",
    "d"
   ]
  },
  {
   "cell_type": "code",
   "execution_count": 52,
   "metadata": {},
   "outputs": [
    {
     "data": {
      "text/html": [
       "'character'"
      ],
      "text/latex": [
       "'character'"
      ],
      "text/markdown": [
       "'character'"
      ],
      "text/plain": [
       "[1] \"character\""
      ]
     },
     "metadata": {},
     "output_type": "display_data"
    }
   ],
   "source": [
    "typeof(d)"
   ]
  },
  {
   "cell_type": "code",
   "execution_count": 54,
   "metadata": {},
   "outputs": [
    {
     "data": {
      "text/html": [
       "TRUE"
      ],
      "text/latex": [
       "TRUE"
      ],
      "text/markdown": [
       "TRUE"
      ],
      "text/plain": [
       "[1] TRUE"
      ]
     },
     "metadata": {},
     "output_type": "display_data"
    }
   ],
   "source": [
    "# Valores booleanos ou lógiocs\n",
    "\n",
    "bool = TRUE\n",
    "bool"
   ]
  },
  {
   "cell_type": "code",
   "execution_count": 55,
   "metadata": {},
   "outputs": [
    {
     "data": {
      "text/html": [
       "'logical'"
      ],
      "text/latex": [
       "'logical'"
      ],
      "text/markdown": [
       "'logical'"
      ],
      "text/plain": [
       "[1] \"logical\""
      ]
     },
     "metadata": {},
     "output_type": "display_data"
    }
   ],
   "source": [
    "typeof(bool)"
   ]
  },
  {
   "cell_type": "code",
   "execution_count": 56,
   "metadata": {},
   "outputs": [
    {
     "data": {
      "text/plain": [
       "[1] 41"
      ]
     },
     "metadata": {},
     "output_type": "display_data"
    }
   ],
   "source": [
    "# Define o valor hexadecimal de um caractere através da função charToRaw()\n",
    "\n",
    "f <- charToRaw(\"A\")\n",
    "f"
   ]
  },
  {
   "cell_type": "code",
   "execution_count": 57,
   "metadata": {},
   "outputs": [
    {
     "data": {
      "text/html": [
       "'raw'"
      ],
      "text/latex": [
       "'raw'"
      ],
      "text/markdown": [
       "'raw'"
      ],
      "text/plain": [
       "[1] \"raw\""
      ]
     },
     "metadata": {},
     "output_type": "display_data"
    }
   ],
   "source": [
    "typeof(f)"
   ]
  },
  {
   "cell_type": "code",
   "execution_count": 60,
   "metadata": {},
   "outputs": [
    {
     "data": {
      "text/html": [
       "'character'"
      ],
      "text/latex": [
       "'character'"
      ],
      "text/markdown": [
       "'character'"
      ],
      "text/plain": [
       "[1] \"character\""
      ]
     },
     "metadata": {},
     "output_type": "display_data"
    }
   ],
   "source": [
    "# Tipos de dados de vetores \n",
    "\n",
    "vetorChar = c(\"R\", \"Python\", \"Hadoop\", \"GGPlot2\")\n",
    "typeof(vetorChar)"
   ]
  },
  {
   "cell_type": "code",
   "execution_count": 61,
   "metadata": {},
   "outputs": [
    {
     "data": {
      "text/html": [
       "'logical'"
      ],
      "text/latex": [
       "'logical'"
      ],
      "text/markdown": [
       "'logical'"
      ],
      "text/plain": [
       "[1] \"logical\""
      ]
     },
     "metadata": {},
     "output_type": "display_data"
    }
   ],
   "source": [
    "# Tipos de dados de vetores de valores lógicos\n",
    "\n",
    "vetorLog = c(TRUE, 5 < 10, FALSE, 3 > 4)\n",
    "typeof(vetorLog)"
   ]
  },
  {
   "cell_type": "code",
   "execution_count": 63,
   "metadata": {},
   "outputs": [
    {
     "data": {
      "text/html": [
       "'complex'"
      ],
      "text/latex": [
       "'complex'"
      ],
      "text/markdown": [
       "'complex'"
      ],
      "text/plain": [
       "[1] \"complex\""
      ]
     },
     "metadata": {},
     "output_type": "display_data"
    }
   ],
   "source": [
    "# Tipos de dados de vetores de valores complexos\n",
    "\n",
    "vetorComplex = c(3+2i, 9-5i, 2i, 6)\n",
    "typeof(vetorComplex)"
   ]
  },
  {
   "cell_type": "code",
   "execution_count": 68,
   "metadata": {},
   "outputs": [
    {
     "name": "stdout",
     "output_type": "stream",
     "text": [
      "[1] 61 73 64\n",
      "[1] \"asd\"\n"
     ]
    }
   ],
   "source": [
    "# Convertendo um arquivo raw para character novamente\n",
    "\n",
    "raw = charToRaw(\"asd\")\n",
    "print(raw)\n",
    "\n",
    "char = rawToChar(raw)\n",
    "print(char)"
   ]
  },
  {
   "cell_type": "code",
   "execution_count": 73,
   "metadata": {},
   "outputs": [
    {
     "name": "stdout",
     "output_type": "stream",
     "text": [
      "[1] 10\n",
      "[1] 5\n",
      "[1] 3\n",
      "[1] 20\n"
     ]
    }
   ],
   "source": [
    "# É possível atribuir valores a variáveis com , função assign(), <- e ->\n",
    "\n",
    "a = 10\n",
    "b <- 5\n",
    "3 -> c # O valor é atribuido ao lado esquerdo\n",
    "assign(\"d\", 20)\n",
    "\n",
    "print(a)\n",
    "print(b)\n",
    "print(c)\n",
    "print(d)"
   ]
  },
  {
   "cell_type": "code",
   "execution_count": 80,
   "metadata": {},
   "outputs": [
    {
     "data": {
      "text/html": [
       "TRUE"
      ],
      "text/latex": [
       "TRUE"
      ],
      "text/markdown": [
       "TRUE"
      ],
      "text/plain": [
       "[1] TRUE"
      ]
     },
     "metadata": {},
     "output_type": "display_data"
    }
   ],
   "source": [
    "# Funções para validações de tipos de dados is. para validar o tipoe e as. para realizar conversão do tipo\n",
    "\n",
    "is.integer(a)"
   ]
  },
  {
   "cell_type": "code",
   "execution_count": 81,
   "metadata": {},
   "outputs": [
    {
     "data": {
      "text/html": [
       "'integer'"
      ],
      "text/latex": [
       "'integer'"
      ],
      "text/markdown": [
       "'integer'"
      ],
      "text/plain": [
       "[1] \"integer\""
      ]
     },
     "metadata": {},
     "output_type": "display_data"
    }
   ],
   "source": [
    "a = as.integer(a)\n",
    "typeof(a)"
   ]
  },
  {
   "cell_type": "code",
   "execution_count": 82,
   "metadata": {},
   "outputs": [
    {
     "data": {
      "text/html": [
       "TRUE"
      ],
      "text/latex": [
       "TRUE"
      ],
      "text/markdown": [
       "TRUE"
      ],
      "text/plain": [
       "[1] TRUE"
      ]
     },
     "metadata": {},
     "output_type": "display_data"
    }
   ],
   "source": [
    "is.integer(a)"
   ]
  },
  {
   "cell_type": "code",
   "execution_count": 83,
   "metadata": {},
   "outputs": [
    {
     "data": {
      "text/html": [
       "TRUE"
      ],
      "text/latex": [
       "TRUE"
      ],
      "text/markdown": [
       "TRUE"
      ],
      "text/plain": [
       "[1] TRUE"
      ]
     },
     "metadata": {},
     "output_type": "display_data"
    }
   ],
   "source": [
    "is.character(char)"
   ]
  },
  {
   "cell_type": "code",
   "execution_count": 84,
   "metadata": {},
   "outputs": [
    {
     "data": {
      "text/html": [
       "TRUE"
      ],
      "text/latex": [
       "TRUE"
      ],
      "text/markdown": [
       "TRUE"
      ],
      "text/plain": [
       "[1] TRUE"
      ]
     },
     "metadata": {},
     "output_type": "display_data"
    }
   ],
   "source": [
    "is.numeric(a)"
   ]
  },
  {
   "cell_type": "code",
   "execution_count": 85,
   "metadata": {},
   "outputs": [
    {
     "data": {
      "text/html": [
       "'Victor Hugo NegrisoliDesenvolvedor Full-Stack Pleno'"
      ],
      "text/latex": [
       "'Victor Hugo NegrisoliDesenvolvedor Full-Stack Pleno'"
      ],
      "text/markdown": [
       "'Victor Hugo NegrisoliDesenvolvedor Full-Stack Pleno'"
      ],
      "text/plain": [
       "[1] \"Victor Hugo NegrisoliDesenvolvedor Full-Stack Pleno\""
      ]
     },
     "metadata": {},
     "output_type": "display_data"
    }
   ],
   "source": [
    "# Concatenando Strings com paste0, paste, e cat\n",
    "\n",
    "nome = \"Victor Hugo Negrisoli\"\n",
    "cargo = \"Desenvolvedor Full-Stack Pleno\""
   ]
  },
  {
   "cell_type": "code",
   "execution_count": 86,
   "metadata": {},
   "outputs": [
    {
     "data": {
      "text/html": [
       "'Victor Hugo NegrisoliDesenvolvedor Full-Stack Pleno'"
      ],
      "text/latex": [
       "'Victor Hugo NegrisoliDesenvolvedor Full-Stack Pleno'"
      ],
      "text/markdown": [
       "'Victor Hugo NegrisoliDesenvolvedor Full-Stack Pleno'"
      ],
      "text/plain": [
       "[1] \"Victor Hugo NegrisoliDesenvolvedor Full-Stack Pleno\""
      ]
     },
     "metadata": {},
     "output_type": "display_data"
    }
   ],
   "source": [
    "# O paste0 não atribui um separador entre as Strings\n",
    "\n",
    "paste0(nome, cargo)"
   ]
  },
  {
   "cell_type": "code",
   "execution_count": 87,
   "metadata": {},
   "outputs": [
    {
     "data": {
      "text/html": [
       "'Victor Hugo Negrisoli Desenvolvedor Full-Stack Pleno'"
      ],
      "text/latex": [
       "'Victor Hugo Negrisoli Desenvolvedor Full-Stack Pleno'"
      ],
      "text/markdown": [
       "'Victor Hugo Negrisoli Desenvolvedor Full-Stack Pleno'"
      ],
      "text/plain": [
       "[1] \"Victor Hugo Negrisoli Desenvolvedor Full-Stack Pleno\""
      ]
     },
     "metadata": {},
     "output_type": "display_data"
    }
   ],
   "source": [
    "# O paste atribui um separador entre as Strings\n",
    "\n",
    "paste(nome, cargo)"
   ]
  },
  {
   "cell_type": "code",
   "execution_count": 89,
   "metadata": {},
   "outputs": [
    {
     "name": "stdout",
     "output_type": "stream",
     "text": [
      "Victor Hugo Negrisoli trabalha como Desenvolvedor Full-Stack Pleno"
     ]
    }
   ],
   "source": [
    "# A função cat realizará a concatenação também\n",
    "\n",
    "cat(nome, \"trabalha como\", cargo)"
   ]
  },
  {
   "cell_type": "code",
   "execution_count": 92,
   "metadata": {},
   "outputs": [
    {
     "data": {
      "text/html": [
       "'Victor Hugo Negrisoli - Desenvolvedor Full-Stack Pleno'"
      ],
      "text/latex": [
       "'Victor Hugo Negrisoli - Desenvolvedor Full-Stack Pleno'"
      ],
      "text/markdown": [
       "'Victor Hugo Negrisoli - Desenvolvedor Full-Stack Pleno'"
      ],
      "text/plain": [
       "[1] \"Victor Hugo Negrisoli - Desenvolvedor Full-Stack Pleno\""
      ]
     },
     "metadata": {},
     "output_type": "display_data"
    }
   ],
   "source": [
    "# Utilizando um separador na função paste\n",
    "\n",
    "paste(nome, cargo, sep = \" - \")"
   ]
  },
  {
   "cell_type": "markdown",
   "metadata": {},
   "source": [
    "##### Input de dados"
   ]
  },
  {
   "cell_type": "code",
   "execution_count": 96,
   "metadata": {},
   "outputs": [
    {
     "name": "stdout",
     "output_type": "stream",
     "text": [
      "Digite sua idade: 22\n"
     ]
    }
   ],
   "source": [
    "# Utilizando a função readline()\n",
    "\n",
    "idade = as.integer(readline(prompt = \"Digite sua idade: \"))"
   ]
  },
  {
   "cell_type": "code",
   "execution_count": 97,
   "metadata": {},
   "outputs": [
    {
     "name": "stdout",
     "output_type": "stream",
     "text": [
      "Digite seu nome: Victor Hugo Negrisoli\n"
     ]
    }
   ],
   "source": [
    "nome = readline(prompt = \"Digite seu nome: \")"
   ]
  },
  {
   "cell_type": "code",
   "execution_count": 98,
   "metadata": {},
   "outputs": [
    {
     "name": "stdout",
     "output_type": "stream",
     "text": [
      "[1] \"Victor Hugo Negrisoli possui 22 anos.\"\n"
     ]
    }
   ],
   "source": [
    "print(paste(nome, \"possui\",idade,\"anos.\"))"
   ]
  },
  {
   "cell_type": "code",
   "execution_count": 99,
   "metadata": {},
   "outputs": [
    {
     "data": {
      "text/html": [
       "FALSE"
      ],
      "text/latex": [
       "FALSE"
      ],
      "text/markdown": [
       "FALSE"
      ],
      "text/plain": [
       "[1] FALSE"
      ]
     },
     "metadata": {},
     "output_type": "display_data"
    }
   ],
   "source": [
    "# Operadores lógicos\n",
    " \n",
    "a == b"
   ]
  },
  {
   "cell_type": "code",
   "execution_count": 102,
   "metadata": {},
   "outputs": [
    {
     "data": {
      "text/html": [
       "FALSE"
      ],
      "text/latex": [
       "FALSE"
      ],
      "text/markdown": [
       "FALSE"
      ],
      "text/plain": [
       "[1] FALSE"
      ]
     },
     "metadata": {},
     "output_type": "display_data"
    }
   ],
   "source": [
    "a && b > 14"
   ]
  },
  {
   "cell_type": "code",
   "execution_count": 103,
   "metadata": {},
   "outputs": [
    {
     "data": {
      "text/html": [
       "TRUE"
      ],
      "text/latex": [
       "TRUE"
      ],
      "text/markdown": [
       "TRUE"
      ],
      "text/plain": [
       "[1] TRUE"
      ]
     },
     "metadata": {},
     "output_type": "display_data"
    }
   ],
   "source": [
    "a & b < 10"
   ]
  },
  {
   "cell_type": "code",
   "execution_count": 104,
   "metadata": {},
   "outputs": [
    {
     "data": {
      "text/html": [
       "TRUE"
      ],
      "text/latex": [
       "TRUE"
      ],
      "text/markdown": [
       "TRUE"
      ],
      "text/plain": [
       "[1] TRUE"
      ]
     },
     "metadata": {},
     "output_type": "display_data"
    }
   ],
   "source": [
    "a | b > 14"
   ]
  },
  {
   "cell_type": "code",
   "execution_count": 105,
   "metadata": {},
   "outputs": [
    {
     "data": {
      "text/html": [
       "TRUE"
      ],
      "text/latex": [
       "TRUE"
      ],
      "text/markdown": [
       "TRUE"
      ],
      "text/plain": [
       "[1] TRUE"
      ]
     },
     "metadata": {},
     "output_type": "display_data"
    }
   ],
   "source": [
    "a || b < 14"
   ]
  },
  {
   "cell_type": "code",
   "execution_count": 108,
   "metadata": {},
   "outputs": [
    {
     "data": {
      "text/html": [
       "TRUE"
      ],
      "text/latex": [
       "TRUE"
      ],
      "text/markdown": [
       "TRUE"
      ],
      "text/plain": [
       "[1] TRUE"
      ]
     },
     "metadata": {},
     "output_type": "display_data"
    }
   ],
   "source": [
    "!a == b"
   ]
  }
 ],
 "metadata": {
  "kernelspec": {
   "display_name": "R",
   "language": "R",
   "name": "ir"
  },
  "language_info": {
   "codemirror_mode": "r",
   "file_extension": ".r",
   "mimetype": "text/x-r-source",
   "name": "R",
   "pygments_lexer": "r",
   "version": "4.0.0"
  }
 },
 "nbformat": 4,
 "nbformat_minor": 2
}
