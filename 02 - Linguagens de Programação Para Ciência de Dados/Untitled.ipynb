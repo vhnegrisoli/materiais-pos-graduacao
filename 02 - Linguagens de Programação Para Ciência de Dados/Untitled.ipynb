{
 "cells": [
  {
   "cell_type": "code",
   "execution_count": 1,
   "metadata": {},
   "outputs": [],
   "source": [
    "X = [3, 6, 1, 9, 2, 4, 7]"
   ]
  },
  {
   "cell_type": "code",
   "execution_count": 30,
   "metadata": {},
   "outputs": [
    {
     "name": "stdout",
     "output_type": "stream",
     "text": [
      "Luiz de Fora\n"
     ]
    }
   ],
   "source": [
    "dic = { \"MG\": {\"Capital\": \"Belo Horizonte\", \n",
    "               \"Cidades\": {1:\"Contagem\", \n",
    "                           2:\"Luiz de Fora\", \n",
    "                           3:\"Sete Lagoas\"}\n",
    "              },\n",
    "        \"SP\": {\"Capital\": \"São Paulo\", \n",
    "               \"Cidades\": {1:\"Campinas\", \n",
    "                           2:\"Piracicaba\",\n",
    "                           3:\"Franca\"}\n",
    "              },\n",
    "        \"RS\": {\"Capital\": \"Porto Alegre\", \n",
    "               \"Cidades\": {1:\"Pelotas\", \n",
    "                           2:\"Gramado\", \n",
    "                           3:\"Canela\"}\n",
    "              } \n",
    "      }\n",
    "print(dic[\"MG\"][\"Cidades\"][2])"
   ]
  },
  {
   "cell_type": "code",
   "execution_count": 28,
   "metadata": {},
   "outputs": [],
   "source": [
    "dic[\"MG\"][\"Cidades\"][2] = \"Juiz de Fora\""
   ]
  },
  {
   "cell_type": "code",
   "execution_count": 29,
   "metadata": {},
   "outputs": [
    {
     "data": {
      "text/plain": [
       "{'MG': {'Capital': 'Belo Horizonte',\n",
       "  'Cidades': {1: 'Contagem', 2: 'Juiz de Fora', 3: 'Sete Lagoas'}},\n",
       " 'SP': {'Capital': 'São Paulo',\n",
       "  'Cidades': {1: 'Campinas', 2: 'Piracicaba', 3: 'Franca'}},\n",
       " 'RS': {'Capital': 'Porto Alegre',\n",
       "  'Cidades': {1: 'Pelotas', 2: 'Gramado', 3: 'Canela'}}}"
      ]
     },
     "execution_count": 29,
     "metadata": {},
     "output_type": "execute_result"
    }
   ],
   "source": [
    "dic"
   ]
  },
  {
   "cell_type": "code",
   "execution_count": 31,
   "metadata": {},
   "outputs": [],
   "source": [
    "estrutura_aninhada = ( [1,2,3],(4,5,6,7),[8,9],( [10,11,12], [(13, 14), 15] ) )"
   ]
  },
  {
   "cell_type": "code",
   "execution_count": 43,
   "metadata": {},
   "outputs": [],
   "source": [
    "n = '5'"
   ]
  },
  {
   "cell_type": "code",
   "execution_count": 48,
   "metadata": {},
   "outputs": [
    {
     "name": "stdout",
     "output_type": "stream",
     "text": [
      "12\n"
     ]
    }
   ],
   "source": [
    "x = range(7)\n",
    "soma = sum(filter(lambda x_i: x_i % 2 == 0, x))\n",
    "print(soma)"
   ]
  },
  {
   "cell_type": "code",
   "execution_count": 69,
   "metadata": {},
   "outputs": [],
   "source": [
    "import numpy as np\n",
    "A = np.arange(1, 16).reshape(3,5)"
   ]
  },
  {
   "cell_type": "code",
   "execution_count": 70,
   "metadata": {},
   "outputs": [
    {
     "data": {
      "text/plain": [
       "array([[ 1,  2,  3,  4,  5],\n",
       "       [ 6,  7,  8,  9, 10],\n",
       "       [11, 12, 13, 14, 15]])"
      ]
     },
     "execution_count": 70,
     "metadata": {},
     "output_type": "execute_result"
    }
   ],
   "source": [
    "A"
   ]
  },
  {
   "cell_type": "code",
   "execution_count": 79,
   "metadata": {},
   "outputs": [
    {
     "data": {
      "text/plain": [
       "array([ 6,  7,  8,  9, 10])"
      ]
     },
     "execution_count": 79,
     "metadata": {},
     "output_type": "execute_result"
    }
   ],
   "source": [
    "A[1]"
   ]
  },
  {
   "cell_type": "code",
   "execution_count": 72,
   "metadata": {},
   "outputs": [
    {
     "data": {
      "text/plain": [
       "array([1, 2, 3, 4, 5])"
      ]
     },
     "execution_count": 72,
     "metadata": {},
     "output_type": "execute_result"
    }
   ],
   "source": [
    "A[-3]"
   ]
  },
  {
   "cell_type": "code",
   "execution_count": 87,
   "metadata": {},
   "outputs": [
    {
     "data": {
      "text/plain": [
       "array([ 6,  7,  8,  9, 10])"
      ]
     },
     "execution_count": 87,
     "metadata": {},
     "output_type": "execute_result"
    }
   ],
   "source": [
    "\n",
    "linha1 = A[1,0:]\n",
    "linha1"
   ]
  },
  {
   "cell_type": "code",
   "execution_count": null,
   "metadata": {},
   "outputs": [],
   "source": []
  }
 ],
 "metadata": {
  "kernelspec": {
   "display_name": "Python 3",
   "language": "python",
   "name": "python3"
  },
  "language_info": {
   "codemirror_mode": {
    "name": "ipython",
    "version": 3
   },
   "file_extension": ".py",
   "mimetype": "text/x-python",
   "name": "python",
   "nbconvert_exporter": "python",
   "pygments_lexer": "ipython3",
   "version": "3.7.4"
  }
 },
 "nbformat": 4,
 "nbformat_minor": 2
}
